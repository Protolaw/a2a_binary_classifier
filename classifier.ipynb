{
 "cells": [
  {
   "cell_type": "code",
   "execution_count": null,
   "id": "198c2d1d-1d65-442d-8117-5d4dc790dd85",
   "metadata": {},
   "outputs": [],
   "source": [
    "import pandas as pd\n",
    "import numpy as np\n",
    "import matplotlib.pyplot as plt\n",
    "import joblib\n",
    "\n",
    "from sklearn import svm\n",
    "from sklearn.model_selection import RepeatedStratifiedKFold\n",
    "from sklearn.metrics import accuracy_score, confusion_matrix, ConfusionMatrixDisplay\n",
    "from sklearn.metrics import classification_report, roc_auc_score, make_scorer\n",
    "from sklearn.model_selection import GridSearchCV\n",
    "\n",
    "from sklearn.model_selection import train_test_split\n",
    "from sklearn.preprocessing import StandardScaler, RobustScaler, PowerTransformer"
   ]
  },
  {
   "cell_type": "code",
   "execution_count": null,
   "id": "7679239c-9715-43f4-9c01-fdbec047059e",
   "metadata": {},
   "outputs": [],
   "source": [
    "data_path = './data'\n",
    "path_model = './models'\n",
    "pics = './images'"
   ]
  },
  {
   "cell_type": "code",
   "execution_count": null,
   "id": "a33bbb15-ca5c-4909-ba6f-f0b358ece5c8",
   "metadata": {},
   "outputs": [],
   "source": [
    "new_df = pd.read_csv(f'{data_path}/balanced_dataframe.csv')"
   ]
  },
  {
   "cell_type": "code",
   "execution_count": null,
   "id": "345b4202-dd80-4ed3-82ca-cfb803ec084d",
   "metadata": {},
   "outputs": [],
   "source": [
    "X = new_df.drop(columns=['label'])\n",
    "y = new_df.label\n",
    "X.shape"
   ]
  },
  {
   "cell_type": "markdown",
   "id": "da425111-d4a4-486b-b46f-20509235c0fa",
   "metadata": {},
   "source": [
    "### Data split"
   ]
  },
  {
   "cell_type": "code",
   "execution_count": null,
   "id": "a85aea29-89b7-4cbf-bb41-ee6eb5de2f95",
   "metadata": {},
   "outputs": [],
   "source": [
    "X_train, X_test, y_train, y_test = train_test_split(X, y, test_size=0.1, random_state=42)\n",
    "y_test.value_counts()"
   ]
  },
  {
   "cell_type": "markdown",
   "id": "bd2e6213-b5d7-42a1-a56e-03568eba387d",
   "metadata": {},
   "source": [
    "### Scaling"
   ]
  },
  {
   "cell_type": "code",
   "execution_count": null,
   "id": "86043860-ac74-451c-9cb6-91329c18b70d",
   "metadata": {},
   "outputs": [],
   "source": [
    "scaler = StandardScaler()\n",
    "# scaler = RobustScaler()\n",
    "# scaler = PowerTransformer()\n",
    "X_train = scaler.fit_transform(X_train)\n",
    "X_test = scaler.transform(X_test)"
   ]
  },
  {
   "cell_type": "markdown",
   "id": "3e0e3d61-67f9-4c34-88a9-d276b148989a",
   "metadata": {},
   "source": [
    "### SVC"
   ]
  },
  {
   "cell_type": "code",
   "execution_count": null,
   "id": "12a8418b-6a54-4cb3-bba7-5a1446620654",
   "metadata": {},
   "outputs": [],
   "source": []
  },
  {
   "cell_type": "code",
   "execution_count": null,
   "id": "3d78bc8f-fdb8-4466-8ddf-7ea0583854e1",
   "metadata": {},
   "outputs": [],
   "source": [
    "svc = svm.SVC(random_state=0)\n",
    "\n",
    "scoring = {\"AUC\": \"roc_auc\", \"Accuracy\": make_scorer(accuracy_score)}\n",
    "param_grid = {'C':[1, 10, 100],\n",
    "                  'gamma':[0.01,0.001, 'auto', 'scale']}\n",
    "\n",
    "cv = RepeatedStratifiedKFold(n_splits=10, n_repeats=3, random_state=1)\n",
    "grid = GridSearchCV(svc, param_grid, cv=cv, scoring=scoring, refit='AUC', verbose=1, n_jobs=-1)\n",
    "\n",
    "%time grid.fit(X_train, y_train)\n",
    "\n",
    "print()\n",
    "print(grid.best_params_)\n",
    "\n",
    "y_pred = grid.predict(X_test)\n",
    "accuracy = accuracy_score(y_test, y_pred)\n",
    "cm = confusion_matrix(y_test, y_pred)\n",
    "print(\"Accuracy:\", accuracy)\n",
    "\n",
    "score = roc_auc_score(y_test, y_pred)\n",
    "print(\"Mean ROC AUC:\", score)"
   ]
  },
  {
   "cell_type": "code",
   "execution_count": null,
   "id": "d93c479d-f829-44a7-a873-4248d54d57d4",
   "metadata": {},
   "outputs": [],
   "source": [
    "disp = ConfusionMatrixDisplay(confusion_matrix=cm, display_labels=grid.classes_)\n",
    "disp.plot()\n",
    "plt.show()\n",
    "# plt.savefig(f'{pics}/conf_scaled.jpg')"
   ]
  },
  {
   "cell_type": "markdown",
   "id": "88909530-e0d9-41fd-8b09-403e418b13bb",
   "metadata": {},
   "source": [
    "## Naive Bayes"
   ]
  },
  {
   "cell_type": "code",
   "execution_count": null,
   "id": "6dafb120-10bc-4094-8bbc-00dac06df04d",
   "metadata": {},
   "outputs": [],
   "source": [
    "from sklearn.naive_bayes import GaussianNB"
   ]
  },
  {
   "cell_type": "code",
   "execution_count": null,
   "id": "e0399df7-5786-4eeb-b093-77c0ef1c53da",
   "metadata": {},
   "outputs": [],
   "source": [
    "nb = GaussianNB()\n",
    "nb.fit(X_train, y_train)\n",
    "y_pred = nb.predict(X_test)\n",
    "\n",
    "print(classification_report(y_test, y_pred))"
   ]
  },
  {
   "cell_type": "markdown",
   "id": "9bb274ad-a3d0-4429-8afd-5935b4429214",
   "metadata": {},
   "source": [
    "### Save model if needed"
   ]
  },
  {
   "cell_type": "code",
   "execution_count": null,
   "id": "160ecc82-8bdf-487a-80d4-f88c84991c1c",
   "metadata": {},
   "outputs": [],
   "source": [
    "gaus_filename = f'{path_model}/gaussian.sav'\n",
    "joblib.dump(nb, gaus_filename)"
   ]
  },
  {
   "cell_type": "code",
   "execution_count": null,
   "id": "d6bfce22-5330-4485-9e5f-71debfcdf4de",
   "metadata": {},
   "outputs": [],
   "source": [
    "# nb = joblib.load(gaus_filename)"
   ]
  }
 ],
 "metadata": {
  "kernelspec": {
   "display_name": "Python 3 (ipykernel)",
   "language": "python",
   "name": "python3"
  },
  "language_info": {
   "codemirror_mode": {
    "name": "ipython",
    "version": 3
   },
   "file_extension": ".py",
   "mimetype": "text/x-python",
   "name": "python",
   "nbconvert_exporter": "python",
   "pygments_lexer": "ipython3",
   "version": "3.8.10"
  }
 },
 "nbformat": 4,
 "nbformat_minor": 5
}
