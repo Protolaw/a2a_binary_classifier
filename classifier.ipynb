{
 "cells": [
  {
   "cell_type": "markdown",
   "id": "663c9adc-f694-4b4e-9e30-aebfdcc6f033",
   "metadata": {},
   "source": [
    "## Binary classification for prediction of the compound activity with respect to adenosine A2a receptor\n",
    "\n",
    "### Almaz Gilmullin 760235219, Anastasiia Krokhina 659711595"
   ]
  },
  {
   "cell_type": "code",
   "execution_count": 86,
   "id": "198c2d1d-1d65-442d-8117-5d4dc790dd85",
   "metadata": {},
   "outputs": [],
   "source": [
    "import pandas as pd\n",
    "import numpy as np\n",
    "import seaborn as sns\n",
    "import matplotlib.pyplot as plt\n",
    "from tqdm import tqdm\n",
    "import joblib"
   ]
  },
  {
   "cell_type": "code",
   "execution_count": 87,
   "id": "7679239c-9715-43f4-9c01-fdbec047059e",
   "metadata": {},
   "outputs": [],
   "source": [
    "target = 'aa2ar'\n",
    "url = f'https://dude.docking.org//targets/{target}'\n",
    "tables = './tables'\n",
    "path_model = './models'"
   ]
  },
  {
   "cell_type": "code",
   "execution_count": 3,
   "id": "004068f1-13b6-4361-8b38-e9476e6a51a0",
   "metadata": {},
   "outputs": [],
   "source": [
    "active = pd.read_csv(f'{url}/actives_combined.ism', header=None, sep=' ', on_bad_lines='skip')\n",
    "inactive = pd.read_csv(f'{url}/inactives_combined.ism', header=None, sep=' ', on_bad_lines='skip')\n",
    "\n",
    "decoys = pd.read_csv(f'{url}/decoys_final.ism', header=None, sep=' ', on_bad_lines='skip')"
   ]
  },
  {
   "cell_type": "code",
   "execution_count": 4,
   "id": "0fdbb782-7f8e-408d-bf25-30c5bbd1ea89",
   "metadata": {},
   "outputs": [
    {
     "data": {
      "text/plain": [
       "3050"
      ]
     },
     "execution_count": 4,
     "metadata": {},
     "output_type": "execute_result"
    }
   ],
   "source": [
    "active = pd.DataFrame({'smiles':active[0], 'label': [1]*len(active[0])})\n",
    "active_size = active.shape[0]\n",
    "active_size"
   ]
  },
  {
   "cell_type": "code",
   "execution_count": 5,
   "id": "89c5dfb4-9443-4eb0-a09b-9e4029f33a5f",
   "metadata": {},
   "outputs": [
    {
     "data": {
      "text/plain": [
       "192"
      ]
     },
     "execution_count": 5,
     "metadata": {},
     "output_type": "execute_result"
    }
   ],
   "source": [
    "inactive = pd.DataFrame({'smiles': inactive[0], 'label': [0]*len(inactive[0])})\n",
    "inactive_size = inactive.shape[0]\n",
    "inactive_size"
   ]
  },
  {
   "cell_type": "code",
   "execution_count": 6,
   "id": "8622ac14-9c07-46e3-a307-fd8a3079662b",
   "metadata": {},
   "outputs": [
    {
     "data": {
      "text/plain": [
       "31550"
      ]
     },
     "execution_count": 6,
     "metadata": {},
     "output_type": "execute_result"
    }
   ],
   "source": [
    "decoys = pd.DataFrame({'smiles':decoys[0], 'label': [0]*len(decoys[0])})\n",
    "decoys_size = decoys.shape[0]\n",
    "decoys_size"
   ]
  },
  {
   "cell_type": "code",
   "execution_count": 7,
   "id": "c37e820a-2a6e-48e2-a9e3-2a5407c68021",
   "metadata": {},
   "outputs": [
    {
     "data": {
      "image/png": "[encoded data removed]",
      "text/plain": [
       "<Figure size 432x288 with 1 Axes>"
      ]
     },
     "metadata": {},
     "output_type": "display_data"
    }
   ],
   "source": [
    "#define Seaborn color palette to use\n",
    "colors = sns.color_palette('pastel')[0:5]\n",
    "\n",
    "data = [active_size, inactive_size, decoys_size]\n",
    "labels = ['actives', 'incatives', 'decoys']\n",
    "#create pie chart\n",
    "plt.pie(data, labels=labels, colors = colors, autopct='%.0f%%', textprops={\"fontsize\":12})\n",
    "plt.show()\n",
    "# plt.savefig('./aaa.png')"
   ]
  },
  {
   "cell_type": "code",
   "execution_count": 8,
   "id": "93d66b53-c854-4d34-bf23-0fa72ef64278",
   "metadata": {},
   "outputs": [],
   "source": [
    "# Our way to deal with imbalance - Combine inactives and decoys\n",
    "\n",
    "size = active.shape[0] - inactive.shape[0]\n",
    "split_decoys = decoys[:size]"
   ]
  },
  {
   "cell_type": "code",
   "execution_count": null,
   "id": "30ff3e68-25e2-491c-a25c-4fc4f3a2bf47",
   "metadata": {},
   "outputs": [],
   "source": []
  },
  {
   "cell_type": "code",
   "execution_count": 9,
   "id": "4e4b2cf2-938e-402e-8766-f816205ffb32",
   "metadata": {},
   "outputs": [
    {
     "data": {
      "text/html": [
       "<div>\n",
       "<style scoped>\n",
       "    .dataframe tbody tr th:only-of-type {\n",
       "        vertical-align: middle;\n",
       "    }\n",
       "\n",
       "    .dataframe tbody tr th {\n",
       "        vertical-align: top;\n",
       "    }\n",
       "\n",
       "    .dataframe thead th {\n",
       "        text-align: right;\n",
       "    }\n",
       "</style>\n",
       "<table border=\"1\" class=\"dataframe\">\n",
       "  <thead>\n",
       "    <tr style=\"text-align: right;\">\n",
       "      <th></th>\n",
       "      <th>smiles</th>\n",
       "      <th>label</th>\n",
       "    </tr>\n",
       "  </thead>\n",
       "  <tbody>\n",
       "    <tr>\n",
       "      <th>0</th>\n",
       "      <td>c1cc2c(c(c1)Br)c(c[nH]2)CCOc3nc(c4c(n3)n(cn4)[...</td>\n",
       "      <td>1</td>\n",
       "    </tr>\n",
       "    <tr>\n",
       "      <th>1</th>\n",
       "      <td>c1cc2c(cc1Br)c(c[nH]2)CCOc3nc(c4c(n3)n(cn4)[C@...</td>\n",
       "      <td>1</td>\n",
       "    </tr>\n",
       "    <tr>\n",
       "      <th>2</th>\n",
       "      <td>c1cc2c(cc1Br)[nH]cc2CCOc3nc(c4c(n3)n(cn4)[C@H]...</td>\n",
       "      <td>1</td>\n",
       "    </tr>\n",
       "    <tr>\n",
       "      <th>3</th>\n",
       "      <td>c1cc2c(cc1CCNc3nc(c4c(n3)n(cn4)C5[C@@H]([C@@H]...</td>\n",
       "      <td>1</td>\n",
       "    </tr>\n",
       "    <tr>\n",
       "      <th>4</th>\n",
       "      <td>c1cc2c(cc1Cl)-c3c(c(nc(n3)N)c4ccc(o4)Br)C2</td>\n",
       "      <td>1</td>\n",
       "    </tr>\n",
       "    <tr>\n",
       "      <th>...</th>\n",
       "      <td>...</td>\n",
       "      <td>...</td>\n",
       "    </tr>\n",
       "    <tr>\n",
       "      <th>34787</th>\n",
       "      <td>Cc1ccc(cc1)NS(=O)(=O)c2cc(ccc2OC)C(=O)O[C@@H](...</td>\n",
       "      <td>0</td>\n",
       "    </tr>\n",
       "    <tr>\n",
       "      <th>34788</th>\n",
       "      <td>Cc1cc(nc(n1)N/C(=N\\C(=S)NC[C@H]2CCCO2)/N3CCN(C...</td>\n",
       "      <td>0</td>\n",
       "    </tr>\n",
       "    <tr>\n",
       "      <th>34789</th>\n",
       "      <td>C[C@H](C(=O)Nc1ccc(c(c1)[N+](=O)[O-])F)OC(=O)C...</td>\n",
       "      <td>0</td>\n",
       "    </tr>\n",
       "    <tr>\n",
       "      <th>34790</th>\n",
       "      <td>COC(=O)[C@@]1(C[C@@H]([C@@H]([C@@H](O1)COP(=O)...</td>\n",
       "      <td>0</td>\n",
       "    </tr>\n",
       "    <tr>\n",
       "      <th>34791</th>\n",
       "      <td>COC(=O)[C@@]1(C[C@H]([C@@H]([C@@H](O1)COP(=O)(...</td>\n",
       "      <td>0</td>\n",
       "    </tr>\n",
       "  </tbody>\n",
       "</table>\n",
       "<p>34792 rows × 2 columns</p>\n",
       "</div>"
      ],
      "text/plain": [
       "                                                  smiles  label\n",
       "0      c1cc2c(c(c1)Br)c(c[nH]2)CCOc3nc(c4c(n3)n(cn4)[...      1\n",
       "1      c1cc2c(cc1Br)c(c[nH]2)CCOc3nc(c4c(n3)n(cn4)[C@...      1\n",
       "2      c1cc2c(cc1Br)[nH]cc2CCOc3nc(c4c(n3)n(cn4)[C@H]...      1\n",
       "3      c1cc2c(cc1CCNc3nc(c4c(n3)n(cn4)C5[C@@H]([C@@H]...      1\n",
       "4             c1cc2c(cc1Cl)-c3c(c(nc(n3)N)c4ccc(o4)Br)C2      1\n",
       "...                                                  ...    ...\n",
       "34787  Cc1ccc(cc1)NS(=O)(=O)c2cc(ccc2OC)C(=O)O[C@@H](...      0\n",
       "34788  Cc1cc(nc(n1)N/C(=N\\C(=S)NC[C@H]2CCCO2)/N3CCN(C...      0\n",
       "34789  C[C@H](C(=O)Nc1ccc(c(c1)[N+](=O)[O-])F)OC(=O)C...      0\n",
       "34790  COC(=O)[C@@]1(C[C@@H]([C@@H]([C@@H](O1)COP(=O)...      0\n",
       "34791  COC(=O)[C@@]1(C[C@H]([C@@H]([C@@H](O1)COP(=O)(...      0\n",
       "\n",
       "[34792 rows x 2 columns]"
      ]
     },
     "execution_count": 9,
     "metadata": {},
     "output_type": "execute_result"
    }
   ],
   "source": [
    "data = pd.concat([active, inactive, decoys], ignore_index=True)\n",
    "data"
   ]
  },
  {
   "cell_type": "markdown",
   "id": "17f09121-895e-4a18-b4f1-2c058be144a9",
   "metadata": {},
   "source": [
    "### Feature generation - RDKit Library"
   ]
  },
  {
   "cell_type": "code",
   "execution_count": 9,
   "id": "0c21ef43-60ba-4fe5-98e7-d5243c03b433",
   "metadata": {},
   "outputs": [],
   "source": [
    "import rdkit\n",
    "from rdkit import Chem\n",
    "from rdkit.Chem import Descriptors\n",
    "from rdkit.Chem.Descriptors import CalcMolDescriptors\n",
    "from rdkit.ML.Descriptors.MoleculeDescriptors import MolecularDescriptorCalculator as MDC"
   ]
  },
  {
   "cell_type": "code",
   "execution_count": 10,
   "id": "d7332ce7-e28f-4ad5-9868-281889cd7f3e",
   "metadata": {},
   "outputs": [
    {
     "data": {
      "image/png": "[encoded data removed]",
      "text/plain": [
       "<rdkit.Chem.rdchem.Mol at 0x7fccc7045820>"
      ]
     },
     "execution_count": 10,
     "metadata": {},
     "output_type": "execute_result"
    }
   ],
   "source": [
    "mol = Chem.MolFromSmiles(data.smiles[4])\n",
    "mol"
   ]
  },
  {
   "cell_type": "code",
   "execution_count": 11,
   "id": "00f59ad9-7053-41c8-b0a9-e590b66ec4c1",
   "metadata": {},
   "outputs": [],
   "source": [
    "\n",
    "def RDkit_descriptors(data):\n",
    "    mols = [Chem.MolFromSmiles(i) for i in data.smiles]\n",
    "    desc_names = list(CalcMolDescriptors(mols[0]).keys())\n",
    "    desc_names.append(\"label\")\n",
    "    mol_descs = []\n",
    "    for i in tqdm(range(len(data))):\n",
    "        descriptors = CalcMolDescriptors(mols[i])\n",
    "        descriptors['label'] = data.label[i]\n",
    "        mol_descs.append(descriptors)\n",
    "    return mol_descs, desc_names"
   ]
  },
  {
   "cell_type": "code",
   "execution_count": 12,
   "id": "d73417f4-ff71-44a4-96ef-27d8715a66a0",
   "metadata": {},
   "outputs": [
    {
     "name": "stderr",
     "output_type": "stream",
     "text": [
      "100%|█████████████████████████████████████████████████████████████████████████████████████████████████████████████████████| 34792/34792 [12:13<00:00, 47.46it/s]\n"
     ]
    }
   ],
   "source": [
    "mol_descs,desc_names = RDkit_descriptors(data)"
   ]
  },
  {
   "cell_type": "code",
   "execution_count": 14,
   "id": "c8e988c9-7704-4978-8c11-43d4804f6527",
   "metadata": {},
   "outputs": [
    {
     "data": {
      "text/html": [
       "<div>\n",
       "<style scoped>\n",
       "    .dataframe tbody tr th:only-of-type {\n",
       "        vertical-align: middle;\n",
       "    }\n",
       "\n",
       "    .dataframe tbody tr th {\n",
       "        vertical-align: top;\n",
       "    }\n",
       "\n",
       "    .dataframe thead th {\n",
       "        text-align: right;\n",
       "    }\n",
       "</style>\n",
       "<table border=\"1\" class=\"dataframe\">\n",
       "  <thead>\n",
       "    <tr style=\"text-align: right;\">\n",
       "      <th></th>\n",
       "      <th>MaxAbsEStateIndex</th>\n",
       "      <th>MaxEStateIndex</th>\n",
       "      <th>MinAbsEStateIndex</th>\n",
       "      <th>MinEStateIndex</th>\n",
       "      <th>qed</th>\n",
       "      <th>SPS</th>\n",
       "      <th>MolWt</th>\n",
       "      <th>HeavyAtomMolWt</th>\n",
       "      <th>ExactMolWt</th>\n",
       "      <th>NumValenceElectrons</th>\n",
       "      <th>...</th>\n",
       "      <th>fr_sulfonamd</th>\n",
       "      <th>fr_sulfone</th>\n",
       "      <th>fr_term_acetylene</th>\n",
       "      <th>fr_tetrazole</th>\n",
       "      <th>fr_thiazole</th>\n",
       "      <th>fr_thiocyan</th>\n",
       "      <th>fr_thiophene</th>\n",
       "      <th>fr_unbrch_alkane</th>\n",
       "      <th>fr_urea</th>\n",
       "      <th>label</th>\n",
       "    </tr>\n",
       "  </thead>\n",
       "  <tbody>\n",
       "    <tr>\n",
       "      <th>0</th>\n",
       "      <td>10.337455</td>\n",
       "      <td>10.337455</td>\n",
       "      <td>0.057778</td>\n",
       "      <td>-1.272753</td>\n",
       "      <td>0.255933</td>\n",
       "      <td>23.375000</td>\n",
       "      <td>505.329</td>\n",
       "      <td>484.161</td>\n",
       "      <td>504.075680</td>\n",
       "      <td>168</td>\n",
       "      <td>...</td>\n",
       "      <td>0</td>\n",
       "      <td>0</td>\n",
       "      <td>0</td>\n",
       "      <td>0</td>\n",
       "      <td>0</td>\n",
       "      <td>0</td>\n",
       "      <td>0</td>\n",
       "      <td>0</td>\n",
       "      <td>0</td>\n",
       "      <td>1</td>\n",
       "    </tr>\n",
       "    <tr>\n",
       "      <th>1</th>\n",
       "      <td>10.335047</td>\n",
       "      <td>10.335047</td>\n",
       "      <td>0.059736</td>\n",
       "      <td>-1.271941</td>\n",
       "      <td>0.255933</td>\n",
       "      <td>23.375000</td>\n",
       "      <td>505.329</td>\n",
       "      <td>484.161</td>\n",
       "      <td>504.075680</td>\n",
       "      <td>168</td>\n",
       "      <td>...</td>\n",
       "      <td>0</td>\n",
       "      <td>0</td>\n",
       "      <td>0</td>\n",
       "      <td>0</td>\n",
       "      <td>0</td>\n",
       "      <td>0</td>\n",
       "      <td>0</td>\n",
       "      <td>0</td>\n",
       "      <td>0</td>\n",
       "      <td>1</td>\n",
       "    </tr>\n",
       "    <tr>\n",
       "      <th>2</th>\n",
       "      <td>10.333078</td>\n",
       "      <td>10.333078</td>\n",
       "      <td>0.061184</td>\n",
       "      <td>-1.271281</td>\n",
       "      <td>0.255933</td>\n",
       "      <td>23.375000</td>\n",
       "      <td>505.329</td>\n",
       "      <td>484.161</td>\n",
       "      <td>504.075680</td>\n",
       "      <td>168</td>\n",
       "      <td>...</td>\n",
       "      <td>0</td>\n",
       "      <td>0</td>\n",
       "      <td>0</td>\n",
       "      <td>0</td>\n",
       "      <td>0</td>\n",
       "      <td>0</td>\n",
       "      <td>0</td>\n",
       "      <td>0</td>\n",
       "      <td>0</td>\n",
       "      <td>1</td>\n",
       "    </tr>\n",
       "    <tr>\n",
       "      <th>3</th>\n",
       "      <td>10.355554</td>\n",
       "      <td>10.355554</td>\n",
       "      <td>0.205346</td>\n",
       "      <td>-1.235039</td>\n",
       "      <td>0.369988</td>\n",
       "      <td>25.218750</td>\n",
       "      <td>440.504</td>\n",
       "      <td>412.280</td>\n",
       "      <td>440.217203</td>\n",
       "      <td>170</td>\n",
       "      <td>...</td>\n",
       "      <td>0</td>\n",
       "      <td>0</td>\n",
       "      <td>0</td>\n",
       "      <td>0</td>\n",
       "      <td>0</td>\n",
       "      <td>0</td>\n",
       "      <td>0</td>\n",
       "      <td>0</td>\n",
       "      <td>0</td>\n",
       "      <td>1</td>\n",
       "    </tr>\n",
       "    <tr>\n",
       "      <th>4</th>\n",
       "      <td>6.090409</td>\n",
       "      <td>6.090409</td>\n",
       "      <td>0.226017</td>\n",
       "      <td>0.226017</td>\n",
       "      <td>0.547921</td>\n",
       "      <td>12.285714</td>\n",
       "      <td>362.614</td>\n",
       "      <td>353.542</td>\n",
       "      <td>360.961752</td>\n",
       "      <td>104</td>\n",
       "      <td>...</td>\n",
       "      <td>0</td>\n",
       "      <td>0</td>\n",
       "      <td>0</td>\n",
       "      <td>0</td>\n",
       "      <td>0</td>\n",
       "      <td>0</td>\n",
       "      <td>0</td>\n",
       "      <td>0</td>\n",
       "      <td>0</td>\n",
       "      <td>1</td>\n",
       "    </tr>\n",
       "    <tr>\n",
       "      <th>...</th>\n",
       "      <td>...</td>\n",
       "      <td>...</td>\n",
       "      <td>...</td>\n",
       "      <td>...</td>\n",
       "      <td>...</td>\n",
       "      <td>...</td>\n",
       "      <td>...</td>\n",
       "      <td>...</td>\n",
       "      <td>...</td>\n",
       "      <td>...</td>\n",
       "      <td>...</td>\n",
       "      <td>...</td>\n",
       "      <td>...</td>\n",
       "      <td>...</td>\n",
       "      <td>...</td>\n",
       "      <td>...</td>\n",
       "      <td>...</td>\n",
       "      <td>...</td>\n",
       "      <td>...</td>\n",
       "      <td>...</td>\n",
       "      <td>...</td>\n",
       "    </tr>\n",
       "    <tr>\n",
       "      <th>34787</th>\n",
       "      <td>12.933117</td>\n",
       "      <td>12.933117</td>\n",
       "      <td>0.026874</td>\n",
       "      <td>-4.100987</td>\n",
       "      <td>0.602223</td>\n",
       "      <td>14.468750</td>\n",
       "      <td>461.496</td>\n",
       "      <td>438.312</td>\n",
       "      <td>461.125671</td>\n",
       "      <td>170</td>\n",
       "      <td>...</td>\n",
       "      <td>1</td>\n",
       "      <td>0</td>\n",
       "      <td>0</td>\n",
       "      <td>0</td>\n",
       "      <td>0</td>\n",
       "      <td>0</td>\n",
       "      <td>0</td>\n",
       "      <td>0</td>\n",
       "      <td>1</td>\n",
       "      <td>0</td>\n",
       "    </tr>\n",
       "    <tr>\n",
       "      <th>34788</th>\n",
       "      <td>5.666491</td>\n",
       "      <td>5.666491</td>\n",
       "      <td>0.191419</td>\n",
       "      <td>0.191419</td>\n",
       "      <td>0.400631</td>\n",
       "      <td>19.187500</td>\n",
       "      <td>455.592</td>\n",
       "      <td>426.360</td>\n",
       "      <td>455.221578</td>\n",
       "      <td>170</td>\n",
       "      <td>...</td>\n",
       "      <td>0</td>\n",
       "      <td>0</td>\n",
       "      <td>0</td>\n",
       "      <td>0</td>\n",
       "      <td>0</td>\n",
       "      <td>0</td>\n",
       "      <td>0</td>\n",
       "      <td>0</td>\n",
       "      <td>0</td>\n",
       "      <td>0</td>\n",
       "    </tr>\n",
       "    <tr>\n",
       "      <th>34789</th>\n",
       "      <td>13.336315</td>\n",
       "      <td>13.336315</td>\n",
       "      <td>0.076157</td>\n",
       "      <td>-3.927724</td>\n",
       "      <td>0.337664</td>\n",
       "      <td>12.322581</td>\n",
       "      <td>451.432</td>\n",
       "      <td>433.288</td>\n",
       "      <td>451.084949</td>\n",
       "      <td>164</td>\n",
       "      <td>...</td>\n",
       "      <td>1</td>\n",
       "      <td>0</td>\n",
       "      <td>0</td>\n",
       "      <td>0</td>\n",
       "      <td>0</td>\n",
       "      <td>0</td>\n",
       "      <td>0</td>\n",
       "      <td>0</td>\n",
       "      <td>0</td>\n",
       "      <td>0</td>\n",
       "    </tr>\n",
       "    <tr>\n",
       "      <th>34790</th>\n",
       "      <td>13.414551</td>\n",
       "      <td>13.414551</td>\n",
       "      <td>0.220101</td>\n",
       "      <td>-4.286701</td>\n",
       "      <td>0.417596</td>\n",
       "      <td>25.687500</td>\n",
       "      <td>468.395</td>\n",
       "      <td>443.195</td>\n",
       "      <td>468.118534</td>\n",
       "      <td>174</td>\n",
       "      <td>...</td>\n",
       "      <td>0</td>\n",
       "      <td>0</td>\n",
       "      <td>0</td>\n",
       "      <td>0</td>\n",
       "      <td>0</td>\n",
       "      <td>0</td>\n",
       "      <td>0</td>\n",
       "      <td>0</td>\n",
       "      <td>0</td>\n",
       "      <td>0</td>\n",
       "    </tr>\n",
       "    <tr>\n",
       "      <th>34791</th>\n",
       "      <td>13.414551</td>\n",
       "      <td>13.414551</td>\n",
       "      <td>0.220101</td>\n",
       "      <td>-4.286701</td>\n",
       "      <td>0.417596</td>\n",
       "      <td>25.687500</td>\n",
       "      <td>468.395</td>\n",
       "      <td>443.195</td>\n",
       "      <td>468.118534</td>\n",
       "      <td>174</td>\n",
       "      <td>...</td>\n",
       "      <td>0</td>\n",
       "      <td>0</td>\n",
       "      <td>0</td>\n",
       "      <td>0</td>\n",
       "      <td>0</td>\n",
       "      <td>0</td>\n",
       "      <td>0</td>\n",
       "      <td>0</td>\n",
       "      <td>0</td>\n",
       "      <td>0</td>\n",
       "    </tr>\n",
       "  </tbody>\n",
       "</table>\n",
       "<p>34792 rows × 211 columns</p>\n",
       "</div>"
      ],
      "text/plain": [
       "       MaxAbsEStateIndex  MaxEStateIndex  MinAbsEStateIndex  MinEStateIndex  \\\n",
       "0              10.337455       10.337455           0.057778       -1.272753   \n",
       "1              10.335047       10.335047           0.059736       -1.271941   \n",
       "2              10.333078       10.333078           0.061184       -1.271281   \n",
       "3              10.355554       10.355554           0.205346       -1.235039   \n",
       "4               6.090409        6.090409           0.226017        0.226017   \n",
       "...                  ...             ...                ...             ...   \n",
       "34787          12.933117       12.933117           0.026874       -4.100987   \n",
       "34788           5.666491        5.666491           0.191419        0.191419   \n",
       "34789          13.336315       13.336315           0.076157       -3.927724   \n",
       "34790          13.414551       13.414551           0.220101       -4.286701   \n",
       "34791          13.414551       13.414551           0.220101       -4.286701   \n",
       "\n",
       "            qed        SPS    MolWt  HeavyAtomMolWt  ExactMolWt  \\\n",
       "0      0.255933  23.375000  505.329         484.161  504.075680   \n",
       "1      0.255933  23.375000  505.329         484.161  504.075680   \n",
       "2      0.255933  23.375000  505.329         484.161  504.075680   \n",
       "3      0.369988  25.218750  440.504         412.280  440.217203   \n",
       "4      0.547921  12.285714  362.614         353.542  360.961752   \n",
       "...         ...        ...      ...             ...         ...   \n",
       "34787  0.602223  14.468750  461.496         438.312  461.125671   \n",
       "34788  0.400631  19.187500  455.592         426.360  455.221578   \n",
       "34789  0.337664  12.322581  451.432         433.288  451.084949   \n",
       "34790  0.417596  25.687500  468.395         443.195  468.118534   \n",
       "34791  0.417596  25.687500  468.395         443.195  468.118534   \n",
       "\n",
       "       NumValenceElectrons  ...  fr_sulfonamd  fr_sulfone  fr_term_acetylene  \\\n",
       "0                      168  ...             0           0                  0   \n",
       "1                      168  ...             0           0                  0   \n",
       "2                      168  ...             0           0                  0   \n",
       "3                      170  ...             0           0                  0   \n",
       "4                      104  ...             0           0                  0   \n",
       "...                    ...  ...           ...         ...                ...   \n",
       "34787                  170  ...             1           0                  0   \n",
       "34788                  170  ...             0           0                  0   \n",
       "34789                  164  ...             1           0                  0   \n",
       "34790                  174  ...             0           0                  0   \n",
       "34791                  174  ...             0           0                  0   \n",
       "\n",
       "       fr_tetrazole  fr_thiazole  fr_thiocyan  fr_thiophene  fr_unbrch_alkane  \\\n",
       "0                 0            0            0             0                 0   \n",
       "1                 0            0            0             0                 0   \n",
       "2                 0            0            0             0                 0   \n",
       "3                 0            0            0             0                 0   \n",
       "4                 0            0            0             0                 0   \n",
       "...             ...          ...          ...           ...               ...   \n",
       "34787             0            0            0             0                 0   \n",
       "34788             0            0            0             0                 0   \n",
       "34789             0            0            0             0                 0   \n",
       "34790             0            0            0             0                 0   \n",
       "34791             0            0            0             0                 0   \n",
       "\n",
       "       fr_urea  label  \n",
       "0            0      1  \n",
       "1            0      1  \n",
       "2            0      1  \n",
       "3            0      1  \n",
       "4            0      1  \n",
       "...        ...    ...  \n",
       "34787        1      0  \n",
       "34788        0      0  \n",
       "34789        0      0  \n",
       "34790        0      0  \n",
       "34791        0      0  \n",
       "\n",
       "[34792 rows x 211 columns]"
      ]
     },
     "execution_count": 14,
     "metadata": {},
     "output_type": "execute_result"
    }
   ],
   "source": [
    "new_df = pd.DataFrame(mol_descs,columns=desc_names)\n",
    "new_df"
   ]
  },
  {
   "cell_type": "code",
   "execution_count": 15,
   "id": "125ce9e6-7a46-4ba3-9092-bc4492763462",
   "metadata": {},
   "outputs": [],
   "source": [
    "new_df.to_csv('all_desc.csv',index=False)"
   ]
  },
  {
   "cell_type": "markdown",
   "id": "d2a7c489-7896-43ee-b658-48c21b9ad84a",
   "metadata": {},
   "source": [
    "## Can start from here"
   ]
  },
  {
   "cell_type": "code",
   "execution_count": 13,
   "id": "a33bbb15-ca5c-4909-ba6f-f0b358ece5c8",
   "metadata": {},
   "outputs": [],
   "source": [
    "\n",
    "new_df = pd.read_csv(f'{tables}/desc.csv')"
   ]
  },
  {
   "cell_type": "code",
   "execution_count": 80,
   "id": "345b4202-dd80-4ed3-82ca-cfb803ec084d",
   "metadata": {},
   "outputs": [
    {
     "data": {
      "text/html": [
       "<div>\n",
       "<style scoped>\n",
       "    .dataframe tbody tr th:only-of-type {\n",
       "        vertical-align: middle;\n",
       "    }\n",
       "\n",
       "    .dataframe tbody tr th {\n",
       "        vertical-align: top;\n",
       "    }\n",
       "\n",
       "    .dataframe thead th {\n",
       "        text-align: right;\n",
       "    }\n",
       "</style>\n",
       "<table border=\"1\" class=\"dataframe\">\n",
       "  <thead>\n",
       "    <tr style=\"text-align: right;\">\n",
       "      <th></th>\n",
       "      <th>MaxAbsEStateIndex</th>\n",
       "      <th>MaxEStateIndex</th>\n",
       "      <th>MinAbsEStateIndex</th>\n",
       "      <th>MinEStateIndex</th>\n",
       "      <th>qed</th>\n",
       "      <th>SPS</th>\n",
       "      <th>MolWt</th>\n",
       "      <th>HeavyAtomMolWt</th>\n",
       "      <th>ExactMolWt</th>\n",
       "      <th>NumValenceElectrons</th>\n",
       "      <th>...</th>\n",
       "      <th>fr_sulfide</th>\n",
       "      <th>fr_sulfonamd</th>\n",
       "      <th>fr_sulfone</th>\n",
       "      <th>fr_term_acetylene</th>\n",
       "      <th>fr_tetrazole</th>\n",
       "      <th>fr_thiazole</th>\n",
       "      <th>fr_thiocyan</th>\n",
       "      <th>fr_thiophene</th>\n",
       "      <th>fr_unbrch_alkane</th>\n",
       "      <th>fr_urea</th>\n",
       "    </tr>\n",
       "  </thead>\n",
       "  <tbody>\n",
       "    <tr>\n",
       "      <th>0</th>\n",
       "      <td>10.337455</td>\n",
       "      <td>10.337455</td>\n",
       "      <td>0.057778</td>\n",
       "      <td>-1.272753</td>\n",
       "      <td>0.255933</td>\n",
       "      <td>23.375000</td>\n",
       "      <td>505.329</td>\n",
       "      <td>484.161</td>\n",
       "      <td>504.075680</td>\n",
       "      <td>168</td>\n",
       "      <td>...</td>\n",
       "      <td>0</td>\n",
       "      <td>0</td>\n",
       "      <td>0</td>\n",
       "      <td>0</td>\n",
       "      <td>0</td>\n",
       "      <td>0</td>\n",
       "      <td>0</td>\n",
       "      <td>0</td>\n",
       "      <td>0</td>\n",
       "      <td>0</td>\n",
       "    </tr>\n",
       "    <tr>\n",
       "      <th>1</th>\n",
       "      <td>10.335047</td>\n",
       "      <td>10.335047</td>\n",
       "      <td>0.059736</td>\n",
       "      <td>-1.271941</td>\n",
       "      <td>0.255933</td>\n",
       "      <td>23.375000</td>\n",
       "      <td>505.329</td>\n",
       "      <td>484.161</td>\n",
       "      <td>504.075680</td>\n",
       "      <td>168</td>\n",
       "      <td>...</td>\n",
       "      <td>0</td>\n",
       "      <td>0</td>\n",
       "      <td>0</td>\n",
       "      <td>0</td>\n",
       "      <td>0</td>\n",
       "      <td>0</td>\n",
       "      <td>0</td>\n",
       "      <td>0</td>\n",
       "      <td>0</td>\n",
       "      <td>0</td>\n",
       "    </tr>\n",
       "    <tr>\n",
       "      <th>2</th>\n",
       "      <td>10.333078</td>\n",
       "      <td>10.333078</td>\n",
       "      <td>0.061184</td>\n",
       "      <td>-1.271281</td>\n",
       "      <td>0.255933</td>\n",
       "      <td>23.375000</td>\n",
       "      <td>505.329</td>\n",
       "      <td>484.161</td>\n",
       "      <td>504.075680</td>\n",
       "      <td>168</td>\n",
       "      <td>...</td>\n",
       "      <td>0</td>\n",
       "      <td>0</td>\n",
       "      <td>0</td>\n",
       "      <td>0</td>\n",
       "      <td>0</td>\n",
       "      <td>0</td>\n",
       "      <td>0</td>\n",
       "      <td>0</td>\n",
       "      <td>0</td>\n",
       "      <td>0</td>\n",
       "    </tr>\n",
       "    <tr>\n",
       "      <th>3</th>\n",
       "      <td>10.355554</td>\n",
       "      <td>10.355554</td>\n",
       "      <td>0.205346</td>\n",
       "      <td>-1.235039</td>\n",
       "      <td>0.369988</td>\n",
       "      <td>25.218750</td>\n",
       "      <td>440.504</td>\n",
       "      <td>412.280</td>\n",
       "      <td>440.217203</td>\n",
       "      <td>170</td>\n",
       "      <td>...</td>\n",
       "      <td>0</td>\n",
       "      <td>0</td>\n",
       "      <td>0</td>\n",
       "      <td>0</td>\n",
       "      <td>0</td>\n",
       "      <td>0</td>\n",
       "      <td>0</td>\n",
       "      <td>0</td>\n",
       "      <td>0</td>\n",
       "      <td>0</td>\n",
       "    </tr>\n",
       "    <tr>\n",
       "      <th>4</th>\n",
       "      <td>6.090409</td>\n",
       "      <td>6.090409</td>\n",
       "      <td>0.226017</td>\n",
       "      <td>0.226017</td>\n",
       "      <td>0.547921</td>\n",
       "      <td>12.285714</td>\n",
       "      <td>362.614</td>\n",
       "      <td>353.542</td>\n",
       "      <td>360.961752</td>\n",
       "      <td>104</td>\n",
       "      <td>...</td>\n",
       "      <td>0</td>\n",
       "      <td>0</td>\n",
       "      <td>0</td>\n",
       "      <td>0</td>\n",
       "      <td>0</td>\n",
       "      <td>0</td>\n",
       "      <td>0</td>\n",
       "      <td>0</td>\n",
       "      <td>0</td>\n",
       "      <td>0</td>\n",
       "    </tr>\n",
       "    <tr>\n",
       "      <th>...</th>\n",
       "      <td>...</td>\n",
       "      <td>...</td>\n",
       "      <td>...</td>\n",
       "      <td>...</td>\n",
       "      <td>...</td>\n",
       "      <td>...</td>\n",
       "      <td>...</td>\n",
       "      <td>...</td>\n",
       "      <td>...</td>\n",
       "      <td>...</td>\n",
       "      <td>...</td>\n",
       "      <td>...</td>\n",
       "      <td>...</td>\n",
       "      <td>...</td>\n",
       "      <td>...</td>\n",
       "      <td>...</td>\n",
       "      <td>...</td>\n",
       "      <td>...</td>\n",
       "      <td>...</td>\n",
       "      <td>...</td>\n",
       "      <td>...</td>\n",
       "    </tr>\n",
       "    <tr>\n",
       "      <th>6095</th>\n",
       "      <td>12.319151</td>\n",
       "      <td>12.319151</td>\n",
       "      <td>0.017230</td>\n",
       "      <td>-3.862462</td>\n",
       "      <td>0.430330</td>\n",
       "      <td>16.000000</td>\n",
       "      <td>404.404</td>\n",
       "      <td>388.276</td>\n",
       "      <td>404.079055</td>\n",
       "      <td>146</td>\n",
       "      <td>...</td>\n",
       "      <td>0</td>\n",
       "      <td>1</td>\n",
       "      <td>0</td>\n",
       "      <td>0</td>\n",
       "      <td>0</td>\n",
       "      <td>0</td>\n",
       "      <td>0</td>\n",
       "      <td>0</td>\n",
       "      <td>0</td>\n",
       "      <td>0</td>\n",
       "    </tr>\n",
       "    <tr>\n",
       "      <th>6096</th>\n",
       "      <td>13.479540</td>\n",
       "      <td>13.479540</td>\n",
       "      <td>0.089593</td>\n",
       "      <td>-3.870532</td>\n",
       "      <td>0.661537</td>\n",
       "      <td>30.133333</td>\n",
       "      <td>433.490</td>\n",
       "      <td>410.306</td>\n",
       "      <td>433.141990</td>\n",
       "      <td>160</td>\n",
       "      <td>...</td>\n",
       "      <td>0</td>\n",
       "      <td>0</td>\n",
       "      <td>0</td>\n",
       "      <td>0</td>\n",
       "      <td>0</td>\n",
       "      <td>0</td>\n",
       "      <td>0</td>\n",
       "      <td>0</td>\n",
       "      <td>0</td>\n",
       "      <td>1</td>\n",
       "    </tr>\n",
       "    <tr>\n",
       "      <th>6097</th>\n",
       "      <td>13.479540</td>\n",
       "      <td>13.479540</td>\n",
       "      <td>0.089593</td>\n",
       "      <td>-3.870532</td>\n",
       "      <td>0.661537</td>\n",
       "      <td>30.133333</td>\n",
       "      <td>433.490</td>\n",
       "      <td>410.306</td>\n",
       "      <td>433.141990</td>\n",
       "      <td>160</td>\n",
       "      <td>...</td>\n",
       "      <td>0</td>\n",
       "      <td>0</td>\n",
       "      <td>0</td>\n",
       "      <td>0</td>\n",
       "      <td>0</td>\n",
       "      <td>0</td>\n",
       "      <td>0</td>\n",
       "      <td>0</td>\n",
       "      <td>0</td>\n",
       "      <td>1</td>\n",
       "    </tr>\n",
       "    <tr>\n",
       "      <th>6098</th>\n",
       "      <td>11.109896</td>\n",
       "      <td>11.109896</td>\n",
       "      <td>0.052139</td>\n",
       "      <td>-1.484804</td>\n",
       "      <td>0.591959</td>\n",
       "      <td>33.259259</td>\n",
       "      <td>379.321</td>\n",
       "      <td>362.185</td>\n",
       "      <td>379.090331</td>\n",
       "      <td>144</td>\n",
       "      <td>...</td>\n",
       "      <td>0</td>\n",
       "      <td>0</td>\n",
       "      <td>0</td>\n",
       "      <td>0</td>\n",
       "      <td>0</td>\n",
       "      <td>0</td>\n",
       "      <td>0</td>\n",
       "      <td>0</td>\n",
       "      <td>0</td>\n",
       "      <td>0</td>\n",
       "    </tr>\n",
       "    <tr>\n",
       "      <th>6099</th>\n",
       "      <td>11.109896</td>\n",
       "      <td>11.109896</td>\n",
       "      <td>0.052139</td>\n",
       "      <td>-1.484804</td>\n",
       "      <td>0.591959</td>\n",
       "      <td>33.259259</td>\n",
       "      <td>379.321</td>\n",
       "      <td>362.185</td>\n",
       "      <td>379.090331</td>\n",
       "      <td>144</td>\n",
       "      <td>...</td>\n",
       "      <td>0</td>\n",
       "      <td>0</td>\n",
       "      <td>0</td>\n",
       "      <td>0</td>\n",
       "      <td>0</td>\n",
       "      <td>0</td>\n",
       "      <td>0</td>\n",
       "      <td>0</td>\n",
       "      <td>0</td>\n",
       "      <td>0</td>\n",
       "    </tr>\n",
       "  </tbody>\n",
       "</table>\n",
       "<p>6100 rows × 210 columns</p>\n",
       "</div>"
      ],
      "text/plain": [
       "      MaxAbsEStateIndex  MaxEStateIndex  MinAbsEStateIndex  MinEStateIndex  \\\n",
       "0             10.337455       10.337455           0.057778       -1.272753   \n",
       "1             10.335047       10.335047           0.059736       -1.271941   \n",
       "2             10.333078       10.333078           0.061184       -1.271281   \n",
       "3             10.355554       10.355554           0.205346       -1.235039   \n",
       "4              6.090409        6.090409           0.226017        0.226017   \n",
       "...                 ...             ...                ...             ...   \n",
       "6095          12.319151       12.319151           0.017230       -3.862462   \n",
       "6096          13.479540       13.479540           0.089593       -3.870532   \n",
       "6097          13.479540       13.479540           0.089593       -3.870532   \n",
       "6098          11.109896       11.109896           0.052139       -1.484804   \n",
       "6099          11.109896       11.109896           0.052139       -1.484804   \n",
       "\n",
       "           qed        SPS    MolWt  HeavyAtomMolWt  ExactMolWt  \\\n",
       "0     0.255933  23.375000  505.329         484.161  504.075680   \n",
       "1     0.255933  23.375000  505.329         484.161  504.075680   \n",
       "2     0.255933  23.375000  505.329         484.161  504.075680   \n",
       "3     0.369988  25.218750  440.504         412.280  440.217203   \n",
       "4     0.547921  12.285714  362.614         353.542  360.961752   \n",
       "...        ...        ...      ...             ...         ...   \n",
       "6095  0.430330  16.000000  404.404         388.276  404.079055   \n",
       "6096  0.661537  30.133333  433.490         410.306  433.141990   \n",
       "6097  0.661537  30.133333  433.490         410.306  433.141990   \n",
       "6098  0.591959  33.259259  379.321         362.185  379.090331   \n",
       "6099  0.591959  33.259259  379.321         362.185  379.090331   \n",
       "\n",
       "      NumValenceElectrons  ...  fr_sulfide  fr_sulfonamd  fr_sulfone  \\\n",
       "0                     168  ...           0             0           0   \n",
       "1                     168  ...           0             0           0   \n",
       "2                     168  ...           0             0           0   \n",
       "3                     170  ...           0             0           0   \n",
       "4                     104  ...           0             0           0   \n",
       "...                   ...  ...         ...           ...         ...   \n",
       "6095                  146  ...           0             1           0   \n",
       "6096                  160  ...           0             0           0   \n",
       "6097                  160  ...           0             0           0   \n",
       "6098                  144  ...           0             0           0   \n",
       "6099                  144  ...           0             0           0   \n",
       "\n",
       "      fr_term_acetylene  fr_tetrazole  fr_thiazole  fr_thiocyan  fr_thiophene  \\\n",
       "0                     0             0            0            0             0   \n",
       "1                     0             0            0            0             0   \n",
       "2                     0             0            0            0             0   \n",
       "3                     0             0            0            0             0   \n",
       "4                     0             0            0            0             0   \n",
       "...                 ...           ...          ...          ...           ...   \n",
       "6095                  0             0            0            0             0   \n",
       "6096                  0             0            0            0             0   \n",
       "6097                  0             0            0            0             0   \n",
       "6098                  0             0            0            0             0   \n",
       "6099                  0             0            0            0             0   \n",
       "\n",
       "      fr_unbrch_alkane  fr_urea  \n",
       "0                    0        0  \n",
       "1                    0        0  \n",
       "2                    0        0  \n",
       "3                    0        0  \n",
       "4                    0        0  \n",
       "...                ...      ...  \n",
       "6095                 0        0  \n",
       "6096                 0        1  \n",
       "6097                 0        1  \n",
       "6098                 0        0  \n",
       "6099                 0        0  \n",
       "\n",
       "[6100 rows x 210 columns]"
      ]
     },
     "execution_count": 80,
     "metadata": {},
     "output_type": "execute_result"
    }
   ],
   "source": [
    "X = new_df.iloc[:,:-1]\n",
    "y = new_df.label\n",
    "X"
   ]
  },
  {
   "cell_type": "code",
   "execution_count": 68,
   "id": "22c8a2b9-32fe-4b2e-989e-b594f80ecbc8",
   "metadata": {},
   "outputs": [
    {
     "data": {
      "text/plain": [
       "(6100, 112)"
      ]
     },
     "execution_count": 68,
     "metadata": {},
     "output_type": "execute_result"
    }
   ],
   "source": [
    "X.shape"
   ]
  },
  {
   "cell_type": "markdown",
   "id": "901ad84d-0fb7-4b1e-bd95-f458d66c47cc",
   "metadata": {},
   "source": [
    "### Filtering - deleting invariant data and highly correlated data"
   ]
  },
  {
   "cell_type": "code",
   "execution_count": 40,
   "id": "d1985fc8-a053-4dee-bdcd-18453b9273a7",
   "metadata": {},
   "outputs": [],
   "source": [
    "from sklearn.feature_selection import VarianceThreshold\n",
    "\n",
    "def filter_data(X):\n",
    "    corr_matrix = X.corr().abs()\n",
    "    upper = corr_matrix.where(np.triu(np.ones(corr_matrix.shape), k=1).astype(bool))\n",
    "    to_drop = [column for column in upper.columns if any(upper[column] > 0.90)]\n",
    "    X.drop(to_drop, axis=1, inplace=True)\n",
    "    \n",
    "    threshold = 0.9\n",
    "    sel = VarianceThreshold(threshold=(threshold * (1 - threshold)))\n",
    "    X = sel.fit_transform(X)\n",
    "    return X\n",
    "\n",
    "X = filter_data(X)"
   ]
  },
  {
   "cell_type": "code",
   "execution_count": 83,
   "id": "56bba658-7551-4b65-bb63-d0c1fc3f84f6",
   "metadata": {},
   "outputs": [],
   "source": [
    "# def filter_data(X):\n",
    "#     correlation_threshold = 0.9\n",
    "#     corr_matrix = X.corr().abs()\n",
    "#     upper = corr_matrix.where(~np.tril(np.ones(corr_matrix.shape)).astype(bool))\n",
    "#     to_drop = [column for column in upper.columns if any(upper[column] > correlation_threshold)]\n",
    "\n",
    "#     # Extract column names before dropping\n",
    "#     column_names = X.columns\n",
    "#     X = X.drop(to_drop, axis=1)\n",
    "    \n",
    "#     variance_threshold = 0.9\n",
    "#     sel = VarianceThreshold(threshold=(variance_threshold * (1 - variance_threshold)))\n",
    "#     X = sel.fit_transform(X)\n",
    "#     kept_features = sel.get_support(indices=True)  # Get indices of kept features\n",
    "#     X = pd.DataFrame(X, columns=column_names[kept_features])  # Reconstruct DataFrame with preserved names\n",
    "\n",
    "#     return X, kept_features\n",
    "\n",
    "# X, kept_features = filter_data(X)"
   ]
  },
  {
   "cell_type": "code",
   "execution_count": 85,
   "id": "4d74247e-ea1a-42c6-a0ec-b924e06b76b4",
   "metadata": {},
   "outputs": [
    {
     "data": {
      "text/plain": [
       "array([  0,   1,   2,   3,   4,   5,   6,   7,   8,   9,  10,  11,  12,\n",
       "        13,  14,  15,  16,  17,  18,  19,  20,  21,  22,  23,  24,  25,\n",
       "        26,  27,  28,  29,  30,  31,  32,  33,  34,  35,  36,  37,  38,\n",
       "        39,  40,  41,  42,  43,  44,  45,  46,  47,  48,  49,  50,  51,\n",
       "        52,  53,  54,  55,  56,  57,  58,  59,  60,  61,  62,  63,  64,\n",
       "        65,  66,  67,  68,  69,  70,  71,  72,  73,  74,  75,  76,  77,\n",
       "        78,  79,  80,  81,  82,  83,  84,  85,  86,  87,  88,  89,  90,\n",
       "        91,  92,  93,  94,  95,  96,  97,  98,  99, 100, 101, 102, 103,\n",
       "       104, 105, 106, 107, 108, 109, 110, 111])"
      ]
     },
     "execution_count": 85,
     "metadata": {},
     "output_type": "execute_result"
    }
   ],
   "source": [
    "kept_features"
   ]
  },
  {
   "cell_type": "code",
   "execution_count": 74,
   "id": "8451e1bd-932d-463e-8e4d-e30d44d88f3b",
   "metadata": {},
   "outputs": [
    {
     "data": {
      "text/plain": [
       "(6100, 112)"
      ]
     },
     "execution_count": 74,
     "metadata": {},
     "output_type": "execute_result"
    }
   ],
   "source": [
    "X.shape"
   ]
  },
  {
   "cell_type": "code",
   "execution_count": 42,
   "id": "b5e7b2c6-bd8e-4586-824a-2b697b86d58b",
   "metadata": {},
   "outputs": [],
   "source": [
    "# Scaling\n",
    "from sklearn.preprocessing import StandardScaler"
   ]
  },
  {
   "cell_type": "code",
   "execution_count": 43,
   "id": "86043860-ac74-451c-9cb6-91329c18b70d",
   "metadata": {},
   "outputs": [],
   "source": [
    "scaler = StandardScaler()\n",
    "X = scaler.fit_transform(X)"
   ]
  },
  {
   "cell_type": "markdown",
   "id": "da425111-d4a4-486b-b46f-20509235c0fa",
   "metadata": {},
   "source": [
    "### Data split"
   ]
  },
  {
   "cell_type": "code",
   "execution_count": 44,
   "id": "dba1f63e-701f-48ba-8714-b0df6fe0b05d",
   "metadata": {},
   "outputs": [],
   "source": [
    "from sklearn.model_selection import train_test_split"
   ]
  },
  {
   "cell_type": "code",
   "execution_count": 45,
   "id": "a85aea29-89b7-4cbf-bb41-ee6eb5de2f95",
   "metadata": {},
   "outputs": [
    {
     "data": {
      "text/plain": [
       "1    327\n",
       "0    283\n",
       "Name: label, dtype: int64"
      ]
     },
     "execution_count": 45,
     "metadata": {},
     "output_type": "execute_result"
    }
   ],
   "source": [
    "X_train, X_test, y_train, y_test = train_test_split(X, y, test_size=0.1, random_state=42)\n",
    "y_test.value_counts()"
   ]
  },
  {
   "cell_type": "markdown",
   "id": "3e0e3d61-67f9-4c34-88a9-d276b148989a",
   "metadata": {},
   "source": [
    "### SVC"
   ]
  },
  {
   "cell_type": "code",
   "execution_count": 35,
   "id": "12a8418b-6a54-4cb3-bba7-5a1446620654",
   "metadata": {},
   "outputs": [],
   "source": [
    "from numpy import mean\n",
    "from sklearn import svm\n",
    "from sklearn.model_selection import RepeatedStratifiedKFold, cross_val_score, StratifiedKFold\n",
    "from sklearn.metrics import accuracy_score, confusion_matrix, ConfusionMatrixDisplay\n",
    "from sklearn.metrics import classification_report, roc_auc_score, make_scorer\n",
    "from sklearn.model_selection import GridSearchCV, RandomizedSearchCV\n",
    "from sklearn.inspection import permutation_importance"
   ]
  },
  {
   "cell_type": "code",
   "execution_count": null,
   "id": "aaac4a84-fd8d-4066-ad28-87802b929b65",
   "metadata": {},
   "outputs": [],
   "source": []
  },
  {
   "cell_type": "code",
   "execution_count": 68,
   "id": "3d78bc8f-fdb8-4466-8ddf-7ea0583854e1",
   "metadata": {},
   "outputs": [
    {
     "name": "stdout",
     "output_type": "stream",
     "text": [
      "Fitting 30 folds for each of 6 candidates, totalling 180 fits\n",
      "CPU times: user 18min 12s, sys: 12.5 s, total: 18min 24s\n",
      "Wall time: 18min 25s\n",
      "\n",
      "{'C': 10, 'gamma': 0.001, 'kernel': 'rbf'}\n",
      "SVC(C=10, gamma=0.001)\n",
      "Error: 0.3327868852459016\n",
      "Accuracy: 0.6672131147540984\n",
      "Mean ROC AUC: 0.6893647140186512\n"
     ]
    }
   ],
   "source": [
    "svc = svm.SVC(random_state=0)\n",
    "\n",
    "scoring = {\"AUC\": \"roc_auc\", \"Accuracy\": make_scorer(accuracy_score)}\n",
    "param_grid = {'C':[1, 10, 100],\n",
    "                  'gamma':[0.01,0.001],\n",
    "                 'kernel': ['rbf']}\n",
    "\n",
    "cv = RepeatedStratifiedKFold(n_splits=10, n_repeats=3, random_state=1)\n",
    "grid = GridSearchCV(svc, param_grid, cv=cv, scoring=scoring, refit='AUC', verbose=1)\n",
    "\n",
    "%time grid.fit(X_train, y_train)\n",
    "\n",
    "print()\n",
    "print(grid.best_params_)\n",
    "print(grid.best_estimator_)\n",
    "\n",
    "y_pred = grid.predict(X_test)\n",
    "accuracy = accuracy_score(y_test, y_pred)\n",
    "cm = confusion_matrix(y_test, y_pred)\n",
    "print(\"Accuracy:\", accuracy)\n",
    "\n",
    "score = roc_auc_score(y_test, y_pred)\n",
    "print(\"Mean ROC AUC:\", score)"
   ]
  },
  {
   "cell_type": "code",
   "execution_count": 72,
   "id": "d93c479d-f829-44a7-a873-4248d54d57d4",
   "metadata": {},
   "outputs": [
    {
     "data": {
      "image/png": "[encoded data removed]",
      "text/plain": [
       "<Figure size 432x288 with 2 Axes>"
      ]
     },
     "metadata": {
      "needs_background": "light"
     },
     "output_type": "display_data"
    }
   ],
   "source": [
    "disp = ConfusionMatrixDisplay(confusion_matrix=cm, display_labels=grid.classes_)\n",
    "disp.plot()\n",
    "# plt.show()\n",
    "plt.savefig('conf_unscal.jpg')"
   ]
  },
  {
   "cell_type": "code",
   "execution_count": 46,
   "id": "30acd58e-06a5-4635-a2c3-a2594c8d6724",
   "metadata": {},
   "outputs": [
    {
     "name": "stdout",
     "output_type": "stream",
     "text": [
      "Accuracy: 0.9721311475409836\n",
      "Mean ROC AUC: 0.9706778617045417\n",
      "              precision    recall  f1-score   support\n",
      "\n",
      "           0       0.99      0.95      0.97       283\n",
      "           1       0.96      0.99      0.97       327\n",
      "\n",
      "    accuracy                           0.97       610\n",
      "   macro avg       0.97      0.97      0.97       610\n",
      "weighted avg       0.97      0.97      0.97       610\n",
      "\n"
     ]
    }
   ],
   "source": [
    "\n",
    "svc = svm.SVC(C=100, gamma=0.001)\n",
    "\n",
    "scoring = {\"AUC\": \"roc_auc\", \"Accuracy\": make_scorer(accuracy_score)}\n",
    "\n",
    "cv = RepeatedStratifiedKFold(n_splits=10, n_repeats=3, random_state=1)\n",
    "\n",
    "svc.fit(X_train, y_train)\n",
    "y_pred = svc.predict(X_test)\n",
    "accuracy = accuracy_score(y_test, y_pred)\n",
    "cm = confusion_matrix(y_test, y_pred)\n",
    "print(\"Accuracy:\", accuracy)\n",
    "\n",
    "score = roc_auc_score(y_test, y_pred)\n",
    "print(\"Mean ROC AUC:\", score)\n",
    "\n",
    "print(classification_report(y_test, y_pred))"
   ]
  },
  {
   "cell_type": "code",
   "execution_count": 89,
   "id": "63b8b1fc-c313-4b97-bbe4-b8cc1cfad4d1",
   "metadata": {},
   "outputs": [
    {
     "data": {
      "text/plain": [
       "['./models/svc.sav']"
      ]
     },
     "execution_count": 89,
     "metadata": {},
     "output_type": "execute_result"
    }
   ],
   "source": [
    "svc_filename = f'{path_model}/svc.sav'\n",
    "joblib.dump(svc, svc_filename)"
   ]
  },
  {
   "cell_type": "code",
   "execution_count": 90,
   "id": "be56dcc4-ef49-45bb-9129-b97bae5a5de8",
   "metadata": {},
   "outputs": [],
   "source": [
    "svc = joblib.load(svc_filename)"
   ]
  },
  {
   "cell_type": "markdown",
   "id": "afcfd70e-8542-4ef6-b716-284e1ae61794",
   "metadata": {},
   "source": [
    "### Plotting the result"
   ]
  },
  {
   "cell_type": "code",
   "execution_count": 47,
   "id": "74a8757a-5d3f-48ef-bfd9-149b1a632d82",
   "metadata": {},
   "outputs": [
    {
     "data": {
      "image/png": "[encoded data removed]",
      "text/plain": [
       "<Figure size 432x288 with 2 Axes>"
      ]
     },
     "metadata": {
      "needs_background": "light"
     },
     "output_type": "display_data"
    }
   ],
   "source": [
    "disp = ConfusionMatrixDisplay(confusion_matrix=cm, display_labels=svc.classes_)\n",
    "disp.plot()\n",
    "# plt.show()\n",
    "plt.savefig(f'{tables}/conf_scal.jpg')"
   ]
  },
  {
   "cell_type": "markdown",
   "id": "75375bcc-cb51-47c9-9f4d-6b3a9e98dd66",
   "metadata": {},
   "source": [
    "### SVC 2"
   ]
  },
  {
   "cell_type": "code",
   "execution_count": 58,
   "id": "b8a47db5-dd4b-4328-b6f2-e072c3c141f5",
   "metadata": {},
   "outputs": [
    {
     "name": "stdout",
     "output_type": "stream",
     "text": [
      "Mean ROC AUC: 0.788\n",
      "Accuracy: 0.725\n"
     ]
    }
   ],
   "source": [
    "svc_2 = svm.SVC(C=1, gamma=0.0001)\n",
    "cv = RepeatedStratifiedKFold(n_splits=10, n_repeats=3, random_state=1)\n",
    "scores = cross_val_score(svc, X_train, y_train, scoring='roc_auc', cv=cv, n_jobs=-1, verbose=3)\n",
    "\n",
    "svc_2 = svm.SVC(C=1, gamma=0.0001)\n",
    "accuracy = cross_val_score(svc, X_train, y_train, scoring='accuracy', cv=cv, n_jobs=-1, verbose=3)\n",
    "print('Mean ROC AUC: %.3f' % mean(scores))\n",
    "print('Accuracy: %.3f' % mean(accuracy))"
   ]
  },
  {
   "cell_type": "code",
   "execution_count": 69,
   "id": "74fb0bba-458c-47e5-a669-e8b67e8cf01c",
   "metadata": {},
   "outputs": [
    {
     "data": {
      "text/plain": [
       "array([[ 0.13845001, -0.34326714,  0.80557725, ..., -0.517567  ,\n",
       "        -0.20996664, -0.36185931],\n",
       "       [-2.43665613,  1.06069835, -0.06976334, ..., -0.517567  ,\n",
       "        -0.20996664, -0.36185931],\n",
       "       [-0.63607396, -0.19398532,  1.08633652, ..., -0.517567  ,\n",
       "        -0.20996664, -0.36185931],\n",
       "       ...,\n",
       "       [-0.61449599,  0.3795084 ,  1.41582317, ..., -0.517567  ,\n",
       "        -0.20996664, -0.36185931],\n",
       "       [ 0.70417156,  0.08055886, -0.05276426, ..., -0.517567  ,\n",
       "        -0.20996664,  2.70389315],\n",
       "       [-1.0709884 ,  0.94865678,  0.9984944 , ..., -0.517567  ,\n",
       "        -0.20996664, -0.36185931]])"
      ]
     },
     "execution_count": 69,
     "metadata": {},
     "output_type": "execute_result"
    }
   ],
   "source": [
    "new"
   ]
  },
  {
   "cell_type": "code",
   "execution_count": 91,
   "id": "dce96a54-484d-453f-a955-bd1774e9e387",
   "metadata": {},
   "outputs": [
    {
     "data": {
      "text/plain": [
       "['./models/svc_2.sav']"
      ]
     },
     "execution_count": 91,
     "metadata": {},
     "output_type": "execute_result"
    }
   ],
   "source": [
    "svc_2_filename = f'{path_model}/svc_2.sav'\n",
    "joblib.dump(svc_2, svc_2_filename)"
   ]
  },
  {
   "cell_type": "code",
   "execution_count": null,
   "id": "313a426b-ac93-477c-bd77-aa17675a437e",
   "metadata": {},
   "outputs": [],
   "source": [
    "svc_2 = joblib.load(svc_2_filename)"
   ]
  },
  {
   "cell_type": "code",
   "execution_count": null,
   "id": "6a1a22e7-f8b1-47d5-aa4e-fe48d86cff38",
   "metadata": {},
   "outputs": [],
   "source": [
    "x_min, x_max = X[:, 0].min() - 1, X[:, 0].max() + 1\n",
    "y_min, y_max = X[:, 1].min() - 1, X[:, 1].max() + 1\n",
    "xx, yy = np.meshgrid(np.arange(x_min, x_max, h),\n",
    "                     np.arange(y_min, y_max, h))"
   ]
  },
  {
   "cell_type": "code",
   "execution_count": null,
   "id": "007b2955-fe51-4e18-a32e-1af51706e5cd",
   "metadata": {},
   "outputs": [],
   "source": [
    "Z = svc.predict(np.c_[xx.ravel(), yy.ravel()])\n",
    "\n",
    "# Put the result into a color plot\n",
    "Z = Z.reshape(xx.shape)\n",
    "plt.contourf(xx, yy, Z, cmap=plt.cm.coolwarm, alpha=0.8)\n",
    "\n",
    "# Plot also the training points\n",
    "plt.scatter(X[:, 0], X[:, 1], c=y, cmap=plt.cm.coolwarm)\n",
    "plt.xlabel('Sepal length')\n",
    "plt.ylabel('Sepal width')\n",
    "plt.xlim(xx.min(), xx.max())\n",
    "plt.ylim(yy.min(), yy.max())\n",
    "plt.xticks(())\n",
    "plt.yticks(())\n",
    "plt.title(titles[i])\n"
   ]
  },
  {
   "cell_type": "code",
   "execution_count": null,
   "id": "c801255a-59b7-44cc-b04f-d675fdc2cc96",
   "metadata": {},
   "outputs": [],
   "source": []
  },
  {
   "cell_type": "markdown",
   "id": "88909530-e0d9-41fd-8b09-403e418b13bb",
   "metadata": {},
   "source": [
    "## Naive Bayes"
   ]
  },
  {
   "cell_type": "code",
   "execution_count": 48,
   "id": "6dafb120-10bc-4094-8bbc-00dac06df04d",
   "metadata": {},
   "outputs": [],
   "source": [
    "from sklearn.naive_bayes import GaussianNB"
   ]
  },
  {
   "cell_type": "code",
   "execution_count": 49,
   "id": "e0399df7-5786-4eeb-b093-77c0ef1c53da",
   "metadata": {},
   "outputs": [
    {
     "name": "stdout",
     "output_type": "stream",
     "text": [
      "Accuracy: 0.9229508196721311\n",
      "Mean ROC AUC: 0.9193384553873418\n",
      "              precision    recall  f1-score   support\n",
      "\n",
      "           0       0.96      0.87      0.91       283\n",
      "           1       0.90      0.97      0.93       327\n",
      "\n",
      "    accuracy                           0.92       610\n",
      "   macro avg       0.93      0.92      0.92       610\n",
      "weighted avg       0.93      0.92      0.92       610\n",
      "\n"
     ]
    }
   ],
   "source": [
    "nb = GaussianNB()\n",
    "nb.fit(X_train, y_train)\n",
    "y_pred = nb.predict(X_test)\n",
    "accuracy_nb = accuracy_score(y_test, y_pred)\n",
    "print(\"Accuracy:\", accuracy_nb)\n",
    "\n",
    "score = roc_auc_score(y_test, y_pred)\n",
    "print(\"Mean ROC AUC:\", score)\n",
    "\n",
    "print(classification_report(y_test, y_pred))"
   ]
  },
  {
   "cell_type": "code",
   "execution_count": 92,
   "id": "160ecc82-8bdf-487a-80d4-f88c84991c1c",
   "metadata": {},
   "outputs": [
    {
     "data": {
      "text/plain": [
       "['./models/gaussian.sav']"
      ]
     },
     "execution_count": 92,
     "metadata": {},
     "output_type": "execute_result"
    }
   ],
   "source": [
    "gaus_filename = f'{path_model}/gaussian.sav'\n",
    "joblib.dump(nb, gaus_filename)"
   ]
  },
  {
   "cell_type": "code",
   "execution_count": null,
   "id": "d6bfce22-5330-4485-9e5f-71debfcdf4de",
   "metadata": {},
   "outputs": [],
   "source": [
    "nb = joblib.load(gaus_filename)"
   ]
  },
  {
   "cell_type": "markdown",
   "id": "7421c9b3-cd71-4e2a-98a5-75e1db8ba621",
   "metadata": {},
   "source": [
    "### Logistic Regression"
   ]
  },
  {
   "cell_type": "code",
   "execution_count": 50,
   "id": "2155a5f5-e21a-4071-8070-0086921cde9f",
   "metadata": {},
   "outputs": [],
   "source": [
    "from sklearn.pipeline import Pipeline\n",
    "from sklearn.preprocessing import PowerTransformer\n",
    "from sklearn.linear_model import LogisticRegression"
   ]
  },
  {
   "cell_type": "code",
   "execution_count": 51,
   "id": "1b27d8fe-34b0-4f12-85f2-b8ab1e3337cc",
   "metadata": {},
   "outputs": [
    {
     "name": "stdout",
     "output_type": "stream",
     "text": [
      "scores = [0.98715399 0.98236496 0.98972051 0.98465601 0.99188121] \n",
      "mean score = 0.98716 +/- 0.00341\n"
     ]
    }
   ],
   "source": [
    "SEED = 42\n",
    "\n",
    "skf = StratifiedKFold(n_splits=5, shuffle=True, random_state=SEED)\n",
    "\n",
    "lr = Pipeline([('p_trans', PowerTransformer(method='yeo-johnson', standardize=True)),\n",
    "               ('lr', LogisticRegression(solver='liblinear',\n",
    "                                         penalty='l1',\n",
    "                                         max_iter=200,\n",
    "                                         class_weight='balanced',\n",
    "                                         random_state=SEED)\n",
    "               )])\n",
    "\n",
    "# lr = Pipeline([('lr', LogisticRegression(solver='liblinear',\n",
    "#                                          penalty='l1',\n",
    "#                                          max_iter=200,\n",
    "#                                          class_weight='balanced',\n",
    "#                                          random_state=SEED)\n",
    "#                )])\n",
    "\n",
    "scores = cross_val_score(estimator=lr, X=X, y=y, \n",
    "                         cv=skf, scoring='roc_auc', n_jobs=-1)\n",
    "\n",
    "print('scores = {} \\nmean score = {:.5f} +/- {:.5f}'.format(scores, scores.mean(), scores.std()))\n",
    "\n",
    "lr.fit(X_train, y_train);"
   ]
  },
  {
   "cell_type": "code",
   "execution_count": 80,
   "id": "ac9f7799-b3c1-4c2a-bbbd-b9c0bb7f9029",
   "metadata": {},
   "outputs": [],
   "source": [
    "df_score = pd.DataFrame(data={'score': lr['lr'].coef_[0]}, index=left_columns).sort_values(by='score')\n",
    "# df.plot(kind='barh', grid=True, figsize=(6,6), legend=False)"
   ]
  },
  {
   "cell_type": "code",
   "execution_count": 81,
   "id": "529e8a15-981f-4d9f-bb96-5a7abdce3859",
   "metadata": {},
   "outputs": [
    {
     "data": {
      "text/html": [
       "<div>\n",
       "<style scoped>\n",
       "    .dataframe tbody tr th:only-of-type {\n",
       "        vertical-align: middle;\n",
       "    }\n",
       "\n",
       "    .dataframe tbody tr th {\n",
       "        vertical-align: top;\n",
       "    }\n",
       "\n",
       "    .dataframe thead th {\n",
       "        text-align: right;\n",
       "    }\n",
       "</style>\n",
       "<table border=\"1\" class=\"dataframe\">\n",
       "  <thead>\n",
       "    <tr style=\"text-align: right;\">\n",
       "      <th></th>\n",
       "      <th>score</th>\n",
       "    </tr>\n",
       "  </thead>\n",
       "  <tbody>\n",
       "    <tr>\n",
       "      <th>BertzCT</th>\n",
       "      <td>-2.567480</td>\n",
       "    </tr>\n",
       "    <tr>\n",
       "      <th>FractionCSP3</th>\n",
       "      <td>-2.345678</td>\n",
       "    </tr>\n",
       "    <tr>\n",
       "      <th>SlogP_VSA6</th>\n",
       "      <td>-1.340210</td>\n",
       "    </tr>\n",
       "    <tr>\n",
       "      <th>NumAromaticCarbocycles</th>\n",
       "      <td>-1.314294</td>\n",
       "    </tr>\n",
       "    <tr>\n",
       "      <th>NumAliphaticHeterocycles</th>\n",
       "      <td>-1.288903</td>\n",
       "    </tr>\n",
       "    <tr>\n",
       "      <th>...</th>\n",
       "      <td>...</td>\n",
       "    </tr>\n",
       "    <tr>\n",
       "      <th>fr_furan</th>\n",
       "      <td>1.493800</td>\n",
       "    </tr>\n",
       "    <tr>\n",
       "      <th>VSA_EState2</th>\n",
       "      <td>1.786875</td>\n",
       "    </tr>\n",
       "    <tr>\n",
       "      <th>VSA_EState6</th>\n",
       "      <td>1.971515</td>\n",
       "    </tr>\n",
       "    <tr>\n",
       "      <th>SlogP_VSA2</th>\n",
       "      <td>2.194154</td>\n",
       "    </tr>\n",
       "    <tr>\n",
       "      <th>SlogP_VSA8</th>\n",
       "      <td>2.417757</td>\n",
       "    </tr>\n",
       "  </tbody>\n",
       "</table>\n",
       "<p>168 rows × 1 columns</p>\n",
       "</div>"
      ],
      "text/plain": [
       "                             score\n",
       "BertzCT                  -2.567480\n",
       "FractionCSP3             -2.345678\n",
       "SlogP_VSA6               -1.340210\n",
       "NumAromaticCarbocycles   -1.314294\n",
       "NumAliphaticHeterocycles -1.288903\n",
       "...                            ...\n",
       "fr_furan                  1.493800\n",
       "VSA_EState2               1.786875\n",
       "VSA_EState6               1.971515\n",
       "SlogP_VSA2                2.194154\n",
       "SlogP_VSA8                2.417757\n",
       "\n",
       "[168 rows x 1 columns]"
      ]
     },
     "execution_count": 81,
     "metadata": {},
     "output_type": "execute_result"
    }
   ],
   "source": [
    "df_score"
   ]
  },
  {
   "cell_type": "code",
   "execution_count": 52,
   "id": "5b8985b4-767a-4f51-bf38-541ddd08b6c4",
   "metadata": {},
   "outputs": [
    {
     "name": "stdout",
     "output_type": "stream",
     "text": [
      "Mean ROC AUC: 0.9537232145751613\n",
      "Accuracy: 0.9557377049180328\n",
      "              precision    recall  f1-score   support\n",
      "\n",
      "           0       0.98      0.93      0.95       283\n",
      "           1       0.94      0.98      0.96       327\n",
      "\n",
      "    accuracy                           0.96       610\n",
      "   macro avg       0.96      0.95      0.96       610\n",
      "weighted avg       0.96      0.96      0.96       610\n",
      "\n"
     ]
    }
   ],
   "source": [
    "y_pred = lr.predict(X_test)\n",
    "score = roc_auc_score(y_test, y_pred)\n",
    "print(\"Mean ROC AUC:\", score)\n",
    "\n",
    "accuracy_nb = accuracy_score(y_test, y_pred)\n",
    "print(\"Accuracy:\", accuracy_nb)\n",
    "\n",
    "print(classification_report(y_test, y_pred))"
   ]
  },
  {
   "cell_type": "markdown",
   "id": "b6b7c4b2-8e47-43b3-9817-601cdffd6ef0",
   "metadata": {},
   "source": [
    "#### We have high accuracy and high AUC score in classification, it's better to go to regression to better progress"
   ]
  },
  {
   "cell_type": "code",
   "execution_count": null,
   "id": "8edaa0fc-b321-44f8-841c-23921b4e8fe6",
   "metadata": {},
   "outputs": [],
   "source": [
    "lofit_filename = f'{path_model}/svc.sav'\n",
    "joblib.dump(lr, logit_filename)"
   ]
  },
  {
   "cell_type": "code",
   "execution_count": null,
   "id": "1c1d2c03-7728-4ff1-b635-fafd95c7fd25",
   "metadata": {},
   "outputs": [],
   "source": [
    "lr = joblib.load(logit_filename)"
   ]
  },
  {
   "cell_type": "markdown",
   "id": "ff5d286b-2da6-448f-b678-592fb12ae668",
   "metadata": {},
   "source": [
    "### Decision Tree"
   ]
  },
  {
   "cell_type": "code",
   "execution_count": 53,
   "id": "15c2af44-b1c8-4b29-995b-5059c0ac8dd4",
   "metadata": {},
   "outputs": [],
   "source": [
    "from sklearn.tree import DecisionTreeClassifier"
   ]
  },
  {
   "cell_type": "code",
   "execution_count": 55,
   "id": "ee25093e-6ff9-4af4-abf6-ec40c090254c",
   "metadata": {},
   "outputs": [
    {
     "name": "stdout",
     "output_type": "stream",
     "text": [
      ">1, train: 0.899, test: 0.887\n",
      ">2, train: 0.925, test: 0.903\n",
      ">3, train: 0.948, test: 0.933\n",
      ">4, train: 0.954, test: 0.933\n",
      ">5, train: 0.965, test: 0.941\n",
      ">6, train: 0.971, test: 0.948\n",
      ">7, train: 0.975, test: 0.944\n",
      ">8, train: 0.981, test: 0.951\n",
      ">9, train: 0.985, test: 0.948\n",
      ">10, train: 0.988, test: 0.951\n",
      ">11, train: 0.991, test: 0.948\n",
      ">12, train: 0.993, test: 0.948\n",
      ">13, train: 0.995, test: 0.954\n",
      ">14, train: 0.995, test: 0.941\n",
      ">15, train: 0.996, test: 0.941\n",
      ">16, train: 0.997, test: 0.951\n",
      ">17, train: 0.997, test: 0.948\n",
      ">18, train: 0.997, test: 0.948\n",
      ">19, train: 0.998, test: 0.954\n",
      ">20, train: 0.997, test: 0.943\n"
     ]
    }
   ],
   "source": [
    "values = [i for i in range(1, 21)]\n",
    "train_scores = []\n",
    "test_scores = []\n",
    "for i in values:\n",
    "    model = DecisionTreeClassifier(max_depth=i)\n",
    "\n",
    "    model.fit(X_train, y_train)\n",
    "\n",
    "    train_yhat = model.predict(X_train)\n",
    "    train_acc = accuracy_score(y_train, train_yhat)\n",
    "    train_scores.append(train_acc)\n",
    "    \n",
    "    test_yhat = model.predict(X_test)\n",
    "    test_acc = accuracy_score(y_test, test_yhat)\n",
    "    test_scores.append(test_acc)\n",
    "\n",
    "    print('>%d, train: %.3f, test: %.3f' % (i, train_acc, test_acc))"
   ]
  },
  {
   "cell_type": "markdown",
   "id": "258d564c-03e0-4b9e-a21b-5d3844cb64a8",
   "metadata": {},
   "source": [
    "## Plot"
   ]
  },
  {
   "cell_type": "code",
   "execution_count": 67,
   "id": "3a9a428e-ea67-4714-883a-502ae3274802",
   "metadata": {},
   "outputs": [
    {
     "data": {
      "image/png": "[encoded data removed]",
      "text/plain": [
       "<Figure size 576x576 with 1 Axes>"
      ]
     },
     "metadata": {
      "needs_background": "light"
     },
     "output_type": "display_data"
    }
   ],
   "source": [
    "plt.figure(1, figsize=(8,8))\n",
    "plt.plot(values, train_scores, '-o', label='Train')\n",
    "plt.plot(values, test_scores, '-o', label='Test')\n",
    "plt.legend()\n",
    "plt.xticks(range(1, 21))\n",
    "plt.grid()\n",
    "plt.ylabel('Accuracy')\n",
    "plt.xlabel('Max depth')\n",
    "plt.show()"
   ]
  },
  {
   "cell_type": "code",
   "execution_count": null,
   "id": "7a56dcb9-bfe9-4c81-b437-d7120eb955db",
   "metadata": {},
   "outputs": [],
   "source": []
  },
  {
   "cell_type": "markdown",
   "id": "bfd0a54c-e434-4577-9f68-6d43ee419cb8",
   "metadata": {},
   "source": [
    "### Random Forest"
   ]
  },
  {
   "cell_type": "code",
   "execution_count": 93,
   "id": "24881715-a1e2-4424-b5c6-06a74c7e54a2",
   "metadata": {},
   "outputs": [
    {
     "name": "stdout",
     "output_type": "stream",
     "text": [
      ">1, train: 0.930, test: 0.933\n",
      ">2, train: 0.938, test: 0.936\n",
      ">3, train: 0.944, test: 0.938\n",
      ">4, train: 0.950, test: 0.941\n",
      ">5, train: 0.958, test: 0.941\n",
      ">6, train: 0.966, test: 0.944\n",
      ">7, train: 0.972, test: 0.946\n",
      ">8, train: 0.981, test: 0.956\n",
      ">9, train: 0.984, test: 0.961\n",
      ">10, train: 0.988, test: 0.962\n",
      ">11, train: 0.992, test: 0.967\n",
      ">12, train: 0.994, test: 0.966\n",
      ">13, train: 0.995, test: 0.966\n",
      ">14, train: 0.996, test: 0.967\n",
      ">15, train: 0.997, test: 0.967\n",
      ">16, train: 0.998, test: 0.967\n",
      ">17, train: 0.999, test: 0.969\n",
      ">18, train: 0.999, test: 0.969\n",
      ">19, train: 0.999, test: 0.975\n",
      ">20, train: 0.999, test: 0.969\n"
     ]
    }
   ],
   "source": [
    "from sklearn.ensemble import RandomForestClassifier\n",
    "\n",
    "values = [i for i in range(1, 21)]\n",
    "train_scores = []\n",
    "test_scores = []\n",
    "for i in values:\n",
    "    rf = RandomForestClassifier(max_depth=i)\n",
    "\n",
    "    model.fit(X_train, y_train)\n",
    "\n",
    "    train_yhat = model.predict(X_train)\n",
    "    train_acc = accuracy_score(y_train, train_yhat)\n",
    "    train_scores.append(train_acc)\n",
    "    \n",
    "    test_yhat = model.predict(X_test)\n",
    "    test_acc = accuracy_score(y_test, test_yhat)\n",
    "    test_scores.append(test_acc)\n",
    "\n",
    "    print('>%d, train: %.3f, test: %.3f' % (i, train_acc, test_acc))"
   ]
  },
  {
   "cell_type": "code",
   "execution_count": 94,
   "id": "e88d8dfd-7da2-4a8f-b28c-3795441a3e90",
   "metadata": {},
   "outputs": [
    {
     "data": {
      "image/png": "[encoded data removed]",
      "text/plain": [
       "<Figure size 576x576 with 1 Axes>"
      ]
     },
     "metadata": {
      "needs_background": "light"
     },
     "output_type": "display_data"
    }
   ],
   "source": [
    "plt.figure(1, figsize=(8,8))\n",
    "plt.plot(values, train_scores, '-o', label='Train')\n",
    "plt.plot(values, test_scores, '-o', label='Test')\n",
    "plt.legend()\n",
    "plt.xticks(range(1, 21))\n",
    "plt.grid()\n",
    "plt.ylabel('Accuracy')\n",
    "plt.xlabel('Max depth')\n",
    "plt.show()"
   ]
  },
  {
   "cell_type": "code",
   "execution_count": null,
   "id": "b52449c6-da21-473e-bbf3-70599fbae440",
   "metadata": {},
   "outputs": [],
   "source": []
  }
 ],
 "metadata": {
  "kernelspec": {
   "display_name": "Python 3 (ipykernel)",
   "language": "python",
   "name": "python3"
  },
  "language_info": {
   "codemirror_mode": {
    "name": "ipython",
    "version": 3
   },
   "file_extension": ".py",
   "mimetype": "text/x-python",
   "name": "python",
   "nbconvert_exporter": "python",
   "pygments_lexer": "ipython3",
   "version": "3.8.10"
  }
 },
 "nbformat": 4,
 "nbformat_minor": 5
}
