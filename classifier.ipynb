{
 "cells": [
  {
   "cell_type": "markdown",
   "id": "663c9adc-f694-4b4e-9e30-aebfdcc6f033",
   "metadata": {},
   "source": [
    "## Binary classification for prediction of the compound activity with respect to adenosine A2a receptor\n",
    "\n",
    "### Almaz Gilmullin 760235219, Anastasiia Krokhina 659711595"
   ]
  },
  {
   "cell_type": "code",
   "execution_count": 1,
   "id": "198c2d1d-1d65-442d-8117-5d4dc790dd85",
   "metadata": {},
   "outputs": [],
   "source": [
    "import pandas as pd\n",
    "import numpy as np\n",
    "import seaborn as sns\n",
    "import matplotlib.pyplot as plt\n",
    "from tqdm import tqdm"
   ]
  },
  {
   "cell_type": "code",
   "execution_count": 2,
   "id": "7679239c-9715-43f4-9c01-fdbec047059e",
   "metadata": {},
   "outputs": [],
   "source": [
    "target = 'aa2ar'\n",
    "url = f'https://dude.docking.org//targets/{target}'"
   ]
  },
  {
   "cell_type": "code",
   "execution_count": 3,
   "id": "004068f1-13b6-4361-8b38-e9476e6a51a0",
   "metadata": {},
   "outputs": [],
   "source": [
    "active = pd.read_csv(f'{url}/actives_combined.ism', header=None, sep=' ', on_bad_lines='skip')\n",
    "inactive = pd.read_csv(f'{url}/inactives_combined.ism', header=None, sep=' ', on_bad_lines='skip')\n",
    "\n",
    "decoys = pd.read_csv(f'{url}/decoys_final.ism', header=None, sep=' ', on_bad_lines='skip')"
   ]
  },
  {
   "cell_type": "code",
   "execution_count": 4,
   "id": "0fdbb782-7f8e-408d-bf25-30c5bbd1ea89",
   "metadata": {},
   "outputs": [
    {
     "data": {
      "text/plain": [
       "3050"
      ]
     },
     "execution_count": 4,
     "metadata": {},
     "output_type": "execute_result"
    }
   ],
   "source": [
    "active = pd.DataFrame({'smiles':active[0], 'label': [1]*len(active[0])})\n",
    "active_size = active.shape[0]\n",
    "active_size"
   ]
  },
  {
   "cell_type": "code",
   "execution_count": 5,
   "id": "89c5dfb4-9443-4eb0-a09b-9e4029f33a5f",
   "metadata": {},
   "outputs": [
    {
     "data": {
      "text/plain": [
       "192"
      ]
     },
     "execution_count": 5,
     "metadata": {},
     "output_type": "execute_result"
    }
   ],
   "source": [
    "inactive = pd.DataFrame({'smiles': inactive[0], 'label': [0]*len(inactive[0])})\n",
    "inactive_size = inactive.shape[0]\n",
    "inactive_size"
   ]
  },
  {
   "cell_type": "code",
   "execution_count": 6,
   "id": "8622ac14-9c07-46e3-a307-fd8a3079662b",
   "metadata": {},
   "outputs": [
    {
     "data": {
      "text/plain": [
       "31550"
      ]
     },
     "execution_count": 6,
     "metadata": {},
     "output_type": "execute_result"
    }
   ],
   "source": [
    "decoys = pd.DataFrame({'smiles':decoys[0], 'label': [0]*len(decoys[0])})\n",
    "decoys_size = decoys.shape[0]\n",
    "decoys_size"
   ]
  },
  {
   "cell_type": "code",
   "execution_count": 34,
   "id": "c37e820a-2a6e-48e2-a9e3-2a5407c68021",
   "metadata": {},
   "outputs": [
    {
     "data": {
      "image/png": "[encoded data removed]",
      "text/plain": [
       "<Figure size 432x288 with 1 Axes>"
      ]
     },
     "metadata": {},
     "output_type": "display_data"
    }
   ],
   "source": [
    "#define Seaborn color palette to use\n",
    "colors = sns.color_palette('pastel')[0:5]\n",
    "\n",
    "data = [active_size, inactive_size, decoys_size]\n",
    "labels = ['actives', 'incatives', 'decoys']\n",
    "#create pie chart\n",
    "plt.pie(data, labels=labels, colors = colors, autopct='%.0f%%', textprops={\"fontsize\":12})\n",
    "plt.show()\n",
    "# plt.savefig('./aaa.png')"
   ]
  },
  {
   "cell_type": "code",
   "execution_count": 41,
   "id": "93d66b53-c854-4d34-bf23-0fa72ef64278",
   "metadata": {},
   "outputs": [],
   "source": [
    "# Our way to deal with imbalance - Combine inactives and decoys\n",
    "\n",
    "size = active.shape[0] - inactive.shape[0]\n",
    "split_decoys = decoys[:size]"
   ]
  },
  {
   "cell_type": "code",
   "execution_count": null,
   "id": "30ff3e68-25e2-491c-a25c-4fc4f3a2bf47",
   "metadata": {},
   "outputs": [],
   "source": []
  },
  {
   "cell_type": "code",
   "execution_count": 8,
   "id": "4e4b2cf2-938e-402e-8766-f816205ffb32",
   "metadata": {},
   "outputs": [
    {
     "data": {
      "text/html": [
       "<div>\n",
       "<style scoped>\n",
       "    .dataframe tbody tr th:only-of-type {\n",
       "        vertical-align: middle;\n",
       "    }\n",
       "\n",
       "    .dataframe tbody tr th {\n",
       "        vertical-align: top;\n",
       "    }\n",
       "\n",
       "    .dataframe thead th {\n",
       "        text-align: right;\n",
       "    }\n",
       "</style>\n",
       "<table border=\"1\" class=\"dataframe\">\n",
       "  <thead>\n",
       "    <tr style=\"text-align: right;\">\n",
       "      <th></th>\n",
       "      <th>smiles</th>\n",
       "      <th>label</th>\n",
       "    </tr>\n",
       "  </thead>\n",
       "  <tbody>\n",
       "    <tr>\n",
       "      <th>0</th>\n",
       "      <td>c1cc2c(c(c1)Br)c(c[nH]2)CCOc3nc(c4c(n3)n(cn4)[...</td>\n",
       "      <td>1</td>\n",
       "    </tr>\n",
       "    <tr>\n",
       "      <th>1</th>\n",
       "      <td>c1cc2c(cc1Br)c(c[nH]2)CCOc3nc(c4c(n3)n(cn4)[C@...</td>\n",
       "      <td>1</td>\n",
       "    </tr>\n",
       "    <tr>\n",
       "      <th>2</th>\n",
       "      <td>c1cc2c(cc1Br)[nH]cc2CCOc3nc(c4c(n3)n(cn4)[C@H]...</td>\n",
       "      <td>1</td>\n",
       "    </tr>\n",
       "    <tr>\n",
       "      <th>3</th>\n",
       "      <td>c1cc2c(cc1CCNc3nc(c4c(n3)n(cn4)C5[C@@H]([C@@H]...</td>\n",
       "      <td>1</td>\n",
       "    </tr>\n",
       "    <tr>\n",
       "      <th>4</th>\n",
       "      <td>c1cc2c(cc1Cl)-c3c(c(nc(n3)N)c4ccc(o4)Br)C2</td>\n",
       "      <td>1</td>\n",
       "    </tr>\n",
       "    <tr>\n",
       "      <th>...</th>\n",
       "      <td>...</td>\n",
       "      <td>...</td>\n",
       "    </tr>\n",
       "    <tr>\n",
       "      <th>34787</th>\n",
       "      <td>Cc1ccc(cc1)NS(=O)(=O)c2cc(ccc2OC)C(=O)O[C@@H](...</td>\n",
       "      <td>0</td>\n",
       "    </tr>\n",
       "    <tr>\n",
       "      <th>34788</th>\n",
       "      <td>Cc1cc(nc(n1)N/C(=N\\C(=S)NC[C@H]2CCCO2)/N3CCN(C...</td>\n",
       "      <td>0</td>\n",
       "    </tr>\n",
       "    <tr>\n",
       "      <th>34789</th>\n",
       "      <td>C[C@H](C(=O)Nc1ccc(c(c1)[N+](=O)[O-])F)OC(=O)C...</td>\n",
       "      <td>0</td>\n",
       "    </tr>\n",
       "    <tr>\n",
       "      <th>34790</th>\n",
       "      <td>COC(=O)[C@@]1(C[C@@H]([C@@H]([C@@H](O1)COP(=O)...</td>\n",
       "      <td>0</td>\n",
       "    </tr>\n",
       "    <tr>\n",
       "      <th>34791</th>\n",
       "      <td>COC(=O)[C@@]1(C[C@H]([C@@H]([C@@H](O1)COP(=O)(...</td>\n",
       "      <td>0</td>\n",
       "    </tr>\n",
       "  </tbody>\n",
       "</table>\n",
       "<p>34792 rows × 2 columns</p>\n",
       "</div>"
      ],
      "text/plain": [
       "                                                  smiles  label\n",
       "0      c1cc2c(c(c1)Br)c(c[nH]2)CCOc3nc(c4c(n3)n(cn4)[...      1\n",
       "1      c1cc2c(cc1Br)c(c[nH]2)CCOc3nc(c4c(n3)n(cn4)[C@...      1\n",
       "2      c1cc2c(cc1Br)[nH]cc2CCOc3nc(c4c(n3)n(cn4)[C@H]...      1\n",
       "3      c1cc2c(cc1CCNc3nc(c4c(n3)n(cn4)C5[C@@H]([C@@H]...      1\n",
       "4             c1cc2c(cc1Cl)-c3c(c(nc(n3)N)c4ccc(o4)Br)C2      1\n",
       "...                                                  ...    ...\n",
       "34787  Cc1ccc(cc1)NS(=O)(=O)c2cc(ccc2OC)C(=O)O[C@@H](...      0\n",
       "34788  Cc1cc(nc(n1)N/C(=N\\C(=S)NC[C@H]2CCCO2)/N3CCN(C...      0\n",
       "34789  C[C@H](C(=O)Nc1ccc(c(c1)[N+](=O)[O-])F)OC(=O)C...      0\n",
       "34790  COC(=O)[C@@]1(C[C@@H]([C@@H]([C@@H](O1)COP(=O)...      0\n",
       "34791  COC(=O)[C@@]1(C[C@H]([C@@H]([C@@H](O1)COP(=O)(...      0\n",
       "\n",
       "[34792 rows x 2 columns]"
      ]
     },
     "execution_count": 8,
     "metadata": {},
     "output_type": "execute_result"
    }
   ],
   "source": [
    "data = pd.concat([active, inactive, decoys], ignore_index=True)\n",
    "data"
   ]
  },
  {
   "cell_type": "markdown",
   "id": "17f09121-895e-4a18-b4f1-2c058be144a9",
   "metadata": {},
   "source": [
    "### Feature generation - RDKit Library"
   ]
  },
  {
   "cell_type": "code",
   "execution_count": 9,
   "id": "0c21ef43-60ba-4fe5-98e7-d5243c03b433",
   "metadata": {},
   "outputs": [],
   "source": [
    "import rdkit\n",
    "from rdkit import Chem\n",
    "from rdkit.Chem import Descriptors\n",
    "from rdkit.Chem.Descriptors import CalcMolDescriptors\n",
    "from rdkit.ML.Descriptors.MoleculeDescriptors import MolecularDescriptorCalculator as MDC"
   ]
  },
  {
   "cell_type": "code",
   "execution_count": 10,
   "id": "d7332ce7-e28f-4ad5-9868-281889cd7f3e",
   "metadata": {},
   "outputs": [
    {
     "data": {
      "image/png": "[encoded data removed]",
      "text/plain": [
       "<rdkit.Chem.rdchem.Mol at 0x7fccc7045820>"
      ]
     },
     "execution_count": 10,
     "metadata": {},
     "output_type": "execute_result"
    }
   ],
   "source": [
    "mol = Chem.MolFromSmiles(data.smiles[4])\n",
    "mol"
   ]
  },
  {
   "cell_type": "code",
   "execution_count": 11,
   "id": "00f59ad9-7053-41c8-b0a9-e590b66ec4c1",
   "metadata": {},
   "outputs": [],
   "source": [
    "\n",
    "def RDkit_descriptors(data):\n",
    "    mols = [Chem.MolFromSmiles(i) for i in data.smiles]\n",
    "    desc_names = list(CalcMolDescriptors(mols[0]).keys())\n",
    "    desc_names.append(\"label\")\n",
    "    mol_descs = []\n",
    "    for i in tqdm(range(len(data))):\n",
    "        descriptors = CalcMolDescriptors(mols[i])\n",
    "        descriptors['label'] = data.label[i]\n",
    "        mol_descs.append(descriptors)\n",
    "    return mol_descs, desc_names"
   ]
  },
  {
   "cell_type": "code",
   "execution_count": 12,
   "id": "d73417f4-ff71-44a4-96ef-27d8715a66a0",
   "metadata": {},
   "outputs": [
    {
     "name": "stderr",
     "output_type": "stream",
     "text": [
      "100%|█████████████████████████████████████████████████████████████████████████████████████████████████████████████████████| 34792/34792 [12:13<00:00, 47.46it/s]\n"
     ]
    }
   ],
   "source": [
    "mol_descs,desc_names = RDkit_descriptors(data)"
   ]
  },
  {
   "cell_type": "code",
   "execution_count": 14,
   "id": "c8e988c9-7704-4978-8c11-43d4804f6527",
   "metadata": {},
   "outputs": [
    {
     "data": {
      "text/html": [
       "<div>\n",
       "<style scoped>\n",
       "    .dataframe tbody tr th:only-of-type {\n",
       "        vertical-align: middle;\n",
       "    }\n",
       "\n",
       "    .dataframe tbody tr th {\n",
       "        vertical-align: top;\n",
       "    }\n",
       "\n",
       "    .dataframe thead th {\n",
       "        text-align: right;\n",
       "    }\n",
       "</style>\n",
       "<table border=\"1\" class=\"dataframe\">\n",
       "  <thead>\n",
       "    <tr style=\"text-align: right;\">\n",
       "      <th></th>\n",
       "      <th>MaxAbsEStateIndex</th>\n",
       "      <th>MaxEStateIndex</th>\n",
       "      <th>MinAbsEStateIndex</th>\n",
       "      <th>MinEStateIndex</th>\n",
       "      <th>qed</th>\n",
       "      <th>SPS</th>\n",
       "      <th>MolWt</th>\n",
       "      <th>HeavyAtomMolWt</th>\n",
       "      <th>ExactMolWt</th>\n",
       "      <th>NumValenceElectrons</th>\n",
       "      <th>...</th>\n",
       "      <th>fr_sulfonamd</th>\n",
       "      <th>fr_sulfone</th>\n",
       "      <th>fr_term_acetylene</th>\n",
       "      <th>fr_tetrazole</th>\n",
       "      <th>fr_thiazole</th>\n",
       "      <th>fr_thiocyan</th>\n",
       "      <th>fr_thiophene</th>\n",
       "      <th>fr_unbrch_alkane</th>\n",
       "      <th>fr_urea</th>\n",
       "      <th>label</th>\n",
       "    </tr>\n",
       "  </thead>\n",
       "  <tbody>\n",
       "    <tr>\n",
       "      <th>0</th>\n",
       "      <td>10.337455</td>\n",
       "      <td>10.337455</td>\n",
       "      <td>0.057778</td>\n",
       "      <td>-1.272753</td>\n",
       "      <td>0.255933</td>\n",
       "      <td>23.375000</td>\n",
       "      <td>505.329</td>\n",
       "      <td>484.161</td>\n",
       "      <td>504.075680</td>\n",
       "      <td>168</td>\n",
       "      <td>...</td>\n",
       "      <td>0</td>\n",
       "      <td>0</td>\n",
       "      <td>0</td>\n",
       "      <td>0</td>\n",
       "      <td>0</td>\n",
       "      <td>0</td>\n",
       "      <td>0</td>\n",
       "      <td>0</td>\n",
       "      <td>0</td>\n",
       "      <td>1</td>\n",
       "    </tr>\n",
       "    <tr>\n",
       "      <th>1</th>\n",
       "      <td>10.335047</td>\n",
       "      <td>10.335047</td>\n",
       "      <td>0.059736</td>\n",
       "      <td>-1.271941</td>\n",
       "      <td>0.255933</td>\n",
       "      <td>23.375000</td>\n",
       "      <td>505.329</td>\n",
       "      <td>484.161</td>\n",
       "      <td>504.075680</td>\n",
       "      <td>168</td>\n",
       "      <td>...</td>\n",
       "      <td>0</td>\n",
       "      <td>0</td>\n",
       "      <td>0</td>\n",
       "      <td>0</td>\n",
       "      <td>0</td>\n",
       "      <td>0</td>\n",
       "      <td>0</td>\n",
       "      <td>0</td>\n",
       "      <td>0</td>\n",
       "      <td>1</td>\n",
       "    </tr>\n",
       "    <tr>\n",
       "      <th>2</th>\n",
       "      <td>10.333078</td>\n",
       "      <td>10.333078</td>\n",
       "      <td>0.061184</td>\n",
       "      <td>-1.271281</td>\n",
       "      <td>0.255933</td>\n",
       "      <td>23.375000</td>\n",
       "      <td>505.329</td>\n",
       "      <td>484.161</td>\n",
       "      <td>504.075680</td>\n",
       "      <td>168</td>\n",
       "      <td>...</td>\n",
       "      <td>0</td>\n",
       "      <td>0</td>\n",
       "      <td>0</td>\n",
       "      <td>0</td>\n",
       "      <td>0</td>\n",
       "      <td>0</td>\n",
       "      <td>0</td>\n",
       "      <td>0</td>\n",
       "      <td>0</td>\n",
       "      <td>1</td>\n",
       "    </tr>\n",
       "    <tr>\n",
       "      <th>3</th>\n",
       "      <td>10.355554</td>\n",
       "      <td>10.355554</td>\n",
       "      <td>0.205346</td>\n",
       "      <td>-1.235039</td>\n",
       "      <td>0.369988</td>\n",
       "      <td>25.218750</td>\n",
       "      <td>440.504</td>\n",
       "      <td>412.280</td>\n",
       "      <td>440.217203</td>\n",
       "      <td>170</td>\n",
       "      <td>...</td>\n",
       "      <td>0</td>\n",
       "      <td>0</td>\n",
       "      <td>0</td>\n",
       "      <td>0</td>\n",
       "      <td>0</td>\n",
       "      <td>0</td>\n",
       "      <td>0</td>\n",
       "      <td>0</td>\n",
       "      <td>0</td>\n",
       "      <td>1</td>\n",
       "    </tr>\n",
       "    <tr>\n",
       "      <th>4</th>\n",
       "      <td>6.090409</td>\n",
       "      <td>6.090409</td>\n",
       "      <td>0.226017</td>\n",
       "      <td>0.226017</td>\n",
       "      <td>0.547921</td>\n",
       "      <td>12.285714</td>\n",
       "      <td>362.614</td>\n",
       "      <td>353.542</td>\n",
       "      <td>360.961752</td>\n",
       "      <td>104</td>\n",
       "      <td>...</td>\n",
       "      <td>0</td>\n",
       "      <td>0</td>\n",
       "      <td>0</td>\n",
       "      <td>0</td>\n",
       "      <td>0</td>\n",
       "      <td>0</td>\n",
       "      <td>0</td>\n",
       "      <td>0</td>\n",
       "      <td>0</td>\n",
       "      <td>1</td>\n",
       "    </tr>\n",
       "    <tr>\n",
       "      <th>...</th>\n",
       "      <td>...</td>\n",
       "      <td>...</td>\n",
       "      <td>...</td>\n",
       "      <td>...</td>\n",
       "      <td>...</td>\n",
       "      <td>...</td>\n",
       "      <td>...</td>\n",
       "      <td>...</td>\n",
       "      <td>...</td>\n",
       "      <td>...</td>\n",
       "      <td>...</td>\n",
       "      <td>...</td>\n",
       "      <td>...</td>\n",
       "      <td>...</td>\n",
       "      <td>...</td>\n",
       "      <td>...</td>\n",
       "      <td>...</td>\n",
       "      <td>...</td>\n",
       "      <td>...</td>\n",
       "      <td>...</td>\n",
       "      <td>...</td>\n",
       "    </tr>\n",
       "    <tr>\n",
       "      <th>34787</th>\n",
       "      <td>12.933117</td>\n",
       "      <td>12.933117</td>\n",
       "      <td>0.026874</td>\n",
       "      <td>-4.100987</td>\n",
       "      <td>0.602223</td>\n",
       "      <td>14.468750</td>\n",
       "      <td>461.496</td>\n",
       "      <td>438.312</td>\n",
       "      <td>461.125671</td>\n",
       "      <td>170</td>\n",
       "      <td>...</td>\n",
       "      <td>1</td>\n",
       "      <td>0</td>\n",
       "      <td>0</td>\n",
       "      <td>0</td>\n",
       "      <td>0</td>\n",
       "      <td>0</td>\n",
       "      <td>0</td>\n",
       "      <td>0</td>\n",
       "      <td>1</td>\n",
       "      <td>0</td>\n",
       "    </tr>\n",
       "    <tr>\n",
       "      <th>34788</th>\n",
       "      <td>5.666491</td>\n",
       "      <td>5.666491</td>\n",
       "      <td>0.191419</td>\n",
       "      <td>0.191419</td>\n",
       "      <td>0.400631</td>\n",
       "      <td>19.187500</td>\n",
       "      <td>455.592</td>\n",
       "      <td>426.360</td>\n",
       "      <td>455.221578</td>\n",
       "      <td>170</td>\n",
       "      <td>...</td>\n",
       "      <td>0</td>\n",
       "      <td>0</td>\n",
       "      <td>0</td>\n",
       "      <td>0</td>\n",
       "      <td>0</td>\n",
       "      <td>0</td>\n",
       "      <td>0</td>\n",
       "      <td>0</td>\n",
       "      <td>0</td>\n",
       "      <td>0</td>\n",
       "    </tr>\n",
       "    <tr>\n",
       "      <th>34789</th>\n",
       "      <td>13.336315</td>\n",
       "      <td>13.336315</td>\n",
       "      <td>0.076157</td>\n",
       "      <td>-3.927724</td>\n",
       "      <td>0.337664</td>\n",
       "      <td>12.322581</td>\n",
       "      <td>451.432</td>\n",
       "      <td>433.288</td>\n",
       "      <td>451.084949</td>\n",
       "      <td>164</td>\n",
       "      <td>...</td>\n",
       "      <td>1</td>\n",
       "      <td>0</td>\n",
       "      <td>0</td>\n",
       "      <td>0</td>\n",
       "      <td>0</td>\n",
       "      <td>0</td>\n",
       "      <td>0</td>\n",
       "      <td>0</td>\n",
       "      <td>0</td>\n",
       "      <td>0</td>\n",
       "    </tr>\n",
       "    <tr>\n",
       "      <th>34790</th>\n",
       "      <td>13.414551</td>\n",
       "      <td>13.414551</td>\n",
       "      <td>0.220101</td>\n",
       "      <td>-4.286701</td>\n",
       "      <td>0.417596</td>\n",
       "      <td>25.687500</td>\n",
       "      <td>468.395</td>\n",
       "      <td>443.195</td>\n",
       "      <td>468.118534</td>\n",
       "      <td>174</td>\n",
       "      <td>...</td>\n",
       "      <td>0</td>\n",
       "      <td>0</td>\n",
       "      <td>0</td>\n",
       "      <td>0</td>\n",
       "      <td>0</td>\n",
       "      <td>0</td>\n",
       "      <td>0</td>\n",
       "      <td>0</td>\n",
       "      <td>0</td>\n",
       "      <td>0</td>\n",
       "    </tr>\n",
       "    <tr>\n",
       "      <th>34791</th>\n",
       "      <td>13.414551</td>\n",
       "      <td>13.414551</td>\n",
       "      <td>0.220101</td>\n",
       "      <td>-4.286701</td>\n",
       "      <td>0.417596</td>\n",
       "      <td>25.687500</td>\n",
       "      <td>468.395</td>\n",
       "      <td>443.195</td>\n",
       "      <td>468.118534</td>\n",
       "      <td>174</td>\n",
       "      <td>...</td>\n",
       "      <td>0</td>\n",
       "      <td>0</td>\n",
       "      <td>0</td>\n",
       "      <td>0</td>\n",
       "      <td>0</td>\n",
       "      <td>0</td>\n",
       "      <td>0</td>\n",
       "      <td>0</td>\n",
       "      <td>0</td>\n",
       "      <td>0</td>\n",
       "    </tr>\n",
       "  </tbody>\n",
       "</table>\n",
       "<p>34792 rows × 211 columns</p>\n",
       "</div>"
      ],
      "text/plain": [
       "       MaxAbsEStateIndex  MaxEStateIndex  MinAbsEStateIndex  MinEStateIndex  \\\n",
       "0              10.337455       10.337455           0.057778       -1.272753   \n",
       "1              10.335047       10.335047           0.059736       -1.271941   \n",
       "2              10.333078       10.333078           0.061184       -1.271281   \n",
       "3              10.355554       10.355554           0.205346       -1.235039   \n",
       "4               6.090409        6.090409           0.226017        0.226017   \n",
       "...                  ...             ...                ...             ...   \n",
       "34787          12.933117       12.933117           0.026874       -4.100987   \n",
       "34788           5.666491        5.666491           0.191419        0.191419   \n",
       "34789          13.336315       13.336315           0.076157       -3.927724   \n",
       "34790          13.414551       13.414551           0.220101       -4.286701   \n",
       "34791          13.414551       13.414551           0.220101       -4.286701   \n",
       "\n",
       "            qed        SPS    MolWt  HeavyAtomMolWt  ExactMolWt  \\\n",
       "0      0.255933  23.375000  505.329         484.161  504.075680   \n",
       "1      0.255933  23.375000  505.329         484.161  504.075680   \n",
       "2      0.255933  23.375000  505.329         484.161  504.075680   \n",
       "3      0.369988  25.218750  440.504         412.280  440.217203   \n",
       "4      0.547921  12.285714  362.614         353.542  360.961752   \n",
       "...         ...        ...      ...             ...         ...   \n",
       "34787  0.602223  14.468750  461.496         438.312  461.125671   \n",
       "34788  0.400631  19.187500  455.592         426.360  455.221578   \n",
       "34789  0.337664  12.322581  451.432         433.288  451.084949   \n",
       "34790  0.417596  25.687500  468.395         443.195  468.118534   \n",
       "34791  0.417596  25.687500  468.395         443.195  468.118534   \n",
       "\n",
       "       NumValenceElectrons  ...  fr_sulfonamd  fr_sulfone  fr_term_acetylene  \\\n",
       "0                      168  ...             0           0                  0   \n",
       "1                      168  ...             0           0                  0   \n",
       "2                      168  ...             0           0                  0   \n",
       "3                      170  ...             0           0                  0   \n",
       "4                      104  ...             0           0                  0   \n",
       "...                    ...  ...           ...         ...                ...   \n",
       "34787                  170  ...             1           0                  0   \n",
       "34788                  170  ...             0           0                  0   \n",
       "34789                  164  ...             1           0                  0   \n",
       "34790                  174  ...             0           0                  0   \n",
       "34791                  174  ...             0           0                  0   \n",
       "\n",
       "       fr_tetrazole  fr_thiazole  fr_thiocyan  fr_thiophene  fr_unbrch_alkane  \\\n",
       "0                 0            0            0             0                 0   \n",
       "1                 0            0            0             0                 0   \n",
       "2                 0            0            0             0                 0   \n",
       "3                 0            0            0             0                 0   \n",
       "4                 0            0            0             0                 0   \n",
       "...             ...          ...          ...           ...               ...   \n",
       "34787             0            0            0             0                 0   \n",
       "34788             0            0            0             0                 0   \n",
       "34789             0            0            0             0                 0   \n",
       "34790             0            0            0             0                 0   \n",
       "34791             0            0            0             0                 0   \n",
       "\n",
       "       fr_urea  label  \n",
       "0            0      1  \n",
       "1            0      1  \n",
       "2            0      1  \n",
       "3            0      1  \n",
       "4            0      1  \n",
       "...        ...    ...  \n",
       "34787        1      0  \n",
       "34788        0      0  \n",
       "34789        0      0  \n",
       "34790        0      0  \n",
       "34791        0      0  \n",
       "\n",
       "[34792 rows x 211 columns]"
      ]
     },
     "execution_count": 14,
     "metadata": {},
     "output_type": "execute_result"
    }
   ],
   "source": [
    "new_df = pd.DataFrame(mol_descs,columns=desc_names)\n",
    "new_df"
   ]
  },
  {
   "cell_type": "code",
   "execution_count": 15,
   "id": "125ce9e6-7a46-4ba3-9092-bc4492763462",
   "metadata": {},
   "outputs": [],
   "source": [
    "new_df.to_csv('all_desc.csv',index=False)"
   ]
  },
  {
   "cell_type": "code",
   "execution_count": 116,
   "id": "a33bbb15-ca5c-4909-ba6f-f0b358ece5c8",
   "metadata": {},
   "outputs": [],
   "source": [
    "## Can start from here\n",
    "new_df = pd.read_csv('desc.csv')"
   ]
  },
  {
   "cell_type": "code",
   "execution_count": 117,
   "id": "345b4202-dd80-4ed3-82ca-cfb803ec084d",
   "metadata": {},
   "outputs": [
    {
     "data": {
      "text/html": [
       "<div>\n",
       "<style scoped>\n",
       "    .dataframe tbody tr th:only-of-type {\n",
       "        vertical-align: middle;\n",
       "    }\n",
       "\n",
       "    .dataframe tbody tr th {\n",
       "        vertical-align: top;\n",
       "    }\n",
       "\n",
       "    .dataframe thead th {\n",
       "        text-align: right;\n",
       "    }\n",
       "</style>\n",
       "<table border=\"1\" class=\"dataframe\">\n",
       "  <thead>\n",
       "    <tr style=\"text-align: right;\">\n",
       "      <th></th>\n",
       "      <th>MaxAbsEStateIndex</th>\n",
       "      <th>MaxEStateIndex</th>\n",
       "      <th>MinAbsEStateIndex</th>\n",
       "      <th>MinEStateIndex</th>\n",
       "      <th>qed</th>\n",
       "      <th>SPS</th>\n",
       "      <th>MolWt</th>\n",
       "      <th>HeavyAtomMolWt</th>\n",
       "      <th>ExactMolWt</th>\n",
       "      <th>NumValenceElectrons</th>\n",
       "      <th>...</th>\n",
       "      <th>fr_sulfide</th>\n",
       "      <th>fr_sulfonamd</th>\n",
       "      <th>fr_sulfone</th>\n",
       "      <th>fr_term_acetylene</th>\n",
       "      <th>fr_tetrazole</th>\n",
       "      <th>fr_thiazole</th>\n",
       "      <th>fr_thiocyan</th>\n",
       "      <th>fr_thiophene</th>\n",
       "      <th>fr_unbrch_alkane</th>\n",
       "      <th>fr_urea</th>\n",
       "    </tr>\n",
       "  </thead>\n",
       "  <tbody>\n",
       "    <tr>\n",
       "      <th>0</th>\n",
       "      <td>10.337455</td>\n",
       "      <td>10.337455</td>\n",
       "      <td>0.057778</td>\n",
       "      <td>-1.272753</td>\n",
       "      <td>0.255933</td>\n",
       "      <td>23.375000</td>\n",
       "      <td>505.329</td>\n",
       "      <td>484.161</td>\n",
       "      <td>504.075680</td>\n",
       "      <td>168</td>\n",
       "      <td>...</td>\n",
       "      <td>0</td>\n",
       "      <td>0</td>\n",
       "      <td>0</td>\n",
       "      <td>0</td>\n",
       "      <td>0</td>\n",
       "      <td>0</td>\n",
       "      <td>0</td>\n",
       "      <td>0</td>\n",
       "      <td>0</td>\n",
       "      <td>0</td>\n",
       "    </tr>\n",
       "    <tr>\n",
       "      <th>1</th>\n",
       "      <td>10.335047</td>\n",
       "      <td>10.335047</td>\n",
       "      <td>0.059736</td>\n",
       "      <td>-1.271941</td>\n",
       "      <td>0.255933</td>\n",
       "      <td>23.375000</td>\n",
       "      <td>505.329</td>\n",
       "      <td>484.161</td>\n",
       "      <td>504.075680</td>\n",
       "      <td>168</td>\n",
       "      <td>...</td>\n",
       "      <td>0</td>\n",
       "      <td>0</td>\n",
       "      <td>0</td>\n",
       "      <td>0</td>\n",
       "      <td>0</td>\n",
       "      <td>0</td>\n",
       "      <td>0</td>\n",
       "      <td>0</td>\n",
       "      <td>0</td>\n",
       "      <td>0</td>\n",
       "    </tr>\n",
       "    <tr>\n",
       "      <th>2</th>\n",
       "      <td>10.333078</td>\n",
       "      <td>10.333078</td>\n",
       "      <td>0.061184</td>\n",
       "      <td>-1.271281</td>\n",
       "      <td>0.255933</td>\n",
       "      <td>23.375000</td>\n",
       "      <td>505.329</td>\n",
       "      <td>484.161</td>\n",
       "      <td>504.075680</td>\n",
       "      <td>168</td>\n",
       "      <td>...</td>\n",
       "      <td>0</td>\n",
       "      <td>0</td>\n",
       "      <td>0</td>\n",
       "      <td>0</td>\n",
       "      <td>0</td>\n",
       "      <td>0</td>\n",
       "      <td>0</td>\n",
       "      <td>0</td>\n",
       "      <td>0</td>\n",
       "      <td>0</td>\n",
       "    </tr>\n",
       "    <tr>\n",
       "      <th>3</th>\n",
       "      <td>10.355554</td>\n",
       "      <td>10.355554</td>\n",
       "      <td>0.205346</td>\n",
       "      <td>-1.235039</td>\n",
       "      <td>0.369988</td>\n",
       "      <td>25.218750</td>\n",
       "      <td>440.504</td>\n",
       "      <td>412.280</td>\n",
       "      <td>440.217203</td>\n",
       "      <td>170</td>\n",
       "      <td>...</td>\n",
       "      <td>0</td>\n",
       "      <td>0</td>\n",
       "      <td>0</td>\n",
       "      <td>0</td>\n",
       "      <td>0</td>\n",
       "      <td>0</td>\n",
       "      <td>0</td>\n",
       "      <td>0</td>\n",
       "      <td>0</td>\n",
       "      <td>0</td>\n",
       "    </tr>\n",
       "    <tr>\n",
       "      <th>4</th>\n",
       "      <td>6.090409</td>\n",
       "      <td>6.090409</td>\n",
       "      <td>0.226017</td>\n",
       "      <td>0.226017</td>\n",
       "      <td>0.547921</td>\n",
       "      <td>12.285714</td>\n",
       "      <td>362.614</td>\n",
       "      <td>353.542</td>\n",
       "      <td>360.961752</td>\n",
       "      <td>104</td>\n",
       "      <td>...</td>\n",
       "      <td>0</td>\n",
       "      <td>0</td>\n",
       "      <td>0</td>\n",
       "      <td>0</td>\n",
       "      <td>0</td>\n",
       "      <td>0</td>\n",
       "      <td>0</td>\n",
       "      <td>0</td>\n",
       "      <td>0</td>\n",
       "      <td>0</td>\n",
       "    </tr>\n",
       "    <tr>\n",
       "      <th>...</th>\n",
       "      <td>...</td>\n",
       "      <td>...</td>\n",
       "      <td>...</td>\n",
       "      <td>...</td>\n",
       "      <td>...</td>\n",
       "      <td>...</td>\n",
       "      <td>...</td>\n",
       "      <td>...</td>\n",
       "      <td>...</td>\n",
       "      <td>...</td>\n",
       "      <td>...</td>\n",
       "      <td>...</td>\n",
       "      <td>...</td>\n",
       "      <td>...</td>\n",
       "      <td>...</td>\n",
       "      <td>...</td>\n",
       "      <td>...</td>\n",
       "      <td>...</td>\n",
       "      <td>...</td>\n",
       "      <td>...</td>\n",
       "      <td>...</td>\n",
       "    </tr>\n",
       "    <tr>\n",
       "      <th>6095</th>\n",
       "      <td>12.319151</td>\n",
       "      <td>12.319151</td>\n",
       "      <td>0.017230</td>\n",
       "      <td>-3.862462</td>\n",
       "      <td>0.430330</td>\n",
       "      <td>16.000000</td>\n",
       "      <td>404.404</td>\n",
       "      <td>388.276</td>\n",
       "      <td>404.079055</td>\n",
       "      <td>146</td>\n",
       "      <td>...</td>\n",
       "      <td>0</td>\n",
       "      <td>1</td>\n",
       "      <td>0</td>\n",
       "      <td>0</td>\n",
       "      <td>0</td>\n",
       "      <td>0</td>\n",
       "      <td>0</td>\n",
       "      <td>0</td>\n",
       "      <td>0</td>\n",
       "      <td>0</td>\n",
       "    </tr>\n",
       "    <tr>\n",
       "      <th>6096</th>\n",
       "      <td>13.479540</td>\n",
       "      <td>13.479540</td>\n",
       "      <td>0.089593</td>\n",
       "      <td>-3.870532</td>\n",
       "      <td>0.661537</td>\n",
       "      <td>30.133333</td>\n",
       "      <td>433.490</td>\n",
       "      <td>410.306</td>\n",
       "      <td>433.141990</td>\n",
       "      <td>160</td>\n",
       "      <td>...</td>\n",
       "      <td>0</td>\n",
       "      <td>0</td>\n",
       "      <td>0</td>\n",
       "      <td>0</td>\n",
       "      <td>0</td>\n",
       "      <td>0</td>\n",
       "      <td>0</td>\n",
       "      <td>0</td>\n",
       "      <td>0</td>\n",
       "      <td>1</td>\n",
       "    </tr>\n",
       "    <tr>\n",
       "      <th>6097</th>\n",
       "      <td>13.479540</td>\n",
       "      <td>13.479540</td>\n",
       "      <td>0.089593</td>\n",
       "      <td>-3.870532</td>\n",
       "      <td>0.661537</td>\n",
       "      <td>30.133333</td>\n",
       "      <td>433.490</td>\n",
       "      <td>410.306</td>\n",
       "      <td>433.141990</td>\n",
       "      <td>160</td>\n",
       "      <td>...</td>\n",
       "      <td>0</td>\n",
       "      <td>0</td>\n",
       "      <td>0</td>\n",
       "      <td>0</td>\n",
       "      <td>0</td>\n",
       "      <td>0</td>\n",
       "      <td>0</td>\n",
       "      <td>0</td>\n",
       "      <td>0</td>\n",
       "      <td>1</td>\n",
       "    </tr>\n",
       "    <tr>\n",
       "      <th>6098</th>\n",
       "      <td>11.109896</td>\n",
       "      <td>11.109896</td>\n",
       "      <td>0.052139</td>\n",
       "      <td>-1.484804</td>\n",
       "      <td>0.591959</td>\n",
       "      <td>33.259259</td>\n",
       "      <td>379.321</td>\n",
       "      <td>362.185</td>\n",
       "      <td>379.090331</td>\n",
       "      <td>144</td>\n",
       "      <td>...</td>\n",
       "      <td>0</td>\n",
       "      <td>0</td>\n",
       "      <td>0</td>\n",
       "      <td>0</td>\n",
       "      <td>0</td>\n",
       "      <td>0</td>\n",
       "      <td>0</td>\n",
       "      <td>0</td>\n",
       "      <td>0</td>\n",
       "      <td>0</td>\n",
       "    </tr>\n",
       "    <tr>\n",
       "      <th>6099</th>\n",
       "      <td>11.109896</td>\n",
       "      <td>11.109896</td>\n",
       "      <td>0.052139</td>\n",
       "      <td>-1.484804</td>\n",
       "      <td>0.591959</td>\n",
       "      <td>33.259259</td>\n",
       "      <td>379.321</td>\n",
       "      <td>362.185</td>\n",
       "      <td>379.090331</td>\n",
       "      <td>144</td>\n",
       "      <td>...</td>\n",
       "      <td>0</td>\n",
       "      <td>0</td>\n",
       "      <td>0</td>\n",
       "      <td>0</td>\n",
       "      <td>0</td>\n",
       "      <td>0</td>\n",
       "      <td>0</td>\n",
       "      <td>0</td>\n",
       "      <td>0</td>\n",
       "      <td>0</td>\n",
       "    </tr>\n",
       "  </tbody>\n",
       "</table>\n",
       "<p>6100 rows × 210 columns</p>\n",
       "</div>"
      ],
      "text/plain": [
       "      MaxAbsEStateIndex  MaxEStateIndex  MinAbsEStateIndex  MinEStateIndex  \\\n",
       "0             10.337455       10.337455           0.057778       -1.272753   \n",
       "1             10.335047       10.335047           0.059736       -1.271941   \n",
       "2             10.333078       10.333078           0.061184       -1.271281   \n",
       "3             10.355554       10.355554           0.205346       -1.235039   \n",
       "4              6.090409        6.090409           0.226017        0.226017   \n",
       "...                 ...             ...                ...             ...   \n",
       "6095          12.319151       12.319151           0.017230       -3.862462   \n",
       "6096          13.479540       13.479540           0.089593       -3.870532   \n",
       "6097          13.479540       13.479540           0.089593       -3.870532   \n",
       "6098          11.109896       11.109896           0.052139       -1.484804   \n",
       "6099          11.109896       11.109896           0.052139       -1.484804   \n",
       "\n",
       "           qed        SPS    MolWt  HeavyAtomMolWt  ExactMolWt  \\\n",
       "0     0.255933  23.375000  505.329         484.161  504.075680   \n",
       "1     0.255933  23.375000  505.329         484.161  504.075680   \n",
       "2     0.255933  23.375000  505.329         484.161  504.075680   \n",
       "3     0.369988  25.218750  440.504         412.280  440.217203   \n",
       "4     0.547921  12.285714  362.614         353.542  360.961752   \n",
       "...        ...        ...      ...             ...         ...   \n",
       "6095  0.430330  16.000000  404.404         388.276  404.079055   \n",
       "6096  0.661537  30.133333  433.490         410.306  433.141990   \n",
       "6097  0.661537  30.133333  433.490         410.306  433.141990   \n",
       "6098  0.591959  33.259259  379.321         362.185  379.090331   \n",
       "6099  0.591959  33.259259  379.321         362.185  379.090331   \n",
       "\n",
       "      NumValenceElectrons  ...  fr_sulfide  fr_sulfonamd  fr_sulfone  \\\n",
       "0                     168  ...           0             0           0   \n",
       "1                     168  ...           0             0           0   \n",
       "2                     168  ...           0             0           0   \n",
       "3                     170  ...           0             0           0   \n",
       "4                     104  ...           0             0           0   \n",
       "...                   ...  ...         ...           ...         ...   \n",
       "6095                  146  ...           0             1           0   \n",
       "6096                  160  ...           0             0           0   \n",
       "6097                  160  ...           0             0           0   \n",
       "6098                  144  ...           0             0           0   \n",
       "6099                  144  ...           0             0           0   \n",
       "\n",
       "      fr_term_acetylene  fr_tetrazole  fr_thiazole  fr_thiocyan  fr_thiophene  \\\n",
       "0                     0             0            0            0             0   \n",
       "1                     0             0            0            0             0   \n",
       "2                     0             0            0            0             0   \n",
       "3                     0             0            0            0             0   \n",
       "4                     0             0            0            0             0   \n",
       "...                 ...           ...          ...          ...           ...   \n",
       "6095                  0             0            0            0             0   \n",
       "6096                  0             0            0            0             0   \n",
       "6097                  0             0            0            0             0   \n",
       "6098                  0             0            0            0             0   \n",
       "6099                  0             0            0            0             0   \n",
       "\n",
       "      fr_unbrch_alkane  fr_urea  \n",
       "0                    0        0  \n",
       "1                    0        0  \n",
       "2                    0        0  \n",
       "3                    0        0  \n",
       "4                    0        0  \n",
       "...                ...      ...  \n",
       "6095                 0        0  \n",
       "6096                 0        1  \n",
       "6097                 0        1  \n",
       "6098                 0        0  \n",
       "6099                 0        0  \n",
       "\n",
       "[6100 rows x 210 columns]"
      ]
     },
     "execution_count": 117,
     "metadata": {},
     "output_type": "execute_result"
    }
   ],
   "source": [
    "X = new_df.iloc[:,:-1]\n",
    "y = data.label\n",
    "X"
   ]
  },
  {
   "cell_type": "code",
   "execution_count": 118,
   "id": "22c8a2b9-32fe-4b2e-989e-b594f80ecbc8",
   "metadata": {},
   "outputs": [
    {
     "data": {
      "text/plain": [
       "(6100, 210)"
      ]
     },
     "execution_count": 118,
     "metadata": {},
     "output_type": "execute_result"
    }
   ],
   "source": [
    "X.shape"
   ]
  },
  {
   "cell_type": "markdown",
   "id": "901ad84d-0fb7-4b1e-bd95-f458d66c47cc",
   "metadata": {},
   "source": [
    "### Filtering - deleting invariant data"
   ]
  },
  {
   "cell_type": "code",
   "execution_count": 119,
   "id": "d1985fc8-a053-4dee-bdcd-18453b9273a7",
   "metadata": {},
   "outputs": [],
   "source": [
    "del_col = []\n",
    "for col in X.columns:\n",
    "    if len(X[col].unique()) == 1:\n",
    "        X.drop(col, inplace=True, axis=1)\n",
    "        del_col.append(col)"
   ]
  },
  {
   "cell_type": "code",
   "execution_count": 120,
   "id": "0dd79476-656c-418b-bb99-65e1eb650a55",
   "metadata": {},
   "outputs": [
    {
     "data": {
      "text/plain": [
       "(6100, 198)"
      ]
     },
     "execution_count": 120,
     "metadata": {},
     "output_type": "execute_result"
    }
   ],
   "source": [
    "X.shape"
   ]
  },
  {
   "cell_type": "code",
   "execution_count": 49,
   "id": "89777ed6-d6a8-4056-8aa5-17461279b58a",
   "metadata": {},
   "outputs": [
    {
     "data": {
      "text/plain": [
       "['NumRadicalElectrons',\n",
       " 'SMR_VSA8',\n",
       " 'SlogP_VSA9',\n",
       " 'fr_benzodiazepine',\n",
       " 'fr_diazo',\n",
       " 'fr_isocyan',\n",
       " 'fr_isothiocyan',\n",
       " 'fr_lactam',\n",
       " 'fr_phos_acid',\n",
       " 'fr_phos_ester',\n",
       " 'fr_prisulfonamd',\n",
       " 'fr_thiocyan']"
      ]
     },
     "execution_count": 49,
     "metadata": {},
     "output_type": "execute_result"
    }
   ],
   "source": [
    "del_col"
   ]
  },
  {
   "cell_type": "markdown",
   "id": "db3a3b5f-4ee6-4d2e-8dda-cf9b01ada77d",
   "metadata": {},
   "source": [
    "### Deleting correlated data"
   ]
  },
  {
   "cell_type": "code",
   "execution_count": 50,
   "id": "d2ae9fdf-f85d-477d-885d-1fa3d13656c0",
   "metadata": {},
   "outputs": [],
   "source": [
    "corr_matrix = X.corr().abs()\n",
    "\n",
    "# Select upper triangle of correlation matrix\n",
    "upper = corr_matrix.where(np.triu(np.ones(corr_matrix.shape), k=1).astype(bool))\n",
    "\n",
    "# Find features with correlation greater than 0.95\n",
    "\n",
    "to_drop = [column for column in upper.columns if any(upper[column] > 0.95)]\n",
    "\n",
    "# to_drop = []   # If you want to know what features have been removed\n",
    "# for column in upper.columns:\n",
    "#     if any(upper[column] > 0.95):\n",
    "#         to_drop.append(column)\n",
    "#         print(column)\n",
    "\n",
    "# Drop features \n",
    "X.drop(to_drop, axis=1, inplace=True)"
   ]
  },
  {
   "cell_type": "code",
   "execution_count": 85,
   "id": "8451e1bd-932d-463e-8e4d-e30d44d88f3b",
   "metadata": {},
   "outputs": [],
   "source": [
    "left_columns = X.columns"
   ]
  },
  {
   "cell_type": "code",
   "execution_count": 86,
   "id": "b5e7b2c6-bd8e-4586-824a-2b697b86d58b",
   "metadata": {},
   "outputs": [],
   "source": [
    "# Scaling\n",
    "from sklearn.preprocessing import StandardScaler"
   ]
  },
  {
   "cell_type": "code",
   "execution_count": 87,
   "id": "86043860-ac74-451c-9cb6-91329c18b70d",
   "metadata": {},
   "outputs": [],
   "source": [
    "scaler = StandardScaler()\n",
    "X = scaler.fit_transform(X)"
   ]
  },
  {
   "cell_type": "markdown",
   "id": "da425111-d4a4-486b-b46f-20509235c0fa",
   "metadata": {},
   "source": [
    "### Data split"
   ]
  },
  {
   "cell_type": "code",
   "execution_count": 88,
   "id": "dba1f63e-701f-48ba-8714-b0df6fe0b05d",
   "metadata": {},
   "outputs": [],
   "source": [
    "from sklearn.model_selection import train_test_split"
   ]
  },
  {
   "cell_type": "code",
   "execution_count": 89,
   "id": "a85aea29-89b7-4cbf-bb41-ee6eb5de2f95",
   "metadata": {},
   "outputs": [
    {
     "data": {
      "text/plain": [
       "1    327\n",
       "0    283\n",
       "Name: label, dtype: int64"
      ]
     },
     "execution_count": 89,
     "metadata": {},
     "output_type": "execute_result"
    }
   ],
   "source": [
    "X_train, X_test, y_train, y_test = train_test_split(X, y, test_size=0.1, random_state=42)\n",
    "y_test.value_counts()"
   ]
  },
  {
   "cell_type": "markdown",
   "id": "3e0e3d61-67f9-4c34-88a9-d276b148989a",
   "metadata": {},
   "source": [
    "### SVC"
   ]
  },
  {
   "cell_type": "code",
   "execution_count": 64,
   "id": "12a8418b-6a54-4cb3-bba7-5a1446620654",
   "metadata": {},
   "outputs": [],
   "source": [
    "from numpy import mean\n",
    "from sklearn import svm\n",
    "from sklearn.model_selection import RepeatedStratifiedKFold, cross_val_score, StratifiedKFold\n",
    "from sklearn.metrics import accuracy_score, confusion_matrix, ConfusionMatrixDisplay,f1_score, roc_auc_score, make_scorer\n",
    "from sklearn.model_selection import GridSearchCV, RandomizedSearchCV\n",
    "from sklearn.inspection import permutation_importance"
   ]
  },
  {
   "cell_type": "code",
   "execution_count": null,
   "id": "aaac4a84-fd8d-4066-ad28-87802b929b65",
   "metadata": {},
   "outputs": [],
   "source": []
  },
  {
   "cell_type": "code",
   "execution_count": 68,
   "id": "3d78bc8f-fdb8-4466-8ddf-7ea0583854e1",
   "metadata": {},
   "outputs": [
    {
     "name": "stdout",
     "output_type": "stream",
     "text": [
      "Fitting 30 folds for each of 6 candidates, totalling 180 fits\n",
      "CPU times: user 18min 12s, sys: 12.5 s, total: 18min 24s\n",
      "Wall time: 18min 25s\n",
      "\n",
      "{'C': 10, 'gamma': 0.001, 'kernel': 'rbf'}\n",
      "SVC(C=10, gamma=0.001)\n",
      "Error: 0.3327868852459016\n",
      "Accuracy: 0.6672131147540984\n",
      "Mean ROC AUC: 0.6893647140186512\n"
     ]
    }
   ],
   "source": [
    "svc = svm.SVC(random_state=0)\n",
    "\n",
    "scoring = {\"AUC\": \"roc_auc\", \"Accuracy\": make_scorer(accuracy_score)}\n",
    "param_grid = {'C':[1, 10, 100],\n",
    "                  'gamma':[0.01,0.001],\n",
    "                 'kernel': ['rbf']}\n",
    "\n",
    "cv = RepeatedStratifiedKFold(n_splits=10, n_repeats=3, random_state=1)\n",
    "grid = GridSearchCV(svc, param_grid, cv=cv, scoring=scoring, refit='AUC', verbose=1)\n",
    "\n",
    "%time grid.fit(X_train, y_train)\n",
    "\n",
    "print()\n",
    "print(grid.best_params_)\n",
    "print(grid.best_estimator_)\n",
    "\n",
    "y_pred = grid.predict(X_test)\n",
    "accuracy = accuracy_score(y_test, y_pred)\n",
    "cm = confusion_matrix(y_test, y_pred)\n",
    "print(\"Accuracy:\", accuracy)\n",
    "\n",
    "score = roc_auc_score(y_test, y_pred)\n",
    "print(\"Mean ROC AUC:\", score)"
   ]
  },
  {
   "cell_type": "code",
   "execution_count": 72,
   "id": "d93c479d-f829-44a7-a873-4248d54d57d4",
   "metadata": {},
   "outputs": [
    {
     "data": {
      "image/png": "[encoded data removed]",
      "text/plain": [
       "<Figure size 432x288 with 2 Axes>"
      ]
     },
     "metadata": {
      "needs_background": "light"
     },
     "output_type": "display_data"
    }
   ],
   "source": [
    "disp = ConfusionMatrixDisplay(confusion_matrix=cm, display_labels=grid.classes_)\n",
    "disp.plot()\n",
    "# plt.show()\n",
    "plt.savefig('conf_unscal.jpg')"
   ]
  },
  {
   "cell_type": "code",
   "execution_count": 97,
   "id": "30acd58e-06a5-4635-a2c3-a2594c8d6724",
   "metadata": {},
   "outputs": [
    {
     "name": "stdout",
     "output_type": "stream",
     "text": [
      "Accuracy: 0.9737704918032787\n",
      "Mean ROC AUC: 0.9724446461568387\n"
     ]
    }
   ],
   "source": [
    "\n",
    "svc = svm.SVC(C=100, gamma=0.001)\n",
    "\n",
    "scoring = {\"AUC\": \"roc_auc\", \"Accuracy\": make_scorer(accuracy_score)}\n",
    "\n",
    "cv = RepeatedStratifiedKFold(n_splits=10, n_repeats=3, random_state=1)\n",
    "\n",
    "svc.fit(X_train, y_train)\n",
    "y_pred = svc.predict(X_test)\n",
    "accuracy = accuracy_score(y_test, y_pred)\n",
    "cm = confusion_matrix(y_test, y_pred)\n",
    "print(\"Accuracy:\", accuracy)\n",
    "\n",
    "score = roc_auc_score(y_test, y_pred)\n",
    "print(\"Mean ROC AUC:\", score)"
   ]
  },
  {
   "cell_type": "markdown",
   "id": "afcfd70e-8542-4ef6-b716-284e1ae61794",
   "metadata": {},
   "source": [
    "### Plotting the result"
   ]
  },
  {
   "cell_type": "code",
   "execution_count": 100,
   "id": "74a8757a-5d3f-48ef-bfd9-149b1a632d82",
   "metadata": {},
   "outputs": [
    {
     "data": {
      "image/png": "[encoded data removed]",
      "text/plain": [
       "<Figure size 432x288 with 2 Axes>"
      ]
     },
     "metadata": {
      "needs_background": "light"
     },
     "output_type": "display_data"
    },
    {
     "name": "stderr",
     "output_type": "stream",
     "text": [
      "/home/almaz/venv/lib/python3.8/site-packages/sklearn/preprocessing/_data.py:3253: RuntimeWarning: divide by zero encountered in log\n",
      "  loglike = -n_samples / 2 * np.log(x_trans.var())\n",
      "/home/almaz/venv/lib/python3.8/site-packages/sklearn/preprocessing/_data.py:3253: RuntimeWarning: divide by zero encountered in log\n",
      "  loglike = -n_samples / 2 * np.log(x_trans.var())\n",
      "/home/almaz/venv/lib/python3.8/site-packages/sklearn/preprocessing/_data.py:3253: RuntimeWarning: divide by zero encountered in log\n",
      "  loglike = -n_samples / 2 * np.log(x_trans.var())\n",
      "/home/almaz/venv/lib/python3.8/site-packages/sklearn/preprocessing/_data.py:3253: RuntimeWarning: divide by zero encountered in log\n",
      "  loglike = -n_samples / 2 * np.log(x_trans.var())\n",
      "/home/almaz/venv/lib/python3.8/site-packages/sklearn/preprocessing/_data.py:3253: RuntimeWarning: divide by zero encountered in log\n",
      "  loglike = -n_samples / 2 * np.log(x_trans.var())\n"
     ]
    }
   ],
   "source": [
    "disp = ConfusionMatrixDisplay(confusion_matrix=cm, display_labels=svc.classes_)\n",
    "disp.plot()\n",
    "# plt.show()\n",
    "plt.savefig('conf_scal.jpg')"
   ]
  },
  {
   "cell_type": "markdown",
   "id": "09d1ca79-2667-4df0-b87c-20ccb919c220",
   "metadata": {},
   "source": [
    "#### Feature contribution"
   ]
  },
  {
   "cell_type": "code",
   "execution_count": null,
   "id": "68e39ecd-b546-4169-babc-5e3a3a1c0bbc",
   "metadata": {},
   "outputs": [],
   "source": [
    "# See Feature selection"
   ]
  },
  {
   "cell_type": "code",
   "execution_count": 104,
   "id": "1b597216-b50d-44f2-83a9-b2cdec96f641",
   "metadata": {},
   "outputs": [
    {
     "data": {
      "text/plain": [
       "Text(0.5, 0, 'Permutation Importance')"
      ]
     },
     "execution_count": 104,
     "metadata": {},
     "output_type": "execute_result"
    },
    {
     "data": {
      "image/png": "[encoded data removed]",
      "text/plain": [
       "<Figure size 432x288 with 1 Axes>"
      ]
     },
     "metadata": {
      "needs_background": "light"
     },
     "output_type": "display_data"
    }
   ],
   "source": []
  },
  {
   "cell_type": "code",
   "execution_count": 139,
   "id": "8eed2596-703a-4c17-855e-b38080a43943",
   "metadata": {},
   "outputs": [
    {
     "data": {
      "image/png": "[encoded data removed]",
      "text/plain": [
       "<Figure size 432x432 with 1 Axes>"
      ]
     },
     "metadata": {
      "needs_background": "light"
     },
     "output_type": "display_data"
    }
   ],
   "source": [
    "fig, ax = plt.subplots(figsize=(6, 6))\n",
    "plt.barh(features[sorted_idx][-10:], perm_importance.importances_mean[sorted_idx][-10:])\n",
    "plt.xlabel(\"Permutation Importance\")\n",
    "plt.gcf().subplots_adjust(left=0.25)\n",
    "plt.savefig('top10_feat.png')"
   ]
  },
  {
   "cell_type": "code",
   "execution_count": 138,
   "id": "f885392b-13d7-4d92-967c-d5d74266330f",
   "metadata": {},
   "outputs": [
    {
     "data": {
      "image/png": "[encoded data removed]",
      "text/plain": [
       "<Figure size 432x432 with 1 Axes>"
      ]
     },
     "metadata": {
      "needs_background": "light"
     },
     "output_type": "display_data"
    }
   ],
   "source": [
    "fig, ax = plt.subplots(figsize=(6, 6))\n",
    "plt.barh(features[sorted_idx][:10], perm_importance.importances_mean[sorted_idx][:10])\n",
    "plt.xlabel(\"Permutation Importance\")\n",
    "plt.gcf().subplots_adjust(left=0.25)\n",
    "plt.savefig('top-10_feat.png')"
   ]
  },
  {
   "cell_type": "code",
   "execution_count": null,
   "id": "efb58828-2fbf-4579-b07e-5e1f37181c7a",
   "metadata": {},
   "outputs": [],
   "source": [
    "from sklearn.decomposition import PCA\n",
    "\n",
    "pca = PCA(n_components = len(left_columns))\n",
    "pca_traindata = pca.fit(X_train)"
   ]
  },
  {
   "cell_type": "code",
   "execution_count": null,
   "id": "abb791de-0fb2-4372-9de1-566cbe2a0202",
   "metadata": {},
   "outputs": [],
   "source": [
    "pcatrain = pca_traindata.transform(X_train)\n",
    "pcatest = pca_traindata.transform(X_test)\n",
    "cum_ratio = (np.cumsum(pca_traindata.explained_variance_ratio_))"
   ]
  },
  {
   "cell_type": "code",
   "execution_count": null,
   "id": "4dda942e-4632-4678-9bc2-735318bfa19d",
   "metadata": {},
   "outputs": [
    {
     "data": {
      "image/png": "[encoded data removed]",
      "text/plain": [
       "<Figure size 432x288 with 1 Axes>"
      ]
     },
     "metadata": {
      "needs_background": "light"
     },
     "output_type": "display_data"
    }
   ],
   "source": [
    "# Visualize PCA result\n",
    "plt.plot(np.cumsum(pca_traindata.explained_variance_ratio_))\n",
    "plt.xlabel('number of components')\n",
    "plt.ylabel('cumulative explained variance')\n",
    "plt.savefig('pca.png')"
   ]
  },
  {
   "cell_type": "code",
   "execution_count": null,
   "id": "5c7396df-84c1-433a-b520-75722b24ea25",
   "metadata": {},
   "outputs": [],
   "source": []
  },
  {
   "cell_type": "code",
   "execution_count": null,
   "id": "6379afab-5f77-4d4e-bb91-42d740e84f90",
   "metadata": {},
   "outputs": [
    {
     "data": {
      "text/plain": [
       "array([0.11730498, 0.18988867, 0.24972084, 0.29921373, 0.33437896,\n",
       "       0.36559495, 0.39548848, 0.42103042, 0.44567133, 0.46835116,\n",
       "       0.48837446, 0.50673748, 0.52297857, 0.53796789, 0.55199983,\n",
       "       0.56495771, 0.57776042, 0.58991839, 0.60156695, 0.61254604,\n",
       "       0.62272638, 0.63279768, 0.64239097, 0.65169552, 0.66046319,\n",
       "       0.668771  , 0.67701851, 0.68499582, 0.69284346, 0.70029475,\n",
       "       0.70765447, 0.71487444, 0.72199449, 0.72899722, 0.73596156,\n",
       "       0.74276304, 0.74953321, 0.75615766, 0.76273595, 0.76928917,\n",
       "       0.7758125 , 0.78227117, 0.78868828, 0.7950128 , 0.80122102,\n",
       "       0.8073313 , 0.81336282, 0.81925055, 0.82512201, 0.83088303,\n",
       "       0.83656016, 0.84214227, 0.8476815 , 0.85307313, 0.85837624,\n",
       "       0.86349453, 0.86855312, 0.87355128, 0.87832779, 0.88305325,\n",
       "       0.88760833, 0.89207452, 0.8963954 , 0.90068746, 0.90486487,\n",
       "       0.90887005, 0.9128443 , 0.91665811, 0.92030616, 0.92385878,\n",
       "       0.92725812, 0.93045647, 0.93355558, 0.93660085, 0.93957176,\n",
       "       0.94240387, 0.94513761, 0.94757468, 0.94999171, 0.95234652,\n",
       "       0.95460452, 0.95675669, 0.95885009, 0.96076527, 0.96265025,\n",
       "       0.96449888, 0.9662371 , 0.96791292, 0.9695687 , 0.97111627,\n",
       "       0.97260453, 0.97404771, 0.97545803, 0.97681057, 0.97811991,\n",
       "       0.97933321, 0.98051173, 0.98162798, 0.98270342, 0.98374279])"
      ]
     },
     "execution_count": 123,
     "metadata": {},
     "output_type": "execute_result"
    }
   ],
   "source": [
    "pca = PCA(n_components = 100)\n",
    "pca_traindata = pca.fit(X_train)\n",
    "\n",
    "pcatrain = pca_traindata.transform(X_train)\n",
    "pcatest = pca_traindata.transform(X_test)\n",
    "(np.cumsum(pca_traindata.explained_variance_ratio_))"
   ]
  },
  {
   "cell_type": "code",
   "execution_count": null,
   "id": "c4c27c9e-b5b7-43e6-a6b0-877ffc0579a7",
   "metadata": {},
   "outputs": [
    {
     "data": {
      "image/png": "[encoded data removed]",
      "text/plain": [
       "<Figure size 432x288 with 1 Axes>"
      ]
     },
     "metadata": {
      "needs_background": "light"
     },
     "output_type": "display_data"
    }
   ],
   "source": [
    "import scikitplot as skplt\n",
    "skplt.decomposition.plot_pca_2d_projection(pca, X_train, y_train)\n",
    "plt.savefig('pc1pc2_relat.png')"
   ]
  },
  {
   "cell_type": "code",
   "execution_count": null,
   "id": "a099fdee-a974-478f-b8d1-eaf830aa5af9",
   "metadata": {},
   "outputs": [],
   "source": [
    "def plot_coefficients(classifier, feature_names, top_features=20):\n",
    "    \n",
    "    coef = classifier.coef_.ravel()\n",
    "    top_positive_coefficients = np.argsort(coef)[-top_features:]\n",
    "    top_negative_coefficients = np.argsort(coef)[:top_features]\n",
    "    top_coefficients = np.hstack([top_negative_coefficients, top_positive_coefficients])\n",
    "    \n",
    "    \n",
    "    plt.figure(figsize=(15, 5))\n",
    "    colors = ['red' if c < 0 else 'blue' for c in coef[top_coefficients]]\n",
    "    plt.bar(np.arange(2 * top_features), coef[top_coefficients], color=colors)\n",
    "    feature_names = np.array(feature_names)\n",
    "    plt.xticks(np.arange(1, 1 + 2 * top_features), feature_names[top_coefficients], rotation=60, ha='right')\n",
    "    plt.show()\n"
   ]
  },
  {
   "cell_type": "code",
   "execution_count": null,
   "id": "8f73cb01-c650-4e8a-906e-6f878b44dcd7",
   "metadata": {},
   "outputs": [
    {
     "ename": "NameError",
     "evalue": "name 'svc' is not defined",
     "output_type": "error",
     "traceback": [
      "\u001b[0;31m---------------------------------------------------------------------------\u001b[0m",
      "\u001b[0;31mNameError\u001b[0m                                 Traceback (most recent call last)",
      "\u001b[0;32m/tmp/ipykernel_250579/2545043166.py\u001b[0m in \u001b[0;36m<module>\u001b[0;34m\u001b[0m\n\u001b[0;32m----> 1\u001b[0;31m \u001b[0mplot_coefficients\u001b[0m\u001b[0;34m(\u001b[0m\u001b[0msvc\u001b[0m\u001b[0;34m,\u001b[0m \u001b[0mleft_columns\u001b[0m\u001b[0;34m)\u001b[0m\u001b[0;34m\u001b[0m\u001b[0;34m\u001b[0m\u001b[0m\n\u001b[0m",
      "\u001b[0;31mNameError\u001b[0m: name 'svc' is not defined"
     ]
    }
   ],
   "source": [
    "plot_coefficients(svc, left_columns)"
   ]
  },
  {
   "cell_type": "markdown",
   "id": "75375bcc-cb51-47c9-9f4d-6b3a9e98dd66",
   "metadata": {},
   "source": [
    "### SVC 2"
   ]
  },
  {
   "cell_type": "code",
   "execution_count": 58,
   "id": "b8a47db5-dd4b-4328-b6f2-e072c3c141f5",
   "metadata": {},
   "outputs": [
    {
     "name": "stdout",
     "output_type": "stream",
     "text": [
      "Mean ROC AUC: 0.788\n",
      "Accuracy: 0.725\n"
     ]
    }
   ],
   "source": [
    "svc = svm.SVC(C=1, gamma=0.0001)\n",
    "cv = RepeatedStratifiedKFold(n_splits=10, n_repeats=3, random_state=1)\n",
    "scores = cross_val_score(svc, X_train, y_train, scoring='roc_auc', cv=cv, n_jobs=-1, verbose=3)\n",
    "\n",
    "svc = svm.SVC(C=1, gamma=0.0001)\n",
    "accuracy = cross_val_score(svc, X_train, y_train, scoring='accuracy', cv=cv, n_jobs=-1, verbose=3)\n",
    "print('Mean ROC AUC: %.3f' % mean(scores))\n",
    "print('Accuracy: %.3f' % mean(accuracy))"
   ]
  },
  {
   "cell_type": "code",
   "execution_count": null,
   "id": "007b2955-fe51-4e18-a32e-1af51706e5cd",
   "metadata": {},
   "outputs": [],
   "source": []
  },
  {
   "cell_type": "code",
   "execution_count": null,
   "id": "c801255a-59b7-44cc-b04f-d675fdc2cc96",
   "metadata": {},
   "outputs": [],
   "source": []
  },
  {
   "cell_type": "markdown",
   "id": "88909530-e0d9-41fd-8b09-403e418b13bb",
   "metadata": {},
   "source": [
    "## Naive Bayes"
   ]
  },
  {
   "cell_type": "code",
   "execution_count": 90,
   "id": "6dafb120-10bc-4094-8bbc-00dac06df04d",
   "metadata": {},
   "outputs": [],
   "source": [
    "from sklearn.naive_bayes import GaussianNB"
   ]
  },
  {
   "cell_type": "code",
   "execution_count": 91,
   "id": "e0399df7-5786-4eeb-b093-77c0ef1c53da",
   "metadata": {},
   "outputs": [
    {
     "name": "stdout",
     "output_type": "stream",
     "text": [
      "Accuracy: 0.9114754098360656\n",
      "Mean ROC AUC: 0.9081596265439102\n"
     ]
    }
   ],
   "source": [
    "nb = GaussianNB()\n",
    "nb.fit(X_train, y_train)\n",
    "y_pred = nb.predict(X_test)\n",
    "accuracy_nb = accuracy_score(y_test, y_pred)\n",
    "print(\"Accuracy:\", accuracy_nb)\n",
    "\n",
    "score = roc_auc_score(y_test, y_pred)\n",
    "print(\"Mean ROC AUC:\", score)"
   ]
  },
  {
   "cell_type": "code",
   "execution_count": null,
   "id": "160ecc82-8bdf-487a-80d4-f88c84991c1c",
   "metadata": {},
   "outputs": [],
   "source": []
  },
  {
   "cell_type": "code",
   "execution_count": null,
   "id": "d6bfce22-5330-4485-9e5f-71debfcdf4de",
   "metadata": {},
   "outputs": [],
   "source": []
  },
  {
   "cell_type": "markdown",
   "id": "7421c9b3-cd71-4e2a-98a5-75e1db8ba621",
   "metadata": {},
   "source": [
    "### Logistic Regression"
   ]
  },
  {
   "cell_type": "code",
   "execution_count": 92,
   "id": "2155a5f5-e21a-4071-8070-0086921cde9f",
   "metadata": {},
   "outputs": [],
   "source": [
    "from sklearn.pipeline import Pipeline\n",
    "from sklearn.preprocessing import PowerTransformer\n",
    "from sklearn.linear_model import LogisticRegression"
   ]
  },
  {
   "cell_type": "code",
   "execution_count": 95,
   "id": "1b27d8fe-34b0-4f12-85f2-b8ab1e3337cc",
   "metadata": {},
   "outputs": [
    {
     "name": "stdout",
     "output_type": "stream",
     "text": [
      "scores = [0.95983607 0.95       0.96721311 0.95655738 0.96229508] \n",
      "mean score = 0.95918 +/- 0.00576\n"
     ]
    }
   ],
   "source": [
    "SEED = 42\n",
    "\n",
    "skf = StratifiedKFold(n_splits=5, shuffle=True, random_state=SEED)\n",
    "\n",
    "lr = Pipeline([('p_trans', PowerTransformer(method='yeo-johnson', standardize=True)),\n",
    "               ('lr', LogisticRegression(solver='liblinear',\n",
    "                                         penalty='l1',\n",
    "                                         max_iter=200,\n",
    "                                         class_weight='balanced',\n",
    "                                         random_state=SEED)\n",
    "               )])\n",
    "\n",
    "# lr = Pipeline([('lr', LogisticRegression(solver='liblinear',\n",
    "#                                          penalty='l1',\n",
    "#                                          max_iter=200,\n",
    "#                                          class_weight='balanced',\n",
    "#                                          random_state=SEED)\n",
    "#                )])\n",
    "\n",
    "scores = cross_val_score(estimator=lr, X=X, y=y, \n",
    "                         cv=skf, scoring='roc_auc', n_jobs=-1)\n",
    "\n",
    "print('scores = {} \\nmean score = {:.5f} +/- {:.5f}'.format(scores, scores.mean(), scores.std()))\n",
    "\n",
    "lr.fit(X_train, y_train);"
   ]
  },
  {
   "cell_type": "code",
   "execution_count": 80,
   "id": "ac9f7799-b3c1-4c2a-bbbd-b9c0bb7f9029",
   "metadata": {},
   "outputs": [],
   "source": [
    "df_score = pd.DataFrame(data={'score': lr['lr'].coef_[0]}, index=left_columns).sort_values(by='score')\n",
    "# df.plot(kind='barh', grid=True, figsize=(6,6), legend=False)"
   ]
  },
  {
   "cell_type": "code",
   "execution_count": 81,
   "id": "529e8a15-981f-4d9f-bb96-5a7abdce3859",
   "metadata": {},
   "outputs": [
    {
     "data": {
      "text/html": [
       "<div>\n",
       "<style scoped>\n",
       "    .dataframe tbody tr th:only-of-type {\n",
       "        vertical-align: middle;\n",
       "    }\n",
       "\n",
       "    .dataframe tbody tr th {\n",
       "        vertical-align: top;\n",
       "    }\n",
       "\n",
       "    .dataframe thead th {\n",
       "        text-align: right;\n",
       "    }\n",
       "</style>\n",
       "<table border=\"1\" class=\"dataframe\">\n",
       "  <thead>\n",
       "    <tr style=\"text-align: right;\">\n",
       "      <th></th>\n",
       "      <th>score</th>\n",
       "    </tr>\n",
       "  </thead>\n",
       "  <tbody>\n",
       "    <tr>\n",
       "      <th>BertzCT</th>\n",
       "      <td>-2.567480</td>\n",
       "    </tr>\n",
       "    <tr>\n",
       "      <th>FractionCSP3</th>\n",
       "      <td>-2.345678</td>\n",
       "    </tr>\n",
       "    <tr>\n",
       "      <th>SlogP_VSA6</th>\n",
       "      <td>-1.340210</td>\n",
       "    </tr>\n",
       "    <tr>\n",
       "      <th>NumAromaticCarbocycles</th>\n",
       "      <td>-1.314294</td>\n",
       "    </tr>\n",
       "    <tr>\n",
       "      <th>NumAliphaticHeterocycles</th>\n",
       "      <td>-1.288903</td>\n",
       "    </tr>\n",
       "    <tr>\n",
       "      <th>...</th>\n",
       "      <td>...</td>\n",
       "    </tr>\n",
       "    <tr>\n",
       "      <th>fr_furan</th>\n",
       "      <td>1.493800</td>\n",
       "    </tr>\n",
       "    <tr>\n",
       "      <th>VSA_EState2</th>\n",
       "      <td>1.786875</td>\n",
       "    </tr>\n",
       "    <tr>\n",
       "      <th>VSA_EState6</th>\n",
       "      <td>1.971515</td>\n",
       "    </tr>\n",
       "    <tr>\n",
       "      <th>SlogP_VSA2</th>\n",
       "      <td>2.194154</td>\n",
       "    </tr>\n",
       "    <tr>\n",
       "      <th>SlogP_VSA8</th>\n",
       "      <td>2.417757</td>\n",
       "    </tr>\n",
       "  </tbody>\n",
       "</table>\n",
       "<p>168 rows × 1 columns</p>\n",
       "</div>"
      ],
      "text/plain": [
       "                             score\n",
       "BertzCT                  -2.567480\n",
       "FractionCSP3             -2.345678\n",
       "SlogP_VSA6               -1.340210\n",
       "NumAromaticCarbocycles   -1.314294\n",
       "NumAliphaticHeterocycles -1.288903\n",
       "...                            ...\n",
       "fr_furan                  1.493800\n",
       "VSA_EState2               1.786875\n",
       "VSA_EState6               1.971515\n",
       "SlogP_VSA2                2.194154\n",
       "SlogP_VSA8                2.417757\n",
       "\n",
       "[168 rows x 1 columns]"
      ]
     },
     "execution_count": 81,
     "metadata": {},
     "output_type": "execute_result"
    }
   ],
   "source": [
    "df_score"
   ]
  },
  {
   "cell_type": "code",
   "execution_count": 94,
   "id": "5b8985b4-767a-4f51-bf38-541ddd08b6c4",
   "metadata": {},
   "outputs": [
    {
     "name": "stdout",
     "output_type": "stream",
     "text": [
      "Mean ROC AUC: 0.9590235679320518\n",
      "Accuracy: 0.9606557377049181\n"
     ]
    }
   ],
   "source": [
    "y_pred = lr.predict(X_test)\n",
    "score = roc_auc_score(y_test, y_pred)\n",
    "print(\"Mean ROC AUC:\", score)\n",
    "\n",
    "accuracy_nb = accuracy_score(y_test, y_pred)\n",
    "print(\"Accuracy:\", accuracy_nb)"
   ]
  },
  {
   "cell_type": "markdown",
   "id": "b6b7c4b2-8e47-43b3-9817-601cdffd6ef0",
   "metadata": {},
   "source": [
    "#### We have high accuracy and high AUC score in classification, it's better to go to regression to better progress"
   ]
  },
  {
   "cell_type": "code",
   "execution_count": null,
   "id": "8edaa0fc-b321-44f8-841c-23921b4e8fe6",
   "metadata": {},
   "outputs": [],
   "source": []
  },
  {
   "cell_type": "code",
   "execution_count": null,
   "id": "72376a2b-8e23-47dd-ac0a-91e5008eb605",
   "metadata": {},
   "outputs": [],
   "source": []
  },
  {
   "cell_type": "code",
   "execution_count": null,
   "id": "3a78adb7-c323-4d2e-bdfb-43db48b54de9",
   "metadata": {},
   "outputs": [],
   "source": []
  },
  {
   "cell_type": "code",
   "execution_count": null,
   "id": "50b97b21-920d-4a6b-b83c-315c729e47b5",
   "metadata": {},
   "outputs": [],
   "source": []
  }
 ],
 "metadata": {
  "kernelspec": {
   "display_name": "Python 3 (ipykernel)",
   "language": "python",
   "name": "python3"
  },
  "language_info": {
   "codemirror_mode": {
    "name": "ipython",
    "version": 3
   },
   "file_extension": ".py",
   "mimetype": "text/x-python",
   "name": "python",
   "nbconvert_exporter": "python",
   "pygments_lexer": "ipython3",
   "version": "3.8.10"
  }
 },
 "nbformat": 4,
 "nbformat_minor": 5
}
