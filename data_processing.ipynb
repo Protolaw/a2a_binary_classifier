{
 "cells": [
  {
   "cell_type": "code",
   "execution_count": 1,
   "metadata": {},
   "outputs": [],
   "source": [
    "import pandas as pd\n",
    "import numpy as np\n",
    "import seaborn as sns\n",
    "import matplotlib.pyplot as plt\n",
    "# ! pip install tqdm\n",
    "from tqdm import tqdm\n",
    "import joblib\n",
    "import os\n",
    "\n",
    "\n",
    "# ! pip install rdkit??\n",
    "import rdkit\n",
    "from rdkit import Chem\n",
    "from rdkit.Chem import Descriptors\n",
    "from rdkit.Chem.Descriptors import CalcMolDescriptors\n",
    "from rdkit.ML.Descriptors.MoleculeDescriptors import MolecularDescriptorCalculator as MDC"
   ]
  },
  {
   "cell_type": "markdown",
   "metadata": {},
   "source": [
    "# Download data"
   ]
  },
  {
   "cell_type": "code",
   "execution_count": 2,
   "metadata": {},
   "outputs": [],
   "source": [
    "target = 'aa2ar'\n",
    "url = f'https://dude.docking.org//targets/{target}'\n",
    "data = './data'\n",
    "tables = './tables'\n",
    "path_model = './models'\n",
    "pics = './pics'"
   ]
  },
  {
   "cell_type": "code",
   "execution_count": 3,
   "metadata": {},
   "outputs": [],
   "source": [
    "def dir_builder():\n",
    "    if not os.path.exists(path_model):\n",
    "        os.mkdir(path_model)\n",
    "    if not os.path.exists(pics):\n",
    "        os.mkdir(pics)\n",
    "    if not os.path.exists(tables):\n",
    "        os.mkdir(tables)\n",
    "    if not os.path.exists(data):\n",
    "        os.mkdir(data)\n",
    "\n",
    "dir_builder()"
   ]
  },
  {
   "cell_type": "code",
   "execution_count": 4,
   "metadata": {},
   "outputs": [],
   "source": [
    "active = pd.read_csv(f'{url}/actives_combined.ism', header=None, sep=' ', on_bad_lines='skip')\n",
    "inactive = pd.read_csv(f'{url}/inactives_combined.ism', header=None, sep=' ', on_bad_lines='skip')\n",
    "decoys = pd.read_csv(f'{url}/decoys_final.ism', header=None, sep=' ', on_bad_lines='skip')"
   ]
  },
  {
   "cell_type": "code",
   "execution_count": 5,
   "metadata": {},
   "outputs": [],
   "source": [
    "active = pd.DataFrame({'smiles':active[0], 'label': [1]*len(active[0])})\n",
    "active_size = active.shape[0]\n",
    "\n",
    "inactive = pd.DataFrame({'smiles': inactive[0], 'label': [0]*len(inactive[0])})\n",
    "inactive_size = inactive.shape[0]\n",
    "\n",
    "decoys = pd.DataFrame({'smiles':decoys[0], 'label': [0]*len(decoys[0])})\n",
    "decoys_size = decoys.shape[0]"
   ]
  },
  {
   "cell_type": "markdown",
   "metadata": {},
   "source": [
    "# Feature generation"
   ]
  },
  {
   "cell_type": "code",
   "execution_count": 6,
   "metadata": {},
   "outputs": [],
   "source": [
    "def RDkit_descriptors(data):\n",
    "    mols = [Chem.MolFromSmiles(i) for i in data.smiles]\n",
    "    desc_names = list(CalcMolDescriptors(mols[0]).keys())\n",
    "    desc_names.append(\"label\")\n",
    "    mol_descs = []\n",
    "    for i in tqdm(range(len(data))):\n",
    "        descriptors = CalcMolDescriptors(mols[i])\n",
    "        descriptors['label'] = data.label[i]\n",
    "        mol_descs.append(descriptors)\n",
    "    return mol_descs, desc_names"
   ]
  },
  {
   "cell_type": "code",
   "execution_count": 7,
   "metadata": {},
   "outputs": [],
   "source": [
    "mol_classes = [active, inactive, decoys]\n",
    "classes_names = ['active', 'inactive', 'decoys']"
   ]
  },
  {
   "cell_type": "code",
   "execution_count": 8,
   "metadata": {},
   "outputs": [
    {
     "name": "stderr",
     "output_type": "stream",
     "text": [
      "100%|██████████| 3050/3050 [00:32<00:00, 94.47it/s] \n"
     ]
    },
    {
     "name": "stdout",
     "output_type": "stream",
     "text": [
      "active\n"
     ]
    },
    {
     "name": "stderr",
     "output_type": "stream",
     "text": [
      "100%|██████████| 192/192 [00:01<00:00, 113.55it/s]\n"
     ]
    },
    {
     "name": "stdout",
     "output_type": "stream",
     "text": [
      "inactive\n"
     ]
    },
    {
     "name": "stderr",
     "output_type": "stream",
     "text": [
      "100%|██████████| 31550/31550 [05:57<00:00, 88.24it/s] \n"
     ]
    },
    {
     "name": "stdout",
     "output_type": "stream",
     "text": [
      "decoys\n"
     ]
    }
   ],
   "source": [
    "for mol_class, class_name in zip(mol_classes, classes_names):\n",
    "    mol_descs, desc_names = RDkit_descriptors(mol_class)\n",
    "    descriptors_df = pd.DataFrame(mol_descs, columns=desc_names)\n",
    "    descriptors_df.to_csv(f'{data}/{class_name}_descs_raw.csv', index=False)\n",
    "    print(class_name)"
   ]
  },
  {
   "cell_type": "markdown",
   "metadata": {},
   "source": [
    "# Data preparation"
   ]
  },
  {
   "cell_type": "code",
   "execution_count": 12,
   "metadata": {},
   "outputs": [],
   "source": [
    "active = pd.read_csv('./data/active_descs_raw.csv', index_col=None)\n",
    "active_size = active.shape[0]\n",
    "\n",
    "inactive = pd.read_csv('./data/inactive_descs_raw.csv', index_col=None)\n",
    "inactive_size = inactive.shape[0]\n",
    "\n",
    "decoys = pd.read_csv('./data/decoys_descs_raw.csv', index_col=None)\n",
    "decoys_size = decoys.shape[0]"
   ]
  },
  {
   "cell_type": "code",
   "execution_count": 13,
   "metadata": {},
   "outputs": [
    {
     "data": {
      "image/png": "[encoded data removed]",
      "text/plain": [
       "<Figure size 640x480 with 1 Axes>"
      ]
     },
     "metadata": {},
     "output_type": "display_data"
    }
   ],
   "source": [
    "colors = sns.color_palette('pastel')[0:5]\n",
    "data = [active_size, inactive_size, decoys_size]\n",
    "labels = ['actives', 'incatives', 'decoys']\n",
    "plt.pie(data, labels=labels, colors = colors, autopct='%.0f%%', textprops={\"fontsize\":12})\n",
    "plt.title('Raw data')\n",
    "# plt.show()\n",
    "plt.savefig(f'{pics}/raw_data.png')"
   ]
  },
  {
   "cell_type": "markdown",
   "metadata": {},
   "source": [
    "# Data resampling"
   ]
  },
  {
   "cell_type": "code",
   "execution_count": 20,
   "metadata": {},
   "outputs": [],
   "source": [
    "decoys_new_size = active_size - inactive_size\n",
    "split_decoys = decoys.sample(n=decoys_new_size)\n",
    "\n",
    "balanced_data = pd.concat([active, inactive, split_decoys], ignore_index=True)\n",
    "balanced_data.to_csv(f'data/balanced_dataframe.csv',index=False)"
   ]
  },
  {
   "cell_type": "code",
   "execution_count": 18,
   "metadata": {},
   "outputs": [
    {
     "data": {
      "image/png": "[encoded data removed]",
      "text/plain": [
       "<Figure size 640x480 with 1 Axes>"
      ]
     },
     "metadata": {},
     "output_type": "display_data"
    }
   ],
   "source": [
    "colors = sns.color_palette('pastel')[0:5]\n",
    "data = [active_size, inactive_size, decoys_new_size]\n",
    "labels = ['actives', 'incatives', 'decoys']\n",
    "plt.pie(data, labels=labels, colors = colors, autopct='%.0f%%', textprops={\"fontsize\":12})\n",
    "plt.title('Balanced data')\n",
    "# plt.show()\n",
    "plt.savefig(f'{pics}/balanced_data.png')"
   ]
  }
 ],
 "metadata": {
  "kernelspec": {
   "display_name": "Python 3",
   "language": "python",
   "name": "python3"
  },
  "language_info": {
   "codemirror_mode": {
    "name": "ipython",
    "version": 3
   },
   "file_extension": ".py",
   "mimetype": "text/x-python",
   "name": "python",
   "nbconvert_exporter": "python",
   "pygments_lexer": "ipython3",
   "version": "3.10.13"
  }
 },
 "nbformat": 4,
 "nbformat_minor": 2
}
