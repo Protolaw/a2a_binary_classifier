{
 "cells": [
  {
   "cell_type": "code",
   "execution_count": null,
   "metadata": {},
   "outputs": [],
   "source": [
    "import pandas as pd\n",
    "import numpy as np\n",
    "import seaborn as sns\n",
    "import matplotlib.pyplot as plt\n",
    "from tqdm import tqdm\n",
    "import os\n",
    "\n",
    "import rdkit\n",
    "from rdkit import Chem\n",
    "from rdkit.Chem import Descriptors\n",
    "from rdkit.Chem.Descriptors import CalcMolDescriptors\n",
    "from rdkit.ML.Descriptors.MoleculeDescriptors import MolecularDescriptorCalculator as MDC\n",
    "\n",
    "from sklearn.feature_selection import VarianceThreshold"
   ]
  },
  {
   "cell_type": "markdown",
   "metadata": {},
   "source": [
    "# Download data"
   ]
  },
  {
   "cell_type": "code",
   "execution_count": null,
   "metadata": {},
   "outputs": [],
   "source": [
    "target = 'aa2ar'\n",
    "url = f'https://dude.docking.org//targets/{target}'\n",
    "data_path = './data'\n",
    "path_model = './models'\n",
    "pics = './images'"
   ]
  },
  {
   "cell_type": "code",
   "execution_count": null,
   "metadata": {},
   "outputs": [],
   "source": [
    "def dir_builder():\n",
    "    if not os.path.exists(path_model):\n",
    "        os.mkdir(path_model)\n",
    "    if not os.path.exists(pics):\n",
    "        os.mkdir(pics)\n",
    "    if not os.path.exists(data):\n",
    "        os.mkdir(data)\n",
    "\n",
    "dir_builder()"
   ]
  },
  {
   "cell_type": "code",
   "execution_count": null,
   "metadata": {},
   "outputs": [],
   "source": [
    "active = pd.read_csv(f'{url}/actives_combined.ism', header=None, sep=' ', on_bad_lines='skip')\n",
    "inactive = pd.read_csv(f'{url}/inactives_combined.ism', header=None, sep=' ', on_bad_lines='skip')\n",
    "decoys = pd.read_csv(f'{url}/decoys_final.ism', header=None, sep=' ', on_bad_lines='skip')"
   ]
  },
  {
   "cell_type": "code",
   "execution_count": null,
   "metadata": {},
   "outputs": [],
   "source": [
    "active = pd.DataFrame({'smiles':active[0], 'label': [1]*len(active[0])})\n",
    "active_size = active.shape[0]\n",
    "\n",
    "inactive = pd.DataFrame({'smiles': inactive[0], 'label': [0]*len(inactive[0])})\n",
    "inactive_size = inactive.shape[0]\n",
    "\n",
    "decoys = pd.DataFrame({'smiles':decoys[0], 'label': [0]*len(decoys[0])})\n",
    "decoys_size = decoys.shape[0]"
   ]
  },
  {
   "cell_type": "markdown",
   "metadata": {},
   "source": [
    "# Feature generation"
   ]
  },
  {
   "cell_type": "code",
   "execution_count": null,
   "metadata": {},
   "outputs": [],
   "source": [
    "def RDkit_descriptors(data):\n",
    "    mols = [Chem.MolFromSmiles(i) for i in data.smiles]\n",
    "    desc_names = list(CalcMolDescriptors(mols[0]).keys())\n",
    "    desc_names.append(\"label\")\n",
    "    mol_descs = []\n",
    "    for i in tqdm(range(len(data))):\n",
    "        descriptors = CalcMolDescriptors(mols[i])\n",
    "        descriptors['label'] = data.label[i]\n",
    "        mol_descs.append(descriptors)\n",
    "    return mol_descs, desc_names"
   ]
  },
  {
   "cell_type": "code",
   "execution_count": null,
   "metadata": {},
   "outputs": [],
   "source": [
    "mol_classes = [active, inactive, decoys]\n",
    "classes_names = ['active', 'inactive', 'decoys']"
   ]
  },
  {
   "cell_type": "code",
   "execution_count": null,
   "metadata": {},
   "outputs": [],
   "source": [
    "for mol_class, class_name in zip(mol_classes, classes_names):\n",
    "    print(\"Uploading\", class_name, \"dataset\")\n",
    "    mol_descs, desc_names = RDkit_descriptors(mol_class)\n",
    "    descriptors_df = pd.DataFrame(mol_descs, columns=desc_names)\n",
    "    descriptors_df.to_csv(f'{data_path}/{class_name}_descs_raw.csv', index=False)"
   ]
  },
  {
   "cell_type": "markdown",
   "metadata": {},
   "source": [
    "# Data preparation"
   ]
  },
  {
   "cell_type": "code",
   "execution_count": null,
   "metadata": {},
   "outputs": [],
   "source": [
    "active = pd.read_csv(f'{data_path}/active_descs_raw.csv', index_col=None)\n",
    "active_size = active.shape[0]\n",
    "\n",
    "inactive = pd.read_csv(f'{data_path}/inactive_descs_raw.csv', index_col=None)\n",
    "inactive_size = inactive.shape[0]\n",
    "\n",
    "decoys = pd.read_csv(f'{data_path}/decoys_descs_raw.csv', index_col=None)\n",
    "decoys_size = decoys.shape[0]"
   ]
  },
  {
   "cell_type": "code",
   "execution_count": null,
   "metadata": {},
   "outputs": [],
   "source": [
    "colors = sns.color_palette('pastel')[0:5]\n",
    "data = [active_size, inactive_size, decoys_size]\n",
    "plt.pie(data, labels=classes_names, colors = colors, autopct='%.0f%%', textprops={\"fontsize\":12})\n",
    "plt.title('Raw data')\n",
    "# plt.show()\n",
    "plt.savefig(f'{pics}/raw_data.png')"
   ]
  },
  {
   "cell_type": "markdown",
   "metadata": {},
   "source": [
    "# Data resampling"
   ]
  },
  {
   "cell_type": "code",
   "execution_count": null,
   "metadata": {},
   "outputs": [],
   "source": [
    "decoys_new_size = active_size - inactive_size\n",
    "split_decoys = decoys.sample(n=decoys_new_size)\n",
    "\n",
    "balanced_data = pd.concat([active, inactive, split_decoys], ignore_index=True)"
   ]
  },
  {
   "cell_type": "code",
   "execution_count": null,
   "metadata": {},
   "outputs": [],
   "source": [
    "balanced_data = pd.read_csv(f'{data_path}/balanced_dataframe.csv')"
   ]
  },
  {
   "cell_type": "markdown",
   "metadata": {},
   "source": [
    "### Filtering - deleting invariant data and highly correlated data"
   ]
  },
  {
   "cell_type": "code",
   "execution_count": null,
   "metadata": {},
   "outputs": [],
   "source": [
    "def filter_data(X,correlation_threshold = 0.9, variance_threshold = 0.9):\n",
    "    corr_matrix = X.corr().abs()\n",
    "    upper = corr_matrix.where(~np.tril(np.ones(corr_matrix.shape)).astype(bool))\n",
    "    to_drop = [column for column in upper.columns if any(upper[column] > correlation_threshold)]\n",
    "\n",
    "    column_names = X.columns\n",
    "    X = X.drop(to_drop, axis=1)\n",
    "\n",
    "    sel = VarianceThreshold(threshold=(variance_threshold * (1 - variance_threshold)))\n",
    "    X = sel.fit_transform(X)\n",
    "    kept_features = sel.get_support(indices=True)\n",
    "    X = pd.DataFrame(X, columns=column_names[kept_features])\n",
    "\n",
    "    return X"
   ]
  },
  {
   "cell_type": "code",
   "execution_count": null,
   "metadata": {},
   "outputs": [],
   "source": [
    "X = balanced_data.iloc[:,:-1]\n",
    "y = balanced_data.label\n",
    "X = filter_data(X)\n",
    "balanced_data = pd.concat([X, y], axis=1)"
   ]
  },
  {
   "cell_type": "code",
   "execution_count": null,
   "metadata": {},
   "outputs": [],
   "source": [
    "balanced_data.to_csv(f'{data_path}/balanced_dataframe.csv',index=False)"
   ]
  },
  {
   "cell_type": "code",
   "execution_count": null,
   "metadata": {},
   "outputs": [],
   "source": [
    "colors = sns.color_palette('pastel')[0:5]\n",
    "data = [active_size, inactive_size, decoys_new_size]\n",
    "plt.pie(data, labels=classes_names, colors = colors, autopct='%.0f%%', textprops={\"fontsize\":12})\n",
    "plt.title('Balanced data')\n",
    "# plt.show()\n",
    "plt.savefig(f'{pics}/balanced_data.png')"
   ]
  },
  {
   "cell_type": "code",
   "execution_count": null,
   "metadata": {},
   "outputs": [],
   "source": []
  }
 ],
 "metadata": {
  "kernelspec": {
   "display_name": "Python 3 (ipykernel)",
   "language": "python",
   "name": "python3"
  },
  "language_info": {
   "codemirror_mode": {
    "name": "ipython",
    "version": 3
   },
   "file_extension": ".py",
   "mimetype": "text/x-python",
   "name": "python",
   "nbconvert_exporter": "python",
   "pygments_lexer": "ipython3",
   "version": "3.8.10"
  }
 },
 "nbformat": 4,
 "nbformat_minor": 4
}
