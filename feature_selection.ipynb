{
 "cells": [
  {
   "cell_type": "code",
   "execution_count": null,
   "id": "cd8c5847-53ac-4a9f-be31-9dd40d3541d1",
   "metadata": {},
   "outputs": [],
   "source": [
    "import pandas as pd\n",
    "import numpy as np\n",
    "import seaborn as sns\n",
    "import matplotlib.pyplot as plt\n",
    "from tqdm import tqdm"
   ]
  },
  {
   "cell_type": "code",
   "execution_count": null,
   "id": "8b78ea1f",
   "metadata": {},
   "outputs": [],
   "source": [
    "from numpy import mean\n",
    "\n",
    "from sklearn.model_selection import RepeatedStratifiedKFold, cross_val_score, train_test_split\n",
    "from sklearn.metrics import accuracy_score, classification_report\n",
    "from sklearn.feature_selection import SelectFromModel, RFECV, RFE\n",
    "from sklearn.ensemble import RandomForestClassifier\n",
    "\n",
    "import warnings"
   ]
  },
  {
   "cell_type": "code",
   "execution_count": null,
   "id": "7a6be552",
   "metadata": {},
   "outputs": [],
   "source": [
    "from DataPreparation import DataPreparation"
   ]
  },
  {
   "cell_type": "code",
   "execution_count": null,
   "id": "b48a6c9b",
   "metadata": {},
   "outputs": [],
   "source": [
    "pics = './images'"
   ]
  },
  {
   "cell_type": "code",
   "execution_count": null,
   "id": "c051a65f",
   "metadata": {},
   "outputs": [],
   "source": [
    "df = pd.read_csv('./data/balanced_dataframe.csv', index_col=None)\n",
    "df.head()"
   ]
  },
  {
   "cell_type": "code",
   "execution_count": null,
   "id": "422b98ef",
   "metadata": {},
   "outputs": [],
   "source": [
    "X = df.drop(columns=['label'])\n",
    "y = df['label']"
   ]
  },
  {
   "cell_type": "code",
   "execution_count": null,
   "id": "cd4adc54",
   "metadata": {},
   "outputs": [],
   "source": [
    "X_train, X_test, y_train, y_test = train_test_split(X, y, \n",
    "                                                    test_size=0.3, \n",
    "                                                    random_state=42,\n",
    "                                                    stratify=y\n",
    "                                                    )\n",
    "y_test.value_counts()"
   ]
  },
  {
   "cell_type": "code",
   "execution_count": null,
   "id": "286da8a7",
   "metadata": {},
   "outputs": [],
   "source": [
    "data_preparation = DataPreparation(X_train, X_test, y_train, y_test)\n",
    "\n",
    "X_train, X_test, y_train, y_test = data_preparation.clean_dataset()\n",
    "feats = data_preparation.feature_names\n",
    "X_train.shape"
   ]
  },
  {
   "cell_type": "markdown",
   "id": "52515890-7b35-4d56-9b1b-037b02f3ae69",
   "metadata": {},
   "source": [
    "## Feature selection"
   ]
  },
  {
   "cell_type": "markdown",
   "id": "883cd69c-56ed-498a-b7f0-f5d10fdd23d4",
   "metadata": {},
   "source": [
    "### Feature selection using Random Forest Classifier"
   ]
  },
  {
   "cell_type": "code",
   "execution_count": null,
   "id": "783ea50b-69d3-4e52-85fa-7969ec4bd7c8",
   "metadata": {},
   "outputs": [],
   "source": [
    "Rtree_clf = RandomForestClassifier(random_state=42)\n",
    "Rtree_clf = Rtree_clf.fit(X_train,y_train)\n",
    "model = SelectFromModel(Rtree_clf, prefit=True)\n",
    "RF_tree_featuresTrain = X_train.loc[:, model.get_support()]\n",
    "RF_tree_featuresTest = X_test.loc[:, model.get_support()]\n",
    "warnings.filterwarnings('ignore')\n",
    "\n",
    "importances = Rtree_clf.feature_importances_\n",
    "std = np.std([tree.feature_importances_ for tree in Rtree_clf.estimators_],axis=0)\n",
    "indices = np.argsort(importances)[::-1]\n",
    "indices = indices[:200]"
   ]
  },
  {
   "cell_type": "code",
   "execution_count": null,
   "id": "f181d7a3-bbc7-4f7c-9bdf-8410e9a6b464",
   "metadata": {},
   "outputs": [],
   "source": [
    "top_20_rf = feats[indices[:20]]\n",
    "top_20_rf"
   ]
  },
  {
   "cell_type": "code",
   "execution_count": null,
   "id": "1102c2b6-1a79-435f-b285-54ad49ef1483",
   "metadata": {},
   "outputs": [],
   "source": [
    "feature_scores = pd.Series(Rtree_clf.feature_importances_, index=X_train.columns).sort_values(ascending=False)\n",
    "f, ax = plt.subplots(figsize=(10, 10))\n",
    "ax = sns.barplot(x=importances[indices][:20], y=top_20_rf)\n",
    "ax.set_title(\"Top 20 features with the most importnace score from RFC\")\n",
    "ax.set_xlabel(\"Feature importance score\")\n",
    "plt.autoscale()\n",
    "# plt.show()\n",
    "plt.savefig(f'{pics}/rf_feat_score.png')"
   ]
  },
  {
   "cell_type": "code",
   "execution_count": null,
   "id": "11a7b6b7-ce3c-4f96-b81a-0fab1465413b",
   "metadata": {},
   "outputs": [],
   "source": [
    "plt.figure(1, figsize=(10, 10))\n",
    "plt.title(\"Feature importances\")\n",
    "plt.xlabel(\"# of Features \")\n",
    "plt.ylabel(\"Importance Score\")\n",
    "plt.bar(range(len(importances[indices])), importances[indices], color=\"r\", yerr=std[indices], align=\"center\")\n",
    "plt.xlim([0, len(importances[indices])])\n",
    "plt.show()\n",
    "# plt.savefig(f'{pics}/rf_feat_import.png')"
   ]
  },
  {
   "cell_type": "markdown",
   "id": "1dc500be-ff0d-4dc6-ac5d-74e822186f85",
   "metadata": {},
   "source": [
    "### 1.13.3. Recursive Feature Elmination"
   ]
  },
  {
   "cell_type": "code",
   "execution_count": null,
   "id": "ff9d1fa3-1bfe-4132-b663-0f28245c96dd",
   "metadata": {},
   "outputs": [],
   "source": [
    "clf = RandomForestClassifier(n_estimators=50, max_depth=20)\n",
    "min_features_to_select = 10\n",
    "cv = RepeatedStratifiedKFold(n_splits=10, n_repeats=3, random_state=1)\n",
    "\n",
    "rfecv = RFECV(\n",
    "    estimator=clf,\n",
    "    step=1,\n",
    "    cv=cv,\n",
    "    scoring=\"accuracy\",\n",
    "    min_features_to_select=min_features_to_select,\n",
    "    n_jobs=-1,\n",
    ")\n",
    "\n",
    "# size = 6050\n",
    "size = X_train.shape[0]\n",
    "rfecv.fit(X_train[:size], y_train[:size])\n",
    "print('Optimal number of features :', rfecv.n_features_)"
   ]
  },
  {
   "cell_type": "code",
   "execution_count": null,
   "id": "22924174-7d44-4832-add6-e82170b994e1",
   "metadata": {},
   "outputs": [],
   "source": [
    "fig, ax = plt.subplots(figsize=(10, 8))\n",
    "n_scores = len(rfecv.cv_results_[\"mean_test_score\"])\n",
    "plt.xlabel(\"Number of features selected\")\n",
    "plt.ylabel(\"Mean test accuracy\")\n",
    "plt.errorbar(\n",
    "    range(min_features_to_select, n_scores + min_features_to_select),\n",
    "    rfecv.cv_results_[\"mean_test_score\"],\n",
    "    yerr=rfecv.cv_results_[\"std_test_score\"],\n",
    ")\n",
    "plt.title(\"Recursive Feature Elimination \\nwith correlated features\")\n",
    "# plt.show()\n",
    "plt.savefig(f'{pics}/rfe_with_corr_feat.png')"
   ]
  },
  {
   "cell_type": "markdown",
   "id": "63ab68fe-a51e-4482-bd94-48cd6cc556c0",
   "metadata": {},
   "source": [
    "### Applying RFE with optimal number of features found in RFECV"
   ]
  },
  {
   "cell_type": "code",
   "execution_count": null,
   "id": "abca9228-cd70-4e90-bbd0-3cae7d5eac63",
   "metadata": {},
   "outputs": [],
   "source": [
    "clf = RandomForestClassifier(n_estimators=50, max_depth=20, random_state=42)\n",
    "rfe = RFE(estimator=clf, n_features_to_select=rfecv.n_features_, step=1)\n",
    "rfe = rfe.fit(X_train, y_train)"
   ]
  },
  {
   "cell_type": "code",
   "execution_count": null,
   "id": "2fa4ff93-4900-4034-9eca-b1ecab0d9db6",
   "metadata": {},
   "outputs": [],
   "source": [
    "rfe_train = pd.DataFrame(X_train).loc[:, rfe.get_support()]\n",
    "rfe_test = pd.DataFrame(X_test).loc[:, rfe.get_support()]\n",
    "\n",
    "print(\"Train Accuracy:\",cross_val_score(clf,rfe_train,y_train, cv=5).mean())\n",
    "\n",
    "clf = clf.fit(rfe_train, y_train)\n",
    "y_pred = clf.predict(rfe_test)\n",
    "print()\n",
    "\n",
    "print(classification_report(y_test, y_pred))"
   ]
  },
  {
   "cell_type": "code",
   "execution_count": null,
   "id": "40741a4d-2b0f-4d43-bbf9-91d66772d6fc",
   "metadata": {},
   "outputs": [],
   "source": [
    "rfe_feats = feats[rfe.get_support()]\n",
    "rfe_feats"
   ]
  },
  {
   "cell_type": "code",
   "execution_count": null,
   "id": "79a4cec9-9e59-484f-a092-d319da3031f4",
   "metadata": {},
   "outputs": [],
   "source": [
    "importance = clf.feature_importances_\n",
    "std = np.std([tree.feature_importances_ for tree in Rtree_clf.estimators_],axis=0)\n",
    "forest_importances = pd.Series(importance, index=rfe_feats)\n",
    "top_20_rfe = forest_importances.sort_values(ascending=False)[:20]\n",
    "top_20_rfe"
   ]
  },
  {
   "cell_type": "code",
   "execution_count": null,
   "id": "6e9dbed0-628b-4161-8357-368a2f5ee67c",
   "metadata": {},
   "outputs": [],
   "source": [
    "fig, ax = plt.subplots(figsize=(10, 10))\n",
    "ax = sns.barplot(x=top_20_rfe, y=top_20_rfe.index)\n",
    "ax.set_title(\"Top 20 features with the most importance score from RFECV (RFC)\")\n",
    "ax.set_xlabel(\"Mean decrease in impurity\")\n",
    "fig.tight_layout()\n",
    "# plt.show()\n",
    "plt.savefig(f'{pics}/rfe_feat_score.png')"
   ]
  },
  {
   "cell_type": "code",
   "execution_count": null,
   "id": "bbb04b10-7328-4789-8f7f-47d85e6c3a85",
   "metadata": {},
   "outputs": [],
   "source": []
  },
  {
   "cell_type": "code",
   "execution_count": null,
   "id": "4dc272cd-99a0-4763-8111-47154457f903",
   "metadata": {},
   "outputs": [],
   "source": [
    "fig, (ax1, ax2) = plt.subplots(1,2, figsize=(16,5))\n",
    "fig.suptitle(\"Top 20 features with the most importance score\")\n",
    "ax1 = sns.barplot(x=importances[indices][:20], y=top_20_rf, ax=ax1)\n",
    "ax1.plot()\n",
    "ax1.set_title(\"RFC\")\n",
    "ax2 = sns.barplot(x=top_20_rfe, y=top_20_rfe.index, ax=ax2)\n",
    "ax2.set_title(\"RFECV\")\n",
    "ax2.plot()\n",
    "plt.autoscale()\n",
    "fig.tight_layout()\n",
    "# plt.show()\n",
    "plt.savefig(f'{pics}/feat_score_comb.png')"
   ]
  },
  {
   "cell_type": "code",
   "execution_count": null,
   "id": "0833a835-a8cf-4cb0-919c-0c2793d77fa3",
   "metadata": {},
   "outputs": [],
   "source": []
  }
 ],
 "metadata": {
  "kernelspec": {
   "display_name": "Python 3 (ipykernel)",
   "language": "python",
   "name": "python3"
  },
  "language_info": {
   "codemirror_mode": {
    "name": "ipython",
    "version": 3
   },
   "file_extension": ".py",
   "mimetype": "text/x-python",
   "name": "python",
   "nbconvert_exporter": "python",
   "pygments_lexer": "ipython3",
   "version": "3.8.10"
  }
 },
 "nbformat": 4,
 "nbformat_minor": 5
}
