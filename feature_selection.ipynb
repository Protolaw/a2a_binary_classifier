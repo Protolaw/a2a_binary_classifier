{
 "cells": [
  {
   "cell_type": "code",
   "execution_count": 1,
   "id": "cd8c5847-53ac-4a9f-be31-9dd40d3541d1",
   "metadata": {},
   "outputs": [],
   "source": [
    "import pandas as pd\n",
    "import numpy as np\n",
    "import seaborn as sns\n",
    "import matplotlib.pyplot as plt\n",
    "from tqdm import tqdm"
   ]
  },
  {
   "cell_type": "code",
   "execution_count": 2,
   "id": "8b78ea1f",
   "metadata": {},
   "outputs": [],
   "source": [
    "from numpy import mean\n",
    "from sklearn import svm\n",
    "from sklearn.model_selection import RepeatedStratifiedKFold, cross_val_score, train_test_split\n",
    "from sklearn.metrics import accuracy_score, classification_report\n",
    "from sklearn.inspection import permutation_importance\n",
    "\n",
    "from sklearn.feature_selection import SelectFromModel\n",
    "from sklearn.ensemble import RandomForestClassifier\n",
    "\n",
    "import warnings"
   ]
  },
  {
   "cell_type": "code",
   "execution_count": 3,
   "id": "7a6be552",
   "metadata": {},
   "outputs": [],
   "source": [
    "from DataPreparation import DataPreparation"
   ]
  },
  {
   "cell_type": "code",
   "execution_count": 4,
   "id": "b48a6c9b",
   "metadata": {},
   "outputs": [],
   "source": [
    "pics = './images'"
   ]
  },
  {
   "cell_type": "code",
   "execution_count": 5,
   "id": "c051a65f",
   "metadata": {},
   "outputs": [
    {
     "data": {
      "text/html": [
       "<div>\n",
       "<style scoped>\n",
       "    .dataframe tbody tr th:only-of-type {\n",
       "        vertical-align: middle;\n",
       "    }\n",
       "\n",
       "    .dataframe tbody tr th {\n",
       "        vertical-align: top;\n",
       "    }\n",
       "\n",
       "    .dataframe thead th {\n",
       "        text-align: right;\n",
       "    }\n",
       "</style>\n",
       "<table border=\"1\" class=\"dataframe\">\n",
       "  <thead>\n",
       "    <tr style=\"text-align: right;\">\n",
       "      <th></th>\n",
       "      <th>MaxAbsEStateIndex</th>\n",
       "      <th>MinAbsEStateIndex</th>\n",
       "      <th>qed</th>\n",
       "      <th>SPS</th>\n",
       "      <th>MaxPartialCharge</th>\n",
       "      <th>MinPartialCharge</th>\n",
       "      <th>FpDensityMorgan3</th>\n",
       "      <th>BCUT2D_MWHI</th>\n",
       "      <th>BCUT2D_MWLOW</th>\n",
       "      <th>BCUT2D_CHGHI</th>\n",
       "      <th>...</th>\n",
       "      <th>fr_Nhpyrrole</th>\n",
       "      <th>fr_aldehyde</th>\n",
       "      <th>fr_amidine</th>\n",
       "      <th>fr_aryl_methyl</th>\n",
       "      <th>fr_benzene</th>\n",
       "      <th>fr_benzodiazepine</th>\n",
       "      <th>fr_diazo</th>\n",
       "      <th>fr_halogen</th>\n",
       "      <th>fr_hdrzine</th>\n",
       "      <th>label</th>\n",
       "    </tr>\n",
       "  </thead>\n",
       "  <tbody>\n",
       "    <tr>\n",
       "      <th>0</th>\n",
       "      <td>10.337455</td>\n",
       "      <td>-1.272753</td>\n",
       "      <td>23.375000</td>\n",
       "      <td>505.329</td>\n",
       "      <td>79.918731</td>\n",
       "      <td>10.123678</td>\n",
       "      <td>9.103951</td>\n",
       "      <td>-0.051090</td>\n",
       "      <td>3.459112</td>\n",
       "      <td>1.375036</td>\n",
       "      <td>...</td>\n",
       "      <td>0.0</td>\n",
       "      <td>0.0</td>\n",
       "      <td>0.0</td>\n",
       "      <td>0.0</td>\n",
       "      <td>0.0</td>\n",
       "      <td>0.0</td>\n",
       "      <td>0.0</td>\n",
       "      <td>0.0</td>\n",
       "      <td>0.0</td>\n",
       "      <td>1</td>\n",
       "    </tr>\n",
       "    <tr>\n",
       "      <th>1</th>\n",
       "      <td>10.335047</td>\n",
       "      <td>-1.271941</td>\n",
       "      <td>23.375000</td>\n",
       "      <td>505.329</td>\n",
       "      <td>79.918731</td>\n",
       "      <td>10.124302</td>\n",
       "      <td>9.103026</td>\n",
       "      <td>-0.051090</td>\n",
       "      <td>3.450909</td>\n",
       "      <td>1.367373</td>\n",
       "      <td>...</td>\n",
       "      <td>0.0</td>\n",
       "      <td>0.0</td>\n",
       "      <td>0.0</td>\n",
       "      <td>0.0</td>\n",
       "      <td>0.0</td>\n",
       "      <td>0.0</td>\n",
       "      <td>0.0</td>\n",
       "      <td>0.0</td>\n",
       "      <td>0.0</td>\n",
       "      <td>1</td>\n",
       "    </tr>\n",
       "    <tr>\n",
       "      <th>2</th>\n",
       "      <td>10.333078</td>\n",
       "      <td>-1.271281</td>\n",
       "      <td>23.375000</td>\n",
       "      <td>505.329</td>\n",
       "      <td>79.918731</td>\n",
       "      <td>10.124439</td>\n",
       "      <td>9.103025</td>\n",
       "      <td>-0.051090</td>\n",
       "      <td>3.448581</td>\n",
       "      <td>1.360843</td>\n",
       "      <td>...</td>\n",
       "      <td>0.0</td>\n",
       "      <td>0.0</td>\n",
       "      <td>0.0</td>\n",
       "      <td>0.0</td>\n",
       "      <td>0.0</td>\n",
       "      <td>0.0</td>\n",
       "      <td>0.0</td>\n",
       "      <td>0.0</td>\n",
       "      <td>0.0</td>\n",
       "      <td>1</td>\n",
       "    </tr>\n",
       "    <tr>\n",
       "      <th>3</th>\n",
       "      <td>10.355554</td>\n",
       "      <td>-1.235039</td>\n",
       "      <td>25.218750</td>\n",
       "      <td>440.504</td>\n",
       "      <td>16.562573</td>\n",
       "      <td>9.897992</td>\n",
       "      <td>5.825210</td>\n",
       "      <td>-0.051059</td>\n",
       "      <td>3.346646</td>\n",
       "      <td>1.323034</td>\n",
       "      <td>...</td>\n",
       "      <td>0.0</td>\n",
       "      <td>0.0</td>\n",
       "      <td>0.0</td>\n",
       "      <td>0.0</td>\n",
       "      <td>0.0</td>\n",
       "      <td>0.0</td>\n",
       "      <td>0.0</td>\n",
       "      <td>0.0</td>\n",
       "      <td>0.0</td>\n",
       "      <td>1</td>\n",
       "    </tr>\n",
       "    <tr>\n",
       "      <th>4</th>\n",
       "      <td>6.090409</td>\n",
       "      <td>0.226017</td>\n",
       "      <td>12.285714</td>\n",
       "      <td>362.614</td>\n",
       "      <td>79.918731</td>\n",
       "      <td>10.103988</td>\n",
       "      <td>9.101988</td>\n",
       "      <td>0.552888</td>\n",
       "      <td>3.020157</td>\n",
       "      <td>1.976391</td>\n",
       "      <td>...</td>\n",
       "      <td>0.0</td>\n",
       "      <td>0.0</td>\n",
       "      <td>0.0</td>\n",
       "      <td>0.0</td>\n",
       "      <td>0.0</td>\n",
       "      <td>0.0</td>\n",
       "      <td>0.0</td>\n",
       "      <td>0.0</td>\n",
       "      <td>0.0</td>\n",
       "      <td>1</td>\n",
       "    </tr>\n",
       "  </tbody>\n",
       "</table>\n",
       "<p>5 rows × 113 columns</p>\n",
       "</div>"
      ],
      "text/plain": [
       "   MaxAbsEStateIndex  MinAbsEStateIndex        qed      SPS  MaxPartialCharge  \\\n",
       "0          10.337455          -1.272753  23.375000  505.329         79.918731   \n",
       "1          10.335047          -1.271941  23.375000  505.329         79.918731   \n",
       "2          10.333078          -1.271281  23.375000  505.329         79.918731   \n",
       "3          10.355554          -1.235039  25.218750  440.504         16.562573   \n",
       "4           6.090409           0.226017  12.285714  362.614         79.918731   \n",
       "\n",
       "   MinPartialCharge  FpDensityMorgan3  BCUT2D_MWHI  BCUT2D_MWLOW  \\\n",
       "0         10.123678          9.103951    -0.051090      3.459112   \n",
       "1         10.124302          9.103026    -0.051090      3.450909   \n",
       "2         10.124439          9.103025    -0.051090      3.448581   \n",
       "3          9.897992          5.825210    -0.051059      3.346646   \n",
       "4         10.103988          9.101988     0.552888      3.020157   \n",
       "\n",
       "   BCUT2D_CHGHI  ...  fr_Nhpyrrole  fr_aldehyde  fr_amidine  fr_aryl_methyl  \\\n",
       "0      1.375036  ...           0.0          0.0         0.0             0.0   \n",
       "1      1.367373  ...           0.0          0.0         0.0             0.0   \n",
       "2      1.360843  ...           0.0          0.0         0.0             0.0   \n",
       "3      1.323034  ...           0.0          0.0         0.0             0.0   \n",
       "4      1.976391  ...           0.0          0.0         0.0             0.0   \n",
       "\n",
       "   fr_benzene  fr_benzodiazepine  fr_diazo  fr_halogen  fr_hdrzine  label  \n",
       "0         0.0                0.0       0.0         0.0         0.0      1  \n",
       "1         0.0                0.0       0.0         0.0         0.0      1  \n",
       "2         0.0                0.0       0.0         0.0         0.0      1  \n",
       "3         0.0                0.0       0.0         0.0         0.0      1  \n",
       "4         0.0                0.0       0.0         0.0         0.0      1  \n",
       "\n",
       "[5 rows x 113 columns]"
      ]
     },
     "execution_count": 5,
     "metadata": {},
     "output_type": "execute_result"
    }
   ],
   "source": [
    "df = pd.read_csv('./data/balanced_dataframe.csv', index_col=None)\n",
    "df.head()"
   ]
  },
  {
   "cell_type": "code",
   "execution_count": 6,
   "id": "422b98ef",
   "metadata": {},
   "outputs": [],
   "source": [
    "X = df.drop(columns=['label'])\n",
    "y = df['label']"
   ]
  },
  {
   "cell_type": "code",
   "execution_count": 7,
   "id": "cd4adc54",
   "metadata": {},
   "outputs": [
    {
     "data": {
      "text/plain": [
       "0    915\n",
       "1    915\n",
       "Name: label, dtype: int64"
      ]
     },
     "execution_count": 7,
     "metadata": {},
     "output_type": "execute_result"
    }
   ],
   "source": [
    "X_train, X_test, y_train, y_test = train_test_split(X, y, \n",
    "                                                    test_size=0.3, \n",
    "                                                    random_state=42,\n",
    "                                                    stratify=y\n",
    "                                                    )\n",
    "y_test.value_counts()"
   ]
  },
  {
   "cell_type": "code",
   "execution_count": 8,
   "id": "286da8a7",
   "metadata": {},
   "outputs": [],
   "source": [
    "data_preparation = DataPreparation(X_train, X_test, y_train, y_test)\n",
    "\n",
    "# # get scaled clean data\n",
    "# # use StandartScaler\n",
    "X_train, X_test, y_train, y_test = data_preparation.clean_dataset()"
   ]
  },
  {
   "cell_type": "markdown",
   "id": "52515890-7b35-4d56-9b1b-037b02f3ae69",
   "metadata": {},
   "source": [
    "## Feature selection"
   ]
  },
  {
   "cell_type": "markdown",
   "id": "883cd69c-56ed-498a-b7f0-f5d10fdd23d4",
   "metadata": {},
   "source": [
    "### Feature selection using Random Forest Classifier"
   ]
  },
  {
   "cell_type": "code",
   "execution_count": 9,
   "id": "783ea50b-69d3-4e52-85fa-7969ec4bd7c8",
   "metadata": {},
   "outputs": [],
   "source": [
    "Rtree_clf = RandomForestClassifier()\n",
    "Rtree_clf = Rtree_clf.fit(X_train,y_train)\n",
    "model = SelectFromModel(Rtree_clf, prefit=True)\n",
    "RF_tree_featuresTrain = X_train.loc[:, model.get_support()]\n",
    "RF_tree_featuresTest = X_test.loc[:, model.get_support()]\n",
    "warnings.filterwarnings('ignore')\n",
    "\n",
    "importances = Rtree_clf.feature_importances_\n",
    "std = np.std([tree.feature_importances_ for tree in Rtree_clf.estimators_],axis=0)\n",
    "indices = np.argsort(importances)[::-1]\n",
    "indices.shape\n",
    "indices = indices[:200]"
   ]
  },
  {
   "cell_type": "code",
   "execution_count": 10,
   "id": "2685b102-658f-4b10-8fc3-dcb7f7de5e9a",
   "metadata": {},
   "outputs": [
    {
     "name": "stdout",
     "output_type": "stream",
     "text": [
      "83\n"
     ]
    }
   ],
   "source": [
    "print(len(importances[indices]))"
   ]
  },
  {
   "cell_type": "code",
   "execution_count": 24,
   "id": "f181d7a3-bbc7-4f7c-9bdf-8410e9a6b464",
   "metadata": {},
   "outputs": [
    {
     "data": {
      "text/plain": [
       "array([39, 27,  6, 32, 17, 73, 51, 12, 24,  2, 71,  7,  5,  1, 49, 62, 34,\n",
       "        4, 57, 42])"
      ]
     },
     "execution_count": 24,
     "metadata": {},
     "output_type": "execute_result"
    }
   ],
   "source": [
    "indices[:20]"
   ]
  },
  {
   "cell_type": "code",
   "execution_count": 12,
   "id": "11a7b6b7-ce3c-4f96-b81a-0fab1465413b",
   "metadata": {},
   "outputs": [
    {
     "data": {
      "image/png": "[encoded data removed]",
      "text/plain": [
       "<Figure size 720x720 with 1 Axes>"
      ]
     },
     "metadata": {
      "needs_background": "light"
     },
     "output_type": "display_data"
    }
   ],
   "source": [
    "plt.figure(1, figsize=(10, 10))\n",
    "plt.title(\"Feature importances\")\n",
    "plt.xlabel(\"# of Features \")\n",
    "plt.ylabel(\"Importance Score\")\n",
    "plt.bar(range(len(importances[indices])), importances[indices], color=\"r\", yerr=std[indices], align=\"center\")\n",
    "plt.xlim([0, len(importances[indices])])\n",
    "plt.show()\n",
    "# plt.savefig(f'{pics}/rf_feat_import.png')"
   ]
  },
  {
   "cell_type": "markdown",
   "id": "1dc500be-ff0d-4dc6-ac5d-74e822186f85",
   "metadata": {},
   "source": [
    "### 1.13.3. Recursive Feature Elmination"
   ]
  },
  {
   "cell_type": "code",
   "execution_count": 13,
   "id": "6381cedb-018e-4436-8483-a40642d162c0",
   "metadata": {},
   "outputs": [],
   "source": [
    "from sklearn.feature_selection import RFECV, RFE\n",
    "from sklearn.ensemble import RandomForestRegressor, RandomForestClassifier"
   ]
  },
  {
   "cell_type": "code",
   "execution_count": 15,
   "id": "ff9d1fa3-1bfe-4132-b663-0f28245c96dd",
   "metadata": {},
   "outputs": [
    {
     "name": "stdout",
     "output_type": "stream",
     "text": [
      "Optimal number of features : 93\n"
     ]
    }
   ],
   "source": [
    "clf = RandomForestClassifier(n_estimators=50, max_depth=10)\n",
    "min_features_to_select = 10\n",
    "cv = RepeatedStratifiedKFold(n_splits=10, n_repeats=3, random_state=1)\n",
    "\n",
    "rfecv = RFECV(\n",
    "    estimator=clf,\n",
    "    step=1,\n",
    "    cv=cv,\n",
    "    scoring=\"accuracy\",\n",
    "    min_features_to_select=min_features_to_select,\n",
    "    n_jobs=-1,\n",
    ")\n",
    "\n",
    "size = 6050\n",
    "rfecv.fit(X[:size], y[:size])\n",
    "print('Optimal number of features :', rfecv.n_features_)"
   ]
  },
  {
   "cell_type": "code",
   "execution_count": 16,
   "id": "22924174-7d44-4832-add6-e82170b994e1",
   "metadata": {},
   "outputs": [
    {
     "data": {
      "image/png": "[encoded data removed]",
      "text/plain": [
       "<Figure size 720x576 with 1 Axes>"
      ]
     },
     "metadata": {
      "needs_background": "light"
     },
     "output_type": "display_data"
    }
   ],
   "source": [
    "fig, ax = plt.subplots(figsize=(10, 8))\n",
    "n_scores = len(rfecv.cv_results_[\"mean_test_score\"])\n",
    "plt.xlabel(\"Number of features selected\")\n",
    "plt.ylabel(\"Mean test accuracy\")\n",
    "plt.errorbar(\n",
    "    range(min_features_to_select, n_scores + min_features_to_select),\n",
    "    rfecv.cv_results_[\"mean_test_score\"],\n",
    "    yerr=rfecv.cv_results_[\"std_test_score\"],\n",
    ")\n",
    "plt.title(\"Recursive Feature Elimination \\nwith correlated features\")\n",
    "plt.show()\n",
    "# plt.savefig(f'{pics}/rfe_with_corr_feat.png')"
   ]
  },
  {
   "cell_type": "markdown",
   "id": "63ab68fe-a51e-4482-bd94-48cd6cc556c0",
   "metadata": {},
   "source": [
    "### Applying RFE with optimal number of features found in RFECV"
   ]
  },
  {
   "cell_type": "code",
   "execution_count": 17,
   "id": "abca9228-cd70-4e90-bbd0-3cae7d5eac63",
   "metadata": {},
   "outputs": [],
   "source": [
    "clf = RandomForestClassifier(n_estimators=50, max_depth=10)\n",
    "rfe = RFE(estimator=clf, n_features_to_select=rfecv.n_features_, step=1)\n",
    "rfe = rfe.fit(X_train, y_train)"
   ]
  },
  {
   "cell_type": "code",
   "execution_count": 18,
   "id": "2fa4ff93-4900-4034-9eca-b1ecab0d9db6",
   "metadata": {},
   "outputs": [
    {
     "name": "stdout",
     "output_type": "stream",
     "text": [
      "Train Accuracy: 0.962295081967213\n",
      "Test Accuracy: 0.966120218579235\n",
      "              precision    recall  f1-score   support\n",
      "\n",
      "           0       0.99      0.94      0.97       915\n",
      "           1       0.95      0.99      0.97       915\n",
      "\n",
      "    accuracy                           0.97      1830\n",
      "   macro avg       0.97      0.97      0.97      1830\n",
      "weighted avg       0.97      0.97      0.97      1830\n",
      "\n"
     ]
    }
   ],
   "source": [
    "rfe_train = pd.DataFrame(X_train).loc[:, rfe.get_support()]\n",
    "rfe_test = pd.DataFrame(X_test).loc[:, rfe.get_support()]\n",
    "\n",
    "print(\"Train Accuracy:\",cross_val_score(clf,rfe_train,y_train, cv=5).mean())\n",
    "\n",
    "clf = clf.fit(rfe_train, y_train)\n",
    "y_pred = clf.predict(rfe_test)\n",
    "print(\"Test Accuracy:\", accuracy_score(y_pred, y_test))\n",
    "\n",
    "print(classification_report(y_test, y_pred))"
   ]
  },
  {
   "cell_type": "code",
   "execution_count": 20,
   "id": "40741a4d-2b0f-4d43-bbf9-91d66772d6fc",
   "metadata": {},
   "outputs": [
    {
     "data": {
      "text/html": [
       "<div>\n",
       "<style scoped>\n",
       "    .dataframe tbody tr th:only-of-type {\n",
       "        vertical-align: middle;\n",
       "    }\n",
       "\n",
       "    .dataframe tbody tr th {\n",
       "        vertical-align: top;\n",
       "    }\n",
       "\n",
       "    .dataframe thead th {\n",
       "        text-align: right;\n",
       "    }\n",
       "</style>\n",
       "<table border=\"1\" class=\"dataframe\">\n",
       "  <thead>\n",
       "    <tr style=\"text-align: right;\">\n",
       "      <th></th>\n",
       "      <th>0</th>\n",
       "      <th>1</th>\n",
       "      <th>2</th>\n",
       "      <th>3</th>\n",
       "      <th>4</th>\n",
       "      <th>5</th>\n",
       "      <th>6</th>\n",
       "      <th>7</th>\n",
       "      <th>8</th>\n",
       "      <th>9</th>\n",
       "      <th>...</th>\n",
       "      <th>73</th>\n",
       "      <th>74</th>\n",
       "      <th>75</th>\n",
       "      <th>76</th>\n",
       "      <th>77</th>\n",
       "      <th>78</th>\n",
       "      <th>79</th>\n",
       "      <th>80</th>\n",
       "      <th>81</th>\n",
       "      <th>82</th>\n",
       "    </tr>\n",
       "  </thead>\n",
       "  <tbody>\n",
       "    <tr>\n",
       "      <th>0</th>\n",
       "      <td>0.559602</td>\n",
       "      <td>0.611651</td>\n",
       "      <td>-0.422226</td>\n",
       "      <td>1.211841</td>\n",
       "      <td>-0.585803</td>\n",
       "      <td>0.059382</td>\n",
       "      <td>-0.137254</td>\n",
       "      <td>1.054514</td>\n",
       "      <td>-1.179718</td>\n",
       "      <td>0.135853</td>\n",
       "      <td>...</td>\n",
       "      <td>-0.594943</td>\n",
       "      <td>-0.390064</td>\n",
       "      <td>-0.33739</td>\n",
       "      <td>-0.383465</td>\n",
       "      <td>-0.328506</td>\n",
       "      <td>-0.384748</td>\n",
       "      <td>-0.337718</td>\n",
       "      <td>-0.299921</td>\n",
       "      <td>-0.195439</td>\n",
       "      <td>-0.337585</td>\n",
       "    </tr>\n",
       "    <tr>\n",
       "      <th>1</th>\n",
       "      <td>0.428572</td>\n",
       "      <td>0.503159</td>\n",
       "      <td>-0.942970</td>\n",
       "      <td>-0.375029</td>\n",
       "      <td>0.310526</td>\n",
       "      <td>0.386482</td>\n",
       "      <td>0.709755</td>\n",
       "      <td>0.766113</td>\n",
       "      <td>-0.162462</td>\n",
       "      <td>-0.134427</td>\n",
       "      <td>...</td>\n",
       "      <td>1.645274</td>\n",
       "      <td>-0.390064</td>\n",
       "      <td>-0.33739</td>\n",
       "      <td>-0.383465</td>\n",
       "      <td>-0.328506</td>\n",
       "      <td>-0.384748</td>\n",
       "      <td>-0.337718</td>\n",
       "      <td>-0.299921</td>\n",
       "      <td>-0.195439</td>\n",
       "      <td>-0.337585</td>\n",
       "    </tr>\n",
       "    <tr>\n",
       "      <th>2</th>\n",
       "      <td>-2.415560</td>\n",
       "      <td>0.933966</td>\n",
       "      <td>-0.864290</td>\n",
       "      <td>-1.419216</td>\n",
       "      <td>0.500732</td>\n",
       "      <td>0.417429</td>\n",
       "      <td>1.502564</td>\n",
       "      <td>-0.105369</td>\n",
       "      <td>0.984164</td>\n",
       "      <td>-0.136860</td>\n",
       "      <td>...</td>\n",
       "      <td>-0.594943</td>\n",
       "      <td>-0.390064</td>\n",
       "      <td>-0.33739</td>\n",
       "      <td>-0.383465</td>\n",
       "      <td>-0.328506</td>\n",
       "      <td>-0.384748</td>\n",
       "      <td>-0.337718</td>\n",
       "      <td>-0.299921</td>\n",
       "      <td>-0.195439</td>\n",
       "      <td>-0.337585</td>\n",
       "    </tr>\n",
       "    <tr>\n",
       "      <th>3</th>\n",
       "      <td>-0.573217</td>\n",
       "      <td>-0.226000</td>\n",
       "      <td>0.976004</td>\n",
       "      <td>0.700514</td>\n",
       "      <td>-0.580937</td>\n",
       "      <td>0.172790</td>\n",
       "      <td>0.014556</td>\n",
       "      <td>0.683626</td>\n",
       "      <td>-0.530271</td>\n",
       "      <td>-0.111818</td>\n",
       "      <td>...</td>\n",
       "      <td>1.645274</td>\n",
       "      <td>-0.390064</td>\n",
       "      <td>-0.33739</td>\n",
       "      <td>-0.383465</td>\n",
       "      <td>-0.328506</td>\n",
       "      <td>-0.384748</td>\n",
       "      <td>-0.337718</td>\n",
       "      <td>-0.299921</td>\n",
       "      <td>20.096993</td>\n",
       "      <td>-0.337585</td>\n",
       "    </tr>\n",
       "    <tr>\n",
       "      <th>4</th>\n",
       "      <td>0.450529</td>\n",
       "      <td>0.336894</td>\n",
       "      <td>-0.687366</td>\n",
       "      <td>0.318551</td>\n",
       "      <td>-0.573277</td>\n",
       "      <td>0.523207</td>\n",
       "      <td>0.547022</td>\n",
       "      <td>1.281237</td>\n",
       "      <td>-1.038073</td>\n",
       "      <td>-0.097077</td>\n",
       "      <td>...</td>\n",
       "      <td>-0.594943</td>\n",
       "      <td>-0.390064</td>\n",
       "      <td>-0.33739</td>\n",
       "      <td>-0.383465</td>\n",
       "      <td>-0.328506</td>\n",
       "      <td>-0.384748</td>\n",
       "      <td>-0.337718</td>\n",
       "      <td>-0.299921</td>\n",
       "      <td>-0.195439</td>\n",
       "      <td>2.823571</td>\n",
       "    </tr>\n",
       "    <tr>\n",
       "      <th>...</th>\n",
       "      <td>...</td>\n",
       "      <td>...</td>\n",
       "      <td>...</td>\n",
       "      <td>...</td>\n",
       "      <td>...</td>\n",
       "      <td>...</td>\n",
       "      <td>...</td>\n",
       "      <td>...</td>\n",
       "      <td>...</td>\n",
       "      <td>...</td>\n",
       "      <td>...</td>\n",
       "      <td>...</td>\n",
       "      <td>...</td>\n",
       "      <td>...</td>\n",
       "      <td>...</td>\n",
       "      <td>...</td>\n",
       "      <td>...</td>\n",
       "      <td>...</td>\n",
       "      <td>...</td>\n",
       "      <td>...</td>\n",
       "      <td>...</td>\n",
       "    </tr>\n",
       "    <tr>\n",
       "      <th>4265</th>\n",
       "      <td>0.348495</td>\n",
       "      <td>0.193469</td>\n",
       "      <td>-0.614622</td>\n",
       "      <td>-0.742899</td>\n",
       "      <td>-0.582433</td>\n",
       "      <td>-0.017473</td>\n",
       "      <td>0.299106</td>\n",
       "      <td>-1.033241</td>\n",
       "      <td>0.500648</td>\n",
       "      <td>-0.136435</td>\n",
       "      <td>...</td>\n",
       "      <td>-0.594943</td>\n",
       "      <td>-0.390064</td>\n",
       "      <td>-0.33739</td>\n",
       "      <td>-0.383465</td>\n",
       "      <td>-0.328506</td>\n",
       "      <td>-0.384748</td>\n",
       "      <td>-0.337718</td>\n",
       "      <td>-0.299921</td>\n",
       "      <td>-0.195439</td>\n",
       "      <td>-0.337585</td>\n",
       "    </tr>\n",
       "    <tr>\n",
       "      <th>4266</th>\n",
       "      <td>-2.364028</td>\n",
       "      <td>0.909576</td>\n",
       "      <td>0.097230</td>\n",
       "      <td>0.385453</td>\n",
       "      <td>-0.586832</td>\n",
       "      <td>-0.131133</td>\n",
       "      <td>0.466740</td>\n",
       "      <td>1.210082</td>\n",
       "      <td>-1.095518</td>\n",
       "      <td>-0.107162</td>\n",
       "      <td>...</td>\n",
       "      <td>-0.594943</td>\n",
       "      <td>-0.390064</td>\n",
       "      <td>-0.33739</td>\n",
       "      <td>-0.383465</td>\n",
       "      <td>2.522551</td>\n",
       "      <td>-0.384748</td>\n",
       "      <td>-0.337718</td>\n",
       "      <td>-0.299921</td>\n",
       "      <td>-0.195439</td>\n",
       "      <td>-0.337585</td>\n",
       "    </tr>\n",
       "    <tr>\n",
       "      <th>4267</th>\n",
       "      <td>0.687308</td>\n",
       "      <td>0.651540</td>\n",
       "      <td>0.025443</td>\n",
       "      <td>1.644715</td>\n",
       "      <td>-0.584946</td>\n",
       "      <td>0.017749</td>\n",
       "      <td>-2.136747</td>\n",
       "      <td>1.607623</td>\n",
       "      <td>-0.724821</td>\n",
       "      <td>0.778785</td>\n",
       "      <td>...</td>\n",
       "      <td>-0.594943</td>\n",
       "      <td>3.165055</td>\n",
       "      <td>-0.33739</td>\n",
       "      <td>-0.383465</td>\n",
       "      <td>-0.328506</td>\n",
       "      <td>2.146648</td>\n",
       "      <td>2.611272</td>\n",
       "      <td>-0.299921</td>\n",
       "      <td>-0.195439</td>\n",
       "      <td>-0.337585</td>\n",
       "    </tr>\n",
       "    <tr>\n",
       "      <th>4268</th>\n",
       "      <td>-2.770428</td>\n",
       "      <td>0.629819</td>\n",
       "      <td>0.874111</td>\n",
       "      <td>0.675092</td>\n",
       "      <td>-0.629051</td>\n",
       "      <td>-0.145403</td>\n",
       "      <td>-1.961119</td>\n",
       "      <td>0.392894</td>\n",
       "      <td>-1.000049</td>\n",
       "      <td>-0.042477</td>\n",
       "      <td>...</td>\n",
       "      <td>1.645274</td>\n",
       "      <td>-0.390064</td>\n",
       "      <td>-0.33739</td>\n",
       "      <td>3.464706</td>\n",
       "      <td>-0.328506</td>\n",
       "      <td>-0.384748</td>\n",
       "      <td>2.611272</td>\n",
       "      <td>-0.299921</td>\n",
       "      <td>-0.195439</td>\n",
       "      <td>-0.337585</td>\n",
       "    </tr>\n",
       "    <tr>\n",
       "      <th>4269</th>\n",
       "      <td>0.446407</td>\n",
       "      <td>-1.621326</td>\n",
       "      <td>0.805390</td>\n",
       "      <td>2.049782</td>\n",
       "      <td>0.254819</td>\n",
       "      <td>0.049610</td>\n",
       "      <td>0.014578</td>\n",
       "      <td>1.043999</td>\n",
       "      <td>-1.050373</td>\n",
       "      <td>0.312889</td>\n",
       "      <td>...</td>\n",
       "      <td>1.645274</td>\n",
       "      <td>-0.390064</td>\n",
       "      <td>-0.33739</td>\n",
       "      <td>-0.383465</td>\n",
       "      <td>-0.328506</td>\n",
       "      <td>-0.384748</td>\n",
       "      <td>-0.337718</td>\n",
       "      <td>-0.299921</td>\n",
       "      <td>-0.195439</td>\n",
       "      <td>-0.337585</td>\n",
       "    </tr>\n",
       "  </tbody>\n",
       "</table>\n",
       "<p>4270 rows × 83 columns</p>\n",
       "</div>"
      ],
      "text/plain": [
       "            0         1         2         3         4         5         6   \\\n",
       "0     0.559602  0.611651 -0.422226  1.211841 -0.585803  0.059382 -0.137254   \n",
       "1     0.428572  0.503159 -0.942970 -0.375029  0.310526  0.386482  0.709755   \n",
       "2    -2.415560  0.933966 -0.864290 -1.419216  0.500732  0.417429  1.502564   \n",
       "3    -0.573217 -0.226000  0.976004  0.700514 -0.580937  0.172790  0.014556   \n",
       "4     0.450529  0.336894 -0.687366  0.318551 -0.573277  0.523207  0.547022   \n",
       "...        ...       ...       ...       ...       ...       ...       ...   \n",
       "4265  0.348495  0.193469 -0.614622 -0.742899 -0.582433 -0.017473  0.299106   \n",
       "4266 -2.364028  0.909576  0.097230  0.385453 -0.586832 -0.131133  0.466740   \n",
       "4267  0.687308  0.651540  0.025443  1.644715 -0.584946  0.017749 -2.136747   \n",
       "4268 -2.770428  0.629819  0.874111  0.675092 -0.629051 -0.145403 -1.961119   \n",
       "4269  0.446407 -1.621326  0.805390  2.049782  0.254819  0.049610  0.014578   \n",
       "\n",
       "            7         8         9   ...        73        74       75  \\\n",
       "0     1.054514 -1.179718  0.135853  ... -0.594943 -0.390064 -0.33739   \n",
       "1     0.766113 -0.162462 -0.134427  ...  1.645274 -0.390064 -0.33739   \n",
       "2    -0.105369  0.984164 -0.136860  ... -0.594943 -0.390064 -0.33739   \n",
       "3     0.683626 -0.530271 -0.111818  ...  1.645274 -0.390064 -0.33739   \n",
       "4     1.281237 -1.038073 -0.097077  ... -0.594943 -0.390064 -0.33739   \n",
       "...        ...       ...       ...  ...       ...       ...      ...   \n",
       "4265 -1.033241  0.500648 -0.136435  ... -0.594943 -0.390064 -0.33739   \n",
       "4266  1.210082 -1.095518 -0.107162  ... -0.594943 -0.390064 -0.33739   \n",
       "4267  1.607623 -0.724821  0.778785  ... -0.594943  3.165055 -0.33739   \n",
       "4268  0.392894 -1.000049 -0.042477  ...  1.645274 -0.390064 -0.33739   \n",
       "4269  1.043999 -1.050373  0.312889  ...  1.645274 -0.390064 -0.33739   \n",
       "\n",
       "            76        77        78        79        80         81        82  \n",
       "0    -0.383465 -0.328506 -0.384748 -0.337718 -0.299921  -0.195439 -0.337585  \n",
       "1    -0.383465 -0.328506 -0.384748 -0.337718 -0.299921  -0.195439 -0.337585  \n",
       "2    -0.383465 -0.328506 -0.384748 -0.337718 -0.299921  -0.195439 -0.337585  \n",
       "3    -0.383465 -0.328506 -0.384748 -0.337718 -0.299921  20.096993 -0.337585  \n",
       "4    -0.383465 -0.328506 -0.384748 -0.337718 -0.299921  -0.195439  2.823571  \n",
       "...        ...       ...       ...       ...       ...        ...       ...  \n",
       "4265 -0.383465 -0.328506 -0.384748 -0.337718 -0.299921  -0.195439 -0.337585  \n",
       "4266 -0.383465  2.522551 -0.384748 -0.337718 -0.299921  -0.195439 -0.337585  \n",
       "4267 -0.383465 -0.328506  2.146648  2.611272 -0.299921  -0.195439 -0.337585  \n",
       "4268  3.464706 -0.328506 -0.384748  2.611272 -0.299921  -0.195439 -0.337585  \n",
       "4269 -0.383465 -0.328506 -0.384748 -0.337718 -0.299921  -0.195439 -0.337585  \n",
       "\n",
       "[4270 rows x 83 columns]"
      ]
     },
     "execution_count": 20,
     "metadata": {},
     "output_type": "execute_result"
    }
   ],
   "source": []
  },
  {
   "cell_type": "markdown",
   "id": "171c8d30-b28c-46ef-9453-2bd8b8779faf",
   "metadata": {},
   "source": [
    "### Permutation importance"
   ]
  },
  {
   "cell_type": "code",
   "execution_count": 21,
   "id": "07927261-4374-407d-bc2c-53f05558a693",
   "metadata": {},
   "outputs": [],
   "source": [
    "svc = svm.SVC(C=1, gamma=0.0001, random_state=0)\n",
    "svc.fit(X_train, y_train)\n",
    "perm_importance = permutation_importance(svc, X_test, y_test, n_jobs=-1)\n",
    "features = np.array(X.columns)\n",
    "sorted_idx = perm_importance.importances_mean.argsort()"
   ]
  },
  {
   "cell_type": "markdown",
   "id": "f9092ca0-5c90-4825-8c57-902a4708e61e",
   "metadata": {},
   "source": [
    "#### Plot top 10 most important features"
   ]
  },
  {
   "cell_type": "code",
   "execution_count": 22,
   "id": "2f8dd789-4ebf-4959-a7b4-175f2d8dcb41",
   "metadata": {},
   "outputs": [
    {
     "data": {
      "image/png": "[encoded data removed]",
      "text/plain": [
       "<Figure size 432x432 with 1 Axes>"
      ]
     },
     "metadata": {
      "needs_background": "light"
     },
     "output_type": "display_data"
    }
   ],
   "source": [
    "fig, ax = plt.subplots(figsize=(6, 6))\n",
    "plt.barh(features[sorted_idx][-10:], perm_importance.importances_mean[sorted_idx][-10:])\n",
    "plt.xlabel(\"Permutation Importance\")\n",
    "plt.gcf().subplots_adjust(left=0.25)\n",
    "plt.show()\n",
    "# plt.savefig(f'{pics}/top10_feat_perm.png')"
   ]
  },
  {
   "cell_type": "markdown",
   "id": "4557c576-c05a-4e2c-82b5-cb0bf2f7334b",
   "metadata": {},
   "source": [
    "#### Plot top 10 less important features"
   ]
  },
  {
   "cell_type": "code",
   "execution_count": 23,
   "id": "b6dcef50-4d8f-49d0-964c-9e0e32d1143f",
   "metadata": {},
   "outputs": [
    {
     "data": {
      "image/png": "[encoded data removed]",
      "text/plain": [
       "<Figure size 432x432 with 1 Axes>"
      ]
     },
     "metadata": {
      "needs_background": "light"
     },
     "output_type": "display_data"
    }
   ],
   "source": [
    "fig, ax = plt.subplots(figsize=(6, 6))\n",
    "plt.barh(features[sorted_idx][:10], perm_importance.importances_mean[sorted_idx][:10])\n",
    "plt.xlabel(\"Permutation Importance\")\n",
    "plt.gcf().subplots_adjust(left=0.25)\n",
    "plt.show()\n",
    "# plt.savefig(f'{pics}/top-10_feat_perm.png')"
   ]
  },
  {
   "cell_type": "code",
   "execution_count": 26,
   "id": "013984f5-0aae-4ab3-9975-260545b6fc49",
   "metadata": {},
   "outputs": [
    {
     "name": "stdout",
     "output_type": "stream",
     "text": [
      "PEOE_VSA13\n",
      "Chi3v\n",
      "FpDensityMorgan3\n",
      "Kappa1\n",
      "BertzCT\n",
      "EState_VSA3\n",
      "SMR_VSA4\n",
      "BCUT2D_LOGPLOW\n",
      "Chi2n\n",
      "qed\n",
      "EState_VSA11\n",
      "BCUT2D_MWHI\n",
      "MinPartialCharge\n",
      "MinAbsEStateIndex\n",
      "SMR_VSA2\n",
      "SlogP_VSA3\n",
      "Kappa3\n",
      "MaxPartialCharge\n",
      "SlogP_VSA1\n",
      "PEOE_VSA3\n"
     ]
    }
   ],
   "source": [
    "### Top 20 most important\n",
    "for x in features[[39, 27,  6, 32, 17, 73, 51, 12, 24,  2, 71,  7,  5,  1, 49, 62, 34,\n",
    "        4, 57, 42]]:\n",
    "    print(x)"
   ]
  },
  {
   "cell_type": "code",
   "execution_count": null,
   "id": "57f5dc8b-555e-40de-8f02-549ceb0c6bf8",
   "metadata": {},
   "outputs": [],
   "source": []
  }
 ],
 "metadata": {
  "kernelspec": {
   "display_name": "Python 3 (ipykernel)",
   "language": "python",
   "name": "python3"
  },
  "language_info": {
   "codemirror_mode": {
    "name": "ipython",
    "version": 3
   },
   "file_extension": ".py",
   "mimetype": "text/x-python",
   "name": "python",
   "nbconvert_exporter": "python",
   "pygments_lexer": "ipython3",
   "version": "3.8.10"
  }
 },
 "nbformat": 4,
 "nbformat_minor": 5
}
