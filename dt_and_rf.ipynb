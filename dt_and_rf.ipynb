{
 "cells": [
  {
   "cell_type": "code",
   "execution_count": null,
   "id": "d5c0e846-1f39-4a4d-a646-397b5af9897c",
   "metadata": {},
   "outputs": [],
   "source": [
    "import pandas as pd\n",
    "import numpy as np\n",
    "import seaborn as sns\n",
    "import matplotlib.pyplot as plt\n",
    "\n",
    "from sklearn.tree import DecisionTreeClassifier\n",
    "from sklearn.metrics import accuracy_score"
   ]
  },
  {
   "cell_type": "code",
   "execution_count": null,
   "id": "d33519c0-a138-4053-8a83-46190a987b08",
   "metadata": {},
   "outputs": [],
   "source": [
    "from sklearn.model_selection import train_test_split\n",
    "from DataPreparation import DataPreparation"
   ]
  },
  {
   "cell_type": "code",
   "execution_count": null,
   "id": "5f6dbe54-ca73-44f3-b981-031f4ae759e2",
   "metadata": {},
   "outputs": [],
   "source": [
    "pics = './images'"
   ]
  },
  {
   "cell_type": "code",
   "execution_count": null,
   "id": "302b36f4-bc42-4719-bde8-1aebf37c95ab",
   "metadata": {},
   "outputs": [],
   "source": [
    "df = pd.read_csv('./data/balanced_dataframe.csv', index_col=None)\n",
    "df.head()"
   ]
  },
  {
   "cell_type": "code",
   "execution_count": null,
   "id": "e3764bb6-191f-4c62-9b43-f7558537fb44",
   "metadata": {},
   "outputs": [],
   "source": [
    "X = df.drop(columns=['label'])\n",
    "y = df['label']"
   ]
  },
  {
   "cell_type": "code",
   "execution_count": null,
   "id": "d8abc046-cc07-49b8-bb7e-d95698a1f1ad",
   "metadata": {},
   "outputs": [],
   "source": [
    "X_train, X_test, y_train, y_test = train_test_split(X, y, \n",
    "                                                    test_size=0.3, \n",
    "                                                    random_state=42,\n",
    "                                                    stratify=y\n",
    "                                                    )\n",
    "y_test.value_counts()"
   ]
  },
  {
   "cell_type": "code",
   "execution_count": null,
   "id": "cf5b0abe-5617-40de-9dd1-030f5ebc6db1",
   "metadata": {},
   "outputs": [],
   "source": [
    "data_preparation = DataPreparation(X_train, X_test, y_train, y_test)\n",
    "\n",
    "# # get scaled clean data\n",
    "# # use StandartScaler\n",
    "X_train, X_test, y_train, y_test = data_preparation.clean_dataset()"
   ]
  },
  {
   "cell_type": "markdown",
   "id": "76a6a763-f4ea-4003-a8cf-c3003d282632",
   "metadata": {
    "tags": []
   },
   "source": [
    "### Decision Tree"
   ]
  },
  {
   "cell_type": "code",
   "execution_count": null,
   "id": "6f224ddc-bcc6-4a20-99b7-8f692e766c66",
   "metadata": {},
   "outputs": [],
   "source": [
    "values = [i for i in range(1, 21)]\n",
    "dtc_train_scores = []\n",
    "dtc_test_scores = []\n",
    "for i in values:\n",
    "    dtc = DecisionTreeClassifier(max_depth=i)\n",
    "\n",
    "    dtc.fit(X_train, y_train)\n",
    "\n",
    "    train_yhat = dtc.predict(X_train)\n",
    "    train_acc = accuracy_score(y_train, train_yhat)\n",
    "    dtc_train_scores.append(train_acc)\n",
    "    \n",
    "    test_yhat = dtc.predict(X_test)\n",
    "    test_acc = accuracy_score(y_test, test_yhat)\n",
    "    dtc_test_scores.append(test_acc)\n",
    "\n",
    "    print('>%d, train: %.3f, test: %.3f' % (i, train_acc, test_acc))"
   ]
  },
  {
   "cell_type": "markdown",
   "id": "daa797e8-edfb-40d6-8c09-be9fe1e35de6",
   "metadata": {},
   "source": [
    "## Plot"
   ]
  },
  {
   "cell_type": "code",
   "execution_count": null,
   "id": "9eade344-c7e4-4f75-affa-8a0e48c91ec6",
   "metadata": {},
   "outputs": [],
   "source": [
    "plt.figure(1, figsize=(8,8))\n",
    "plt.plot(values, dtc_train_scores, '-o', label='Train')\n",
    "plt.plot(values, dtc_test_scores, '-o', label='Test')\n",
    "plt.legend()\n",
    "plt.xticks(range(1, 21))\n",
    "plt.grid()\n",
    "plt.title('DecisionTreeClassifier')\n",
    "plt.ylabel('Accuracy')\n",
    "plt.xlabel('Max depth')\n",
    "plt.show()\n",
    "# plt.savefig(f'{pics}/dtree_balanced.png')"
   ]
  },
  {
   "cell_type": "code",
   "execution_count": null,
   "id": "0aac7b4d-4dfe-420b-b76c-d32a809e1db6",
   "metadata": {},
   "outputs": [],
   "source": []
  },
  {
   "cell_type": "markdown",
   "id": "f304f423-721d-4e61-abf4-4941a3542538",
   "metadata": {},
   "source": [
    "### Random Forest"
   ]
  },
  {
   "cell_type": "code",
   "execution_count": null,
   "id": "83b4cd0c-4707-4588-a62b-9acef7ca4e06",
   "metadata": {},
   "outputs": [],
   "source": [
    "from sklearn.ensemble import RandomForestClassifier\n",
    "\n",
    "values = [i for i in range(1, 21)]\n",
    "rf_train_scores = []\n",
    "rf_test_scores = []\n",
    "for i in values:\n",
    "    rf = RandomForestClassifier(max_depth=i)\n",
    "\n",
    "    rf.fit(X_train, y_train)\n",
    "\n",
    "    train_yhat = rf.predict(X_train)\n",
    "    train_acc = accuracy_score(y_train, train_yhat)\n",
    "    rf_train_scores.append(train_acc)\n",
    "    \n",
    "    test_yhat = rf.predict(X_test)\n",
    "    test_acc = accuracy_score(y_test, test_yhat)\n",
    "    rf_test_scores.append(test_acc)\n",
    "\n",
    "    print('>%d, train: %.3f, test: %.3f' % (i, train_acc, test_acc))"
   ]
  },
  {
   "cell_type": "code",
   "execution_count": null,
   "id": "eb3634db-8672-4e2d-8ba0-281ddb225d12",
   "metadata": {},
   "outputs": [],
   "source": [
    "plt.figure(1, figsize=(8,8))\n",
    "plt.plot(values, rf_train_scores, '-o', label='Train')\n",
    "plt.plot(values, rf_test_scores, '-o', label='Test')\n",
    "plt.legend()\n",
    "plt.xticks(range(1, 21))\n",
    "plt.grid()\n",
    "plt.title('RandomForestClassifier')\n",
    "plt.ylabel('Accuracy')\n",
    "plt.xlabel('Max depth')\n",
    "plt.show()\n",
    "# plt.savefig(f'{pics}/rf_balanced.png')"
   ]
  },
  {
   "cell_type": "code",
   "execution_count": null,
   "id": "1733a2ef-7129-43c6-908f-39963990da18",
   "metadata": {},
   "outputs": [],
   "source": []
  }
 ],
 "metadata": {
  "kernelspec": {
   "display_name": "Python 3 (ipykernel)",
   "language": "python",
   "name": "python3"
  },
  "language_info": {
   "codemirror_mode": {
    "name": "ipython",
    "version": 3
   },
   "file_extension": ".py",
   "mimetype": "text/x-python",
   "name": "python",
   "nbconvert_exporter": "python",
   "pygments_lexer": "ipython3",
   "version": "3.8.10"
  }
 },
 "nbformat": 4,
 "nbformat_minor": 5
}
