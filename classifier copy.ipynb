{
 "cells": [
  {
   "cell_type": "markdown",
   "id": "663c9adc-f694-4b4e-9e30-aebfdcc6f033",
   "metadata": {},
   "source": [
    "## Binary classification for prediction of the compound activity with respect to adenosine A2a receptor\n",
    "\n",
    "### Almaz Gilmullin 760235219, Anastasiia Krokhina 659711595"
   ]
  },
  {
   "cell_type": "code",
   "execution_count": 2,
   "id": "198c2d1d-1d65-442d-8117-5d4dc790dd85",
   "metadata": {},
   "outputs": [],
   "source": [
    "import pandas as pd\n",
    "import numpy as np\n",
    "import seaborn as sns\n",
    "import matplotlib.pyplot as plt\n",
    "# ! pip install tqdm\n",
    "# from tqdm import tqdm\n",
    "import joblib\n",
    "# import os"
   ]
  },
  {
   "cell_type": "code",
   "execution_count": 3,
   "id": "0b44bb5c",
   "metadata": {},
   "outputs": [],
   "source": [
    "from sklearn.model_selection import train_test_split\n",
    "from DataPreparation import DataPreparation"
   ]
  },
  {
   "cell_type": "code",
   "execution_count": 4,
   "id": "a28295d1",
   "metadata": {},
   "outputs": [],
   "source": [
    "pics = './images'"
   ]
  },
  {
   "cell_type": "code",
   "execution_count": 5,
   "id": "dc912253",
   "metadata": {},
   "outputs": [
    {
     "data": {
      "text/html": [
       "<div>\n",
       "<style scoped>\n",
       "    .dataframe tbody tr th:only-of-type {\n",
       "        vertical-align: middle;\n",
       "    }\n",
       "\n",
       "    .dataframe tbody tr th {\n",
       "        vertical-align: top;\n",
       "    }\n",
       "\n",
       "    .dataframe thead th {\n",
       "        text-align: right;\n",
       "    }\n",
       "</style>\n",
       "<table border=\"1\" class=\"dataframe\">\n",
       "  <thead>\n",
       "    <tr style=\"text-align: right;\">\n",
       "      <th></th>\n",
       "      <th>MaxAbsEStateIndex</th>\n",
       "      <th>MaxEStateIndex</th>\n",
       "      <th>MinAbsEStateIndex</th>\n",
       "      <th>MinEStateIndex</th>\n",
       "      <th>qed</th>\n",
       "      <th>SPS</th>\n",
       "      <th>MolWt</th>\n",
       "      <th>HeavyAtomMolWt</th>\n",
       "      <th>ExactMolWt</th>\n",
       "      <th>NumValenceElectrons</th>\n",
       "      <th>...</th>\n",
       "      <th>fr_sulfonamd</th>\n",
       "      <th>fr_sulfone</th>\n",
       "      <th>fr_term_acetylene</th>\n",
       "      <th>fr_tetrazole</th>\n",
       "      <th>fr_thiazole</th>\n",
       "      <th>fr_thiocyan</th>\n",
       "      <th>fr_thiophene</th>\n",
       "      <th>fr_unbrch_alkane</th>\n",
       "      <th>fr_urea</th>\n",
       "      <th>label</th>\n",
       "    </tr>\n",
       "  </thead>\n",
       "  <tbody>\n",
       "    <tr>\n",
       "      <th>0</th>\n",
       "      <td>10.337455</td>\n",
       "      <td>10.337455</td>\n",
       "      <td>0.057778</td>\n",
       "      <td>-1.272753</td>\n",
       "      <td>0.255933</td>\n",
       "      <td>23.375000</td>\n",
       "      <td>505.329</td>\n",
       "      <td>484.161</td>\n",
       "      <td>504.075680</td>\n",
       "      <td>168</td>\n",
       "      <td>...</td>\n",
       "      <td>0</td>\n",
       "      <td>0</td>\n",
       "      <td>0</td>\n",
       "      <td>0</td>\n",
       "      <td>0</td>\n",
       "      <td>0</td>\n",
       "      <td>0</td>\n",
       "      <td>0</td>\n",
       "      <td>0</td>\n",
       "      <td>1</td>\n",
       "    </tr>\n",
       "    <tr>\n",
       "      <th>1</th>\n",
       "      <td>10.335047</td>\n",
       "      <td>10.335047</td>\n",
       "      <td>0.059736</td>\n",
       "      <td>-1.271941</td>\n",
       "      <td>0.255933</td>\n",
       "      <td>23.375000</td>\n",
       "      <td>505.329</td>\n",
       "      <td>484.161</td>\n",
       "      <td>504.075680</td>\n",
       "      <td>168</td>\n",
       "      <td>...</td>\n",
       "      <td>0</td>\n",
       "      <td>0</td>\n",
       "      <td>0</td>\n",
       "      <td>0</td>\n",
       "      <td>0</td>\n",
       "      <td>0</td>\n",
       "      <td>0</td>\n",
       "      <td>0</td>\n",
       "      <td>0</td>\n",
       "      <td>1</td>\n",
       "    </tr>\n",
       "    <tr>\n",
       "      <th>2</th>\n",
       "      <td>10.333078</td>\n",
       "      <td>10.333078</td>\n",
       "      <td>0.061184</td>\n",
       "      <td>-1.271281</td>\n",
       "      <td>0.255933</td>\n",
       "      <td>23.375000</td>\n",
       "      <td>505.329</td>\n",
       "      <td>484.161</td>\n",
       "      <td>504.075680</td>\n",
       "      <td>168</td>\n",
       "      <td>...</td>\n",
       "      <td>0</td>\n",
       "      <td>0</td>\n",
       "      <td>0</td>\n",
       "      <td>0</td>\n",
       "      <td>0</td>\n",
       "      <td>0</td>\n",
       "      <td>0</td>\n",
       "      <td>0</td>\n",
       "      <td>0</td>\n",
       "      <td>1</td>\n",
       "    </tr>\n",
       "    <tr>\n",
       "      <th>3</th>\n",
       "      <td>10.355554</td>\n",
       "      <td>10.355554</td>\n",
       "      <td>0.205346</td>\n",
       "      <td>-1.235039</td>\n",
       "      <td>0.369988</td>\n",
       "      <td>25.218750</td>\n",
       "      <td>440.504</td>\n",
       "      <td>412.280</td>\n",
       "      <td>440.217203</td>\n",
       "      <td>170</td>\n",
       "      <td>...</td>\n",
       "      <td>0</td>\n",
       "      <td>0</td>\n",
       "      <td>0</td>\n",
       "      <td>0</td>\n",
       "      <td>0</td>\n",
       "      <td>0</td>\n",
       "      <td>0</td>\n",
       "      <td>0</td>\n",
       "      <td>0</td>\n",
       "      <td>1</td>\n",
       "    </tr>\n",
       "    <tr>\n",
       "      <th>4</th>\n",
       "      <td>6.090409</td>\n",
       "      <td>6.090409</td>\n",
       "      <td>0.226017</td>\n",
       "      <td>0.226017</td>\n",
       "      <td>0.547921</td>\n",
       "      <td>12.285714</td>\n",
       "      <td>362.614</td>\n",
       "      <td>353.542</td>\n",
       "      <td>360.961752</td>\n",
       "      <td>104</td>\n",
       "      <td>...</td>\n",
       "      <td>0</td>\n",
       "      <td>0</td>\n",
       "      <td>0</td>\n",
       "      <td>0</td>\n",
       "      <td>0</td>\n",
       "      <td>0</td>\n",
       "      <td>0</td>\n",
       "      <td>0</td>\n",
       "      <td>0</td>\n",
       "      <td>1</td>\n",
       "    </tr>\n",
       "  </tbody>\n",
       "</table>\n",
       "<p>5 rows × 211 columns</p>\n",
       "</div>"
      ],
      "text/plain": [
       "   MaxAbsEStateIndex  MaxEStateIndex  MinAbsEStateIndex  MinEStateIndex  \\\n",
       "0          10.337455       10.337455           0.057778       -1.272753   \n",
       "1          10.335047       10.335047           0.059736       -1.271941   \n",
       "2          10.333078       10.333078           0.061184       -1.271281   \n",
       "3          10.355554       10.355554           0.205346       -1.235039   \n",
       "4           6.090409        6.090409           0.226017        0.226017   \n",
       "\n",
       "        qed        SPS    MolWt  HeavyAtomMolWt  ExactMolWt  \\\n",
       "0  0.255933  23.375000  505.329         484.161  504.075680   \n",
       "1  0.255933  23.375000  505.329         484.161  504.075680   \n",
       "2  0.255933  23.375000  505.329         484.161  504.075680   \n",
       "3  0.369988  25.218750  440.504         412.280  440.217203   \n",
       "4  0.547921  12.285714  362.614         353.542  360.961752   \n",
       "\n",
       "   NumValenceElectrons  ...  fr_sulfonamd  fr_sulfone  fr_term_acetylene  \\\n",
       "0                  168  ...             0           0                  0   \n",
       "1                  168  ...             0           0                  0   \n",
       "2                  168  ...             0           0                  0   \n",
       "3                  170  ...             0           0                  0   \n",
       "4                  104  ...             0           0                  0   \n",
       "\n",
       "   fr_tetrazole  fr_thiazole  fr_thiocyan  fr_thiophene  fr_unbrch_alkane  \\\n",
       "0             0            0            0             0                 0   \n",
       "1             0            0            0             0                 0   \n",
       "2             0            0            0             0                 0   \n",
       "3             0            0            0             0                 0   \n",
       "4             0            0            0             0                 0   \n",
       "\n",
       "   fr_urea  label  \n",
       "0        0      1  \n",
       "1        0      1  \n",
       "2        0      1  \n",
       "3        0      1  \n",
       "4        0      1  \n",
       "\n",
       "[5 rows x 211 columns]"
      ]
     },
     "execution_count": 5,
     "metadata": {},
     "output_type": "execute_result"
    }
   ],
   "source": [
    "df = pd.read_csv('./data/balanced_dataframe.csv', index_col=None)\n",
    "df.head()"
   ]
  },
  {
   "cell_type": "code",
   "execution_count": 6,
   "id": "27a1a438",
   "metadata": {},
   "outputs": [],
   "source": [
    "X = df.drop(columns=['label'])\n",
    "y = df['label']"
   ]
  },
  {
   "cell_type": "code",
   "execution_count": 7,
   "id": "48f8b4a7",
   "metadata": {},
   "outputs": [
    {
     "data": {
      "text/plain": [
       "label\n",
       "0    915\n",
       "1    915\n",
       "Name: count, dtype: int64"
      ]
     },
     "execution_count": 7,
     "metadata": {},
     "output_type": "execute_result"
    }
   ],
   "source": [
    "X_train, X_test, y_train, y_test = train_test_split(X, y, \n",
    "                                                    test_size=0.3, \n",
    "                                                    random_state=42,\n",
    "                                                    stratify=y\n",
    "                                                    )\n",
    "y_test.value_counts()"
   ]
  },
  {
   "cell_type": "code",
   "execution_count": 8,
   "id": "28aa4721",
   "metadata": {},
   "outputs": [],
   "source": [
    "data_preparation = DataPreparation(X_train, X_test, y_train, y_test)\n",
    "\n",
    "# # get scaled clean data\n",
    "# # use StandartScaler\n",
    "X_train, X_test, y_train, y_test = data_preparation.clean_dataset()"
   ]
  },
  {
   "cell_type": "markdown",
   "id": "3e0e3d61-67f9-4c34-88a9-d276b148989a",
   "metadata": {},
   "source": [
    "### SVC"
   ]
  },
  {
   "cell_type": "code",
   "execution_count": 9,
   "id": "12a8418b-6a54-4cb3-bba7-5a1446620654",
   "metadata": {},
   "outputs": [],
   "source": [
    "from numpy import mean\n",
    "from sklearn import svm\n",
    "from sklearn.model_selection import RepeatedStratifiedKFold, cross_val_score, StratifiedKFold\n",
    "from sklearn.metrics import accuracy_score, confusion_matrix, ConfusionMatrixDisplay\n",
    "from sklearn.metrics import classification_report, roc_auc_score, make_scorer\n",
    "from sklearn.model_selection import GridSearchCV, RandomizedSearchCV"
   ]
  },
  {
   "cell_type": "code",
   "execution_count": 11,
   "id": "3d78bc8f-fdb8-4466-8ddf-7ea0583854e1",
   "metadata": {},
   "outputs": [
    {
     "name": "stdout",
     "output_type": "stream",
     "text": [
      "Fitting 30 folds for each of 24 candidates, totalling 720 fits\n"
     ]
    },
    {
     "ename": "KeyboardInterrupt",
     "evalue": "",
     "output_type": "error",
     "traceback": [
      "\u001b[0;31m---------------------------------------------------------------------------\u001b[0m",
      "\u001b[0;31mKeyboardInterrupt\u001b[0m                         Traceback (most recent call last)",
      "File \u001b[0;32m<timed eval>:1\u001b[0m\n",
      "File \u001b[0;32m~/.local/lib/python3.10/site-packages/sklearn/base.py:1152\u001b[0m, in \u001b[0;36m_fit_context.<locals>.decorator.<locals>.wrapper\u001b[0;34m(estimator, *args, **kwargs)\u001b[0m\n\u001b[1;32m   1145\u001b[0m     estimator\u001b[38;5;241m.\u001b[39m_validate_params()\n\u001b[1;32m   1147\u001b[0m \u001b[38;5;28;01mwith\u001b[39;00m config_context(\n\u001b[1;32m   1148\u001b[0m     skip_parameter_validation\u001b[38;5;241m=\u001b[39m(\n\u001b[1;32m   1149\u001b[0m         prefer_skip_nested_validation \u001b[38;5;129;01mor\u001b[39;00m global_skip_validation\n\u001b[1;32m   1150\u001b[0m     )\n\u001b[1;32m   1151\u001b[0m ):\n\u001b[0;32m-> 1152\u001b[0m     \u001b[38;5;28;01mreturn\u001b[39;00m \u001b[43mfit_method\u001b[49m\u001b[43m(\u001b[49m\u001b[43mestimator\u001b[49m\u001b[43m,\u001b[49m\u001b[43m \u001b[49m\u001b[38;5;241;43m*\u001b[39;49m\u001b[43margs\u001b[49m\u001b[43m,\u001b[49m\u001b[43m \u001b[49m\u001b[38;5;241;43m*\u001b[39;49m\u001b[38;5;241;43m*\u001b[39;49m\u001b[43mkwargs\u001b[49m\u001b[43m)\u001b[49m\n",
      "File \u001b[0;32m~/.local/lib/python3.10/site-packages/sklearn/model_selection/_search.py:898\u001b[0m, in \u001b[0;36mBaseSearchCV.fit\u001b[0;34m(self, X, y, groups, **fit_params)\u001b[0m\n\u001b[1;32m    892\u001b[0m     results \u001b[38;5;241m=\u001b[39m \u001b[38;5;28mself\u001b[39m\u001b[38;5;241m.\u001b[39m_format_results(\n\u001b[1;32m    893\u001b[0m         all_candidate_params, n_splits, all_out, all_more_results\n\u001b[1;32m    894\u001b[0m     )\n\u001b[1;32m    896\u001b[0m     \u001b[38;5;28;01mreturn\u001b[39;00m results\n\u001b[0;32m--> 898\u001b[0m \u001b[38;5;28;43mself\u001b[39;49m\u001b[38;5;241;43m.\u001b[39;49m\u001b[43m_run_search\u001b[49m\u001b[43m(\u001b[49m\u001b[43mevaluate_candidates\u001b[49m\u001b[43m)\u001b[49m\n\u001b[1;32m    900\u001b[0m \u001b[38;5;66;03m# multimetric is determined here because in the case of a callable\u001b[39;00m\n\u001b[1;32m    901\u001b[0m \u001b[38;5;66;03m# self.scoring the return type is only known after calling\u001b[39;00m\n\u001b[1;32m    902\u001b[0m first_test_score \u001b[38;5;241m=\u001b[39m all_out[\u001b[38;5;241m0\u001b[39m][\u001b[38;5;124m\"\u001b[39m\u001b[38;5;124mtest_scores\u001b[39m\u001b[38;5;124m\"\u001b[39m]\n",
      "File \u001b[0;32m~/.local/lib/python3.10/site-packages/sklearn/model_selection/_search.py:1422\u001b[0m, in \u001b[0;36mGridSearchCV._run_search\u001b[0;34m(self, evaluate_candidates)\u001b[0m\n\u001b[1;32m   1420\u001b[0m \u001b[38;5;28;01mdef\u001b[39;00m \u001b[38;5;21m_run_search\u001b[39m(\u001b[38;5;28mself\u001b[39m, evaluate_candidates):\n\u001b[1;32m   1421\u001b[0m \u001b[38;5;250m    \u001b[39m\u001b[38;5;124;03m\"\"\"Search all candidates in param_grid\"\"\"\u001b[39;00m\n\u001b[0;32m-> 1422\u001b[0m     \u001b[43mevaluate_candidates\u001b[49m\u001b[43m(\u001b[49m\u001b[43mParameterGrid\u001b[49m\u001b[43m(\u001b[49m\u001b[38;5;28;43mself\u001b[39;49m\u001b[38;5;241;43m.\u001b[39;49m\u001b[43mparam_grid\u001b[49m\u001b[43m)\u001b[49m\u001b[43m)\u001b[49m\n",
      "File \u001b[0;32m~/.local/lib/python3.10/site-packages/sklearn/model_selection/_search.py:845\u001b[0m, in \u001b[0;36mBaseSearchCV.fit.<locals>.evaluate_candidates\u001b[0;34m(candidate_params, cv, more_results)\u001b[0m\n\u001b[1;32m    837\u001b[0m \u001b[38;5;28;01mif\u001b[39;00m \u001b[38;5;28mself\u001b[39m\u001b[38;5;241m.\u001b[39mverbose \u001b[38;5;241m>\u001b[39m \u001b[38;5;241m0\u001b[39m:\n\u001b[1;32m    838\u001b[0m     \u001b[38;5;28mprint\u001b[39m(\n\u001b[1;32m    839\u001b[0m         \u001b[38;5;124m\"\u001b[39m\u001b[38;5;124mFitting \u001b[39m\u001b[38;5;132;01m{0}\u001b[39;00m\u001b[38;5;124m folds for each of \u001b[39m\u001b[38;5;132;01m{1}\u001b[39;00m\u001b[38;5;124m candidates,\u001b[39m\u001b[38;5;124m\"\u001b[39m\n\u001b[1;32m    840\u001b[0m         \u001b[38;5;124m\"\u001b[39m\u001b[38;5;124m totalling \u001b[39m\u001b[38;5;132;01m{2}\u001b[39;00m\u001b[38;5;124m fits\u001b[39m\u001b[38;5;124m\"\u001b[39m\u001b[38;5;241m.\u001b[39mformat(\n\u001b[1;32m    841\u001b[0m             n_splits, n_candidates, n_candidates \u001b[38;5;241m*\u001b[39m n_splits\n\u001b[1;32m    842\u001b[0m         )\n\u001b[1;32m    843\u001b[0m     )\n\u001b[0;32m--> 845\u001b[0m out \u001b[38;5;241m=\u001b[39m \u001b[43mparallel\u001b[49m\u001b[43m(\u001b[49m\n\u001b[1;32m    846\u001b[0m \u001b[43m    \u001b[49m\u001b[43mdelayed\u001b[49m\u001b[43m(\u001b[49m\u001b[43m_fit_and_score\u001b[49m\u001b[43m)\u001b[49m\u001b[43m(\u001b[49m\n\u001b[1;32m    847\u001b[0m \u001b[43m        \u001b[49m\u001b[43mclone\u001b[49m\u001b[43m(\u001b[49m\u001b[43mbase_estimator\u001b[49m\u001b[43m)\u001b[49m\u001b[43m,\u001b[49m\n\u001b[1;32m    848\u001b[0m \u001b[43m        \u001b[49m\u001b[43mX\u001b[49m\u001b[43m,\u001b[49m\n\u001b[1;32m    849\u001b[0m \u001b[43m        \u001b[49m\u001b[43my\u001b[49m\u001b[43m,\u001b[49m\n\u001b[1;32m    850\u001b[0m \u001b[43m        \u001b[49m\u001b[43mtrain\u001b[49m\u001b[38;5;241;43m=\u001b[39;49m\u001b[43mtrain\u001b[49m\u001b[43m,\u001b[49m\n\u001b[1;32m    851\u001b[0m \u001b[43m        \u001b[49m\u001b[43mtest\u001b[49m\u001b[38;5;241;43m=\u001b[39;49m\u001b[43mtest\u001b[49m\u001b[43m,\u001b[49m\n\u001b[1;32m    852\u001b[0m \u001b[43m        \u001b[49m\u001b[43mparameters\u001b[49m\u001b[38;5;241;43m=\u001b[39;49m\u001b[43mparameters\u001b[49m\u001b[43m,\u001b[49m\n\u001b[1;32m    853\u001b[0m \u001b[43m        \u001b[49m\u001b[43msplit_progress\u001b[49m\u001b[38;5;241;43m=\u001b[39;49m\u001b[43m(\u001b[49m\u001b[43msplit_idx\u001b[49m\u001b[43m,\u001b[49m\u001b[43m \u001b[49m\u001b[43mn_splits\u001b[49m\u001b[43m)\u001b[49m\u001b[43m,\u001b[49m\n\u001b[1;32m    854\u001b[0m \u001b[43m        \u001b[49m\u001b[43mcandidate_progress\u001b[49m\u001b[38;5;241;43m=\u001b[39;49m\u001b[43m(\u001b[49m\u001b[43mcand_idx\u001b[49m\u001b[43m,\u001b[49m\u001b[43m \u001b[49m\u001b[43mn_candidates\u001b[49m\u001b[43m)\u001b[49m\u001b[43m,\u001b[49m\n\u001b[1;32m    855\u001b[0m \u001b[43m        \u001b[49m\u001b[38;5;241;43m*\u001b[39;49m\u001b[38;5;241;43m*\u001b[39;49m\u001b[43mfit_and_score_kwargs\u001b[49m\u001b[43m,\u001b[49m\n\u001b[1;32m    856\u001b[0m \u001b[43m    \u001b[49m\u001b[43m)\u001b[49m\n\u001b[1;32m    857\u001b[0m \u001b[43m    \u001b[49m\u001b[38;5;28;43;01mfor\u001b[39;49;00m\u001b[43m \u001b[49m\u001b[43m(\u001b[49m\u001b[43mcand_idx\u001b[49m\u001b[43m,\u001b[49m\u001b[43m \u001b[49m\u001b[43mparameters\u001b[49m\u001b[43m)\u001b[49m\u001b[43m,\u001b[49m\u001b[43m \u001b[49m\u001b[43m(\u001b[49m\u001b[43msplit_idx\u001b[49m\u001b[43m,\u001b[49m\u001b[43m \u001b[49m\u001b[43m(\u001b[49m\u001b[43mtrain\u001b[49m\u001b[43m,\u001b[49m\u001b[43m \u001b[49m\u001b[43mtest\u001b[49m\u001b[43m)\u001b[49m\u001b[43m)\u001b[49m\u001b[43m \u001b[49m\u001b[38;5;129;43;01min\u001b[39;49;00m\u001b[43m \u001b[49m\u001b[43mproduct\u001b[49m\u001b[43m(\u001b[49m\n\u001b[1;32m    858\u001b[0m \u001b[43m        \u001b[49m\u001b[38;5;28;43menumerate\u001b[39;49m\u001b[43m(\u001b[49m\u001b[43mcandidate_params\u001b[49m\u001b[43m)\u001b[49m\u001b[43m,\u001b[49m\u001b[43m \u001b[49m\u001b[38;5;28;43menumerate\u001b[39;49m\u001b[43m(\u001b[49m\u001b[43mcv\u001b[49m\u001b[38;5;241;43m.\u001b[39;49m\u001b[43msplit\u001b[49m\u001b[43m(\u001b[49m\u001b[43mX\u001b[49m\u001b[43m,\u001b[49m\u001b[43m \u001b[49m\u001b[43my\u001b[49m\u001b[43m,\u001b[49m\u001b[43m \u001b[49m\u001b[43mgroups\u001b[49m\u001b[43m)\u001b[49m\u001b[43m)\u001b[49m\n\u001b[1;32m    859\u001b[0m \u001b[43m    \u001b[49m\u001b[43m)\u001b[49m\n\u001b[1;32m    860\u001b[0m \u001b[43m\u001b[49m\u001b[43m)\u001b[49m\n\u001b[1;32m    862\u001b[0m \u001b[38;5;28;01mif\u001b[39;00m \u001b[38;5;28mlen\u001b[39m(out) \u001b[38;5;241m<\u001b[39m \u001b[38;5;241m1\u001b[39m:\n\u001b[1;32m    863\u001b[0m     \u001b[38;5;28;01mraise\u001b[39;00m \u001b[38;5;167;01mValueError\u001b[39;00m(\n\u001b[1;32m    864\u001b[0m         \u001b[38;5;124m\"\u001b[39m\u001b[38;5;124mNo fits were performed. \u001b[39m\u001b[38;5;124m\"\u001b[39m\n\u001b[1;32m    865\u001b[0m         \u001b[38;5;124m\"\u001b[39m\u001b[38;5;124mWas the CV iterator empty? \u001b[39m\u001b[38;5;124m\"\u001b[39m\n\u001b[1;32m    866\u001b[0m         \u001b[38;5;124m\"\u001b[39m\u001b[38;5;124mWere there no candidates?\u001b[39m\u001b[38;5;124m\"\u001b[39m\n\u001b[1;32m    867\u001b[0m     )\n",
      "File \u001b[0;32m~/.local/lib/python3.10/site-packages/sklearn/utils/parallel.py:65\u001b[0m, in \u001b[0;36mParallel.__call__\u001b[0;34m(self, iterable)\u001b[0m\n\u001b[1;32m     60\u001b[0m config \u001b[38;5;241m=\u001b[39m get_config()\n\u001b[1;32m     61\u001b[0m iterable_with_config \u001b[38;5;241m=\u001b[39m (\n\u001b[1;32m     62\u001b[0m     (_with_config(delayed_func, config), args, kwargs)\n\u001b[1;32m     63\u001b[0m     \u001b[38;5;28;01mfor\u001b[39;00m delayed_func, args, kwargs \u001b[38;5;129;01min\u001b[39;00m iterable\n\u001b[1;32m     64\u001b[0m )\n\u001b[0;32m---> 65\u001b[0m \u001b[38;5;28;01mreturn\u001b[39;00m \u001b[38;5;28;43msuper\u001b[39;49m\u001b[43m(\u001b[49m\u001b[43m)\u001b[49m\u001b[38;5;241;43m.\u001b[39;49m\u001b[38;5;21;43m__call__\u001b[39;49m\u001b[43m(\u001b[49m\u001b[43miterable_with_config\u001b[49m\u001b[43m)\u001b[49m\n",
      "File \u001b[0;32m~/.local/lib/python3.10/site-packages/joblib/parallel.py:1952\u001b[0m, in \u001b[0;36mParallel.__call__\u001b[0;34m(self, iterable)\u001b[0m\n\u001b[1;32m   1946\u001b[0m \u001b[38;5;66;03m# The first item from the output is blank, but it makes the interpreter\u001b[39;00m\n\u001b[1;32m   1947\u001b[0m \u001b[38;5;66;03m# progress until it enters the Try/Except block of the generator and\u001b[39;00m\n\u001b[1;32m   1948\u001b[0m \u001b[38;5;66;03m# reach the first `yield` statement. This starts the aynchronous\u001b[39;00m\n\u001b[1;32m   1949\u001b[0m \u001b[38;5;66;03m# dispatch of the tasks to the workers.\u001b[39;00m\n\u001b[1;32m   1950\u001b[0m \u001b[38;5;28mnext\u001b[39m(output)\n\u001b[0;32m-> 1952\u001b[0m \u001b[38;5;28;01mreturn\u001b[39;00m output \u001b[38;5;28;01mif\u001b[39;00m \u001b[38;5;28mself\u001b[39m\u001b[38;5;241m.\u001b[39mreturn_generator \u001b[38;5;28;01melse\u001b[39;00m \u001b[38;5;28;43mlist\u001b[39;49m\u001b[43m(\u001b[49m\u001b[43moutput\u001b[49m\u001b[43m)\u001b[49m\n",
      "File \u001b[0;32m~/.local/lib/python3.10/site-packages/joblib/parallel.py:1595\u001b[0m, in \u001b[0;36mParallel._get_outputs\u001b[0;34m(self, iterator, pre_dispatch)\u001b[0m\n\u001b[1;32m   1592\u001b[0m     \u001b[38;5;28;01myield\u001b[39;00m\n\u001b[1;32m   1594\u001b[0m     \u001b[38;5;28;01mwith\u001b[39;00m \u001b[38;5;28mself\u001b[39m\u001b[38;5;241m.\u001b[39m_backend\u001b[38;5;241m.\u001b[39mretrieval_context():\n\u001b[0;32m-> 1595\u001b[0m         \u001b[38;5;28;01myield from\u001b[39;00m \u001b[38;5;28mself\u001b[39m\u001b[38;5;241m.\u001b[39m_retrieve()\n\u001b[1;32m   1597\u001b[0m \u001b[38;5;28;01mexcept\u001b[39;00m \u001b[38;5;167;01mGeneratorExit\u001b[39;00m:\n\u001b[1;32m   1598\u001b[0m     \u001b[38;5;66;03m# The generator has been garbage collected before being fully\u001b[39;00m\n\u001b[1;32m   1599\u001b[0m     \u001b[38;5;66;03m# consumed. This aborts the remaining tasks if possible and warn\u001b[39;00m\n\u001b[1;32m   1600\u001b[0m     \u001b[38;5;66;03m# the user if necessary.\u001b[39;00m\n\u001b[1;32m   1601\u001b[0m     \u001b[38;5;28mself\u001b[39m\u001b[38;5;241m.\u001b[39m_exception \u001b[38;5;241m=\u001b[39m \u001b[38;5;28;01mTrue\u001b[39;00m\n",
      "File \u001b[0;32m~/.local/lib/python3.10/site-packages/joblib/parallel.py:1707\u001b[0m, in \u001b[0;36mParallel._retrieve\u001b[0;34m(self)\u001b[0m\n\u001b[1;32m   1702\u001b[0m \u001b[38;5;66;03m# If the next job is not ready for retrieval yet, we just wait for\u001b[39;00m\n\u001b[1;32m   1703\u001b[0m \u001b[38;5;66;03m# async callbacks to progress.\u001b[39;00m\n\u001b[1;32m   1704\u001b[0m \u001b[38;5;28;01mif\u001b[39;00m ((\u001b[38;5;28mlen\u001b[39m(\u001b[38;5;28mself\u001b[39m\u001b[38;5;241m.\u001b[39m_jobs) \u001b[38;5;241m==\u001b[39m \u001b[38;5;241m0\u001b[39m) \u001b[38;5;129;01mor\u001b[39;00m\n\u001b[1;32m   1705\u001b[0m     (\u001b[38;5;28mself\u001b[39m\u001b[38;5;241m.\u001b[39m_jobs[\u001b[38;5;241m0\u001b[39m]\u001b[38;5;241m.\u001b[39mget_status(\n\u001b[1;32m   1706\u001b[0m         timeout\u001b[38;5;241m=\u001b[39m\u001b[38;5;28mself\u001b[39m\u001b[38;5;241m.\u001b[39mtimeout) \u001b[38;5;241m==\u001b[39m TASK_PENDING)):\n\u001b[0;32m-> 1707\u001b[0m     \u001b[43mtime\u001b[49m\u001b[38;5;241;43m.\u001b[39;49m\u001b[43msleep\u001b[49m\u001b[43m(\u001b[49m\u001b[38;5;241;43m0.01\u001b[39;49m\u001b[43m)\u001b[49m\n\u001b[1;32m   1708\u001b[0m     \u001b[38;5;28;01mcontinue\u001b[39;00m\n\u001b[1;32m   1710\u001b[0m \u001b[38;5;66;03m# We need to be careful: the job list can be filling up as\u001b[39;00m\n\u001b[1;32m   1711\u001b[0m \u001b[38;5;66;03m# we empty it and Python list are not thread-safe by\u001b[39;00m\n\u001b[1;32m   1712\u001b[0m \u001b[38;5;66;03m# default hence the use of the lock\u001b[39;00m\n",
      "\u001b[0;31mKeyboardInterrupt\u001b[0m: "
     ]
    },
    {
     "name": "stdout",
     "output_type": "stream",
     "text": [
      "\n"
     ]
    },
    {
     "ename": "AttributeError",
     "evalue": "'GridSearchCV' object has no attribute 'best_params_'",
     "output_type": "error",
     "traceback": [
      "\u001b[0;31m---------------------------------------------------------------------------\u001b[0m",
      "\u001b[0;31mAttributeError\u001b[0m                            Traceback (most recent call last)",
      "Cell \u001b[0;32mIn[11], line 14\u001b[0m\n\u001b[1;32m     11\u001b[0m get_ipython()\u001b[38;5;241m.\u001b[39mrun_line_magic(\u001b[38;5;124m'\u001b[39m\u001b[38;5;124mtime\u001b[39m\u001b[38;5;124m'\u001b[39m, \u001b[38;5;124m'\u001b[39m\u001b[38;5;124mgrid.fit(X_train, y_train)\u001b[39m\u001b[38;5;124m'\u001b[39m)\n\u001b[1;32m     13\u001b[0m \u001b[38;5;28mprint\u001b[39m()\n\u001b[0;32m---> 14\u001b[0m \u001b[38;5;28mprint\u001b[39m(\u001b[43mgrid\u001b[49m\u001b[38;5;241;43m.\u001b[39;49m\u001b[43mbest_params_\u001b[49m)\n\u001b[1;32m     16\u001b[0m y_pred \u001b[38;5;241m=\u001b[39m grid\u001b[38;5;241m.\u001b[39mpredict(X_test)\n\u001b[1;32m     17\u001b[0m accuracy \u001b[38;5;241m=\u001b[39m accuracy_score(y_test, y_pred)\n",
      "\u001b[0;31mAttributeError\u001b[0m: 'GridSearchCV' object has no attribute 'best_params_'"
     ]
    }
   ],
   "source": [
    "svc = svm.SVC(random_state=0)\n",
    "\n",
    "scoring = {\"AUC\": \"roc_auc\", \"Accuracy\": make_scorer(accuracy_score)}\n",
    "param_grid = {'C':[1, 10, 100],\n",
    "              'gamma':[0.01,0.001, 'auto', 'scale'],\n",
    "              'kernel': ['rbf','linear']}\n",
    "\n",
    "cv = RepeatedStratifiedKFold(n_splits=10, n_repeats=3, random_state=1)\n",
    "grid = GridSearchCV(svc, param_grid, cv=cv, scoring=scoring, refit='AUC', verbose=1, n_jobs=-1)\n",
    "\n",
    "%time grid.fit(X_train, y_train)\n",
    "\n",
    "print()\n",
    "print(grid.best_params_)\n",
    "\n",
    "y_pred = grid.predict(X_test)\n",
    "accuracy = accuracy_score(y_test, y_pred)\n",
    "cm = confusion_matrix(y_test, y_pred)\n",
    "print(\"Accuracy:\", accuracy)\n",
    "\n",
    "score = roc_auc_score(y_test, y_pred)\n",
    "print(\"Mean ROC AUC:\", score)"
   ]
  },
  {
   "cell_type": "markdown",
   "id": "ff033f45",
   "metadata": {},
   "source": [
    "# Logistic regression"
   ]
  },
  {
   "cell_type": "code",
   "execution_count": null,
   "id": "c25c7025",
   "metadata": {},
   "outputs": [],
   "source": [
    "from sklearn.linear_model import LogisticRegression\n",
    "\n",
    "lr = LogisticRegression()\n",
    "scoring_lr = {\"AUC\": \"roc_auc\", \"Accuracy\": make_scorer(accuracy_score)}\n",
    "param_grid_lr = {'C': [0.001, 0.01, 0.1, 1, 10, 100, 1000],\n",
    "              'penalty': ['l1', 'l2'],\n",
    "              'solver': ['newton-cg', 'lbfgs', 'liblinear', 'sag', 'saga']\n",
    "}\n",
    "\n",
    "cv_lr = RepeatedStratifiedKFold(n_splits=10, n_repeats=3, random_state=1)\n",
    "grid_lr = GridSearchCV(lr, \n",
    "                    param_grid_lr, \n",
    "                    cv=cv_lr, \n",
    "                    scoring=scoring_lr, \n",
    "                    refit='AUC', \n",
    "                    verbose=1, \n",
    "                    n_jobs=-1)\n",
    "\n",
    "%time grid_lr.fit(X_train, y_train)\n",
    "\n",
    "print()\n",
    "print(grid.best_params_)\n",
    "\n",
    "y_pred = grid.predict(X_test)\n",
    "accuracy = accuracy_score(y_test, y_pred)\n",
    "cm = confusion_matrix(y_test, y_pred)\n",
    "print(\"Accuracy:\", accuracy)\n",
    "\n",
    "score = roc_auc_score(y_test, y_pred)\n",
    "print(\"Mean ROC AUC:\", score)"
   ]
  },
  {
   "cell_type": "code",
   "execution_count": 13,
   "id": "0563746c",
   "metadata": {},
   "outputs": [
    {
     "name": "stdout",
     "output_type": "stream",
     "text": [
      "Accuracy: 0.9976580796252927\n",
      "Mean ROC AUC: 0.9976580796252927\n"
     ]
    }
   ],
   "source": [
    "y_pred = grid.predict(X_train)\n",
    "accuracy = accuracy_score(y_train, y_pred)\n",
    "cm = confusion_matrix(y_train, y_pred)\n",
    "print(\"Accuracy:\", accuracy)\n",
    "\n",
    "score = roc_auc_score(y_train, y_pred)\n",
    "print(\"Mean ROC AUC:\", score)"
   ]
  },
  {
   "cell_type": "code",
   "execution_count": 12,
   "id": "d93c479d-f829-44a7-a873-4248d54d57d4",
   "metadata": {},
   "outputs": [
    {
     "data": {
      "image/png": "[encoded data removed]",
      "text/plain": [
       "<Figure size 640x480 with 2 Axes>"
      ]
     },
     "metadata": {},
     "output_type": "display_data"
    }
   ],
   "source": [
    "disp = ConfusionMatrixDisplay(confusion_matrix=cm, display_labels=grid.classes_)\n",
    "disp.plot()\n",
    "plt.show()\n",
    "# plt.savefig(f'{pics}/conf_scaled.jpg')"
   ]
  },
  {
   "cell_type": "markdown",
   "id": "cb535436-29b4-4b0b-ac35-f879bcf2a411",
   "metadata": {},
   "source": [
    "# Recheck"
   ]
  },
  {
   "cell_type": "code",
   "execution_count": 33,
   "id": "30acd58e-06a5-4635-a2c3-a2594c8d6724",
   "metadata": {},
   "outputs": [
    {
     "name": "stdout",
     "output_type": "stream",
     "text": [
      "              precision    recall  f1-score   support\n",
      "\n",
      "           0       0.99      0.95      0.97       283\n",
      "           1       0.96      0.99      0.97       327\n",
      "\n",
      "    accuracy                           0.97       610\n",
      "   macro avg       0.97      0.97      0.97       610\n",
      "weighted avg       0.97      0.97      0.97       610\n",
      "\n"
     ]
    }
   ],
   "source": [
    "\n",
    "svc = svm.SVC(C=100, gamma=0.001)\n",
    "\n",
    "scoring = {\"AUC\": \"roc_auc\", \"Accuracy\": make_scorer(accuracy_score)}\n",
    "\n",
    "cv = RepeatedStratifiedKFold(n_splits=10, n_repeats=3, random_state=1)\n",
    "\n",
    "svc.fit(X_train, y_train)\n",
    "y_pred = svc.predict(X_test)\n",
    "\n",
    "# accuracy = accuracy_score(y_test, y_pred)\n",
    "# cm = confusion_matrix(y_test, y_pred)\n",
    "# print(\"Accuracy:\", accuracy)\n",
    "\n",
    "# score = roc_auc_score(y_test, y_pred)\n",
    "# print(\"Mean ROC AUC:\", score)\n",
    "\n",
    "print(classification_report(y_test, y_pred))"
   ]
  },
  {
   "cell_type": "code",
   "execution_count": 34,
   "id": "63b8b1fc-c313-4b97-bbe4-b8cc1cfad4d1",
   "metadata": {},
   "outputs": [
    {
     "data": {
      "text/plain": [
       "['./models/svc.sav']"
      ]
     },
     "execution_count": 34,
     "metadata": {},
     "output_type": "execute_result"
    }
   ],
   "source": [
    "svc_filename = f'{path_model}/svc.sav'\n",
    "joblib.dump(svc, svc_filename)"
   ]
  },
  {
   "cell_type": "code",
   "execution_count": 35,
   "id": "be56dcc4-ef49-45bb-9129-b97bae5a5de8",
   "metadata": {},
   "outputs": [],
   "source": [
    "# svc = joblib.load(svc_filename)"
   ]
  },
  {
   "cell_type": "markdown",
   "id": "afcfd70e-8542-4ef6-b716-284e1ae61794",
   "metadata": {},
   "source": [
    "### Plotting the result"
   ]
  },
  {
   "cell_type": "code",
   "execution_count": 36,
   "id": "74a8757a-5d3f-48ef-bfd9-149b1a632d82",
   "metadata": {},
   "outputs": [
    {
     "data": {
      "image/png": "[encoded data removed]",
      "text/plain": [
       "<Figure size 640x480 with 2 Axes>"
      ]
     },
     "metadata": {},
     "output_type": "display_data"
    }
   ],
   "source": [
    "disp = ConfusionMatrixDisplay(confusion_matrix=cm, display_labels=svc.classes_)\n",
    "disp.plot()\n",
    "plt.show()\n",
    "# plt.savefig(f'{pics}/conf_scal.jpg')"
   ]
  },
  {
   "cell_type": "markdown",
   "id": "75375bcc-cb51-47c9-9f4d-6b3a9e98dd66",
   "metadata": {},
   "source": [
    "### SVC 2"
   ]
  },
  {
   "cell_type": "code",
   "execution_count": 37,
   "id": "b8a47db5-dd4b-4328-b6f2-e072c3c141f5",
   "metadata": {},
   "outputs": [
    {
     "name": "stderr",
     "output_type": "stream",
     "text": [
      "[Parallel(n_jobs=-1)]: Using backend LokyBackend with 2 concurrent workers.\n"
     ]
    },
    {
     "name": "stdout",
     "output_type": "stream",
     "text": [
      "[CV] END ................................ score: (test=0.992) total time=   0.6s\n",
      "[CV] END ................................ score: (test=0.998) total time=   0.6s\n",
      "[CV] END ................................ score: (test=0.995) total time=   0.5s\n",
      "[CV] END ................................ score: (test=0.994) total time=   0.5s\n",
      "[CV] END ................................ score: (test=0.995) total time=   0.5s\n",
      "[CV] END ................................ score: (test=0.997) total time=   0.5s\n",
      "[CV] END ................................ score: (test=0.999) total time=   0.6s\n",
      "[CV] END ................................ score: (test=0.999) total time=   0.6s\n",
      "[CV] END ................................ score: (test=0.997) total time=   0.4s\n",
      "[CV] END ................................ score: (test=0.997) total time=   0.4s\n",
      "[CV] END ................................ score: (test=0.998) total time=   0.4s\n",
      "[CV] END ................................ score: (test=0.997) total time=   0.4s\n",
      "[CV] END ................................ score: (test=0.997) total time=   0.4s\n",
      "[CV] END ................................ score: (test=0.997) total time=   0.4s\n",
      "[CV] END ................................ score: (test=0.994) total time=   0.4s\n",
      "[CV] END ................................ score: (test=0.995) total time=   0.5s\n",
      "[CV] END ................................ score: (test=0.999) total time=   0.4s\n",
      "[CV] END ................................ score: (test=0.997) total time=   0.4s\n",
      "[CV] END ................................ score: (test=0.994) total time=   0.4s\n",
      "[CV] END ................................ score: (test=0.996) total time=   0.4s\n",
      "[CV] END ................................ score: (test=0.994) total time=   0.5s\n",
      "[CV] END ................................ score: (test=0.999) total time=   0.4s\n",
      "[CV] END ................................ score: (test=0.997) total time=   0.4s\n",
      "[CV] END ................................ score: (test=0.995) total time=   0.4s\n",
      "[CV] END ................................ score: (test=0.996) total time=   0.5s\n",
      "[CV] END ................................ score: (test=0.997) total time=   0.5s\n",
      "[CV] END ................................ score: (test=0.995) total time=   0.5s\n",
      "[CV] END ................................ score: (test=0.997) total time=   0.5s\n",
      "[CV] END ................................ score: (test=0.996) total time=   0.4s\n",
      "[CV] END ................................ score: (test=0.997) total time=   0.4s\n"
     ]
    },
    {
     "name": "stderr",
     "output_type": "stream",
     "text": [
      "[Parallel(n_jobs=-1)]: Done  30 out of  30 | elapsed:    7.1s finished\n",
      "[Parallel(n_jobs=-1)]: Using backend LokyBackend with 2 concurrent workers.\n"
     ]
    },
    {
     "name": "stdout",
     "output_type": "stream",
     "text": [
      "[CV] END ................................ score: (test=0.978) total time=   0.5s\n",
      "[CV] END ................................ score: (test=0.976) total time=   0.5s\n",
      "[CV] END ................................ score: (test=0.976) total time=   0.4s\n",
      "[CV] END ................................ score: (test=0.974) total time=   0.4s\n",
      "[CV] END ................................ score: (test=0.974) total time=   0.4s\n",
      "[CV] END ................................ score: (test=0.980) total time=   0.5s\n",
      "[CV] END ................................ score: (test=0.984) total time=   0.5s\n",
      "[CV] END ................................ score: (test=0.989) total time=   0.6s\n",
      "[CV] END ................................ score: (test=0.984) total time=   0.4s\n",
      "[CV] END ................................ score: (test=0.978) total time=   0.5s\n",
      "[CV] END ................................ score: (test=0.984) total time=   0.4s\n",
      "[CV] END ................................ score: (test=0.980) total time=   0.4s\n",
      "[CV] END ................................ score: (test=0.978) total time=   0.5s\n",
      "[CV] END ................................ score: (test=0.982) total time=   0.5s\n",
      "[CV] END ................................ score: (test=0.978) total time=   0.4s\n",
      "[CV] END ................................ score: (test=0.985) total time=   0.4s\n",
      "[CV] END ................................ score: (test=0.982) total time=   0.4s\n",
      "[CV] END ................................ score: (test=0.982) total time=   0.4s\n",
      "[CV] END ................................ score: (test=0.973) total time=   0.4s\n",
      "[CV] END ................................ score: (test=0.978) total time=   0.4s\n",
      "[CV] END ................................ score: (test=0.971) total time=   0.5s\n",
      "[CV] END ................................ score: (test=0.984) total time=   0.5s\n",
      "[CV] END ................................ score: (test=0.982) total time=   0.5s\n",
      "[CV] END ................................ score: (test=0.985) total time=   0.5s\n",
      "[CV] END ................................ score: (test=0.984) total time=   0.4s\n",
      "[CV] END ................................ score: (test=0.985) total time=   0.5s\n",
      "[CV] END ................................ score: (test=0.973) total time=   0.4s\n",
      "[CV] END ................................ score: (test=0.973) total time=   0.4s\n",
      "[CV] END ................................ score: (test=0.973) total time=   0.4s\n",
      "[CV] END ................................ score: (test=0.984) total time=   0.4s\n",
      "Mean ROC AUC: 0.996\n",
      "Accuracy: 0.980\n"
     ]
    },
    {
     "name": "stderr",
     "output_type": "stream",
     "text": [
      "[Parallel(n_jobs=-1)]: Done  30 out of  30 | elapsed:    6.9s finished\n"
     ]
    }
   ],
   "source": [
    "svc_2 = svm.SVC(C=1, gamma=0.0001)\n",
    "cv = RepeatedStratifiedKFold(n_splits=10, n_repeats=3, random_state=1)\n",
    "scores = cross_val_score(svc, X_train, y_train, scoring='roc_auc', cv=cv, n_jobs=-1, verbose=3)\n",
    "\n",
    "svc_2 = svm.SVC(C=1, gamma=0.0001)\n",
    "accuracy = cross_val_score(svc, X_train, y_train, scoring='accuracy', cv=cv, n_jobs=-1, verbose=3)\n",
    "print('Mean ROC AUC: %.3f' % mean(scores))\n",
    "print('Accuracy: %.3f' % mean(accuracy))"
   ]
  },
  {
   "cell_type": "code",
   "execution_count": null,
   "id": "74fb0bba-458c-47e5-a669-e8b67e8cf01c",
   "metadata": {},
   "outputs": [],
   "source": []
  },
  {
   "cell_type": "code",
   "execution_count": 38,
   "id": "dce96a54-484d-453f-a955-bd1774e9e387",
   "metadata": {},
   "outputs": [
    {
     "data": {
      "text/plain": [
       "['./models/svc_2.sav']"
      ]
     },
     "execution_count": 38,
     "metadata": {},
     "output_type": "execute_result"
    }
   ],
   "source": [
    "svc_2_filename = f'{path_model}/svc_2.sav'\n",
    "joblib.dump(svc_2, svc_2_filename)"
   ]
  },
  {
   "cell_type": "code",
   "execution_count": 39,
   "id": "313a426b-ac93-477c-bd77-aa17675a437e",
   "metadata": {},
   "outputs": [],
   "source": [
    "# svc_2 = joblib.load(svc_2_filename)"
   ]
  },
  {
   "cell_type": "markdown",
   "id": "88909530-e0d9-41fd-8b09-403e418b13bb",
   "metadata": {},
   "source": [
    "## Naive Bayes"
   ]
  },
  {
   "cell_type": "code",
   "execution_count": 40,
   "id": "6dafb120-10bc-4094-8bbc-00dac06df04d",
   "metadata": {},
   "outputs": [],
   "source": [
    "from sklearn.naive_bayes import GaussianNB"
   ]
  },
  {
   "cell_type": "code",
   "execution_count": 41,
   "id": "e0399df7-5786-4eeb-b093-77c0ef1c53da",
   "metadata": {},
   "outputs": [
    {
     "name": "stdout",
     "output_type": "stream",
     "text": [
      "              precision    recall  f1-score   support\n",
      "\n",
      "           0       0.96      0.87      0.91       283\n",
      "           1       0.90      0.97      0.93       327\n",
      "\n",
      "    accuracy                           0.92       610\n",
      "   macro avg       0.93      0.92      0.92       610\n",
      "weighted avg       0.93      0.92      0.92       610\n",
      "\n"
     ]
    }
   ],
   "source": [
    "nb = GaussianNB()\n",
    "nb.fit(X_train, y_train)\n",
    "y_pred = nb.predict(X_test)\n",
    "\n",
    "# accuracy_nb = accuracy_score(y_test, y_pred)\n",
    "# print(\"Accuracy:\", accuracy_nb)\n",
    "\n",
    "# score = roc_auc_score(y_test, y_pred)\n",
    "# print(\"Mean ROC AUC:\", score)\n",
    "\n",
    "print(classification_report(y_test, y_pred))"
   ]
  },
  {
   "cell_type": "code",
   "execution_count": 42,
   "id": "160ecc82-8bdf-487a-80d4-f88c84991c1c",
   "metadata": {},
   "outputs": [
    {
     "data": {
      "text/plain": [
       "['./models/gaussian.sav']"
      ]
     },
     "execution_count": 42,
     "metadata": {},
     "output_type": "execute_result"
    }
   ],
   "source": [
    "gaus_filename = f'{path_model}/gaussian.sav'\n",
    "joblib.dump(nb, gaus_filename)"
   ]
  },
  {
   "cell_type": "code",
   "execution_count": 43,
   "id": "d6bfce22-5330-4485-9e5f-71debfcdf4de",
   "metadata": {},
   "outputs": [],
   "source": [
    "# nb = joblib.load(gaus_filename)"
   ]
  },
  {
   "cell_type": "markdown",
   "id": "7421c9b3-cd71-4e2a-98a5-75e1db8ba621",
   "metadata": {},
   "source": [
    "### Logistic Regression"
   ]
  },
  {
   "cell_type": "code",
   "execution_count": 44,
   "id": "2155a5f5-e21a-4071-8070-0086921cde9f",
   "metadata": {},
   "outputs": [],
   "source": [
    "from sklearn.pipeline import Pipeline\n",
    "from sklearn.preprocessing import PowerTransformer\n",
    "from sklearn.linear_model import LogisticRegression"
   ]
  },
  {
   "cell_type": "code",
   "execution_count": 45,
   "id": "1b27d8fe-34b0-4f12-85f2-b8ab1e3337cc",
   "metadata": {},
   "outputs": [
    {
     "name": "stdout",
     "output_type": "stream",
     "text": [
      "scores = [0.98528294 0.98949516 0.98788924 0.98731485 0.98613692] \n",
      "mean score = 0.98722 +/- 0.00145\n"
     ]
    }
   ],
   "source": [
    "SEED = 42\n",
    "\n",
    "skf = StratifiedKFold(n_splits=5, shuffle=True, random_state=SEED)\n",
    "\n",
    "lr = Pipeline([('p_trans', PowerTransformer(method='yeo-johnson', standardize=True)),\n",
    "               ('lr', LogisticRegression(solver='liblinear',\n",
    "                                         penalty='l1',\n",
    "                                         max_iter=200,\n",
    "                                         class_weight='balanced',\n",
    "                                         random_state=SEED)\n",
    "               )])\n",
    "\n",
    "unscaled_lr = Pipeline([('lr', LogisticRegression(solver='liblinear',\n",
    "                                         penalty='l1',\n",
    "                                         max_iter=200,\n",
    "                                         class_weight='balanced',\n",
    "                                         random_state=SEED)\n",
    "               )])\n",
    "\n",
    "scores = cross_val_score(estimator=lr, X=X_train, y=y_train, \n",
    "                         cv=skf, scoring='roc_auc', n_jobs=-1)\n",
    "\n",
    "print('scores = {} \\nmean score = {:.5f} +/- {:.5f}'.format(scores, scores.mean(), scores.std()))\n",
    "\n",
    "lr.fit(X_train, y_train);"
   ]
  },
  {
   "cell_type": "code",
   "execution_count": 46,
   "id": "ac9f7799-b3c1-4c2a-bbbd-b9c0bb7f9029",
   "metadata": {},
   "outputs": [],
   "source": [
    "df_score = pd.DataFrame(data={'score': lr['lr'].coef_[0]}, index=X.columns).sort_values(by='score')\n",
    "# df.plot(kind='barh', grid=True, figsize=(6,6), legend=False)"
   ]
  },
  {
   "cell_type": "code",
   "execution_count": 47,
   "id": "529e8a15-981f-4d9f-bb96-5a7abdce3859",
   "metadata": {},
   "outputs": [
    {
     "data": {
      "text/html": [
       "<div>\n",
       "<style scoped>\n",
       "    .dataframe tbody tr th:only-of-type {\n",
       "        vertical-align: middle;\n",
       "    }\n",
       "\n",
       "    .dataframe tbody tr th {\n",
       "        vertical-align: top;\n",
       "    }\n",
       "\n",
       "    .dataframe thead th {\n",
       "        text-align: right;\n",
       "    }\n",
       "</style>\n",
       "<table border=\"1\" class=\"dataframe\">\n",
       "  <thead>\n",
       "    <tr style=\"text-align: right;\">\n",
       "      <th></th>\n",
       "      <th>score</th>\n",
       "    </tr>\n",
       "  </thead>\n",
       "  <tbody>\n",
       "    <tr>\n",
       "      <th>BCUT2D_CHGLO</th>\n",
       "      <td>-3.223946</td>\n",
       "    </tr>\n",
       "    <tr>\n",
       "      <th>Kappa2</th>\n",
       "      <td>-2.523274</td>\n",
       "    </tr>\n",
       "    <tr>\n",
       "      <th>Kappa3</th>\n",
       "      <td>-1.697025</td>\n",
       "    </tr>\n",
       "    <tr>\n",
       "      <th>Chi4n</th>\n",
       "      <td>-1.641638</td>\n",
       "    </tr>\n",
       "    <tr>\n",
       "      <th>PEOE_VSA9</th>\n",
       "      <td>-1.397618</td>\n",
       "    </tr>\n",
       "    <tr>\n",
       "      <th>...</th>\n",
       "      <td>...</td>\n",
       "    </tr>\n",
       "    <tr>\n",
       "      <th>PEOE_VSA12</th>\n",
       "      <td>1.145546</td>\n",
       "    </tr>\n",
       "    <tr>\n",
       "      <th>SlogP_VSA12</th>\n",
       "      <td>1.727905</td>\n",
       "    </tr>\n",
       "    <tr>\n",
       "      <th>PEOE_VSA5</th>\n",
       "      <td>2.171783</td>\n",
       "    </tr>\n",
       "    <tr>\n",
       "      <th>PEOE_VSA7</th>\n",
       "      <td>2.500676</td>\n",
       "    </tr>\n",
       "    <tr>\n",
       "      <th>PEOE_VSA2</th>\n",
       "      <td>2.880641</td>\n",
       "    </tr>\n",
       "  </tbody>\n",
       "</table>\n",
       "<p>112 rows × 1 columns</p>\n",
       "</div>"
      ],
      "text/plain": [
       "                 score\n",
       "BCUT2D_CHGLO -3.223946\n",
       "Kappa2       -2.523274\n",
       "Kappa3       -1.697025\n",
       "Chi4n        -1.641638\n",
       "PEOE_VSA9    -1.397618\n",
       "...                ...\n",
       "PEOE_VSA12    1.145546\n",
       "SlogP_VSA12   1.727905\n",
       "PEOE_VSA5     2.171783\n",
       "PEOE_VSA7     2.500676\n",
       "PEOE_VSA2     2.880641\n",
       "\n",
       "[112 rows x 1 columns]"
      ]
     },
     "execution_count": 47,
     "metadata": {},
     "output_type": "execute_result"
    }
   ],
   "source": [
    "df_score"
   ]
  },
  {
   "cell_type": "code",
   "execution_count": 48,
   "id": "5b8985b4-767a-4f51-bf38-541ddd08b6c4",
   "metadata": {},
   "outputs": [
    {
     "name": "stdout",
     "output_type": "stream",
     "text": [
      "              precision    recall  f1-score   support\n",
      "\n",
      "           0       0.98      0.93      0.95       283\n",
      "           1       0.94      0.98      0.96       327\n",
      "\n",
      "    accuracy                           0.96       610\n",
      "   macro avg       0.96      0.95      0.96       610\n",
      "weighted avg       0.96      0.96      0.96       610\n",
      "\n"
     ]
    }
   ],
   "source": [
    "y_pred = lr.predict(X_test)\n",
    "\n",
    "# score = roc_auc_score(y_test, y_pred)\n",
    "# print(\"Mean ROC AUC:\", score)\n",
    "\n",
    "# accuracy_nb = accuracy_score(y_test, y_pred)\n",
    "# print(\"Accuracy:\", accuracy_nb)\n",
    "\n",
    "print(classification_report(y_test, y_pred))"
   ]
  },
  {
   "cell_type": "markdown",
   "id": "b6b7c4b2-8e47-43b3-9817-601cdffd6ef0",
   "metadata": {},
   "source": [
    "#### We have high accuracy and high AUC score in classification, it's better to go to regression to better progress"
   ]
  },
  {
   "cell_type": "code",
   "execution_count": 50,
   "id": "8edaa0fc-b321-44f8-841c-23921b4e8fe6",
   "metadata": {},
   "outputs": [
    {
     "data": {
      "text/plain": [
       "['./models/svc.sav']"
      ]
     },
     "execution_count": 50,
     "metadata": {},
     "output_type": "execute_result"
    }
   ],
   "source": [
    "lofit_filename = f'{path_model}/svc.sav'\n",
    "joblib.dump(lr, lofit_filename)"
   ]
  },
  {
   "cell_type": "code",
   "execution_count": 51,
   "id": "1c1d2c03-7728-4ff1-b635-fafd95c7fd25",
   "metadata": {},
   "outputs": [],
   "source": [
    "# lr = joblib.load(logit_filename)"
   ]
  },
  {
   "cell_type": "markdown",
   "id": "ff5d286b-2da6-448f-b678-592fb12ae668",
   "metadata": {},
   "source": [
    "### Decision Tree"
   ]
  },
  {
   "cell_type": "code",
   "execution_count": 52,
   "id": "15c2af44-b1c8-4b29-995b-5059c0ac8dd4",
   "metadata": {},
   "outputs": [],
   "source": [
    "from sklearn.tree import DecisionTreeClassifier"
   ]
  },
  {
   "cell_type": "code",
   "execution_count": 53,
   "id": "ee25093e-6ff9-4af4-abf6-ec40c090254c",
   "metadata": {},
   "outputs": [
    {
     "name": "stdout",
     "output_type": "stream",
     "text": [
      ">1, train: 0.899, test: 0.887\n",
      ">2, train: 0.925, test: 0.903\n",
      ">3, train: 0.948, test: 0.933\n",
      ">4, train: 0.954, test: 0.933\n",
      ">5, train: 0.965, test: 0.941\n",
      ">6, train: 0.971, test: 0.943\n",
      ">7, train: 0.976, test: 0.946\n",
      ">8, train: 0.981, test: 0.952\n",
      ">9, train: 0.985, test: 0.956\n",
      ">10, train: 0.988, test: 0.949\n",
      ">11, train: 0.991, test: 0.946\n",
      ">12, train: 0.993, test: 0.951\n",
      ">13, train: 0.995, test: 0.944\n",
      ">14, train: 0.995, test: 0.949\n",
      ">15, train: 0.996, test: 0.948\n",
      ">16, train: 0.997, test: 0.939\n",
      ">17, train: 0.997, test: 0.946\n",
      ">18, train: 0.997, test: 0.952\n",
      ">19, train: 0.997, test: 0.949\n",
      ">20, train: 0.998, test: 0.956\n"
     ]
    }
   ],
   "source": [
    "values = [i for i in range(1, 21)]\n",
    "train_scores = []\n",
    "test_scores = []\n",
    "for i in values:\n",
    "    model = DecisionTreeClassifier(max_depth=i)\n",
    "\n",
    "    model.fit(X_train, y_train)\n",
    "\n",
    "    train_yhat = model.predict(X_train)\n",
    "    train_acc = accuracy_score(y_train, train_yhat)\n",
    "    train_scores.append(train_acc)\n",
    "    \n",
    "    test_yhat = model.predict(X_test)\n",
    "    test_acc = accuracy_score(y_test, test_yhat)\n",
    "    test_scores.append(test_acc)\n",
    "\n",
    "    print('>%d, train: %.3f, test: %.3f' % (i, train_acc, test_acc))"
   ]
  },
  {
   "cell_type": "markdown",
   "id": "258d564c-03e0-4b9e-a21b-5d3844cb64a8",
   "metadata": {},
   "source": [
    "## Plot"
   ]
  },
  {
   "cell_type": "code",
   "execution_count": 54,
   "id": "3a9a428e-ea67-4714-883a-502ae3274802",
   "metadata": {},
   "outputs": [
    {
     "data": {
      "image/png": "[encoded data removed]",
      "text/plain": [
       "<Figure size 800x800 with 1 Axes>"
      ]
     },
     "metadata": {},
     "output_type": "display_data"
    }
   ],
   "source": [
    "plt.figure(1, figsize=(8,8))\n",
    "plt.plot(values, train_scores, '-o', label='Train')\n",
    "plt.plot(values, test_scores, '-o', label='Test')\n",
    "plt.legend()\n",
    "plt.xticks(range(1, 21))\n",
    "plt.grid()\n",
    "plt.title('DecisionTreeClassifier')\n",
    "plt.ylabel('Accuracy')\n",
    "plt.xlabel('Max depth')\n",
    "# plt.show()\n",
    "plt.savefig(f'{pics}/clf_dtree_balanced.png')"
   ]
  },
  {
   "cell_type": "code",
   "execution_count": null,
   "id": "7a56dcb9-bfe9-4c81-b437-d7120eb955db",
   "metadata": {},
   "outputs": [],
   "source": []
  },
  {
   "cell_type": "markdown",
   "id": "bfd0a54c-e434-4577-9f68-6d43ee419cb8",
   "metadata": {},
   "source": [
    "### Random Forest"
   ]
  },
  {
   "cell_type": "code",
   "execution_count": 55,
   "id": "24881715-a1e2-4424-b5c6-06a74c7e54a2",
   "metadata": {},
   "outputs": [
    {
     "name": "stdout",
     "output_type": "stream",
     "text": [
      ">1, train: 0.997, test: 0.941\n",
      ">2, train: 0.997, test: 0.949\n",
      ">3, train: 0.997, test: 0.948\n",
      ">4, train: 0.997, test: 0.944\n",
      ">5, train: 0.997, test: 0.948\n",
      ">6, train: 0.997, test: 0.952\n",
      ">7, train: 0.997, test: 0.949\n",
      ">8, train: 0.997, test: 0.946\n",
      ">9, train: 0.997, test: 0.952\n",
      ">10, train: 0.997, test: 0.951\n",
      ">11, train: 0.997, test: 0.951\n",
      ">12, train: 0.998, test: 0.954\n",
      ">13, train: 0.997, test: 0.951\n",
      ">14, train: 0.997, test: 0.948\n",
      ">15, train: 0.997, test: 0.952\n",
      ">16, train: 0.997, test: 0.946\n",
      ">17, train: 0.997, test: 0.939\n",
      ">18, train: 0.997, test: 0.949\n",
      ">19, train: 0.997, test: 0.949\n",
      ">20, train: 0.997, test: 0.949\n"
     ]
    }
   ],
   "source": [
    "from sklearn.ensemble import RandomForestClassifier\n",
    "\n",
    "values = [i for i in range(1, 21)]\n",
    "train_scores = []\n",
    "test_scores = []\n",
    "for i in values:\n",
    "    rf = RandomForestClassifier(max_depth=i)\n",
    "\n",
    "    model.fit(X_train, y_train)\n",
    "\n",
    "    train_yhat = model.predict(X_train)\n",
    "    train_acc = accuracy_score(y_train, train_yhat)\n",
    "    train_scores.append(train_acc)\n",
    "    \n",
    "    test_yhat = model.predict(X_test)\n",
    "    test_acc = accuracy_score(y_test, test_yhat)\n",
    "    test_scores.append(test_acc)\n",
    "\n",
    "    print('>%d, train: %.3f, test: %.3f' % (i, train_acc, test_acc))"
   ]
  },
  {
   "cell_type": "code",
   "execution_count": 56,
   "id": "e88d8dfd-7da2-4a8f-b28c-3795441a3e90",
   "metadata": {},
   "outputs": [
    {
     "data": {
      "image/png": "[encoded data removed]",
      "text/plain": [
       "<Figure size 800x800 with 1 Axes>"
      ]
     },
     "metadata": {},
     "output_type": "display_data"
    }
   ],
   "source": [
    "plt.figure(1, figsize=(8,8))\n",
    "plt.plot(values, train_scores, '-o', label='Train')\n",
    "plt.plot(values, test_scores, '-o', label='Test')\n",
    "plt.legend()\n",
    "plt.xticks(range(1, 21))\n",
    "plt.grid()\n",
    "plt.title('RandomForestClassifier')\n",
    "plt.ylabel('Accuracy')\n",
    "plt.xlabel('Max depth')\n",
    "plt.show()\n",
    "# plt.savefig(f'{pics}/clf_rf_balanced.png')"
   ]
  },
  {
   "cell_type": "code",
   "execution_count": null,
   "id": "b52449c6-da21-473e-bbf3-70599fbae440",
   "metadata": {},
   "outputs": [],
   "source": []
  },
  {
   "cell_type": "code",
   "execution_count": null,
   "id": "f5d1a33e-abac-44b2-ba05-6a3fc119ee44",
   "metadata": {},
   "outputs": [],
   "source": []
  },
  {
   "cell_type": "code",
   "execution_count": 57,
   "id": "ddd47088-1a8f-49f1-bddc-d1c429ce7c05",
   "metadata": {},
   "outputs": [],
   "source": [
    "from sklearn.ensemble import AdaBoostClassifier"
   ]
  },
  {
   "cell_type": "code",
   "execution_count": 58,
   "id": "45a3fdfb-7c19-4a66-89c9-b24a1fc560ba",
   "metadata": {},
   "outputs": [
    {
     "data": {
      "text/plain": [
       "0.9655737704918033"
      ]
     },
     "execution_count": 58,
     "metadata": {},
     "output_type": "execute_result"
    }
   ],
   "source": [
    "clf = AdaBoostClassifier(n_estimators=100)\n",
    "clf.fit(X_train, y_train)\n",
    "clf.score(X_test, y_test)"
   ]
  },
  {
   "cell_type": "code",
   "execution_count": null,
   "id": "dc87d2dd-6628-418e-bba0-d0310f8c87ec",
   "metadata": {},
   "outputs": [],
   "source": []
  }
 ],
 "metadata": {
  "kernelspec": {
   "display_name": "Python 3 (ipykernel)",
   "language": "python",
   "name": "python3"
  },
  "language_info": {
   "codemirror_mode": {
    "name": "ipython",
    "version": 3
   },
   "file_extension": ".py",
   "mimetype": "text/x-python",
   "name": "python",
   "nbconvert_exporter": "python",
   "pygments_lexer": "ipython3",
   "version": "3.10.13"
  }
 },
 "nbformat": 4,
 "nbformat_minor": 5
}
