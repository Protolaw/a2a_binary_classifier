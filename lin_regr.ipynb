{
 "cells": [
  {
   "cell_type": "code",
   "execution_count": 1,
   "id": "1b044ad3-ae0d-4e63-b4f2-b04c26343e92",
   "metadata": {},
   "outputs": [],
   "source": [
    "import pandas as pd\n",
    "import numpy as np\n",
    "import seaborn as sns\n",
    "import matplotlib.pyplot as plt\n",
    "from tqdm import tqdm"
   ]
  },
  {
   "cell_type": "code",
   "execution_count": 2,
   "id": "8fd6a365-4ecc-4479-b8b4-35db47cdfdaa",
   "metadata": {},
   "outputs": [],
   "source": [
    "target = 'aa2ar'\n",
    "url = f'https://dude.docking.org//targets/{target}'\n",
    "tables = './tables'"
   ]
  },
  {
   "cell_type": "code",
   "execution_count": 3,
   "id": "7b5d89c6-d17e-4924-a812-d77db1fe6d4b",
   "metadata": {},
   "outputs": [],
   "source": [
    "def dataset_loader():\n",
    "    active = pd.read_csv(f'{url}/actives_combined.ism', header=None, sep=' ', on_bad_lines='skip')\n",
    "    needed_active = active[active[2] == 'Ki']\n",
    "    df = pd.DataFrame({'smiles':needed_active[0], 'Ki': needed_active[4]})\n",
    "    return df"
   ]
  },
  {
   "cell_type": "code",
   "execution_count": 4,
   "id": "f38edbbf-fe2e-49b9-bcbe-2f6497e4b81b",
   "metadata": {},
   "outputs": [],
   "source": [
    "df = dataset_loader()"
   ]
  },
  {
   "cell_type": "markdown",
   "id": "a0133fec-2858-4336-872a-e5a690d984c3",
   "metadata": {},
   "source": [
    "### Feature generation - RDKit Library"
   ]
  },
  {
   "cell_type": "code",
   "execution_count": 5,
   "id": "a698abc3-f598-4591-b16c-aa8cbbd55e1e",
   "metadata": {},
   "outputs": [],
   "source": [
    "import rdkit\n",
    "from rdkit import Chem\n",
    "from rdkit.Chem import Descriptors\n",
    "from rdkit.Chem.Descriptors import CalcMolDescriptors\n",
    "from rdkit.ML.Descriptors.MoleculeDescriptors import MolecularDescriptorCalculator as MDC"
   ]
  },
  {
   "cell_type": "code",
   "execution_count": 6,
   "id": "08dfa0e4-710e-463a-87bd-9b3d956990b5",
   "metadata": {},
   "outputs": [],
   "source": [
    "y = df['Ki'].reset_index()\n",
    "y = y['Ki']"
   ]
  },
  {
   "cell_type": "code",
   "execution_count": 7,
   "id": "a3c6b3a8-a277-4c81-9ff4-5b8db8182683",
   "metadata": {},
   "outputs": [
    {
     "data": {
      "text/plain": [
       "0        39.7\n",
       "1       502.0\n",
       "2       150.0\n",
       "3         1.0\n",
       "4       390.0\n",
       "        ...  \n",
       "2771    630.0\n",
       "2772      2.2\n",
       "2773    110.0\n",
       "2774    340.0\n",
       "2775    779.0\n",
       "Name: Ki, Length: 2776, dtype: float64"
      ]
     },
     "execution_count": 7,
     "metadata": {},
     "output_type": "execute_result"
    }
   ],
   "source": [
    "y"
   ]
  },
  {
   "cell_type": "code",
   "execution_count": 8,
   "id": "bf702188-921b-48f1-a356-8c68d5e72b3f",
   "metadata": {},
   "outputs": [],
   "source": [
    "def RDkit_descriptors(data):\n",
    "    mols = [Chem.MolFromSmiles(i) for i in data.smiles]\n",
    "    desc_names = list(CalcMolDescriptors(mols[0]).keys())\n",
    "    mol_descs = []\n",
    "    for i in tqdm(range(len(data))):\n",
    "        descriptors = CalcMolDescriptors(mols[i])\n",
    "        mol_descs.append(descriptors)\n",
    "    return mol_descs"
   ]
  },
  {
   "cell_type": "code",
   "execution_count": 9,
   "id": "4e10c601-f3c0-4e2d-9fa7-1cb4b0c7cd69",
   "metadata": {},
   "outputs": [
    {
     "name": "stderr",
     "output_type": "stream",
     "text": [
      "100%|██████████| 2776/2776 [01:28<00:00, 31.38it/s]\n"
     ]
    },
    {
     "ename": "ValueError",
     "evalue": "too many values to unpack (expected 2)",
     "output_type": "error",
     "traceback": [
      "\u001b[0;31m---------------------------------------------------------------------------\u001b[0m",
      "\u001b[0;31mValueError\u001b[0m                                Traceback (most recent call last)",
      "Cell \u001b[0;32mIn[9], line 1\u001b[0m\n\u001b[0;32m----> 1\u001b[0m mol_descs,desc_names \u001b[38;5;241m=\u001b[39m RDkit_descriptors(df)\n",
      "\u001b[0;31mValueError\u001b[0m: too many values to unpack (expected 2)"
     ]
    }
   ],
   "source": [
    "mol_descs,desc_names = RDkit_descriptors(df)"
   ]
  },
  {
   "cell_type": "code",
   "execution_count": null,
   "id": "eff0c69f-bf0b-4363-945b-a997d5eb74c8",
   "metadata": {},
   "outputs": [
    {
     "data": {
      "text/plain": [
       "(2776, 210)"
      ]
     },
     "execution_count": 67,
     "metadata": {},
     "output_type": "execute_result"
    }
   ],
   "source": [
    "# mol_desc = pd.Series(mol_descs\n",
    "# data = pd.DataFrame(mol_descs)\n",
    "data.shape"
   ]
  },
  {
   "cell_type": "code",
   "execution_count": null,
   "id": "c56262eb-dbb3-4324-a94d-5978eba6b8a1",
   "metadata": {},
   "outputs": [],
   "source": [
    "save = pd.concat([data, y], axis=1)\n",
    "save"
   ]
  },
  {
   "cell_type": "code",
   "execution_count": null,
   "id": "bf3a1051-a075-4d0c-9bce-857c33729e56",
   "metadata": {},
   "outputs": [],
   "source": [
    "save.to_csv(f'{tables}/active_regr.csv',index=False)"
   ]
  },
  {
   "cell_type": "code",
   "execution_count": null,
   "id": "4da52737-c956-44eb-ad04-0979b570e72a",
   "metadata": {},
   "outputs": [],
   "source": []
  },
  {
   "cell_type": "code",
   "execution_count": null,
   "id": "a1ff818f-02b2-4cf5-9178-5b09a9fd2a6a",
   "metadata": {},
   "outputs": [
    {
     "data": {
      "text/html": [
       "<div>\n",
       "<style scoped>\n",
       "    .dataframe tbody tr th:only-of-type {\n",
       "        vertical-align: middle;\n",
       "    }\n",
       "\n",
       "    .dataframe tbody tr th {\n",
       "        vertical-align: top;\n",
       "    }\n",
       "\n",
       "    .dataframe thead th {\n",
       "        text-align: right;\n",
       "    }\n",
       "</style>\n",
       "<table border=\"1\" class=\"dataframe\">\n",
       "  <thead>\n",
       "    <tr style=\"text-align: right;\">\n",
       "      <th></th>\n",
       "      <th>MaxAbsEStateIndex</th>\n",
       "      <th>MaxEStateIndex</th>\n",
       "      <th>MinAbsEStateIndex</th>\n",
       "      <th>MinEStateIndex</th>\n",
       "      <th>qed</th>\n",
       "      <th>SPS</th>\n",
       "      <th>MolWt</th>\n",
       "      <th>HeavyAtomMolWt</th>\n",
       "      <th>ExactMolWt</th>\n",
       "      <th>NumValenceElectrons</th>\n",
       "      <th>...</th>\n",
       "      <th>fr_sulfonamd</th>\n",
       "      <th>fr_sulfone</th>\n",
       "      <th>fr_term_acetylene</th>\n",
       "      <th>fr_tetrazole</th>\n",
       "      <th>fr_thiazole</th>\n",
       "      <th>fr_thiocyan</th>\n",
       "      <th>fr_thiophene</th>\n",
       "      <th>fr_unbrch_alkane</th>\n",
       "      <th>fr_urea</th>\n",
       "      <th>Ki</th>\n",
       "    </tr>\n",
       "  </thead>\n",
       "  <tbody>\n",
       "    <tr>\n",
       "      <th>0</th>\n",
       "      <td>10.337455</td>\n",
       "      <td>10.337455</td>\n",
       "      <td>0.057778</td>\n",
       "      <td>-1.272753</td>\n",
       "      <td>0.255933</td>\n",
       "      <td>23.375000</td>\n",
       "      <td>505.329</td>\n",
       "      <td>484.161</td>\n",
       "      <td>504.075680</td>\n",
       "      <td>168</td>\n",
       "      <td>...</td>\n",
       "      <td>0</td>\n",
       "      <td>0</td>\n",
       "      <td>0</td>\n",
       "      <td>0</td>\n",
       "      <td>0</td>\n",
       "      <td>0</td>\n",
       "      <td>0</td>\n",
       "      <td>0</td>\n",
       "      <td>0</td>\n",
       "      <td>39.7</td>\n",
       "    </tr>\n",
       "    <tr>\n",
       "      <th>1</th>\n",
       "      <td>10.335047</td>\n",
       "      <td>10.335047</td>\n",
       "      <td>0.059736</td>\n",
       "      <td>-1.271941</td>\n",
       "      <td>0.255933</td>\n",
       "      <td>23.375000</td>\n",
       "      <td>505.329</td>\n",
       "      <td>484.161</td>\n",
       "      <td>504.075680</td>\n",
       "      <td>168</td>\n",
       "      <td>...</td>\n",
       "      <td>0</td>\n",
       "      <td>0</td>\n",
       "      <td>0</td>\n",
       "      <td>0</td>\n",
       "      <td>0</td>\n",
       "      <td>0</td>\n",
       "      <td>0</td>\n",
       "      <td>0</td>\n",
       "      <td>0</td>\n",
       "      <td>502.0</td>\n",
       "    </tr>\n",
       "    <tr>\n",
       "      <th>2</th>\n",
       "      <td>10.333078</td>\n",
       "      <td>10.333078</td>\n",
       "      <td>0.061184</td>\n",
       "      <td>-1.271281</td>\n",
       "      <td>0.255933</td>\n",
       "      <td>23.375000</td>\n",
       "      <td>505.329</td>\n",
       "      <td>484.161</td>\n",
       "      <td>504.075680</td>\n",
       "      <td>168</td>\n",
       "      <td>...</td>\n",
       "      <td>0</td>\n",
       "      <td>0</td>\n",
       "      <td>0</td>\n",
       "      <td>0</td>\n",
       "      <td>0</td>\n",
       "      <td>0</td>\n",
       "      <td>0</td>\n",
       "      <td>0</td>\n",
       "      <td>0</td>\n",
       "      <td>150.0</td>\n",
       "    </tr>\n",
       "    <tr>\n",
       "      <th>3</th>\n",
       "      <td>6.090409</td>\n",
       "      <td>6.090409</td>\n",
       "      <td>0.226017</td>\n",
       "      <td>0.226017</td>\n",
       "      <td>0.547921</td>\n",
       "      <td>12.285714</td>\n",
       "      <td>362.614</td>\n",
       "      <td>353.542</td>\n",
       "      <td>360.961752</td>\n",
       "      <td>104</td>\n",
       "      <td>...</td>\n",
       "      <td>0</td>\n",
       "      <td>0</td>\n",
       "      <td>0</td>\n",
       "      <td>0</td>\n",
       "      <td>0</td>\n",
       "      <td>0</td>\n",
       "      <td>0</td>\n",
       "      <td>0</td>\n",
       "      <td>0</td>\n",
       "      <td>1.0</td>\n",
       "    </tr>\n",
       "    <tr>\n",
       "      <th>4</th>\n",
       "      <td>10.328997</td>\n",
       "      <td>10.328997</td>\n",
       "      <td>0.042932</td>\n",
       "      <td>-1.278885</td>\n",
       "      <td>0.279243</td>\n",
       "      <td>23.375000</td>\n",
       "      <td>460.878</td>\n",
       "      <td>439.710</td>\n",
       "      <td>460.126195</td>\n",
       "      <td>168</td>\n",
       "      <td>...</td>\n",
       "      <td>0</td>\n",
       "      <td>0</td>\n",
       "      <td>0</td>\n",
       "      <td>0</td>\n",
       "      <td>0</td>\n",
       "      <td>0</td>\n",
       "      <td>0</td>\n",
       "      <td>0</td>\n",
       "      <td>0</td>\n",
       "      <td>390.0</td>\n",
       "    </tr>\n",
       "    <tr>\n",
       "      <th>...</th>\n",
       "      <td>...</td>\n",
       "      <td>...</td>\n",
       "      <td>...</td>\n",
       "      <td>...</td>\n",
       "      <td>...</td>\n",
       "      <td>...</td>\n",
       "      <td>...</td>\n",
       "      <td>...</td>\n",
       "      <td>...</td>\n",
       "      <td>...</td>\n",
       "      <td>...</td>\n",
       "      <td>...</td>\n",
       "      <td>...</td>\n",
       "      <td>...</td>\n",
       "      <td>...</td>\n",
       "      <td>...</td>\n",
       "      <td>...</td>\n",
       "      <td>...</td>\n",
       "      <td>...</td>\n",
       "      <td>...</td>\n",
       "      <td>...</td>\n",
       "    </tr>\n",
       "    <tr>\n",
       "      <th>2771</th>\n",
       "      <td>10.207113</td>\n",
       "      <td>10.207113</td>\n",
       "      <td>0.176268</td>\n",
       "      <td>-1.612007</td>\n",
       "      <td>0.403557</td>\n",
       "      <td>26.640000</td>\n",
       "      <td>363.450</td>\n",
       "      <td>342.282</td>\n",
       "      <td>363.136281</td>\n",
       "      <td>134</td>\n",
       "      <td>...</td>\n",
       "      <td>0</td>\n",
       "      <td>0</td>\n",
       "      <td>0</td>\n",
       "      <td>0</td>\n",
       "      <td>0</td>\n",
       "      <td>0</td>\n",
       "      <td>0</td>\n",
       "      <td>0</td>\n",
       "      <td>0</td>\n",
       "      <td>630.0</td>\n",
       "    </tr>\n",
       "    <tr>\n",
       "      <th>2772</th>\n",
       "      <td>11.212685</td>\n",
       "      <td>11.212685</td>\n",
       "      <td>0.209838</td>\n",
       "      <td>-0.978555</td>\n",
       "      <td>0.322488</td>\n",
       "      <td>15.540541</td>\n",
       "      <td>521.607</td>\n",
       "      <td>494.391</td>\n",
       "      <td>521.195757</td>\n",
       "      <td>192</td>\n",
       "      <td>...</td>\n",
       "      <td>0</td>\n",
       "      <td>0</td>\n",
       "      <td>0</td>\n",
       "      <td>0</td>\n",
       "      <td>0</td>\n",
       "      <td>0</td>\n",
       "      <td>0</td>\n",
       "      <td>0</td>\n",
       "      <td>0</td>\n",
       "      <td>2.2</td>\n",
       "    </tr>\n",
       "    <tr>\n",
       "      <th>2773</th>\n",
       "      <td>11.747357</td>\n",
       "      <td>11.747357</td>\n",
       "      <td>0.187560</td>\n",
       "      <td>-3.317645</td>\n",
       "      <td>0.597420</td>\n",
       "      <td>11.880000</td>\n",
       "      <td>355.379</td>\n",
       "      <td>342.275</td>\n",
       "      <td>355.073910</td>\n",
       "      <td>126</td>\n",
       "      <td>...</td>\n",
       "      <td>0</td>\n",
       "      <td>1</td>\n",
       "      <td>0</td>\n",
       "      <td>0</td>\n",
       "      <td>0</td>\n",
       "      <td>0</td>\n",
       "      <td>0</td>\n",
       "      <td>0</td>\n",
       "      <td>0</td>\n",
       "      <td>110.0</td>\n",
       "    </tr>\n",
       "    <tr>\n",
       "      <th>2774</th>\n",
       "      <td>11.566178</td>\n",
       "      <td>11.566178</td>\n",
       "      <td>0.123217</td>\n",
       "      <td>-3.222610</td>\n",
       "      <td>0.585306</td>\n",
       "      <td>11.884615</td>\n",
       "      <td>369.406</td>\n",
       "      <td>354.286</td>\n",
       "      <td>369.089560</td>\n",
       "      <td>132</td>\n",
       "      <td>...</td>\n",
       "      <td>0</td>\n",
       "      <td>1</td>\n",
       "      <td>0</td>\n",
       "      <td>0</td>\n",
       "      <td>0</td>\n",
       "      <td>0</td>\n",
       "      <td>0</td>\n",
       "      <td>0</td>\n",
       "      <td>0</td>\n",
       "      <td>340.0</td>\n",
       "    </tr>\n",
       "    <tr>\n",
       "      <th>2775</th>\n",
       "      <td>11.568524</td>\n",
       "      <td>11.568524</td>\n",
       "      <td>0.123217</td>\n",
       "      <td>-3.219330</td>\n",
       "      <td>0.585306</td>\n",
       "      <td>11.884615</td>\n",
       "      <td>369.406</td>\n",
       "      <td>354.286</td>\n",
       "      <td>369.089560</td>\n",
       "      <td>132</td>\n",
       "      <td>...</td>\n",
       "      <td>0</td>\n",
       "      <td>1</td>\n",
       "      <td>0</td>\n",
       "      <td>0</td>\n",
       "      <td>0</td>\n",
       "      <td>0</td>\n",
       "      <td>0</td>\n",
       "      <td>0</td>\n",
       "      <td>0</td>\n",
       "      <td>779.0</td>\n",
       "    </tr>\n",
       "  </tbody>\n",
       "</table>\n",
       "<p>2776 rows × 211 columns</p>\n",
       "</div>"
      ],
      "text/plain": [
       "      MaxAbsEStateIndex  MaxEStateIndex  MinAbsEStateIndex  MinEStateIndex  \\\n",
       "0             10.337455       10.337455           0.057778       -1.272753   \n",
       "1             10.335047       10.335047           0.059736       -1.271941   \n",
       "2             10.333078       10.333078           0.061184       -1.271281   \n",
       "3              6.090409        6.090409           0.226017        0.226017   \n",
       "4             10.328997       10.328997           0.042932       -1.278885   \n",
       "...                 ...             ...                ...             ...   \n",
       "2771          10.207113       10.207113           0.176268       -1.612007   \n",
       "2772          11.212685       11.212685           0.209838       -0.978555   \n",
       "2773          11.747357       11.747357           0.187560       -3.317645   \n",
       "2774          11.566178       11.566178           0.123217       -3.222610   \n",
       "2775          11.568524       11.568524           0.123217       -3.219330   \n",
       "\n",
       "           qed        SPS    MolWt  HeavyAtomMolWt  ExactMolWt  \\\n",
       "0     0.255933  23.375000  505.329         484.161  504.075680   \n",
       "1     0.255933  23.375000  505.329         484.161  504.075680   \n",
       "2     0.255933  23.375000  505.329         484.161  504.075680   \n",
       "3     0.547921  12.285714  362.614         353.542  360.961752   \n",
       "4     0.279243  23.375000  460.878         439.710  460.126195   \n",
       "...        ...        ...      ...             ...         ...   \n",
       "2771  0.403557  26.640000  363.450         342.282  363.136281   \n",
       "2772  0.322488  15.540541  521.607         494.391  521.195757   \n",
       "2773  0.597420  11.880000  355.379         342.275  355.073910   \n",
       "2774  0.585306  11.884615  369.406         354.286  369.089560   \n",
       "2775  0.585306  11.884615  369.406         354.286  369.089560   \n",
       "\n",
       "      NumValenceElectrons  ...  fr_sulfonamd  fr_sulfone  fr_term_acetylene  \\\n",
       "0                     168  ...             0           0                  0   \n",
       "1                     168  ...             0           0                  0   \n",
       "2                     168  ...             0           0                  0   \n",
       "3                     104  ...             0           0                  0   \n",
       "4                     168  ...             0           0                  0   \n",
       "...                   ...  ...           ...         ...                ...   \n",
       "2771                  134  ...             0           0                  0   \n",
       "2772                  192  ...             0           0                  0   \n",
       "2773                  126  ...             0           1                  0   \n",
       "2774                  132  ...             0           1                  0   \n",
       "2775                  132  ...             0           1                  0   \n",
       "\n",
       "      fr_tetrazole  fr_thiazole  fr_thiocyan  fr_thiophene  fr_unbrch_alkane  \\\n",
       "0                0            0            0             0                 0   \n",
       "1                0            0            0             0                 0   \n",
       "2                0            0            0             0                 0   \n",
       "3                0            0            0             0                 0   \n",
       "4                0            0            0             0                 0   \n",
       "...            ...          ...          ...           ...               ...   \n",
       "2771             0            0            0             0                 0   \n",
       "2772             0            0            0             0                 0   \n",
       "2773             0            0            0             0                 0   \n",
       "2774             0            0            0             0                 0   \n",
       "2775             0            0            0             0                 0   \n",
       "\n",
       "      fr_urea     Ki  \n",
       "0           0   39.7  \n",
       "1           0  502.0  \n",
       "2           0  150.0  \n",
       "3           0    1.0  \n",
       "4           0  390.0  \n",
       "...       ...    ...  \n",
       "2771        0  630.0  \n",
       "2772        0    2.2  \n",
       "2773        0  110.0  \n",
       "2774        0  340.0  \n",
       "2775        0  779.0  \n",
       "\n",
       "[2776 rows x 211 columns]"
      ]
     },
     "execution_count": 4,
     "metadata": {},
     "output_type": "execute_result"
    }
   ],
   "source": [
    "new_df = pd.read_csv(f'{tables}/active_regr.csv')\n",
    "new_df"
   ]
  },
  {
   "cell_type": "code",
   "execution_count": null,
   "id": "00116b41-17bc-4aec-a698-efa85dd5b4e3",
   "metadata": {},
   "outputs": [
    {
     "data": {
      "text/plain": [
       "0        39.7\n",
       "1       502.0\n",
       "2       150.0\n",
       "3         1.0\n",
       "4       390.0\n",
       "        ...  \n",
       "2771    630.0\n",
       "2772      2.2\n",
       "2773    110.0\n",
       "2774    340.0\n",
       "2775    779.0\n",
       "Name: Ki, Length: 2776, dtype: float64"
      ]
     },
     "execution_count": 5,
     "metadata": {},
     "output_type": "execute_result"
    }
   ],
   "source": [
    "X = new_df.iloc[:,:-1]\n",
    "y = new_df['Ki']\n",
    "y"
   ]
  },
  {
   "cell_type": "markdown",
   "id": "db237230-c11f-40db-9690-3d00bd2d234d",
   "metadata": {
    "tags": []
   },
   "source": [
    "### Filtering invariant and highly correlated features"
   ]
  },
  {
   "cell_type": "code",
   "execution_count": null,
   "id": "087062ce-5189-4d5d-9c04-f4b097380f88",
   "metadata": {},
   "outputs": [],
   "source": [
    "def filter_data(X):\n",
    "    corr_matrix = X.corr().abs()\n",
    "    upper = corr_matrix.where(np.triu(np.ones(corr_matrix.shape), k=1).astype(bool))\n",
    "    to_drop = [column for column in upper.columns if any(upper[column] > 0.90)]\n",
    "    X.drop(to_drop, axis=1, inplace=True)\n",
    "    \n",
    "    threshold = 0.9\n",
    "    sel = VarianceThreshold(threshold=(threshold * (1 - threshold)))\n",
    "    X = sel.fit_transform(X)\n",
    "    return X\n",
    "\n",
    "X = filter_data(X)"
   ]
  },
  {
   "cell_type": "code",
   "execution_count": null,
   "id": "6b64260b-c629-4ddc-9f28-169e1aaa8af7",
   "metadata": {},
   "outputs": [
    {
     "data": {
      "text/html": [
       "<div>\n",
       "<style scoped>\n",
       "    .dataframe tbody tr th:only-of-type {\n",
       "        vertical-align: middle;\n",
       "    }\n",
       "\n",
       "    .dataframe tbody tr th {\n",
       "        vertical-align: top;\n",
       "    }\n",
       "\n",
       "    .dataframe thead th {\n",
       "        text-align: right;\n",
       "    }\n",
       "</style>\n",
       "<table border=\"1\" class=\"dataframe\">\n",
       "  <thead>\n",
       "    <tr style=\"text-align: right;\">\n",
       "      <th></th>\n",
       "      <th>MaxAbsEStateIndex</th>\n",
       "      <th>MinAbsEStateIndex</th>\n",
       "      <th>MinEStateIndex</th>\n",
       "      <th>qed</th>\n",
       "      <th>SPS</th>\n",
       "      <th>MolWt</th>\n",
       "      <th>MaxPartialCharge</th>\n",
       "      <th>MinPartialCharge</th>\n",
       "      <th>FpDensityMorgan1</th>\n",
       "      <th>BCUT2D_MWHI</th>\n",
       "      <th>...</th>\n",
       "      <th>fr_pyridine</th>\n",
       "      <th>fr_sulfide</th>\n",
       "      <th>fr_sulfonamd</th>\n",
       "      <th>fr_sulfone</th>\n",
       "      <th>fr_term_acetylene</th>\n",
       "      <th>fr_tetrazole</th>\n",
       "      <th>fr_thiazole</th>\n",
       "      <th>fr_thiophene</th>\n",
       "      <th>fr_unbrch_alkane</th>\n",
       "      <th>fr_urea</th>\n",
       "    </tr>\n",
       "  </thead>\n",
       "  <tbody>\n",
       "    <tr>\n",
       "      <th>0</th>\n",
       "      <td>10.337455</td>\n",
       "      <td>0.057778</td>\n",
       "      <td>-1.272753</td>\n",
       "      <td>0.255933</td>\n",
       "      <td>23.375000</td>\n",
       "      <td>505.329</td>\n",
       "      <td>0.320010</td>\n",
       "      <td>-0.463007</td>\n",
       "      <td>1.250000</td>\n",
       "      <td>79.918731</td>\n",
       "      <td>...</td>\n",
       "      <td>0</td>\n",
       "      <td>0</td>\n",
       "      <td>0</td>\n",
       "      <td>0</td>\n",
       "      <td>0</td>\n",
       "      <td>0</td>\n",
       "      <td>0</td>\n",
       "      <td>0</td>\n",
       "      <td>0</td>\n",
       "      <td>0</td>\n",
       "    </tr>\n",
       "    <tr>\n",
       "      <th>1</th>\n",
       "      <td>10.335047</td>\n",
       "      <td>0.059736</td>\n",
       "      <td>-1.271941</td>\n",
       "      <td>0.255933</td>\n",
       "      <td>23.375000</td>\n",
       "      <td>505.329</td>\n",
       "      <td>0.320010</td>\n",
       "      <td>-0.463007</td>\n",
       "      <td>1.250000</td>\n",
       "      <td>79.918731</td>\n",
       "      <td>...</td>\n",
       "      <td>0</td>\n",
       "      <td>0</td>\n",
       "      <td>0</td>\n",
       "      <td>0</td>\n",
       "      <td>0</td>\n",
       "      <td>0</td>\n",
       "      <td>0</td>\n",
       "      <td>0</td>\n",
       "      <td>0</td>\n",
       "      <td>0</td>\n",
       "    </tr>\n",
       "    <tr>\n",
       "      <th>2</th>\n",
       "      <td>10.333078</td>\n",
       "      <td>0.061184</td>\n",
       "      <td>-1.271281</td>\n",
       "      <td>0.255933</td>\n",
       "      <td>23.375000</td>\n",
       "      <td>505.329</td>\n",
       "      <td>0.320010</td>\n",
       "      <td>-0.463007</td>\n",
       "      <td>1.250000</td>\n",
       "      <td>79.918731</td>\n",
       "      <td>...</td>\n",
       "      <td>0</td>\n",
       "      <td>0</td>\n",
       "      <td>0</td>\n",
       "      <td>0</td>\n",
       "      <td>0</td>\n",
       "      <td>0</td>\n",
       "      <td>0</td>\n",
       "      <td>0</td>\n",
       "      <td>0</td>\n",
       "      <td>0</td>\n",
       "    </tr>\n",
       "    <tr>\n",
       "      <th>3</th>\n",
       "      <td>6.090409</td>\n",
       "      <td>0.226017</td>\n",
       "      <td>0.226017</td>\n",
       "      <td>0.547921</td>\n",
       "      <td>12.285714</td>\n",
       "      <td>362.614</td>\n",
       "      <td>0.220767</td>\n",
       "      <td>-0.447724</td>\n",
       "      <td>1.142857</td>\n",
       "      <td>79.918731</td>\n",
       "      <td>...</td>\n",
       "      <td>0</td>\n",
       "      <td>0</td>\n",
       "      <td>0</td>\n",
       "      <td>0</td>\n",
       "      <td>0</td>\n",
       "      <td>0</td>\n",
       "      <td>0</td>\n",
       "      <td>0</td>\n",
       "      <td>0</td>\n",
       "      <td>0</td>\n",
       "    </tr>\n",
       "    <tr>\n",
       "      <th>4</th>\n",
       "      <td>10.328997</td>\n",
       "      <td>0.042932</td>\n",
       "      <td>-1.278885</td>\n",
       "      <td>0.279243</td>\n",
       "      <td>23.375000</td>\n",
       "      <td>460.878</td>\n",
       "      <td>0.320010</td>\n",
       "      <td>-0.463007</td>\n",
       "      <td>1.250000</td>\n",
       "      <td>35.495692</td>\n",
       "      <td>...</td>\n",
       "      <td>0</td>\n",
       "      <td>0</td>\n",
       "      <td>0</td>\n",
       "      <td>0</td>\n",
       "      <td>0</td>\n",
       "      <td>0</td>\n",
       "      <td>0</td>\n",
       "      <td>0</td>\n",
       "      <td>0</td>\n",
       "      <td>0</td>\n",
       "    </tr>\n",
       "    <tr>\n",
       "      <th>...</th>\n",
       "      <td>...</td>\n",
       "      <td>...</td>\n",
       "      <td>...</td>\n",
       "      <td>...</td>\n",
       "      <td>...</td>\n",
       "      <td>...</td>\n",
       "      <td>...</td>\n",
       "      <td>...</td>\n",
       "      <td>...</td>\n",
       "      <td>...</td>\n",
       "      <td>...</td>\n",
       "      <td>...</td>\n",
       "      <td>...</td>\n",
       "      <td>...</td>\n",
       "      <td>...</td>\n",
       "      <td>...</td>\n",
       "      <td>...</td>\n",
       "      <td>...</td>\n",
       "      <td>...</td>\n",
       "      <td>...</td>\n",
       "      <td>...</td>\n",
       "    </tr>\n",
       "    <tr>\n",
       "      <th>2771</th>\n",
       "      <td>10.207113</td>\n",
       "      <td>0.176268</td>\n",
       "      <td>-1.612007</td>\n",
       "      <td>0.403557</td>\n",
       "      <td>26.640000</td>\n",
       "      <td>363.450</td>\n",
       "      <td>0.207876</td>\n",
       "      <td>-0.393567</td>\n",
       "      <td>1.280000</td>\n",
       "      <td>28.331225</td>\n",
       "      <td>...</td>\n",
       "      <td>0</td>\n",
       "      <td>0</td>\n",
       "      <td>0</td>\n",
       "      <td>0</td>\n",
       "      <td>0</td>\n",
       "      <td>0</td>\n",
       "      <td>0</td>\n",
       "      <td>0</td>\n",
       "      <td>0</td>\n",
       "      <td>0</td>\n",
       "    </tr>\n",
       "    <tr>\n",
       "      <th>2772</th>\n",
       "      <td>11.212685</td>\n",
       "      <td>0.209838</td>\n",
       "      <td>-0.978555</td>\n",
       "      <td>0.322488</td>\n",
       "      <td>15.540541</td>\n",
       "      <td>521.607</td>\n",
       "      <td>0.224850</td>\n",
       "      <td>-0.480445</td>\n",
       "      <td>1.054054</td>\n",
       "      <td>32.197121</td>\n",
       "      <td>...</td>\n",
       "      <td>0</td>\n",
       "      <td>0</td>\n",
       "      <td>0</td>\n",
       "      <td>0</td>\n",
       "      <td>0</td>\n",
       "      <td>0</td>\n",
       "      <td>0</td>\n",
       "      <td>0</td>\n",
       "      <td>0</td>\n",
       "      <td>0</td>\n",
       "    </tr>\n",
       "    <tr>\n",
       "      <th>2773</th>\n",
       "      <td>11.747357</td>\n",
       "      <td>0.187560</td>\n",
       "      <td>-3.317645</td>\n",
       "      <td>0.597420</td>\n",
       "      <td>11.880000</td>\n",
       "      <td>355.379</td>\n",
       "      <td>0.217513</td>\n",
       "      <td>-0.460950</td>\n",
       "      <td>1.160000</td>\n",
       "      <td>32.227746</td>\n",
       "      <td>...</td>\n",
       "      <td>0</td>\n",
       "      <td>0</td>\n",
       "      <td>0</td>\n",
       "      <td>1</td>\n",
       "      <td>0</td>\n",
       "      <td>0</td>\n",
       "      <td>0</td>\n",
       "      <td>0</td>\n",
       "      <td>0</td>\n",
       "      <td>0</td>\n",
       "    </tr>\n",
       "    <tr>\n",
       "      <th>2774</th>\n",
       "      <td>11.566178</td>\n",
       "      <td>0.123217</td>\n",
       "      <td>-3.222610</td>\n",
       "      <td>0.585306</td>\n",
       "      <td>11.884615</td>\n",
       "      <td>369.406</td>\n",
       "      <td>0.222261</td>\n",
       "      <td>-0.462699</td>\n",
       "      <td>1.153846</td>\n",
       "      <td>32.227746</td>\n",
       "      <td>...</td>\n",
       "      <td>0</td>\n",
       "      <td>0</td>\n",
       "      <td>0</td>\n",
       "      <td>1</td>\n",
       "      <td>0</td>\n",
       "      <td>0</td>\n",
       "      <td>0</td>\n",
       "      <td>0</td>\n",
       "      <td>0</td>\n",
       "      <td>0</td>\n",
       "    </tr>\n",
       "    <tr>\n",
       "      <th>2775</th>\n",
       "      <td>11.568524</td>\n",
       "      <td>0.123217</td>\n",
       "      <td>-3.219330</td>\n",
       "      <td>0.585306</td>\n",
       "      <td>11.884615</td>\n",
       "      <td>369.406</td>\n",
       "      <td>0.222323</td>\n",
       "      <td>-0.462637</td>\n",
       "      <td>1.153846</td>\n",
       "      <td>32.227746</td>\n",
       "      <td>...</td>\n",
       "      <td>0</td>\n",
       "      <td>0</td>\n",
       "      <td>0</td>\n",
       "      <td>1</td>\n",
       "      <td>0</td>\n",
       "      <td>0</td>\n",
       "      <td>0</td>\n",
       "      <td>0</td>\n",
       "      <td>0</td>\n",
       "      <td>0</td>\n",
       "    </tr>\n",
       "  </tbody>\n",
       "</table>\n",
       "<p>2776 rows × 146 columns</p>\n",
       "</div>"
      ],
      "text/plain": [
       "      MaxAbsEStateIndex  MinAbsEStateIndex  MinEStateIndex       qed  \\\n",
       "0             10.337455           0.057778       -1.272753  0.255933   \n",
       "1             10.335047           0.059736       -1.271941  0.255933   \n",
       "2             10.333078           0.061184       -1.271281  0.255933   \n",
       "3              6.090409           0.226017        0.226017  0.547921   \n",
       "4             10.328997           0.042932       -1.278885  0.279243   \n",
       "...                 ...                ...             ...       ...   \n",
       "2771          10.207113           0.176268       -1.612007  0.403557   \n",
       "2772          11.212685           0.209838       -0.978555  0.322488   \n",
       "2773          11.747357           0.187560       -3.317645  0.597420   \n",
       "2774          11.566178           0.123217       -3.222610  0.585306   \n",
       "2775          11.568524           0.123217       -3.219330  0.585306   \n",
       "\n",
       "            SPS    MolWt  MaxPartialCharge  MinPartialCharge  \\\n",
       "0     23.375000  505.329          0.320010         -0.463007   \n",
       "1     23.375000  505.329          0.320010         -0.463007   \n",
       "2     23.375000  505.329          0.320010         -0.463007   \n",
       "3     12.285714  362.614          0.220767         -0.447724   \n",
       "4     23.375000  460.878          0.320010         -0.463007   \n",
       "...         ...      ...               ...               ...   \n",
       "2771  26.640000  363.450          0.207876         -0.393567   \n",
       "2772  15.540541  521.607          0.224850         -0.480445   \n",
       "2773  11.880000  355.379          0.217513         -0.460950   \n",
       "2774  11.884615  369.406          0.222261         -0.462699   \n",
       "2775  11.884615  369.406          0.222323         -0.462637   \n",
       "\n",
       "      FpDensityMorgan1  BCUT2D_MWHI  ...  fr_pyridine  fr_sulfide  \\\n",
       "0             1.250000    79.918731  ...            0           0   \n",
       "1             1.250000    79.918731  ...            0           0   \n",
       "2             1.250000    79.918731  ...            0           0   \n",
       "3             1.142857    79.918731  ...            0           0   \n",
       "4             1.250000    35.495692  ...            0           0   \n",
       "...                ...          ...  ...          ...         ...   \n",
       "2771          1.280000    28.331225  ...            0           0   \n",
       "2772          1.054054    32.197121  ...            0           0   \n",
       "2773          1.160000    32.227746  ...            0           0   \n",
       "2774          1.153846    32.227746  ...            0           0   \n",
       "2775          1.153846    32.227746  ...            0           0   \n",
       "\n",
       "      fr_sulfonamd  fr_sulfone  fr_term_acetylene  fr_tetrazole  fr_thiazole  \\\n",
       "0                0           0                  0             0            0   \n",
       "1                0           0                  0             0            0   \n",
       "2                0           0                  0             0            0   \n",
       "3                0           0                  0             0            0   \n",
       "4                0           0                  0             0            0   \n",
       "...            ...         ...                ...           ...          ...   \n",
       "2771             0           0                  0             0            0   \n",
       "2772             0           0                  0             0            0   \n",
       "2773             0           1                  0             0            0   \n",
       "2774             0           1                  0             0            0   \n",
       "2775             0           1                  0             0            0   \n",
       "\n",
       "      fr_thiophene  fr_unbrch_alkane  fr_urea  \n",
       "0                0                 0        0  \n",
       "1                0                 0        0  \n",
       "2                0                 0        0  \n",
       "3                0                 0        0  \n",
       "4                0                 0        0  \n",
       "...            ...               ...      ...  \n",
       "2771             0                 0        0  \n",
       "2772             0                 0        0  \n",
       "2773             0                 0        0  \n",
       "2774             0                 0        0  \n",
       "2775             0                 0        0  \n",
       "\n",
       "[2776 rows x 146 columns]"
      ]
     },
     "execution_count": 8,
     "metadata": {},
     "output_type": "execute_result"
    }
   ],
   "source": [
    "X"
   ]
  },
  {
   "cell_type": "code",
   "execution_count": null,
   "id": "23da5233-0a45-48e4-9de5-e5d8c3456d70",
   "metadata": {},
   "outputs": [
    {
     "data": {
      "image/png": "[encoded data removed]",
      "text/plain": [
       "<Figure size 432x288 with 1 Axes>"
      ]
     },
     "metadata": {
      "needs_background": "light"
     },
     "output_type": "display_data"
    }
   ],
   "source": [
    "X_one_feat = X.iloc[:, 0]\n",
    "# X_one_feat\n",
    "plt.scatter(X_one_feat, y, color=\"black\")\n",
    "plt.show()"
   ]
  },
  {
   "cell_type": "code",
   "execution_count": null,
   "id": "3a3037eb-1b8b-47e1-b904-e8b25627e138",
   "metadata": {},
   "outputs": [],
   "source": [
    "from sklearn.linear_model import Lasso, Riconcatenateegressor, ElasticNet, Lasso\n",
    "from sklearn.preprocessing import StandardScaler\n",
    "from sklearn.model_selection import cross_val_score, train_test_split, GridSearchCV\n",
    "from sklearn.model_selection import RepeatedKFold, KFold\n",
    "from sklearn.pipeline import Pipeline\n",
    "from sklearn.metrics import mean_squared_error, r2_score\n",
    "from sklearn.decomposition import PCA"
   ]
  },
  {
   "cell_type": "code",
   "execution_count": null,
   "id": "ee6e50be-ac5f-48d1-8372-191240db5c42",
   "metadata": {},
   "outputs": [],
   "source": [
    "scaler = StandardScaler()\n",
    "X = scaler.fit_transform(X)"
   ]
  },
  {
   "cell_type": "code",
   "execution_count": null,
   "id": "53a8c467-c805-46f9-8749-b8734bddcfa3",
   "metadata": {},
   "outputs": [],
   "source": [
    "X_train, X_test, y_train, y_test = train_test_split(X, y, test_size=0.1, random_state=42)"
   ]
  },
  {
   "cell_type": "code",
   "execution_count": null,
   "id": "9412af79-5028-4437-a0c0-67fa297a1651",
   "metadata": {},
   "outputs": [
    {
     "data": {
      "text/plain": [
       "array([[ 6.99815686e-01, -5.94114008e-01,  2.96647158e-01, ...,\n",
       "        -2.04150032e-01, -1.91775121e-01, -2.29589665e-01],\n",
       "       [ 8.73801538e-01,  8.70291949e-01,  2.39872003e-01, ...,\n",
       "        -2.04150032e-01, -1.91775121e-01, -2.29589665e-01],\n",
       "       [ 7.94969169e-01,  5.20143564e-03,  2.27114725e-01, ...,\n",
       "        -2.04150032e-01, -1.91775121e-01, -2.29589665e-01],\n",
       "       ...,\n",
       "       [ 6.04850155e-01,  8.61000314e-02,  3.98770198e-01, ...,\n",
       "        -2.04150032e-01, -1.91775121e-01, -2.29589665e-01],\n",
       "       [ 5.47987660e-01, -1.04958296e+00,  6.20661751e-01, ...,\n",
       "         3.81514422e+00, -1.91775121e-01, -2.29589665e-01],\n",
       "       [-8.22480500e-01, -8.12858128e-01,  6.51872993e-01, ...,\n",
       "         7.83443847e+00, -1.91775121e-01, -2.29589665e-01]])"
      ]
     },
     "execution_count": 18,
     "metadata": {},
     "output_type": "execute_result"
    }
   ],
   "source": [
    "X_train"
   ]
  },
  {
   "cell_type": "markdown",
   "id": "1beec796-6676-4832-94b0-aedb7bc8e1a3",
   "metadata": {},
   "source": [
    "### Lasso"
   ]
  },
  {
   "cell_type": "code",
   "execution_count": null,
   "id": "393eb133-cb03-4638-a696-341c91ae49c2",
   "metadata": {},
   "outputs": [
    {
     "name": "stderr",
     "output_type": "stream",
     "text": [
      "/home/almaz/venv/lib/python3.8/site-packages/sklearn/linear_model/_coordinate_descent.py:647: ConvergenceWarning: Objective did not converge. You might want to increase the number of iterations, check the scale of the features or consider increasing regularisation. Duality gap: 8.999e+06, tolerance: 1.543e+04\n",
      "  model = cd_fast.enet_coordinate_descent(\n"
     ]
    },
    {
     "data": {
      "text/plain": [
       "GridSearchCV(cv=RepeatedKFold(n_repeats=3, n_splits=5, random_state=1),\n",
       "             estimator=Lasso(random_state=0), n_jobs=4,\n",
       "             param_grid=[{'alpha': array([1.00000000e-04, 1.32035178e-04, 1.74332882e-04, 2.30180731e-04,\n",
       "       3.03919538e-04, 4.01280703e-04, 5.29831691e-04, 6.99564216e-04,\n",
       "       9.23670857e-04, 1.21957046e-03, 1.61026203e-03, 2.12611233e-03,\n",
       "       2.80721620e-03, 3.70651291e-03, 4.89390092e-03, 6.46167079e-03,\n",
       "       8.53167852e-03, 1.12648169e-02, 1.48735211e-02, 1.96382800e-02,\n",
       "       2.59294380e-02, 3.42359796e-02, 4.52035366e-02, 5.96845700e-02,\n",
       "       7.88046282e-02, 1.04049831e-01, 1.37382380e-01, 1.81393069e-01,\n",
       "       2.39502662e-01, 3.16227766e-01, 1.00000000e-01, 5.00000000e-01,\n",
       "       1.00000000e+00])}])"
      ]
     },
     "execution_count": 31,
     "metadata": {},
     "output_type": "execute_result"
    }
   ],
   "source": [
    "lasso = Lasso(random_state=0)\n",
    "alphas = np.concatenate((np.logspace(-4, -0.5, 30), [0.1, 0.5, 1]))\n",
    "\n",
    "n_folds = 5\n",
    "tuned_parameters = [{\"alpha\": alphas}]\n",
    "cv = RepeatedKFold(n_splits=n_folds, n_repeats=3, random_state=1)\n",
    "\n",
    "lass_grid = GridSearchCV(lasso, tuned_parameters, cv=cv, n_jobs=4)\n",
    "lass_grid.fit(X, y)"
   ]
  },
  {
   "cell_type": "code",
   "execution_count": null,
   "id": "db182b3b-73c1-4410-897d-d68eaf584b2e",
   "metadata": {},
   "outputs": [
    {
     "data": {
      "text/plain": [
       "{'alpha': 0.10404983103657853}"
      ]
     },
     "execution_count": 32,
     "metadata": {},
     "output_type": "execute_result"
    }
   ],
   "source": [
    "lass_grid.best_params_"
   ]
  },
  {
   "cell_type": "code",
   "execution_count": null,
   "id": "a0568774-423c-4c0c-a81e-80eb9f22d195",
   "metadata": {},
   "outputs": [],
   "source": [
    "scores = lass_grid.cv_results_[\"mean_test_score\"]\n",
    "scores_std = lass_grid.cv_results_[\"std_test_score\"]"
   ]
  },
  {
   "cell_type": "code",
   "execution_count": null,
   "id": "357a4d41-3602-4c96-8a79-5db4425ebcfa",
   "metadata": {},
   "outputs": [
    {
     "data": {
      "text/plain": [
       "0.40162747050767045"
      ]
     },
     "execution_count": 34,
     "metadata": {},
     "output_type": "execute_result"
    }
   ],
   "source": [
    "lass_grid.score(X_test, y_test)"
   ]
  },
  {
   "cell_type": "code",
   "execution_count": null,
   "id": "0bb9fc8e-c98f-41b9-92e3-7c033ba47c51",
   "metadata": {},
   "outputs": [
    {
     "data": {
      "image/png": "[encoded data removed]",
      "text/plain": [
       "<Figure size 576x432 with 1 Axes>"
      ]
     },
     "metadata": {
      "needs_background": "light"
     },
     "output_type": "display_data"
    }
   ],
   "source": [
    "plt.figure().set_size_inches(8, 6)\n",
    "plt.semilogx(alphas, scores)\n",
    "\n",
    "std_error = scores_std / np.sqrt(n_folds)\n",
    "\n",
    "plt.semilogx(alphas, scores + std_error, \"b--\")\n",
    "plt.semilogx(alphas, scores - std_error, \"b--\")\n",
    "\n",
    "# alpha=0.2 controls the translucency of the fill color\n",
    "plt.fill_between(alphas, scores + std_error, scores - std_error, alpha=0.2)\n",
    "\n",
    "plt.ylabel(\"CV score +/- std error\")\n",
    "plt.xlabel(\"alpha\")\n",
    "plt.axhline(np.max(scores), linestyle=\"--\", color=\".5\")\n",
    "plt.xlim([alphas[0], alphas[-1]])\n",
    "plt.show()"
   ]
  },
  {
   "cell_type": "code",
   "execution_count": null,
   "id": "6be97751-a801-4b85-8fbe-ebcccf25c8e5",
   "metadata": {},
   "outputs": [],
   "source": []
  },
  {
   "cell_type": "markdown",
   "id": "d4a15352-18c5-4750-8e49-7c062e62463f",
   "metadata": {},
   "source": [
    "### Ridge"
   ]
  },
  {
   "cell_type": "code",
   "execution_count": null,
   "id": "5ea25098-7a5f-46aa-aaba-9e52017848a4",
   "metadata": {},
   "outputs": [
    {
     "data": {
      "text/plain": [
       "GridSearchCV(cv=RepeatedKFold(n_repeats=3, n_splits=5, random_state=1),\n",
       "             estimator=Ridge(random_state=0), n_jobs=4,\n",
       "             param_grid=[{'alpha': array([1.00000000e-04, 1.32035178e-04, 1.74332882e-04, 2.30180731e-04,\n",
       "       3.03919538e-04, 4.01280703e-04, 5.29831691e-04, 6.99564216e-04,\n",
       "       9.23670857e-04, 1.21957046e-03, 1.61026203e-03, 2.12611233e-03,\n",
       "       2.80721620e-03, 3.70651291e-03, 4.89390092e-03, 6.46167079e-03,\n",
       "       8.53167852e-03, 1.12648169e-02, 1.48735211e-02, 1.96382800e-02,\n",
       "       2.59294380e-02, 3.42359796e-02, 4.52035366e-02, 5.96845700e-02,\n",
       "       7.88046282e-02, 1.04049831e-01, 1.37382380e-01, 1.81393069e-01,\n",
       "       2.39502662e-01, 3.16227766e-01])}])"
      ]
     },
     "execution_count": 43,
     "metadata": {},
     "output_type": "execute_result"
    }
   ],
   "source": [
    "ridge = Ridge(random_state=0)\n",
    "\n",
    "alphas = np.logspace(-4, -0.5, 30)\n",
    "tuned_parameters = [{\"alpha\": alphas}]\n",
    "n_folds = 5\n",
    "cv = RepeatedKFold(n_splits=n_folds, n_repeats=3, random_state=1)\n",
    "\n",
    "ridge_grid = GridSearchCV(ridge, tuned_parameters, cv=cv, n_jobs=4)\n",
    "ridge_grid.fit(X, y)"
   ]
  },
  {
   "cell_type": "code",
   "execution_count": null,
   "id": "eee4925e-f182-4bb4-8466-21084e021a0d",
   "metadata": {},
   "outputs": [],
   "source": [
    "scores = ridge_grid.cv_results_[\"mean_test_score\"]\n",
    "scores_std = ridge_grid.cv_results_[\"std_test_score\"]"
   ]
  },
  {
   "cell_type": "code",
   "execution_count": null,
   "id": "805e194f-44c1-4e93-95b1-8bd1a7b0abb0",
   "metadata": {},
   "outputs": [
    {
     "data": {
      "text/plain": [
       "0.4048564604240491"
      ]
     },
     "execution_count": 45,
     "metadata": {},
     "output_type": "execute_result"
    }
   ],
   "source": [
    "ridge_grid.score(X_test, y_test)"
   ]
  },
  {
   "cell_type": "code",
   "execution_count": null,
   "id": "25c3919a-cace-4a15-8d8f-cb1157119f1e",
   "metadata": {},
   "outputs": [
    {
     "data": {
      "text/plain": [
       "(0.0001, 0.31622776601683794)"
      ]
     },
     "execution_count": 46,
     "metadata": {},
     "output_type": "execute_result"
    },
    {
     "data": {
      "image/png": "[encoded data removed]",
      "text/plain": [
       "<Figure size 576x432 with 1 Axes>"
      ]
     },
     "metadata": {
      "needs_background": "light"
     },
     "output_type": "display_data"
    }
   ],
   "source": [
    "plt.figure().set_size_inches(8, 6)\n",
    "plt.semilogx(alphas, scores)\n",
    "\n",
    "std_error = scores_std / np.sqrt(n_folds)\n",
    "\n",
    "plt.semilogx(alphas, scores + std_error, \"b--\")\n",
    "plt.semilogx(alphas, scores - std_error, \"b--\")\n",
    "\n",
    "# alpha=0.2 controls the translucency of the fill color\n",
    "plt.fill_between(alphas, scores + std_error, scores - std_error, alpha=0.2)\n",
    "\n",
    "plt.ylabel(\"CV score +/- std error\")\n",
    "plt.xlabel(\"alpha\")\n",
    "plt.axhline(np.max(scores), linestyle=\"--\", color=\".5\")\n",
    "plt.xlim([alphas[0], alphas[-1]])"
   ]
  },
  {
   "cell_type": "code",
   "execution_count": null,
   "id": "1c3627ff-11fb-4253-a944-0aa41ad23860",
   "metadata": {},
   "outputs": [],
   "source": []
  },
  {
   "cell_type": "markdown",
   "id": "a5733f70-665d-4a70-a57b-70263cc8b805",
   "metadata": {},
   "source": [
    "### ElasticNet"
   ]
  },
  {
   "cell_type": "code",
   "execution_count": null,
   "id": "2f5ae93d-3a3d-460e-b026-9010f857cee6",
   "metadata": {},
   "outputs": [],
   "source": [
    "elastnet = ElasticNet(random_state=0)\n",
    "\n",
    "alphas = np.logspace(-4, -0.5, 30)\n",
    "tuned_parameters = [{\"alpha\": alphas}]\n",
    "n_folds = 5\n",
    "cv = RepeatedKFold(n_splits=n_folds, n_repeats=3, random_state=1)\n",
    "\n",
    "elastnet_grid = GridSearchCV(elastnet, tuned_parameters, cv=cv, n_jobs=4)\n",
    "elastnet_grid.fit(X, y)"
   ]
  },
  {
   "cell_type": "code",
   "execution_count": null,
   "id": "5ce993b6-d66b-42f7-96e6-9bd051c6337a",
   "metadata": {},
   "outputs": [],
   "source": [
    "scores = elastnet_grid.cv_results_[\"mean_test_score\"]\n",
    "scores_std = elastnet_grid.cv_results_[\"std_test_score\"]"
   ]
  },
  {
   "cell_type": "code",
   "execution_count": null,
   "id": "ee37a096-bf03-4f5c-ae17-087a516c4baf",
   "metadata": {},
   "outputs": [
    {
     "data": {
      "text/plain": [
       "0.4037116641799906"
      ]
     },
     "execution_count": 49,
     "metadata": {},
     "output_type": "execute_result"
    }
   ],
   "source": [
    "elastnet_grid.score(X_test, y_test)"
   ]
  },
  {
   "cell_type": "code",
   "execution_count": null,
   "id": "67c757b1-623a-4c36-8007-44fa100beb95",
   "metadata": {},
   "outputs": [
    {
     "data": {
      "text/plain": [
       "(0.0001, 0.31622776601683794)"
      ]
     },
     "execution_count": 50,
     "metadata": {},
     "output_type": "execute_result"
    },
    {
     "data": {
      "image/png": "[encoded data removed]",
      "text/plain": [
       "<Figure size 576x432 with 1 Axes>"
      ]
     },
     "metadata": {
      "needs_background": "light"
     },
     "output_type": "display_data"
    }
   ],
   "source": [
    "plt.figure().set_size_inches(8, 6)\n",
    "plt.semilogx(alphas, scores)\n",
    "\n",
    "std_error = scores_std / np.sqrt(n_folds)\n",
    "\n",
    "plt.semilogx(alphas, scores + std_error, \"b--\")\n",
    "plt.semilogx(alphas, scores - std_error, \"b--\")\n",
    "\n",
    "# alpha=0.2 controls the translucency of the fill color\n",
    "plt.fill_between(alphas, scores + std_error, scores - std_error, alpha=0.2)\n",
    "\n",
    "plt.ylabel(\"CV score +/- std error\")\n",
    "plt.xlabel(\"alpha\")\n",
    "plt.axhline(np.max(scores), linestyle=\"--\", color=\".5\")\n",
    "plt.xlim([alphas[0], alphas[-1]])"
   ]
  },
  {
   "cell_type": "code",
   "execution_count": null,
   "id": "e6b10be0-8531-4c7c-94c1-736fe00d5431",
   "metadata": {},
   "outputs": [],
   "source": []
  },
  {
   "cell_type": "markdown",
   "id": "c4db82bf-d9e3-44e0-bdb5-a2b677390bb9",
   "metadata": {},
   "source": [
    "### SGDRegressor"
   ]
  },
  {
   "cell_type": "code",
   "execution_count": null,
   "id": "634a1593-a71d-4b46-b8a7-17cdc117b2ee",
   "metadata": {},
   "outputs": [],
   "source": []
  },
  {
   "cell_type": "code",
   "execution_count": null,
   "id": "83900ceb-2ce0-4bcc-aee7-fc8ad490e187",
   "metadata": {},
   "outputs": [
    {
     "data": {
      "text/plain": [
       "GridSearchCV(cv=RepeatedKFold(n_repeats=3, n_splits=10, random_state=1),\n",
       "             estimator=SGDRegressor(random_state=0), n_jobs=4,\n",
       "             param_grid=[{'alpha': array([1.00000000e-04, 1.32035178e-04, 1.74332882e-04, 2.30180731e-04,\n",
       "       3.03919538e-04, 4.01280703e-04, 5.29831691e-04, 6.99564216e-04,\n",
       "       9.23670857e-04, 1.21957046e-03, 1.61026203e-03, 2.12611233e-03,\n",
       "       2.80721620e-03, 3.70651291e-03, 4.89390092e-03, 6.46167079e-03,\n",
       "       8.53167852e-03, 1.12648169e-02, 1.48735211e-02, 1.96382800e-02,\n",
       "       2.59294380e-02, 3.42359796e-02, 4.52035366e-02, 5.96845700e-02,\n",
       "       7.88046282e-02, 1.04049831e-01, 1.37382380e-01, 1.81393069e-01,\n",
       "       2.39502662e-01, 3.16227766e-01])}])"
      ]
     },
     "execution_count": 51,
     "metadata": {},
     "output_type": "execute_result"
    }
   ],
   "source": [
    "sgdreg = SGDRegressor(random_state=0)\n",
    "\n",
    "alphas = np.logspace(-4, -0.5, 30)\n",
    "tuned_parameters = [{\"alpha\": alphas}]\n",
    "n_folds = 10\n",
    "cv = RepeatedKFold(n_splits=n_folds, n_repeats=3, random_state=1)\n",
    "\n",
    "sgdreg_grid = GridSearchCV(sgdreg, tuned_parameters, cv=cv, n_jobs=4)\n",
    "sgdreg_grid.fit(X, y)"
   ]
  },
  {
   "cell_type": "code",
   "execution_count": null,
   "id": "ea6d1c93-4264-41c4-8ff8-8204c521f88f",
   "metadata": {},
   "outputs": [],
   "source": [
    "scores = sgdreg_grid.cv_results_[\"mean_test_score\"]\n",
    "scores_std = sgdreg_grid.cv_results_[\"std_test_score\"]"
   ]
  },
  {
   "cell_type": "code",
   "execution_count": null,
   "id": "337e28ca-c6a4-4ade-8cb5-bb770e106ef0",
   "metadata": {},
   "outputs": [
    {
     "data": {
      "text/plain": [
       "0.34016858622925494"
      ]
     },
     "execution_count": 53,
     "metadata": {},
     "output_type": "execute_result"
    }
   ],
   "source": [
    "sgdreg_grid.score(X_test, y_test)"
   ]
  },
  {
   "cell_type": "code",
   "execution_count": null,
   "id": "834d0aa3-2367-4ec5-b4ab-a2a1388aebfb",
   "metadata": {},
   "outputs": [
    {
     "data": {
      "text/plain": [
       "(0.0001, 0.31622776601683794)"
      ]
     },
     "execution_count": 54,
     "metadata": {},
     "output_type": "execute_result"
    },
    {
     "data": {
      "image/png": "[encoded data removed]",
      "text/plain": [
       "<Figure size 576x432 with 1 Axes>"
      ]
     },
     "metadata": {
      "needs_background": "light"
     },
     "output_type": "display_data"
    }
   ],
   "source": [
    "plt.figure().set_size_inches(8, 6)\n",
    "plt.semilogx(alphas, scores)\n",
    "\n",
    "std_error = scores_std / np.sqrt(n_folds)\n",
    "\n",
    "plt.semilogx(alphas, scores + std_error, \"b--\")\n",
    "plt.semilogx(alphas, scores - std_error, \"b--\")\n",
    "\n",
    "# alpha=0.2 controls the translucency of the fill color\n",
    "plt.fill_between(alphas, scores + std_error, scores - std_error, alpha=0.2)\n",
    "\n",
    "plt.ylabel(\"CV score +/- std error\")\n",
    "plt.xlabel(\"alpha\")\n",
    "plt.axhline(np.max(scores), linestyle=\"--\", color=\".5\")\n",
    "plt.xlim([alphas[0], alphas[-1]])"
   ]
  },
  {
   "cell_type": "code",
   "execution_count": null,
   "id": "85f3efb6-485e-488b-a128-5c896165aa54",
   "metadata": {},
   "outputs": [],
   "source": []
  },
  {
   "cell_type": "markdown",
   "id": "698d9251-8e79-40e9-b04d-494c3217f83a",
   "metadata": {},
   "source": [
    "### Plot all methods"
   ]
  },
  {
   "cell_type": "code",
   "execution_count": null,
   "id": "a1e664d6-d26f-435d-a556-eeccf44829a0",
   "metadata": {},
   "outputs": [
    {
     "data": {
      "image/png": "[encoded data removed]",
      "text/plain": [
       "<Figure size 720x720 with 1 Axes>"
      ]
     },
     "metadata": {
      "needs_background": "light"
     },
     "output_type": "display_data"
    }
   ],
   "source": [
    "fig, ax = plt.subplots(figsize=(10,10))\n",
    "\n",
    "alphas = np.concatenate((np.logspace(-4, -0.5, 30), [0.1, 0.5, 1]))\n",
    "scores = lass_grid.cv_results_[\"mean_test_score\"]\n",
    "plt.semilogx(alphas, scores, label='lasso')\n",
    "\n",
    "alphas = np.logspace(-4, -0.5, 30)\n",
    "scores = ridge_grid.cv_results_[\"mean_test_score\"]\n",
    "plt.semilogx(alphas, scores, label='ridge')\n",
    "scores = elastnet_grid.cv_results_[\"mean_test_score\"]\n",
    "plt.semilogx(alphas, scores, label='ElasticNet')\n",
    "# scores = sgdreg_grid.cv_results_[\"mean_test_score\"]\n",
    "# plt.semilogx(alphas, scores, label='SGDRegression')\n",
    "\n",
    "\n",
    "plt.ylabel(\"CV score +/- std error\", fontsize=14)\n",
    "plt.xlabel(\"alpha\", fontsize=14)\n",
    "ax.tick_params(axis='both', labelsize=14)\n",
    "plt.legend(fontsize=10)\n",
    "plt.show()"
   ]
  },
  {
   "cell_type": "code",
   "execution_count": null,
   "id": "e64b74c7-a073-475d-8cc9-0f416e9931ce",
   "metadata": {},
   "outputs": [],
   "source": []
  },
  {
   "cell_type": "code",
   "execution_count": null,
   "id": "fcdd07dd-88d8-41fa-90fd-9c9bab001204",
   "metadata": {},
   "outputs": [],
   "source": []
  },
  {
   "cell_type": "markdown",
   "id": "41a86cfd-ca53-4c35-8935-ec820134435b",
   "metadata": {},
   "source": [
    "### HuberRegression"
   ]
  },
  {
   "cell_type": "code",
   "execution_count": null,
   "id": "1e34dab1-5783-4416-b7df-b16b145ea3e2",
   "metadata": {},
   "outputs": [],
   "source": [
    "from sklearn.linear_model import HuberRegressor"
   ]
  },
  {
   "cell_type": "code",
   "execution_count": null,
   "id": "3e5b7b70-ee7f-4cb2-acd8-77119b54ce16",
   "metadata": {},
   "outputs": [],
   "source": [
    "huber = HuberRegressor()\n",
    "\n",
    "alphas = np.logspace(-4, -0.5, 30)\n",
    "epsilons = np.linspace(1, 4, 7)\n",
    "tuned_parameters = [{\"alpha\": alphas, 'epsilon':epsilons}]\n",
    "n_folds = 5\n",
    "cv = RepeatedKFold(n_splits=n_folds, n_repeats=3, random_state=1)\n",
    "\n",
    "huber_grid = GridSearchCV(huber, tuned_parameters, cv=cv, n_jobs=4)\n",
    "huber_grid.fit(X, y)"
   ]
  },
  {
   "cell_type": "code",
   "execution_count": null,
   "id": "b8981347-461d-403c-b480-d4a07c5e491f",
   "metadata": {},
   "outputs": [],
   "source": [
    "scores = huber_grid.cv_results_[\"mean_test_score\"]\n",
    "scores_std = huber_grid.cv_results_[\"std_test_score\"]"
   ]
  },
  {
   "cell_type": "code",
   "execution_count": null,
   "id": "8532b3a5-fe09-4a70-abd6-8c55bc264072",
   "metadata": {},
   "outputs": [],
   "source": [
    "huber_grid.score(X_test, y_test)"
   ]
  },
  {
   "cell_type": "code",
   "execution_count": null,
   "id": "cdba7e02-c71f-4e57-b575-3424eed83cd5",
   "metadata": {},
   "outputs": [],
   "source": [
    "plt.figure().set_size_inches(8, 6)\n",
    "plt.semilogx(alphas, scores)\n",
    "\n",
    "std_error = scores_std / np.sqrt(n_folds)\n",
    "\n",
    "plt.semilogx(alphas, scores + std_error, \"b--\")\n",
    "plt.semilogx(alphas, scores - std_error, \"b--\")\n",
    "\n",
    "# alpha=0.2 controls the translucency of the fill color\n",
    "plt.fill_between(alphas, scores + std_error, scores - std_error, alpha=0.2)\n",
    "\n",
    "plt.ylabel(\"CV score +/- std error\")\n",
    "plt.xlabel(\"alpha\")\n",
    "plt.axhline(np.max(scores), linestyle=\"--\", color=\".5\")\n",
    "plt.xlim([alphas[0], alphas[-1]])\n",
    "plt.show()"
   ]
  },
  {
   "cell_type": "code",
   "execution_count": null,
   "id": "8eef93e8-3c12-4b31-b9f8-7fed058c717a",
   "metadata": {},
   "outputs": [],
   "source": []
  }
 ],
 "metadata": {
  "kernelspec": {
   "display_name": "Python 3 (ipykernel)",
   "language": "python",
   "name": "python3"
  },
  "language_info": {
   "codemirror_mode": {
    "name": "ipython",
    "version": 3
   },
   "file_extension": ".py",
   "mimetype": "text/x-python",
   "name": "python",
   "nbconvert_exporter": "python",
   "pygments_lexer": "ipython3",
   "version": "3.10.13"
  }
 },
 "nbformat": 4,
 "nbformat_minor": 5
}
