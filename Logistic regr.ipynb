{
 "cells": [
  {
   "cell_type": "code",
   "execution_count": 40,
   "metadata": {},
   "outputs": [],
   "source": [
    "import pandas as pd\n",
    "import numpy as np\n",
    "import seaborn as sns\n",
    "import matplotlib.pyplot as plt\n",
    "import joblib\n",
    "\n",
    "from sklearn.linear_model import LogisticRegression\n",
    "from sklearn.model_selection import RepeatedStratifiedKFold\n",
    "from sklearn.metrics import accuracy_score, confusion_matrix, ConfusionMatrixDisplay\n",
    "from sklearn.metrics import classification_report, roc_auc_score, make_scorer\n",
    "from sklearn.model_selection import GridSearchCV, RandomizedSearchCV\n",
    "\n",
    "from sklearn.model_selection import train_test_split\n",
    "from DataPreparation import DataPreparation\n",
    "import warnings"
   ]
  },
  {
   "cell_type": "code",
   "execution_count": 4,
   "metadata": {},
   "outputs": [],
   "source": [
    "pics = './images'"
   ]
  },
  {
   "cell_type": "code",
   "execution_count": 5,
   "metadata": {},
   "outputs": [
    {
     "data": {
      "text/html": [
       "<div>\n",
       "<style scoped>\n",
       "    .dataframe tbody tr th:only-of-type {\n",
       "        vertical-align: middle;\n",
       "    }\n",
       "\n",
       "    .dataframe tbody tr th {\n",
       "        vertical-align: top;\n",
       "    }\n",
       "\n",
       "    .dataframe thead th {\n",
       "        text-align: right;\n",
       "    }\n",
       "</style>\n",
       "<table border=\"1\" class=\"dataframe\">\n",
       "  <thead>\n",
       "    <tr style=\"text-align: right;\">\n",
       "      <th></th>\n",
       "      <th>MaxAbsEStateIndex</th>\n",
       "      <th>MinAbsEStateIndex</th>\n",
       "      <th>qed</th>\n",
       "      <th>SPS</th>\n",
       "      <th>MaxPartialCharge</th>\n",
       "      <th>MinPartialCharge</th>\n",
       "      <th>FpDensityMorgan3</th>\n",
       "      <th>BCUT2D_MWHI</th>\n",
       "      <th>BCUT2D_MWLOW</th>\n",
       "      <th>BCUT2D_CHGHI</th>\n",
       "      <th>...</th>\n",
       "      <th>fr_Nhpyrrole</th>\n",
       "      <th>fr_aldehyde</th>\n",
       "      <th>fr_amidine</th>\n",
       "      <th>fr_aryl_methyl</th>\n",
       "      <th>fr_benzene</th>\n",
       "      <th>fr_benzodiazepine</th>\n",
       "      <th>fr_diazo</th>\n",
       "      <th>fr_halogen</th>\n",
       "      <th>fr_hdrzine</th>\n",
       "      <th>label</th>\n",
       "    </tr>\n",
       "  </thead>\n",
       "  <tbody>\n",
       "    <tr>\n",
       "      <th>0</th>\n",
       "      <td>10.337455</td>\n",
       "      <td>-1.272753</td>\n",
       "      <td>23.375000</td>\n",
       "      <td>505.329</td>\n",
       "      <td>79.918731</td>\n",
       "      <td>10.123678</td>\n",
       "      <td>9.103951</td>\n",
       "      <td>-0.051090</td>\n",
       "      <td>3.459112</td>\n",
       "      <td>1.375036</td>\n",
       "      <td>...</td>\n",
       "      <td>0.0</td>\n",
       "      <td>0.0</td>\n",
       "      <td>0.0</td>\n",
       "      <td>0.0</td>\n",
       "      <td>0.0</td>\n",
       "      <td>0.0</td>\n",
       "      <td>0.0</td>\n",
       "      <td>0.0</td>\n",
       "      <td>0.0</td>\n",
       "      <td>1</td>\n",
       "    </tr>\n",
       "    <tr>\n",
       "      <th>1</th>\n",
       "      <td>10.335047</td>\n",
       "      <td>-1.271941</td>\n",
       "      <td>23.375000</td>\n",
       "      <td>505.329</td>\n",
       "      <td>79.918731</td>\n",
       "      <td>10.124302</td>\n",
       "      <td>9.103026</td>\n",
       "      <td>-0.051090</td>\n",
       "      <td>3.450909</td>\n",
       "      <td>1.367373</td>\n",
       "      <td>...</td>\n",
       "      <td>0.0</td>\n",
       "      <td>0.0</td>\n",
       "      <td>0.0</td>\n",
       "      <td>0.0</td>\n",
       "      <td>0.0</td>\n",
       "      <td>0.0</td>\n",
       "      <td>0.0</td>\n",
       "      <td>0.0</td>\n",
       "      <td>0.0</td>\n",
       "      <td>1</td>\n",
       "    </tr>\n",
       "    <tr>\n",
       "      <th>2</th>\n",
       "      <td>10.333078</td>\n",
       "      <td>-1.271281</td>\n",
       "      <td>23.375000</td>\n",
       "      <td>505.329</td>\n",
       "      <td>79.918731</td>\n",
       "      <td>10.124439</td>\n",
       "      <td>9.103025</td>\n",
       "      <td>-0.051090</td>\n",
       "      <td>3.448581</td>\n",
       "      <td>1.360843</td>\n",
       "      <td>...</td>\n",
       "      <td>0.0</td>\n",
       "      <td>0.0</td>\n",
       "      <td>0.0</td>\n",
       "      <td>0.0</td>\n",
       "      <td>0.0</td>\n",
       "      <td>0.0</td>\n",
       "      <td>0.0</td>\n",
       "      <td>0.0</td>\n",
       "      <td>0.0</td>\n",
       "      <td>1</td>\n",
       "    </tr>\n",
       "    <tr>\n",
       "      <th>3</th>\n",
       "      <td>10.355554</td>\n",
       "      <td>-1.235039</td>\n",
       "      <td>25.218750</td>\n",
       "      <td>440.504</td>\n",
       "      <td>16.562573</td>\n",
       "      <td>9.897992</td>\n",
       "      <td>5.825210</td>\n",
       "      <td>-0.051059</td>\n",
       "      <td>3.346646</td>\n",
       "      <td>1.323034</td>\n",
       "      <td>...</td>\n",
       "      <td>0.0</td>\n",
       "      <td>0.0</td>\n",
       "      <td>0.0</td>\n",
       "      <td>0.0</td>\n",
       "      <td>0.0</td>\n",
       "      <td>0.0</td>\n",
       "      <td>0.0</td>\n",
       "      <td>0.0</td>\n",
       "      <td>0.0</td>\n",
       "      <td>1</td>\n",
       "    </tr>\n",
       "    <tr>\n",
       "      <th>4</th>\n",
       "      <td>6.090409</td>\n",
       "      <td>0.226017</td>\n",
       "      <td>12.285714</td>\n",
       "      <td>362.614</td>\n",
       "      <td>79.918731</td>\n",
       "      <td>10.103988</td>\n",
       "      <td>9.101988</td>\n",
       "      <td>0.552888</td>\n",
       "      <td>3.020157</td>\n",
       "      <td>1.976391</td>\n",
       "      <td>...</td>\n",
       "      <td>0.0</td>\n",
       "      <td>0.0</td>\n",
       "      <td>0.0</td>\n",
       "      <td>0.0</td>\n",
       "      <td>0.0</td>\n",
       "      <td>0.0</td>\n",
       "      <td>0.0</td>\n",
       "      <td>0.0</td>\n",
       "      <td>0.0</td>\n",
       "      <td>1</td>\n",
       "    </tr>\n",
       "  </tbody>\n",
       "</table>\n",
       "<p>5 rows × 113 columns</p>\n",
       "</div>"
      ],
      "text/plain": [
       "   MaxAbsEStateIndex  MinAbsEStateIndex        qed      SPS  MaxPartialCharge  \\\n",
       "0          10.337455          -1.272753  23.375000  505.329         79.918731   \n",
       "1          10.335047          -1.271941  23.375000  505.329         79.918731   \n",
       "2          10.333078          -1.271281  23.375000  505.329         79.918731   \n",
       "3          10.355554          -1.235039  25.218750  440.504         16.562573   \n",
       "4           6.090409           0.226017  12.285714  362.614         79.918731   \n",
       "\n",
       "   MinPartialCharge  FpDensityMorgan3  BCUT2D_MWHI  BCUT2D_MWLOW  \\\n",
       "0         10.123678          9.103951    -0.051090      3.459112   \n",
       "1         10.124302          9.103026    -0.051090      3.450909   \n",
       "2         10.124439          9.103025    -0.051090      3.448581   \n",
       "3          9.897992          5.825210    -0.051059      3.346646   \n",
       "4         10.103988          9.101988     0.552888      3.020157   \n",
       "\n",
       "   BCUT2D_CHGHI  ...  fr_Nhpyrrole  fr_aldehyde  fr_amidine  fr_aryl_methyl  \\\n",
       "0      1.375036  ...           0.0          0.0         0.0             0.0   \n",
       "1      1.367373  ...           0.0          0.0         0.0             0.0   \n",
       "2      1.360843  ...           0.0          0.0         0.0             0.0   \n",
       "3      1.323034  ...           0.0          0.0         0.0             0.0   \n",
       "4      1.976391  ...           0.0          0.0         0.0             0.0   \n",
       "\n",
       "   fr_benzene  fr_benzodiazepine  fr_diazo  fr_halogen  fr_hdrzine  label  \n",
       "0         0.0                0.0       0.0         0.0         0.0      1  \n",
       "1         0.0                0.0       0.0         0.0         0.0      1  \n",
       "2         0.0                0.0       0.0         0.0         0.0      1  \n",
       "3         0.0                0.0       0.0         0.0         0.0      1  \n",
       "4         0.0                0.0       0.0         0.0         0.0      1  \n",
       "\n",
       "[5 rows x 113 columns]"
      ]
     },
     "execution_count": 5,
     "metadata": {},
     "output_type": "execute_result"
    }
   ],
   "source": [
    "df = pd.read_csv('./data/balanced_dataframe.csv', index_col=None)\n",
    "df.head()"
   ]
  },
  {
   "cell_type": "code",
   "execution_count": 108,
   "metadata": {},
   "outputs": [],
   "source": [
    "X = df.drop(columns=['label'])\n",
    "y = df['label']"
   ]
  },
  {
   "cell_type": "code",
   "execution_count": 109,
   "metadata": {},
   "outputs": [
    {
     "data": {
      "text/plain": [
       "0    915\n",
       "1    915\n",
       "Name: label, dtype: int64"
      ]
     },
     "execution_count": 109,
     "metadata": {},
     "output_type": "execute_result"
    }
   ],
   "source": [
    "X_train, X_test, y_train, y_test = train_test_split(X, y, \n",
    "                                                    test_size=0.3, \n",
    "                                                    random_state=42,\n",
    "                                                    stratify=y\n",
    "                                                    )\n",
    "y_test.value_counts()"
   ]
  },
  {
   "cell_type": "code",
   "execution_count": 110,
   "metadata": {},
   "outputs": [
    {
     "name": "stdout",
     "output_type": "stream",
     "text": [
      "Index(['MaxAbsEStateIndex', 'MinAbsEStateIndex', 'qed', 'SPS',\n",
      "       'MaxPartialCharge', 'MinPartialCharge', 'BCUT2D_MWHI', 'BCUT2D_MWLOW',\n",
      "       'BCUT2D_CHGHI', 'BCUT2D_LOGPLOW', 'BCUT2D_MRHI', 'BCUT2D_MRLOW',\n",
      "       'AvgIpc', 'BalabanJ', 'BertzCT', 'Chi0', 'Chi0n', 'Chi0v', 'Chi1',\n",
      "       'Chi1n', 'Chi1v', 'Chi2n', 'Chi2v', 'Chi3n', 'Chi3v', 'Chi4n', 'Chi4v',\n",
      "       'HallKierAlpha', 'Ipc', 'Kappa1', 'Kappa2', 'Kappa3', 'PEOE_VSA1',\n",
      "       'PEOE_VSA10', 'PEOE_VSA11', 'PEOE_VSA12', 'PEOE_VSA2', 'PEOE_VSA3',\n",
      "       'PEOE_VSA5', 'PEOE_VSA6', 'PEOE_VSA8', 'SMR_VSA2', 'SMR_VSA3',\n",
      "       'SMR_VSA4', 'SMR_VSA5', 'SMR_VSA6', 'SMR_VSA7', 'SMR_VSA8', 'SMR_VSA9',\n",
      "       'SlogP_VSA12', 'SlogP_VSA2', 'SlogP_VSA3', 'SlogP_VSA4', 'SlogP_VSA5',\n",
      "       'SlogP_VSA6', 'SlogP_VSA8', 'TPSA', 'EState_VSA1', 'EState_VSA5',\n",
      "       'VSA_EState1', 'VSA_EState6', 'VSA_EState7', 'NumAliphaticCarbocycles',\n",
      "       'NumAromaticCarbocycles', 'NumAromaticHeterocycles', 'NumHeteroatoms',\n",
      "       'NumRotatableBonds', 'RingCount', 'fr_Al_OH_noTert', 'fr_Ar_NH',\n",
      "       'fr_Ar_OH', 'fr_COO', 'fr_C_O', 'fr_HOCCN', 'fr_Nhpyrrole',\n",
      "       'fr_aldehyde', 'fr_amidine', 'fr_aryl_methyl', 'fr_benzene',\n",
      "       'fr_benzodiazepine', 'fr_diazo', 'fr_halogen', 'fr_hdrzine'],\n",
      "      dtype='object')\n"
     ]
    }
   ],
   "source": [
    "data_preparation = DataPreparation(X_train, X_test, y_train, y_test)\n",
    "\n",
    "# # get scaled clean data\n",
    "# # use StandartScaler\n",
    "X_train, X_test, y_train, y_test = data_preparation.clean_dataset()"
   ]
  },
  {
   "cell_type": "code",
   "execution_count": 111,
   "metadata": {},
   "outputs": [
    {
     "data": {
      "text/plain": [
       "(6100, 112)"
      ]
     },
     "execution_count": 111,
     "metadata": {},
     "output_type": "execute_result"
    }
   ],
   "source": [
    "X.shape"
   ]
  },
  {
   "cell_type": "code",
   "execution_count": 112,
   "metadata": {},
   "outputs": [],
   "source": [
    "#X_train[[0, 1]].set_axis(['one', 'two'], axis=1)"
   ]
  },
  {
   "cell_type": "code",
   "execution_count": 113,
   "metadata": {},
   "outputs": [
    {
     "name": "stdout",
     "output_type": "stream",
     "text": [
      "Fitting 5 folds for each of 20 candidates, totalling 100 fits\n",
      "CPU times: user 5.54 s, sys: 4.92 s, total: 10.5 s\n",
      "Wall time: 18.2 s\n",
      "\n",
      "{'C': 100, 'solver': 'newton-cg'}\n",
      "Accuracy: 0.9448087431693989\n",
      "Mean ROC AUC: 0.9448087431693989\n"
     ]
    }
   ],
   "source": [
    "lr = LogisticRegression(max_iter=200)\n",
    "scoring_lr = {\"AUC\": \"roc_auc\", \"Accuracy\": make_scorer(accuracy_score)}\n",
    "param_grid_lr = {'C': [0.01, 0.1, 10, 100],\n",
    "              'solver': ['newton-cg', 'lbfgs', 'liblinear', 'sag', 'saga']\n",
    "}\n",
    "\n",
    "cv_lr = RepeatedStratifiedKFold(n_splits=5, n_repeats=1, random_state=1)\n",
    "warnings.filterwarnings('ignore')\n",
    "grid_lr = GridSearchCV(lr, \n",
    "                    param_grid_lr, \n",
    "                    cv=cv_lr, \n",
    "                    scoring=scoring_lr, \n",
    "                    refit='AUC', \n",
    "                    verbose=1, \n",
    "                    n_jobs=-1,\n",
    "                    # error_score='raise'\n",
    "                    )\n",
    "\n",
    "%time grid_lr.fit(X_train, y_train)\n",
    "\n",
    "print()\n",
    "print(grid_lr.best_params_)\n",
    "\n",
    "y_pred = grid_lr.predict(X_test)\n",
    "accuracy = accuracy_score(y_test, y_pred)\n",
    "print(\"Accuracy:\", accuracy)\n",
    "\n",
    "score = roc_auc_score(y_test, y_pred)\n",
    "print(\"Mean ROC AUC:\", score)"
   ]
  },
  {
   "cell_type": "code",
   "execution_count": 114,
   "metadata": {},
   "outputs": [
    {
     "name": "stdout",
     "output_type": "stream",
     "text": [
      "For test set:\n",
      "              precision    recall  f1-score   support\n",
      "\n",
      "           0       0.96      0.93      0.94       915\n",
      "           1       0.93      0.96      0.95       915\n",
      "\n",
      "    accuracy                           0.94      1830\n",
      "   macro avg       0.95      0.94      0.94      1830\n",
      "weighted avg       0.95      0.94      0.94      1830\n",
      "\n"
     ]
    }
   ],
   "source": [
    "y_pred = grid_lr.predict(X_test)\n",
    "cm = confusion_matrix(y_test, y_pred)\n",
    "print(\"For test set:\")\n",
    "\n",
    "print(classification_report(y_test, y_pred))"
   ]
  },
  {
   "cell_type": "code",
   "execution_count": 115,
   "metadata": {},
   "outputs": [
    {
     "data": {
      "image/png": "[encoded data removed]",
      "text/plain": [
       "<Figure size 432x288 with 2 Axes>"
      ]
     },
     "metadata": {
      "needs_background": "light"
     },
     "output_type": "display_data"
    }
   ],
   "source": [
    "disp = ConfusionMatrixDisplay(confusion_matrix=cm, display_labels=grid_lr.classes_)\n",
    "disp.plot()\n",
    "plt.show()"
   ]
  },
  {
   "cell_type": "code",
   "execution_count": 116,
   "metadata": {},
   "outputs": [
    {
     "name": "stdout",
     "output_type": "stream",
     "text": [
      "For train set:\n",
      "              precision    recall  f1-score   support\n",
      "\n",
      "           0       0.96      0.93      0.95      2135\n",
      "           1       0.94      0.96      0.95      2135\n",
      "\n",
      "    accuracy                           0.95      4270\n",
      "   macro avg       0.95      0.95      0.95      4270\n",
      "weighted avg       0.95      0.95      0.95      4270\n",
      "\n"
     ]
    }
   ],
   "source": [
    "y_pred = grid_lr.predict(X_train)\n",
    "cm = confusion_matrix(y_train, y_pred)\n",
    "print(\"For train set:\")\n",
    "\n",
    "print(classification_report(y_train, y_pred))"
   ]
  },
  {
   "cell_type": "code",
   "execution_count": 117,
   "metadata": {},
   "outputs": [
    {
     "data": {
      "image/png": "[encoded data removed]",
      "text/plain": [
       "<Figure size 432x288 with 2 Axes>"
      ]
     },
     "metadata": {
      "needs_background": "light"
     },
     "output_type": "display_data"
    }
   ],
   "source": [
    "disp = ConfusionMatrixDisplay(confusion_matrix=cm, display_labels=grid_lr.classes_)\n",
    "disp.plot()\n",
    "plt.show()"
   ]
  },
  {
   "cell_type": "code",
   "execution_count": 118,
   "metadata": {},
   "outputs": [
    {
     "data": {
      "image/png": "[encoded data removed]",
      "text/plain": [
       "<Figure size 1008x504 with 1 Axes>"
      ]
     },
     "metadata": {
      "needs_background": "light"
     },
     "output_type": "display_data"
    }
   ],
   "source": [
    "# ridge = RidgeCV(alphas=np.logspace(-6, 6, num=5)).fit(X, y)\n",
    "importance = np.abs(clf.coef_)\n",
    "feature_names = X_train.columns\n",
    "plt.figure(figsize=(14,7))\n",
    "plt.bar(height=importance[0], x=feature_names)\n",
    "plt.title(\"Feature importances via coefficients\")\n",
    "plt.xlabel('№ of feature')\n",
    "plt.ylabel('Importance score')\n",
    "plt.show()"
   ]
  },
  {
   "cell_type": "code",
   "execution_count": 119,
   "metadata": {},
   "outputs": [
    {
     "data": {
      "text/plain": [
       "<AxesSubplot:ylabel='Feature'>"
      ]
     },
     "execution_count": 119,
     "metadata": {},
     "output_type": "execute_result"
    },
    {
     "data": {
      "image/png": "[encoded data removed]",
      "text/plain": [
       "<Figure size 720x432 with 1 Axes>"
      ]
     },
     "metadata": {
      "needs_background": "light"
     },
     "output_type": "display_data"
    },
    {
     "name": "stderr",
     "output_type": "stream",
     "text": [
      "/home/almaz/venv/lib/python3.8/site-packages/sklearn/linear_model/_sag.py:352: ConvergenceWarning: The max_iter was reached which means the coef_ did not converge\n",
      "  warnings.warn(\n",
      "/home/almaz/venv/lib/python3.8/site-packages/sklearn/linear_model/_sag.py:352: ConvergenceWarning: The max_iter was reached which means the coef_ did not converge\n",
      "  warnings.warn(\n",
      "/home/almaz/venv/lib/python3.8/site-packages/sklearn/linear_model/_logistic.py:814: ConvergenceWarning: lbfgs failed to converge (status=1):\n",
      "STOP: TOTAL NO. of ITERATIONS REACHED LIMIT.\n",
      "\n",
      "Increase the number of iterations (max_iter) or scale the data as shown in:\n",
      "    https://scikit-learn.org/stable/modules/preprocessing.html\n",
      "Please also refer to the documentation for alternative solver options:\n",
      "    https://scikit-learn.org/stable/modules/linear_model.html#logistic-regression\n",
      "  n_iter_i = _check_optimize_result(\n",
      "/home/almaz/venv/lib/python3.8/site-packages/sklearn/linear_model/_sag.py:352: ConvergenceWarning: The max_iter was reached which means the coef_ did not converge\n",
      "  warnings.warn(\n",
      "/home/almaz/venv/lib/python3.8/site-packages/sklearn/linear_model/_logistic.py:814: ConvergenceWarning: lbfgs failed to converge (status=1):\n",
      "STOP: TOTAL NO. of ITERATIONS REACHED LIMIT.\n",
      "\n",
      "Increase the number of iterations (max_iter) or scale the data as shown in:\n",
      "    https://scikit-learn.org/stable/modules/preprocessing.html\n",
      "Please also refer to the documentation for alternative solver options:\n",
      "    https://scikit-learn.org/stable/modules/linear_model.html#logistic-regression\n",
      "  n_iter_i = _check_optimize_result(\n",
      "/home/almaz/venv/lib/python3.8/site-packages/sklearn/linear_model/_logistic.py:814: ConvergenceWarning: lbfgs failed to converge (status=1):\n",
      "STOP: TOTAL NO. of ITERATIONS REACHED LIMIT.\n",
      "\n",
      "Increase the number of iterations (max_iter) or scale the data as shown in:\n",
      "    https://scikit-learn.org/stable/modules/preprocessing.html\n",
      "Please also refer to the documentation for alternative solver options:\n",
      "    https://scikit-learn.org/stable/modules/linear_model.html#logistic-regression\n",
      "  n_iter_i = _check_optimize_result(\n",
      "/home/almaz/venv/lib/python3.8/site-packages/sklearn/linear_model/_logistic.py:814: ConvergenceWarning: lbfgs failed to converge (status=1):\n",
      "STOP: TOTAL NO. of ITERATIONS REACHED LIMIT.\n",
      "\n",
      "Increase the number of iterations (max_iter) or scale the data as shown in:\n",
      "    https://scikit-learn.org/stable/modules/preprocessing.html\n",
      "Please also refer to the documentation for alternative solver options:\n",
      "    https://scikit-learn.org/stable/modules/linear_model.html#logistic-regression\n",
      "  n_iter_i = _check_optimize_result(\n",
      "/home/almaz/venv/lib/python3.8/site-packages/sklearn/linear_model/_sag.py:352: ConvergenceWarning: The max_iter was reached which means the coef_ did not converge\n",
      "  warnings.warn(\n",
      "/home/almaz/venv/lib/python3.8/site-packages/sklearn/linear_model/_sag.py:352: ConvergenceWarning: The max_iter was reached which means the coef_ did not converge\n",
      "  warnings.warn(\n",
      "/home/almaz/venv/lib/python3.8/site-packages/sklearn/linear_model/_sag.py:352: ConvergenceWarning: The max_iter was reached which means the coef_ did not converge\n",
      "  warnings.warn(\n",
      "/home/almaz/venv/lib/python3.8/site-packages/sklearn/linear_model/_sag.py:352: ConvergenceWarning: The max_iter was reached which means the coef_ did not converge\n",
      "  warnings.warn(\n",
      "/home/almaz/venv/lib/python3.8/site-packages/sklearn/linear_model/_logistic.py:814: ConvergenceWarning: lbfgs failed to converge (status=1):\n",
      "STOP: TOTAL NO. of ITERATIONS REACHED LIMIT.\n",
      "\n",
      "Increase the number of iterations (max_iter) or scale the data as shown in:\n",
      "    https://scikit-learn.org/stable/modules/preprocessing.html\n",
      "Please also refer to the documentation for alternative solver options:\n",
      "    https://scikit-learn.org/stable/modules/linear_model.html#logistic-regression\n",
      "  n_iter_i = _check_optimize_result(\n",
      "/home/almaz/venv/lib/python3.8/site-packages/sklearn/linear_model/_sag.py:352: ConvergenceWarning: The max_iter was reached which means the coef_ did not converge\n",
      "  warnings.warn(\n",
      "/home/almaz/venv/lib/python3.8/site-packages/sklearn/linear_model/_sag.py:352: ConvergenceWarning: The max_iter was reached which means the coef_ did not converge\n",
      "  warnings.warn(\n",
      "/home/almaz/venv/lib/python3.8/site-packages/sklearn/linear_model/_sag.py:352: ConvergenceWarning: The max_iter was reached which means the coef_ did not converge\n",
      "  warnings.warn(\n",
      "/home/almaz/venv/lib/python3.8/site-packages/sklearn/linear_model/_sag.py:352: ConvergenceWarning: The max_iter was reached which means the coef_ did not converge\n",
      "  warnings.warn(\n",
      "/home/almaz/venv/lib/python3.8/site-packages/sklearn/linear_model/_sag.py:352: ConvergenceWarning: The max_iter was reached which means the coef_ did not converge\n",
      "  warnings.warn(\n",
      "/home/almaz/venv/lib/python3.8/site-packages/sklearn/linear_model/_sag.py:352: ConvergenceWarning: The max_iter was reached which means the coef_ did not converge\n",
      "  warnings.warn(\n",
      "/home/almaz/venv/lib/python3.8/site-packages/sklearn/linear_model/_sag.py:352: ConvergenceWarning: The max_iter was reached which means the coef_ did not converge\n",
      "  warnings.warn(\n",
      "/home/almaz/venv/lib/python3.8/site-packages/sklearn/linear_model/_sag.py:352: ConvergenceWarning: The max_iter was reached which means the coef_ did not converge\n",
      "  warnings.warn(\n",
      "/home/almaz/venv/lib/python3.8/site-packages/sklearn/linear_model/_sag.py:352: ConvergenceWarning: The max_iter was reached which means the coef_ did not converge\n",
      "  warnings.warn(\n",
      "/home/almaz/venv/lib/python3.8/site-packages/sklearn/linear_model/_sag.py:352: ConvergenceWarning: The max_iter was reached which means the coef_ did not converge\n",
      "  warnings.warn(\n",
      "/home/almaz/venv/lib/python3.8/site-packages/sklearn/linear_model/_sag.py:352: ConvergenceWarning: The max_iter was reached which means the coef_ did not converge\n",
      "  warnings.warn(\n",
      "/home/almaz/venv/lib/python3.8/site-packages/sklearn/linear_model/_sag.py:352: ConvergenceWarning: The max_iter was reached which means the coef_ did not converge\n",
      "  warnings.warn(\n",
      "/home/almaz/venv/lib/python3.8/site-packages/sklearn/linear_model/_sag.py:352: ConvergenceWarning: The max_iter was reached which means the coef_ did not converge\n",
      "  warnings.warn(\n",
      "/home/almaz/venv/lib/python3.8/site-packages/sklearn/linear_model/_sag.py:352: ConvergenceWarning: The max_iter was reached which means the coef_ did not converge\n",
      "  warnings.warn(\n",
      "/home/almaz/venv/lib/python3.8/site-packages/sklearn/linear_model/_sag.py:352: ConvergenceWarning: The max_iter was reached which means the coef_ did not converge\n",
      "  warnings.warn(\n",
      "/home/almaz/venv/lib/python3.8/site-packages/sklearn/linear_model/_sag.py:352: ConvergenceWarning: The max_iter was reached which means the coef_ did not converge\n",
      "  warnings.warn(\n"
     ]
    }
   ],
   "source": [
    "avg_importance = np.mean(np.abs(clf.coef_), axis=0)\n",
    "feature_importance = pd.DataFrame({'Feature': X_train.columns, 'Importance': avg_importance})\n",
    "feature_importance = feature_importance.sort_values('Importance', ascending=True)\n",
    "feature_importance.plot(x='Feature', y='Importance', kind='barh', figsize=(10, 6))"
   ]
  },
  {
   "cell_type": "code",
   "execution_count": null,
   "metadata": {},
   "outputs": [],
   "source": []
  },
  {
   "cell_type": "markdown",
   "metadata": {},
   "source": [
    "## After feature selection N = 20"
   ]
  },
  {
   "cell_type": "code",
   "execution_count": 79,
   "metadata": {},
   "outputs": [
    {
     "data": {
      "text/html": [
       "<div>\n",
       "<style scoped>\n",
       "    .dataframe tbody tr th:only-of-type {\n",
       "        vertical-align: middle;\n",
       "    }\n",
       "\n",
       "    .dataframe tbody tr th {\n",
       "        vertical-align: top;\n",
       "    }\n",
       "\n",
       "    .dataframe thead th {\n",
       "        text-align: right;\n",
       "    }\n",
       "</style>\n",
       "<table border=\"1\" class=\"dataframe\">\n",
       "  <thead>\n",
       "    <tr style=\"text-align: right;\">\n",
       "      <th></th>\n",
       "      <th>PEOE_VSA13</th>\n",
       "      <th>Chi3v</th>\n",
       "      <th>FpDensityMorgan3</th>\n",
       "      <th>Kappa1</th>\n",
       "      <th>BertzCT</th>\n",
       "      <th>EState_VSA3</th>\n",
       "      <th>SMR_VSA4</th>\n",
       "      <th>BCUT2D_LOGPLOW</th>\n",
       "      <th>Chi2n</th>\n",
       "      <th>qed</th>\n",
       "      <th>EState_VSA11</th>\n",
       "      <th>BCUT2D_MWHI</th>\n",
       "      <th>MinPartialCharge</th>\n",
       "      <th>MinAbsEStateIndex</th>\n",
       "      <th>SMR_VSA2</th>\n",
       "      <th>SlogP_VSA3</th>\n",
       "      <th>Kappa3</th>\n",
       "      <th>MaxPartialCharge</th>\n",
       "      <th>SlogP_VSA1</th>\n",
       "      <th>PEOE_VSA3</th>\n",
       "    </tr>\n",
       "  </thead>\n",
       "  <tbody>\n",
       "    <tr>\n",
       "      <th>0</th>\n",
       "      <td>15.929944</td>\n",
       "      <td>24.793308</td>\n",
       "      <td>9.103951</td>\n",
       "      <td>30.960622</td>\n",
       "      <td>0.000000</td>\n",
       "      <td>4.0</td>\n",
       "      <td>20.939096</td>\n",
       "      <td>3.068350e+07</td>\n",
       "      <td>17.696186</td>\n",
       "      <td>23.375000</td>\n",
       "      <td>1.0</td>\n",
       "      <td>-0.051090</td>\n",
       "      <td>10.123678</td>\n",
       "      <td>-1.272753</td>\n",
       "      <td>17.475505</td>\n",
       "      <td>0.116048</td>\n",
       "      <td>40.759436</td>\n",
       "      <td>79.918731</td>\n",
       "      <td>13.782540</td>\n",
       "      <td>0.000000</td>\n",
       "    </tr>\n",
       "    <tr>\n",
       "      <th>1</th>\n",
       "      <td>15.929944</td>\n",
       "      <td>24.793308</td>\n",
       "      <td>9.103026</td>\n",
       "      <td>30.960622</td>\n",
       "      <td>0.000000</td>\n",
       "      <td>4.0</td>\n",
       "      <td>20.939096</td>\n",
       "      <td>3.001086e+07</td>\n",
       "      <td>23.762553</td>\n",
       "      <td>23.375000</td>\n",
       "      <td>1.0</td>\n",
       "      <td>-0.051090</td>\n",
       "      <td>10.124302</td>\n",
       "      <td>-1.271941</td>\n",
       "      <td>11.828328</td>\n",
       "      <td>0.117146</td>\n",
       "      <td>40.759436</td>\n",
       "      <td>79.918731</td>\n",
       "      <td>13.772163</td>\n",
       "      <td>0.000000</td>\n",
       "    </tr>\n",
       "    <tr>\n",
       "      <th>2</th>\n",
       "      <td>15.929944</td>\n",
       "      <td>24.793308</td>\n",
       "      <td>9.103025</td>\n",
       "      <td>30.960622</td>\n",
       "      <td>0.000000</td>\n",
       "      <td>4.0</td>\n",
       "      <td>20.939096</td>\n",
       "      <td>2.989174e+07</td>\n",
       "      <td>17.696186</td>\n",
       "      <td>23.375000</td>\n",
       "      <td>1.0</td>\n",
       "      <td>-0.051090</td>\n",
       "      <td>10.124439</td>\n",
       "      <td>-1.271281</td>\n",
       "      <td>11.828328</td>\n",
       "      <td>0.117998</td>\n",
       "      <td>40.759436</td>\n",
       "      <td>79.918731</td>\n",
       "      <td>13.773383</td>\n",
       "      <td>0.000000</td>\n",
       "    </tr>\n",
       "    <tr>\n",
       "      <th>3</th>\n",
       "      <td>0.000000</td>\n",
       "      <td>20.056445</td>\n",
       "      <td>5.825210</td>\n",
       "      <td>56.643908</td>\n",
       "      <td>0.000000</td>\n",
       "      <td>3.0</td>\n",
       "      <td>12.841643</td>\n",
       "      <td>3.243335e+07</td>\n",
       "      <td>48.794463</td>\n",
       "      <td>25.218750</td>\n",
       "      <td>1.0</td>\n",
       "      <td>-0.051059</td>\n",
       "      <td>9.897992</td>\n",
       "      <td>-1.235039</td>\n",
       "      <td>5.817863</td>\n",
       "      <td>0.553914</td>\n",
       "      <td>41.216776</td>\n",
       "      <td>16.562573</td>\n",
       "      <td>7.108612</td>\n",
       "      <td>0.000000</td>\n",
       "    </tr>\n",
       "    <tr>\n",
       "      <th>4</th>\n",
       "      <td>27.530884</td>\n",
       "      <td>4.417151</td>\n",
       "      <td>9.101988</td>\n",
       "      <td>6.420822</td>\n",
       "      <td>0.000000</td>\n",
       "      <td>3.0</td>\n",
       "      <td>28.935581</td>\n",
       "      <td>1.167653e+05</td>\n",
       "      <td>45.758864</td>\n",
       "      <td>12.285714</td>\n",
       "      <td>1.0</td>\n",
       "      <td>0.552888</td>\n",
       "      <td>10.103988</td>\n",
       "      <td>0.226017</td>\n",
       "      <td>5.948339</td>\n",
       "      <td>0.898357</td>\n",
       "      <td>51.150887</td>\n",
       "      <td>79.918731</td>\n",
       "      <td>6.271772</td>\n",
       "      <td>0.000000</td>\n",
       "    </tr>\n",
       "    <tr>\n",
       "      <th>...</th>\n",
       "      <td>...</td>\n",
       "      <td>...</td>\n",
       "      <td>...</td>\n",
       "      <td>...</td>\n",
       "      <td>...</td>\n",
       "      <td>...</td>\n",
       "      <td>...</td>\n",
       "      <td>...</td>\n",
       "      <td>...</td>\n",
       "      <td>...</td>\n",
       "      <td>...</td>\n",
       "      <td>...</td>\n",
       "      <td>...</td>\n",
       "      <td>...</td>\n",
       "      <td>...</td>\n",
       "      <td>...</td>\n",
       "      <td>...</td>\n",
       "      <td>...</td>\n",
       "      <td>...</td>\n",
       "      <td>...</td>\n",
       "    </tr>\n",
       "    <tr>\n",
       "      <th>6095</th>\n",
       "      <td>11.336786</td>\n",
       "      <td>0.000000</td>\n",
       "      <td>7.218019</td>\n",
       "      <td>27.315968</td>\n",
       "      <td>5.559267</td>\n",
       "      <td>3.0</td>\n",
       "      <td>15.780072</td>\n",
       "      <td>1.688028e+05</td>\n",
       "      <td>30.537829</td>\n",
       "      <td>11.304348</td>\n",
       "      <td>1.0</td>\n",
       "      <td>0.492694</td>\n",
       "      <td>10.208623</td>\n",
       "      <td>-0.411430</td>\n",
       "      <td>11.477173</td>\n",
       "      <td>0.579532</td>\n",
       "      <td>50.667004</td>\n",
       "      <td>32.133549</td>\n",
       "      <td>2.264240</td>\n",
       "      <td>12.841643</td>\n",
       "    </tr>\n",
       "    <tr>\n",
       "      <th>6096</th>\n",
       "      <td>0.000000</td>\n",
       "      <td>18.221247</td>\n",
       "      <td>7.926766</td>\n",
       "      <td>19.889315</td>\n",
       "      <td>0.000000</td>\n",
       "      <td>0.0</td>\n",
       "      <td>5.697039</td>\n",
       "      <td>2.721476e+05</td>\n",
       "      <td>13.847474</td>\n",
       "      <td>29.375000</td>\n",
       "      <td>0.0</td>\n",
       "      <td>-0.845814</td>\n",
       "      <td>10.227966</td>\n",
       "      <td>-3.541177</td>\n",
       "      <td>5.907180</td>\n",
       "      <td>-0.018440</td>\n",
       "      <td>22.375235</td>\n",
       "      <td>32.233449</td>\n",
       "      <td>27.154937</td>\n",
       "      <td>0.000000</td>\n",
       "    </tr>\n",
       "    <tr>\n",
       "      <th>6097</th>\n",
       "      <td>11.600940</td>\n",
       "      <td>19.428958</td>\n",
       "      <td>6.324554</td>\n",
       "      <td>45.572602</td>\n",
       "      <td>5.907180</td>\n",
       "      <td>2.0</td>\n",
       "      <td>57.680175</td>\n",
       "      <td>1.193943e+08</td>\n",
       "      <td>38.821852</td>\n",
       "      <td>22.542857</td>\n",
       "      <td>0.0</td>\n",
       "      <td>-0.667596</td>\n",
       "      <td>9.704724</td>\n",
       "      <td>-0.204735</td>\n",
       "      <td>29.189097</td>\n",
       "      <td>1.136124</td>\n",
       "      <td>40.369838</td>\n",
       "      <td>35.495692</td>\n",
       "      <td>5.237276</td>\n",
       "      <td>25.180371</td>\n",
       "    </tr>\n",
       "    <tr>\n",
       "      <th>6098</th>\n",
       "      <td>11.761885</td>\n",
       "      <td>14.325937</td>\n",
       "      <td>8.000113</td>\n",
       "      <td>17.330112</td>\n",
       "      <td>0.000000</td>\n",
       "      <td>2.0</td>\n",
       "      <td>24.725238</td>\n",
       "      <td>4.473418e+06</td>\n",
       "      <td>19.056471</td>\n",
       "      <td>18.250000</td>\n",
       "      <td>1.0</td>\n",
       "      <td>-0.126220</td>\n",
       "      <td>10.296962</td>\n",
       "      <td>-0.464767</td>\n",
       "      <td>11.938294</td>\n",
       "      <td>0.505647</td>\n",
       "      <td>30.331835</td>\n",
       "      <td>32.166684</td>\n",
       "      <td>7.406409</td>\n",
       "      <td>0.000000</td>\n",
       "    </tr>\n",
       "    <tr>\n",
       "      <th>6099</th>\n",
       "      <td>27.530884</td>\n",
       "      <td>4.794537</td>\n",
       "      <td>9.103014</td>\n",
       "      <td>12.965578</td>\n",
       "      <td>5.907180</td>\n",
       "      <td>2.0</td>\n",
       "      <td>26.974395</td>\n",
       "      <td>4.437645e+04</td>\n",
       "      <td>36.752657</td>\n",
       "      <td>16.750000</td>\n",
       "      <td>2.0</td>\n",
       "      <td>-0.115998</td>\n",
       "      <td>10.071755</td>\n",
       "      <td>-0.393272</td>\n",
       "      <td>5.907180</td>\n",
       "      <td>-0.067924</td>\n",
       "      <td>57.020458</td>\n",
       "      <td>79.918731</td>\n",
       "      <td>0.972532</td>\n",
       "      <td>6.923737</td>\n",
       "    </tr>\n",
       "  </tbody>\n",
       "</table>\n",
       "<p>6100 rows × 20 columns</p>\n",
       "</div>"
      ],
      "text/plain": [
       "      PEOE_VSA13      Chi3v  FpDensityMorgan3     Kappa1   BertzCT  \\\n",
       "0      15.929944  24.793308          9.103951  30.960622  0.000000   \n",
       "1      15.929944  24.793308          9.103026  30.960622  0.000000   \n",
       "2      15.929944  24.793308          9.103025  30.960622  0.000000   \n",
       "3       0.000000  20.056445          5.825210  56.643908  0.000000   \n",
       "4      27.530884   4.417151          9.101988   6.420822  0.000000   \n",
       "...          ...        ...               ...        ...       ...   \n",
       "6095   11.336786   0.000000          7.218019  27.315968  5.559267   \n",
       "6096    0.000000  18.221247          7.926766  19.889315  0.000000   \n",
       "6097   11.600940  19.428958          6.324554  45.572602  5.907180   \n",
       "6098   11.761885  14.325937          8.000113  17.330112  0.000000   \n",
       "6099   27.530884   4.794537          9.103014  12.965578  5.907180   \n",
       "\n",
       "      EState_VSA3   SMR_VSA4  BCUT2D_LOGPLOW      Chi2n        qed  \\\n",
       "0             4.0  20.939096    3.068350e+07  17.696186  23.375000   \n",
       "1             4.0  20.939096    3.001086e+07  23.762553  23.375000   \n",
       "2             4.0  20.939096    2.989174e+07  17.696186  23.375000   \n",
       "3             3.0  12.841643    3.243335e+07  48.794463  25.218750   \n",
       "4             3.0  28.935581    1.167653e+05  45.758864  12.285714   \n",
       "...           ...        ...             ...        ...        ...   \n",
       "6095          3.0  15.780072    1.688028e+05  30.537829  11.304348   \n",
       "6096          0.0   5.697039    2.721476e+05  13.847474  29.375000   \n",
       "6097          2.0  57.680175    1.193943e+08  38.821852  22.542857   \n",
       "6098          2.0  24.725238    4.473418e+06  19.056471  18.250000   \n",
       "6099          2.0  26.974395    4.437645e+04  36.752657  16.750000   \n",
       "\n",
       "      EState_VSA11  BCUT2D_MWHI  MinPartialCharge  MinAbsEStateIndex  \\\n",
       "0              1.0    -0.051090         10.123678          -1.272753   \n",
       "1              1.0    -0.051090         10.124302          -1.271941   \n",
       "2              1.0    -0.051090         10.124439          -1.271281   \n",
       "3              1.0    -0.051059          9.897992          -1.235039   \n",
       "4              1.0     0.552888         10.103988           0.226017   \n",
       "...            ...          ...               ...                ...   \n",
       "6095           1.0     0.492694         10.208623          -0.411430   \n",
       "6096           0.0    -0.845814         10.227966          -3.541177   \n",
       "6097           0.0    -0.667596          9.704724          -0.204735   \n",
       "6098           1.0    -0.126220         10.296962          -0.464767   \n",
       "6099           2.0    -0.115998         10.071755          -0.393272   \n",
       "\n",
       "       SMR_VSA2  SlogP_VSA3     Kappa3  MaxPartialCharge  SlogP_VSA1  \\\n",
       "0     17.475505    0.116048  40.759436         79.918731   13.782540   \n",
       "1     11.828328    0.117146  40.759436         79.918731   13.772163   \n",
       "2     11.828328    0.117998  40.759436         79.918731   13.773383   \n",
       "3      5.817863    0.553914  41.216776         16.562573    7.108612   \n",
       "4      5.948339    0.898357  51.150887         79.918731    6.271772   \n",
       "...         ...         ...        ...               ...         ...   \n",
       "6095  11.477173    0.579532  50.667004         32.133549    2.264240   \n",
       "6096   5.907180   -0.018440  22.375235         32.233449   27.154937   \n",
       "6097  29.189097    1.136124  40.369838         35.495692    5.237276   \n",
       "6098  11.938294    0.505647  30.331835         32.166684    7.406409   \n",
       "6099   5.907180   -0.067924  57.020458         79.918731    0.972532   \n",
       "\n",
       "      PEOE_VSA3  \n",
       "0      0.000000  \n",
       "1      0.000000  \n",
       "2      0.000000  \n",
       "3      0.000000  \n",
       "4      0.000000  \n",
       "...         ...  \n",
       "6095  12.841643  \n",
       "6096   0.000000  \n",
       "6097  25.180371  \n",
       "6098   0.000000  \n",
       "6099   6.923737  \n",
       "\n",
       "[6100 rows x 20 columns]"
      ]
     },
     "execution_count": 79,
     "metadata": {},
     "output_type": "execute_result"
    }
   ],
   "source": [
    "clmns_sel = ['PEOE_VSA13',\n",
    "    'Chi3v',\n",
    "    'FpDensityMorgan3',\n",
    "    'Kappa1',\n",
    "    'BertzCT',\n",
    "    'EState_VSA3',\n",
    "    'SMR_VSA4',\n",
    "    'BCUT2D_LOGPLOW',\n",
    "    'Chi2n',\n",
    "    'qed',\n",
    "    'EState_VSA11',\n",
    "    'BCUT2D_MWHI',\n",
    "    'MinPartialCharge',\n",
    "    'MinAbsEStateIndex',\n",
    "    'SMR_VSA2',\n",
    "    'SlogP_VSA3',\n",
    "    'Kappa3',\n",
    "    'MaxPartialCharge',\n",
    "    'SlogP_VSA1',\n",
    "    'PEOE_VSA3' ]\n",
    "R = X[clmns_sel]\n",
    "R"
   ]
  },
  {
   "cell_type": "code",
   "execution_count": 80,
   "metadata": {},
   "outputs": [],
   "source": [
    "X_train, X_test, y_train, y_test = train_test_split(R, y, \n",
    "                                                    test_size=0.3, \n",
    "                                                    random_state=42,\n",
    "                                                    stratify=y\n",
    "                                                    )"
   ]
  },
  {
   "cell_type": "code",
   "execution_count": 81,
   "metadata": {},
   "outputs": [
    {
     "name": "stdout",
     "output_type": "stream",
     "text": [
      "Index(['PEOE_VSA13', 'Chi3v', 'FpDensityMorgan3', 'Kappa1', 'BertzCT',\n",
      "       'EState_VSA3', 'SMR_VSA4', 'BCUT2D_LOGPLOW', 'Chi2n', 'qed',\n",
      "       'EState_VSA11', 'BCUT2D_MWHI', 'MinPartialCharge', 'MinAbsEStateIndex',\n",
      "       'SMR_VSA2', 'SlogP_VSA3', 'PEOE_VSA3'],\n",
      "      dtype='object')\n"
     ]
    }
   ],
   "source": [
    "data_preparation = DataPreparation(X_train, X_test, y_train, y_test)\n",
    "X_train, X_test, y_train, y_test = data_preparation.clean_dataset()"
   ]
  },
  {
   "cell_type": "markdown",
   "metadata": {},
   "source": [
    "### Only 17 features left after cleaning"
   ]
  },
  {
   "cell_type": "code",
   "execution_count": 86,
   "metadata": {},
   "outputs": [],
   "source": [
    "from sklearn.linear_model import LogisticRegressionCV\n",
    "cv_lr = RepeatedStratifiedKFold(n_splits=5, n_repeats=3, random_state=1)\n",
    "lr = LogisticRegressionCV(cv=cv_lr,Cs=[100], solver='newton-cg',max_iter=200).fit(X_train, y_train)"
   ]
  },
  {
   "cell_type": "code",
   "execution_count": 91,
   "metadata": {},
   "outputs": [
    {
     "name": "stdout",
     "output_type": "stream",
     "text": [
      "For test set:\n",
      "              precision    recall  f1-score   support\n",
      "\n",
      "           0       0.89      0.87      0.88       915\n",
      "           1       0.87      0.89      0.88       915\n",
      "\n",
      "    accuracy                           0.88      1830\n",
      "   macro avg       0.88      0.88      0.88      1830\n",
      "weighted avg       0.88      0.88      0.88      1830\n",
      "\n"
     ]
    }
   ],
   "source": [
    "y_pred = lr.predict(X_test)\n",
    "cm = confusion_matrix(y_test, y_pred)\n",
    "print(\"For test set:\")\n",
    "\n",
    "print(classification_report(y_test, y_pred))"
   ]
  },
  {
   "cell_type": "code",
   "execution_count": 92,
   "metadata": {},
   "outputs": [
    {
     "data": {
      "image/png": "[encoded data removed]",
      "text/plain": [
       "<Figure size 432x288 with 2 Axes>"
      ]
     },
     "metadata": {
      "needs_background": "light"
     },
     "output_type": "display_data"
    }
   ],
   "source": [
    "disp = ConfusionMatrixDisplay(confusion_matrix=cm, display_labels=lr.classes_)\n",
    "disp.plot()\n",
    "plt.show()"
   ]
  },
  {
   "cell_type": "code",
   "execution_count": 93,
   "metadata": {},
   "outputs": [
    {
     "name": "stdout",
     "output_type": "stream",
     "text": [
      "For train set:\n",
      "              precision    recall  f1-score   support\n",
      "\n",
      "           0       0.89      0.87      0.88      2135\n",
      "           1       0.87      0.89      0.88      2135\n",
      "\n",
      "    accuracy                           0.88      4270\n",
      "   macro avg       0.88      0.88      0.88      4270\n",
      "weighted avg       0.88      0.88      0.88      4270\n",
      "\n"
     ]
    }
   ],
   "source": [
    "y_pred = lr.predict(X_train)\n",
    "cm = confusion_matrix(y_train, y_pred)\n",
    "print(\"For train set:\")\n",
    "\n",
    "print(classification_report(y_train, y_pred))"
   ]
  },
  {
   "cell_type": "code",
   "execution_count": 94,
   "metadata": {},
   "outputs": [
    {
     "data": {
      "image/png": "[encoded data removed]",
      "text/plain": [
       "<Figure size 432x288 with 2 Axes>"
      ]
     },
     "metadata": {
      "needs_background": "light"
     },
     "output_type": "display_data"
    }
   ],
   "source": [
    "disp = ConfusionMatrixDisplay(confusion_matrix=cm, display_labels=lr.classes_)\n",
    "disp.plot()\n",
    "plt.show()"
   ]
  },
  {
   "cell_type": "code",
   "execution_count": null,
   "metadata": {},
   "outputs": [],
   "source": []
  }
 ],
 "metadata": {
  "kernelspec": {
   "display_name": "Python 3 (ipykernel)",
   "language": "python",
   "name": "python3"
  },
  "language_info": {
   "codemirror_mode": {
    "name": "ipython",
    "version": 3
   },
   "file_extension": ".py",
   "mimetype": "text/x-python",
   "name": "python",
   "nbconvert_exporter": "python",
   "pygments_lexer": "ipython3",
   "version": "3.8.10"
  }
 },
 "nbformat": 4,
 "nbformat_minor": 4
}
